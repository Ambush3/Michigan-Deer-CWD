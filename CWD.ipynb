{
 "cells": [
  {
   "cell_type": "code",
   "execution_count": 41,
   "metadata": {
    "collapsed": true,
    "pycharm": {
     "name": "#%% import packages\n"
    }
   },
   "outputs": [],
   "source": [
    "import pandas as pd\n",
    "import seaborn as sns\n",
    "import matplotlib.pyplot as plt\n"
   ]
  },
  {
   "cell_type": "code",
   "execution_count": 42,
   "outputs": [
    {
     "name": "stdout",
     "output_type": "stream",
     "text": [
      "<class 'pandas.core.frame.DataFrame'>\n",
      "RangeIndex: 36 entries, 0 to 35\n",
      "Data columns (total 20 columns):\n",
      " #   Column        Non-Null Count  Dtype  \n",
      "---  ------        --------------  -----  \n",
      " 0   OBJECTID_12   36 non-null     int64  \n",
      " 1   TR            36 non-null     object \n",
      " 2   CNTY_NUM      36 non-null     int64  \n",
      " 3   TIER          36 non-null     object \n",
      " 4   RANGE         36 non-null     object \n",
      " 5   CNTY_NAME     36 non-null     object \n",
      " 6   Tests2015     18 non-null     float64\n",
      " 7   Test2016      23 non-null     float64\n",
      " 8   Test2017      36 non-null     int64  \n",
      " 9   Test2018      36 non-null     int64  \n",
      " 10  Test2019      36 non-null     int64  \n",
      " 11  TestTotal     36 non-null     int64  \n",
      " 12  Pos2015       3 non-null      float64\n",
      " 13  Pos2016       3 non-null      float64\n",
      " 14  Pos2017       12 non-null     float64\n",
      " 15  Pos2018       23 non-null     float64\n",
      " 16  Pos2019       22 non-null     float64\n",
      " 17  PosTotal      36 non-null     int64  \n",
      " 18  SHAPE_Length  36 non-null     float64\n",
      " 19  SHAPE_Area    36 non-null     float64\n",
      "dtypes: float64(9), int64(7), object(4)\n",
      "memory usage: 5.8+ KB\n"
     ]
    },
    {
     "data": {
      "text/plain": "   OBJECTID_12         TR  CNTY_NUM TIER RANGE CNTY_NAME  Tests2015  Test2016  \\\n0          428  T12N,R08W        59  12N   08W  MONTCALM        NaN       NaN   \n1          430  T12N,R09W        59  12N   09W  MONTCALM        NaN       NaN   \n2          431  T12N,R10W        59  12N   10W  MONTCALM        NaN       NaN   \n3          432  T11N,R05W        59  11N   05W  MONTCALM        2.0       6.0   \n4          433  T11N,R06W        59  11N   06W  MONTCALM        NaN       1.0   \n\n   Test2017  Test2018  Test2019  TestTotal  Pos2015  Pos2016  Pos2017  \\\n0       570       258       125        953      NaN      NaN      2.0   \n1       355       182        78        615      NaN      NaN      2.0   \n2       172        67        29        268      NaN      NaN      2.0   \n3        91       347       159        605      NaN      NaN      1.0   \n4        77       237       132        447      NaN      NaN      NaN   \n\n   Pos2018  Pos2019  PosTotal  SHAPE_Length  SHAPE_Area  \n0      1.0      NaN         3      0.412128    0.010365  \n1      1.0      NaN         3      0.412932    0.010418  \n2      NaN      NaN         2      0.413624    0.010399  \n3      NaN      NaN         1      0.412854    0.010369  \n4      5.0      5.0        10      0.412869    0.010384  ",
      "text/html": "<div>\n<style scoped>\n    .dataframe tbody tr th:only-of-type {\n        vertical-align: middle;\n    }\n\n    .dataframe tbody tr th {\n        vertical-align: top;\n    }\n\n    .dataframe thead th {\n        text-align: right;\n    }\n</style>\n<table border=\"1\" class=\"dataframe\">\n  <thead>\n    <tr style=\"text-align: right;\">\n      <th></th>\n      <th>OBJECTID_12</th>\n      <th>TR</th>\n      <th>CNTY_NUM</th>\n      <th>TIER</th>\n      <th>RANGE</th>\n      <th>CNTY_NAME</th>\n      <th>Tests2015</th>\n      <th>Test2016</th>\n      <th>Test2017</th>\n      <th>Test2018</th>\n      <th>Test2019</th>\n      <th>TestTotal</th>\n      <th>Pos2015</th>\n      <th>Pos2016</th>\n      <th>Pos2017</th>\n      <th>Pos2018</th>\n      <th>Pos2019</th>\n      <th>PosTotal</th>\n      <th>SHAPE_Length</th>\n      <th>SHAPE_Area</th>\n    </tr>\n  </thead>\n  <tbody>\n    <tr>\n      <th>0</th>\n      <td>428</td>\n      <td>T12N,R08W</td>\n      <td>59</td>\n      <td>12N</td>\n      <td>08W</td>\n      <td>MONTCALM</td>\n      <td>NaN</td>\n      <td>NaN</td>\n      <td>570</td>\n      <td>258</td>\n      <td>125</td>\n      <td>953</td>\n      <td>NaN</td>\n      <td>NaN</td>\n      <td>2.0</td>\n      <td>1.0</td>\n      <td>NaN</td>\n      <td>3</td>\n      <td>0.412128</td>\n      <td>0.010365</td>\n    </tr>\n    <tr>\n      <th>1</th>\n      <td>430</td>\n      <td>T12N,R09W</td>\n      <td>59</td>\n      <td>12N</td>\n      <td>09W</td>\n      <td>MONTCALM</td>\n      <td>NaN</td>\n      <td>NaN</td>\n      <td>355</td>\n      <td>182</td>\n      <td>78</td>\n      <td>615</td>\n      <td>NaN</td>\n      <td>NaN</td>\n      <td>2.0</td>\n      <td>1.0</td>\n      <td>NaN</td>\n      <td>3</td>\n      <td>0.412932</td>\n      <td>0.010418</td>\n    </tr>\n    <tr>\n      <th>2</th>\n      <td>431</td>\n      <td>T12N,R10W</td>\n      <td>59</td>\n      <td>12N</td>\n      <td>10W</td>\n      <td>MONTCALM</td>\n      <td>NaN</td>\n      <td>NaN</td>\n      <td>172</td>\n      <td>67</td>\n      <td>29</td>\n      <td>268</td>\n      <td>NaN</td>\n      <td>NaN</td>\n      <td>2.0</td>\n      <td>NaN</td>\n      <td>NaN</td>\n      <td>2</td>\n      <td>0.413624</td>\n      <td>0.010399</td>\n    </tr>\n    <tr>\n      <th>3</th>\n      <td>432</td>\n      <td>T11N,R05W</td>\n      <td>59</td>\n      <td>11N</td>\n      <td>05W</td>\n      <td>MONTCALM</td>\n      <td>2.0</td>\n      <td>6.0</td>\n      <td>91</td>\n      <td>347</td>\n      <td>159</td>\n      <td>605</td>\n      <td>NaN</td>\n      <td>NaN</td>\n      <td>1.0</td>\n      <td>NaN</td>\n      <td>NaN</td>\n      <td>1</td>\n      <td>0.412854</td>\n      <td>0.010369</td>\n    </tr>\n    <tr>\n      <th>4</th>\n      <td>433</td>\n      <td>T11N,R06W</td>\n      <td>59</td>\n      <td>11N</td>\n      <td>06W</td>\n      <td>MONTCALM</td>\n      <td>NaN</td>\n      <td>1.0</td>\n      <td>77</td>\n      <td>237</td>\n      <td>132</td>\n      <td>447</td>\n      <td>NaN</td>\n      <td>NaN</td>\n      <td>NaN</td>\n      <td>5.0</td>\n      <td>5.0</td>\n      <td>10</td>\n      <td>0.412869</td>\n      <td>0.010384</td>\n    </tr>\n  </tbody>\n</table>\n</div>"
     },
     "execution_count": 42,
     "metadata": {},
     "output_type": "execute_result"
    }
   ],
   "source": [
    "cwd = pd.read_csv('F:/PyCharm/Data Visualization/Michigan CWD/Number_of_CWD-positive_deer_identified_per_township__2015-2019_.csv')\n",
    "\n",
    "cwd.info()\n",
    "\n",
    "cwd.head()\n"
   ],
   "metadata": {
    "collapsed": false,
    "pycharm": {
     "name": "#%% reading the data\n"
    }
   }
  },
  {
   "cell_type": "code",
   "execution_count": 43,
   "outputs": [
    {
     "data": {
      "text/plain": "       OBJECTID_12   CNTY_NUM   Tests2015    Test2016    Test2017    Test2018  \\\ncount    36.000000  36.000000   18.000000   23.000000   36.000000   36.000000   \nmean    740.194444  42.805556   56.444444   74.260870  149.805556  156.666667   \nstd     276.446825  14.425809  172.263554  162.839636  160.176121   80.587840   \nmin     428.000000  19.000000    1.000000    1.000000    1.000000   41.000000   \n25%     438.500000  33.750000    1.000000    1.000000   13.500000   99.000000   \n50%     758.000000  41.000000    1.500000    6.000000   87.500000  143.500000   \n75%     912.000000  59.000000    6.250000   26.000000  257.750000  182.000000   \nmax    1221.000000  59.000000  724.000000  648.000000  580.000000  382.000000   \n\n         Test2019    TestTotal   Pos2015   Pos2016    Pos2017    Pos2018  \\\ncount   36.000000    36.000000  3.000000  3.000000  12.000000  23.000000   \nmean   100.388889   482.527778  1.666667  1.333333   3.750000   2.695652   \nstd     46.037424   422.177585  1.154701  0.577350   2.864358   1.940824   \nmin     29.000000   107.000000  1.000000  1.000000   1.000000   1.000000   \n25%     69.500000   261.000000  1.000000  1.000000   1.750000   1.000000   \n50%     88.500000   339.000000  1.000000  1.000000   2.500000   2.000000   \n75%    126.500000   607.500000  2.000000  1.500000   5.500000   4.500000   \nmax    248.000000  2465.000000  3.000000  2.000000   9.000000   7.000000   \n\n         Pos2019   PosTotal  SHAPE_Length  SHAPE_Area  \ncount  22.000000  36.000000     36.000000   36.000000  \nmean    2.954545   5.027778      0.411787    0.010348  \nstd     2.681103   5.779205      0.003470    0.000160  \nmin     1.000000   1.000000      0.404119    0.010013  \n25%     1.000000   1.000000      0.409872    0.010254  \n50%     2.000000   2.000000      0.412630    0.010370  \n75%     3.000000   6.250000      0.413171    0.010417  \nmax    10.000000  24.000000      0.419460    0.010711  ",
      "text/html": "<div>\n<style scoped>\n    .dataframe tbody tr th:only-of-type {\n        vertical-align: middle;\n    }\n\n    .dataframe tbody tr th {\n        vertical-align: top;\n    }\n\n    .dataframe thead th {\n        text-align: right;\n    }\n</style>\n<table border=\"1\" class=\"dataframe\">\n  <thead>\n    <tr style=\"text-align: right;\">\n      <th></th>\n      <th>OBJECTID_12</th>\n      <th>CNTY_NUM</th>\n      <th>Tests2015</th>\n      <th>Test2016</th>\n      <th>Test2017</th>\n      <th>Test2018</th>\n      <th>Test2019</th>\n      <th>TestTotal</th>\n      <th>Pos2015</th>\n      <th>Pos2016</th>\n      <th>Pos2017</th>\n      <th>Pos2018</th>\n      <th>Pos2019</th>\n      <th>PosTotal</th>\n      <th>SHAPE_Length</th>\n      <th>SHAPE_Area</th>\n    </tr>\n  </thead>\n  <tbody>\n    <tr>\n      <th>count</th>\n      <td>36.000000</td>\n      <td>36.000000</td>\n      <td>18.000000</td>\n      <td>23.000000</td>\n      <td>36.000000</td>\n      <td>36.000000</td>\n      <td>36.000000</td>\n      <td>36.000000</td>\n      <td>3.000000</td>\n      <td>3.000000</td>\n      <td>12.000000</td>\n      <td>23.000000</td>\n      <td>22.000000</td>\n      <td>36.000000</td>\n      <td>36.000000</td>\n      <td>36.000000</td>\n    </tr>\n    <tr>\n      <th>mean</th>\n      <td>740.194444</td>\n      <td>42.805556</td>\n      <td>56.444444</td>\n      <td>74.260870</td>\n      <td>149.805556</td>\n      <td>156.666667</td>\n      <td>100.388889</td>\n      <td>482.527778</td>\n      <td>1.666667</td>\n      <td>1.333333</td>\n      <td>3.750000</td>\n      <td>2.695652</td>\n      <td>2.954545</td>\n      <td>5.027778</td>\n      <td>0.411787</td>\n      <td>0.010348</td>\n    </tr>\n    <tr>\n      <th>std</th>\n      <td>276.446825</td>\n      <td>14.425809</td>\n      <td>172.263554</td>\n      <td>162.839636</td>\n      <td>160.176121</td>\n      <td>80.587840</td>\n      <td>46.037424</td>\n      <td>422.177585</td>\n      <td>1.154701</td>\n      <td>0.577350</td>\n      <td>2.864358</td>\n      <td>1.940824</td>\n      <td>2.681103</td>\n      <td>5.779205</td>\n      <td>0.003470</td>\n      <td>0.000160</td>\n    </tr>\n    <tr>\n      <th>min</th>\n      <td>428.000000</td>\n      <td>19.000000</td>\n      <td>1.000000</td>\n      <td>1.000000</td>\n      <td>1.000000</td>\n      <td>41.000000</td>\n      <td>29.000000</td>\n      <td>107.000000</td>\n      <td>1.000000</td>\n      <td>1.000000</td>\n      <td>1.000000</td>\n      <td>1.000000</td>\n      <td>1.000000</td>\n      <td>1.000000</td>\n      <td>0.404119</td>\n      <td>0.010013</td>\n    </tr>\n    <tr>\n      <th>25%</th>\n      <td>438.500000</td>\n      <td>33.750000</td>\n      <td>1.000000</td>\n      <td>1.000000</td>\n      <td>13.500000</td>\n      <td>99.000000</td>\n      <td>69.500000</td>\n      <td>261.000000</td>\n      <td>1.000000</td>\n      <td>1.000000</td>\n      <td>1.750000</td>\n      <td>1.000000</td>\n      <td>1.000000</td>\n      <td>1.000000</td>\n      <td>0.409872</td>\n      <td>0.010254</td>\n    </tr>\n    <tr>\n      <th>50%</th>\n      <td>758.000000</td>\n      <td>41.000000</td>\n      <td>1.500000</td>\n      <td>6.000000</td>\n      <td>87.500000</td>\n      <td>143.500000</td>\n      <td>88.500000</td>\n      <td>339.000000</td>\n      <td>1.000000</td>\n      <td>1.000000</td>\n      <td>2.500000</td>\n      <td>2.000000</td>\n      <td>2.000000</td>\n      <td>2.000000</td>\n      <td>0.412630</td>\n      <td>0.010370</td>\n    </tr>\n    <tr>\n      <th>75%</th>\n      <td>912.000000</td>\n      <td>59.000000</td>\n      <td>6.250000</td>\n      <td>26.000000</td>\n      <td>257.750000</td>\n      <td>182.000000</td>\n      <td>126.500000</td>\n      <td>607.500000</td>\n      <td>2.000000</td>\n      <td>1.500000</td>\n      <td>5.500000</td>\n      <td>4.500000</td>\n      <td>3.000000</td>\n      <td>6.250000</td>\n      <td>0.413171</td>\n      <td>0.010417</td>\n    </tr>\n    <tr>\n      <th>max</th>\n      <td>1221.000000</td>\n      <td>59.000000</td>\n      <td>724.000000</td>\n      <td>648.000000</td>\n      <td>580.000000</td>\n      <td>382.000000</td>\n      <td>248.000000</td>\n      <td>2465.000000</td>\n      <td>3.000000</td>\n      <td>2.000000</td>\n      <td>9.000000</td>\n      <td>7.000000</td>\n      <td>10.000000</td>\n      <td>24.000000</td>\n      <td>0.419460</td>\n      <td>0.010711</td>\n    </tr>\n  </tbody>\n</table>\n</div>"
     },
     "execution_count": 43,
     "metadata": {},
     "output_type": "execute_result"
    }
   ],
   "source": [
    "cwd.describe()"
   ],
   "metadata": {
    "collapsed": false,
    "pycharm": {
     "name": "#%% checking out the summary of the variables\n"
    }
   }
  },
  {
   "cell_type": "code",
   "execution_count": 44,
   "outputs": [
    {
     "data": {
      "text/plain": "Index(['OBJECTID_12', 'TR', 'CNTY_NUM', 'TIER', 'RANGE', 'CNTY_NAME',\n       'Tests2015', 'Test2016', 'Test2017', 'Test2018', 'Test2019',\n       'TestTotal', 'Pos2015', 'Pos2016', 'Pos2017', 'Pos2018', 'Pos2019',\n       'PosTotal', 'SHAPE_Length', 'SHAPE_Area'],\n      dtype='object')"
     },
     "execution_count": 44,
     "metadata": {},
     "output_type": "execute_result"
    }
   ],
   "source": [
    "cwd.describe(include=['O'])\n",
    "\n",
    "cwd.columns\n"
   ],
   "metadata": {
    "collapsed": false,
    "pycharm": {
     "name": "#%%\n"
    }
   }
  },
  {
   "cell_type": "code",
   "execution_count": 45,
   "outputs": [
    {
     "data": {
      "text/plain": "OBJECTID_12      0\nTR               0\nCNTY_NUM         0\nTIER             0\nRANGE            0\nCNTY_NAME        0\nTests2015       18\nTest2016        13\nTest2017         0\nTest2018         0\nTest2019         0\nTestTotal        0\nPos2015         33\nPos2016         33\nPos2017         24\nPos2018         13\nPos2019         14\nPosTotal         0\nSHAPE_Length     0\nSHAPE_Area       0\ndtype: int64"
     },
     "execution_count": 45,
     "metadata": {},
     "output_type": "execute_result"
    }
   ],
   "source": [
    "cwd.isna().sum()"
   ],
   "metadata": {
    "collapsed": false,
    "pycharm": {
     "name": "#%%\n"
    }
   }
  },
  {
   "cell_type": "code",
   "execution_count": 64,
   "outputs": [
    {
     "data": {
      "text/plain": "  CNTY_NAME  PosTotal\n8  MONTCALM       116\n7      KENT        36\n6   JACKSON         9\n0   CLINTON         5\n4    INGHAM         5",
      "text/html": "<div>\n<style scoped>\n    .dataframe tbody tr th:only-of-type {\n        vertical-align: middle;\n    }\n\n    .dataframe tbody tr th {\n        vertical-align: top;\n    }\n\n    .dataframe thead th {\n        text-align: right;\n    }\n</style>\n<table border=\"1\" class=\"dataframe\">\n  <thead>\n    <tr style=\"text-align: right;\">\n      <th></th>\n      <th>CNTY_NAME</th>\n      <th>PosTotal</th>\n    </tr>\n  </thead>\n  <tbody>\n    <tr>\n      <th>8</th>\n      <td>MONTCALM</td>\n      <td>116</td>\n    </tr>\n    <tr>\n      <th>7</th>\n      <td>KENT</td>\n      <td>36</td>\n    </tr>\n    <tr>\n      <th>6</th>\n      <td>JACKSON</td>\n      <td>9</td>\n    </tr>\n    <tr>\n      <th>0</th>\n      <td>CLINTON</td>\n      <td>5</td>\n    </tr>\n    <tr>\n      <th>4</th>\n      <td>INGHAM</td>\n      <td>5</td>\n    </tr>\n  </tbody>\n</table>\n</div>"
     },
     "execution_count": 64,
     "metadata": {},
     "output_type": "execute_result"
    }
   ],
   "source": [
    "# figure size\n",
    "cwd = cwd.groupby (('CNTY_NAME'), as_index=False, sort=True)['PosTotal'].sum()\n",
    "cwd = cwd.sort_values('PosTotal', ascending=False)\n",
    "cwd.head()"
   ],
   "metadata": {
    "collapsed": false,
    "pycharm": {
     "name": "#%%\n"
    }
   }
  },
  {
   "cell_type": "code",
   "execution_count": 63,
   "outputs": [
    {
     "data": {
      "text/plain": "Text(0.5, 1.0, 'Counties with the highest CWD rating')"
     },
     "execution_count": 63,
     "metadata": {},
     "output_type": "execute_result"
    },
    {
     "data": {
      "text/plain": "<Figure size 1080x864 with 1 Axes>",
      "image/png": "[encoded data removed]"
     },
     "metadata": {},
     "output_type": "display_data"
    }
   ],
   "source": [
    "cwd = cwd[0:10]\n",
    "plt.figure(figsize=(15, 12))\n",
    "sns.set_style('darkgrid')\n",
    "p = sns.barplot(x=('CNTY_NAME'), y=('PosTotal'), data=cwd)\n",
    "p.set( xlabel= 'County Name', ylabel = 'CWD Positive')\n",
    "p.set_title('Counties with the highest CWD rating')"
   ],
   "metadata": {
    "collapsed": false,
    "pycharm": {
     "name": "#%%\n"
    }
   }
  }
 ],
 "metadata": {
  "kernelspec": {
   "display_name": "Python 3",
   "language": "python",
   "name": "python3"
  },
  "language_info": {
   "codemirror_mode": {
    "name": "ipython",
    "version": 2
   },
   "file_extension": ".py",
   "mimetype": "text/x-python",
   "name": "python",
   "nbconvert_exporter": "python",
   "pygments_lexer": "ipython2",
   "version": "2.7.6"
  }
 },
 "nbformat": 4,
 "nbformat_minor": 0
}