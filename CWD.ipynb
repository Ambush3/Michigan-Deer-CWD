{
 "cells": [
  {
   "cell_type": "code",
   "execution_count": 85,
   "metadata": {
    "collapsed": true,
    "jupyter": {
     "outputs_hidden": true
    },
    "pycharm": {
     "name": "#%% import packages\n"
    }
   },
   "outputs": [],
   "source": [
    "import folium\n",
    "import pandas as pd\n",
    "import seaborn as sns\n",
    "import matplotlib.pyplot as plt\n",
    "import numpy as np\n",
    "import folium\n"
   ]
  },
  {
   "cell_type": "code",
   "execution_count": 86,
   "metadata": {
    "pycharm": {
     "name": "#%% reading the data\n"
    }
   },
   "outputs": [
    {
     "name": "stdout",
     "output_type": "stream",
     "text": [
      "<class 'pandas.core.frame.DataFrame'>\n",
      "RangeIndex: 36 entries, 0 to 35\n",
      "Data columns (total 20 columns):\n",
      " #   Column        Non-Null Count  Dtype  \n",
      "---  ------        --------------  -----  \n",
      " 0   OBJECTID_12   36 non-null     int64  \n",
      " 1   TR            36 non-null     object \n",
      " 2   CNTY_NUM      36 non-null     int64  \n",
      " 3   TIER          36 non-null     object \n",
      " 4   RANGE         36 non-null     object \n",
      " 5   CNTY_NAME     36 non-null     object \n",
      " 6   Tests2015     18 non-null     float64\n",
      " 7   Test2016      23 non-null     float64\n",
      " 8   Test2017      36 non-null     int64  \n",
      " 9   Test2018      36 non-null     int64  \n",
      " 10  Test2019      36 non-null     int64  \n",
      " 11  TestTotal     36 non-null     int64  \n",
      " 12  Pos2015       3 non-null      float64\n",
      " 13  Pos2016       3 non-null      float64\n",
      " 14  Pos2017       12 non-null     float64\n",
      " 15  Pos2018       23 non-null     float64\n",
      " 16  Pos2019       22 non-null     float64\n",
      " 17  PosTotal      36 non-null     int64  \n",
      " 18  SHAPE_Length  36 non-null     float64\n",
      " 19  SHAPE_Area    36 non-null     float64\n",
      "dtypes: float64(9), int64(7), object(4)\n",
      "memory usage: 5.8+ KB\n"
     ]
    }
   ],
   "source": [
    "cwd = pd.read_csv('F:/PyCharm/Data Visualization/Michigan CWD/Number_of_CWD-positive_deer_identified_per_township__2015-2019_.csv')\n",
    "\n",
    "cwd.info()\n"
   ]
  },
  {
   "cell_type": "code",
   "execution_count": 87,
   "metadata": {
    "pycharm": {
     "name": "#%%\n"
    }
   },
   "outputs": [
    {
     "data": {
      "text/plain": "   OBJECTID_12         TR  CNTY_NUM TIER RANGE CNTY_NAME  Tests2015  Test2016  \\\n0          428  T12N,R08W        59  12N   08W  MONTCALM        NaN       NaN   \n1          430  T12N,R09W        59  12N   09W  MONTCALM        NaN       NaN   \n2          431  T12N,R10W        59  12N   10W  MONTCALM        NaN       NaN   \n3          432  T11N,R05W        59  11N   05W  MONTCALM        2.0       6.0   \n4          433  T11N,R06W        59  11N   06W  MONTCALM        NaN       1.0   \n\n   Test2017  Test2018  Test2019  TestTotal  Pos2015  Pos2016  Pos2017  \\\n0       570       258       125        953      NaN      NaN      2.0   \n1       355       182        78        615      NaN      NaN      2.0   \n2       172        67        29        268      NaN      NaN      2.0   \n3        91       347       159        605      NaN      NaN      1.0   \n4        77       237       132        447      NaN      NaN      NaN   \n\n   Pos2018  Pos2019  PosTotal  SHAPE_Length  SHAPE_Area  \n0      1.0      NaN         3      0.412128    0.010365  \n1      1.0      NaN         3      0.412932    0.010418  \n2      NaN      NaN         2      0.413624    0.010399  \n3      NaN      NaN         1      0.412854    0.010369  \n4      5.0      5.0        10      0.412869    0.010384  ",
      "text/html": "<div>\n<style scoped>\n    .dataframe tbody tr th:only-of-type {\n        vertical-align: middle;\n    }\n\n    .dataframe tbody tr th {\n        vertical-align: top;\n    }\n\n    .dataframe thead th {\n        text-align: right;\n    }\n</style>\n<table border=\"1\" class=\"dataframe\">\n  <thead>\n    <tr style=\"text-align: right;\">\n      <th></th>\n      <th>OBJECTID_12</th>\n      <th>TR</th>\n      <th>CNTY_NUM</th>\n      <th>TIER</th>\n      <th>RANGE</th>\n      <th>CNTY_NAME</th>\n      <th>Tests2015</th>\n      <th>Test2016</th>\n      <th>Test2017</th>\n      <th>Test2018</th>\n      <th>Test2019</th>\n      <th>TestTotal</th>\n      <th>Pos2015</th>\n      <th>Pos2016</th>\n      <th>Pos2017</th>\n      <th>Pos2018</th>\n      <th>Pos2019</th>\n      <th>PosTotal</th>\n      <th>SHAPE_Length</th>\n      <th>SHAPE_Area</th>\n    </tr>\n  </thead>\n  <tbody>\n    <tr>\n      <th>0</th>\n      <td>428</td>\n      <td>T12N,R08W</td>\n      <td>59</td>\n      <td>12N</td>\n      <td>08W</td>\n      <td>MONTCALM</td>\n      <td>NaN</td>\n      <td>NaN</td>\n      <td>570</td>\n      <td>258</td>\n      <td>125</td>\n      <td>953</td>\n      <td>NaN</td>\n      <td>NaN</td>\n      <td>2.0</td>\n      <td>1.0</td>\n      <td>NaN</td>\n      <td>3</td>\n      <td>0.412128</td>\n      <td>0.010365</td>\n    </tr>\n    <tr>\n      <th>1</th>\n      <td>430</td>\n      <td>T12N,R09W</td>\n      <td>59</td>\n      <td>12N</td>\n      <td>09W</td>\n      <td>MONTCALM</td>\n      <td>NaN</td>\n      <td>NaN</td>\n      <td>355</td>\n      <td>182</td>\n      <td>78</td>\n      <td>615</td>\n      <td>NaN</td>\n      <td>NaN</td>\n      <td>2.0</td>\n      <td>1.0</td>\n      <td>NaN</td>\n      <td>3</td>\n      <td>0.412932</td>\n      <td>0.010418</td>\n    </tr>\n    <tr>\n      <th>2</th>\n      <td>431</td>\n      <td>T12N,R10W</td>\n      <td>59</td>\n      <td>12N</td>\n      <td>10W</td>\n      <td>MONTCALM</td>\n      <td>NaN</td>\n      <td>NaN</td>\n      <td>172</td>\n      <td>67</td>\n      <td>29</td>\n      <td>268</td>\n      <td>NaN</td>\n      <td>NaN</td>\n      <td>2.0</td>\n      <td>NaN</td>\n      <td>NaN</td>\n      <td>2</td>\n      <td>0.413624</td>\n      <td>0.010399</td>\n    </tr>\n    <tr>\n      <th>3</th>\n      <td>432</td>\n      <td>T11N,R05W</td>\n      <td>59</td>\n      <td>11N</td>\n      <td>05W</td>\n      <td>MONTCALM</td>\n      <td>2.0</td>\n      <td>6.0</td>\n      <td>91</td>\n      <td>347</td>\n      <td>159</td>\n      <td>605</td>\n      <td>NaN</td>\n      <td>NaN</td>\n      <td>1.0</td>\n      <td>NaN</td>\n      <td>NaN</td>\n      <td>1</td>\n      <td>0.412854</td>\n      <td>0.010369</td>\n    </tr>\n    <tr>\n      <th>4</th>\n      <td>433</td>\n      <td>T11N,R06W</td>\n      <td>59</td>\n      <td>11N</td>\n      <td>06W</td>\n      <td>MONTCALM</td>\n      <td>NaN</td>\n      <td>1.0</td>\n      <td>77</td>\n      <td>237</td>\n      <td>132</td>\n      <td>447</td>\n      <td>NaN</td>\n      <td>NaN</td>\n      <td>NaN</td>\n      <td>5.0</td>\n      <td>5.0</td>\n      <td>10</td>\n      <td>0.412869</td>\n      <td>0.010384</td>\n    </tr>\n  </tbody>\n</table>\n</div>"
     },
     "execution_count": 87,
     "metadata": {},
     "output_type": "execute_result"
    }
   ],
   "source": [
    "cwd.head()\n"
   ]
  },
  {
   "cell_type": "code",
   "execution_count": 88,
   "metadata": {
    "pycharm": {
     "name": "#%% checking out the summary of the variables\n"
    }
   },
   "outputs": [
    {
     "data": {
      "text/plain": "       OBJECTID_12   CNTY_NUM   Tests2015    Test2016    Test2017    Test2018  \\\ncount    36.000000  36.000000   18.000000   23.000000   36.000000   36.000000   \nmean    740.194444  42.805556   56.444444   74.260870  149.805556  156.666667   \nstd     276.446825  14.425809  172.263554  162.839636  160.176121   80.587840   \nmin     428.000000  19.000000    1.000000    1.000000    1.000000   41.000000   \n25%     438.500000  33.750000    1.000000    1.000000   13.500000   99.000000   \n50%     758.000000  41.000000    1.500000    6.000000   87.500000  143.500000   \n75%     912.000000  59.000000    6.250000   26.000000  257.750000  182.000000   \nmax    1221.000000  59.000000  724.000000  648.000000  580.000000  382.000000   \n\n         Test2019    TestTotal   Pos2015   Pos2016    Pos2017    Pos2018  \\\ncount   36.000000    36.000000  3.000000  3.000000  12.000000  23.000000   \nmean   100.388889   482.527778  1.666667  1.333333   3.750000   2.695652   \nstd     46.037424   422.177585  1.154701  0.577350   2.864358   1.940824   \nmin     29.000000   107.000000  1.000000  1.000000   1.000000   1.000000   \n25%     69.500000   261.000000  1.000000  1.000000   1.750000   1.000000   \n50%     88.500000   339.000000  1.000000  1.000000   2.500000   2.000000   \n75%    126.500000   607.500000  2.000000  1.500000   5.500000   4.500000   \nmax    248.000000  2465.000000  3.000000  2.000000   9.000000   7.000000   \n\n         Pos2019   PosTotal  SHAPE_Length  SHAPE_Area  \ncount  22.000000  36.000000     36.000000   36.000000  \nmean    2.954545   5.027778      0.411787    0.010348  \nstd     2.681103   5.779205      0.003470    0.000160  \nmin     1.000000   1.000000      0.404119    0.010013  \n25%     1.000000   1.000000      0.409872    0.010254  \n50%     2.000000   2.000000      0.412630    0.010370  \n75%     3.000000   6.250000      0.413171    0.010417  \nmax    10.000000  24.000000      0.419460    0.010711  ",
      "text/html": "<div>\n<style scoped>\n    .dataframe tbody tr th:only-of-type {\n        vertical-align: middle;\n    }\n\n    .dataframe tbody tr th {\n        vertical-align: top;\n    }\n\n    .dataframe thead th {\n        text-align: right;\n    }\n</style>\n<table border=\"1\" class=\"dataframe\">\n  <thead>\n    <tr style=\"text-align: right;\">\n      <th></th>\n      <th>OBJECTID_12</th>\n      <th>CNTY_NUM</th>\n      <th>Tests2015</th>\n      <th>Test2016</th>\n      <th>Test2017</th>\n      <th>Test2018</th>\n      <th>Test2019</th>\n      <th>TestTotal</th>\n      <th>Pos2015</th>\n      <th>Pos2016</th>\n      <th>Pos2017</th>\n      <th>Pos2018</th>\n      <th>Pos2019</th>\n      <th>PosTotal</th>\n      <th>SHAPE_Length</th>\n      <th>SHAPE_Area</th>\n    </tr>\n  </thead>\n  <tbody>\n    <tr>\n      <th>count</th>\n      <td>36.000000</td>\n      <td>36.000000</td>\n      <td>18.000000</td>\n      <td>23.000000</td>\n      <td>36.000000</td>\n      <td>36.000000</td>\n      <td>36.000000</td>\n      <td>36.000000</td>\n      <td>3.000000</td>\n      <td>3.000000</td>\n      <td>12.000000</td>\n      <td>23.000000</td>\n      <td>22.000000</td>\n      <td>36.000000</td>\n      <td>36.000000</td>\n      <td>36.000000</td>\n    </tr>\n    <tr>\n      <th>mean</th>\n      <td>740.194444</td>\n      <td>42.805556</td>\n      <td>56.444444</td>\n      <td>74.260870</td>\n      <td>149.805556</td>\n      <td>156.666667</td>\n      <td>100.388889</td>\n      <td>482.527778</td>\n      <td>1.666667</td>\n      <td>1.333333</td>\n      <td>3.750000</td>\n      <td>2.695652</td>\n      <td>2.954545</td>\n      <td>5.027778</td>\n      <td>0.411787</td>\n      <td>0.010348</td>\n    </tr>\n    <tr>\n      <th>std</th>\n      <td>276.446825</td>\n      <td>14.425809</td>\n      <td>172.263554</td>\n      <td>162.839636</td>\n      <td>160.176121</td>\n      <td>80.587840</td>\n      <td>46.037424</td>\n      <td>422.177585</td>\n      <td>1.154701</td>\n      <td>0.577350</td>\n      <td>2.864358</td>\n      <td>1.940824</td>\n      <td>2.681103</td>\n      <td>5.779205</td>\n      <td>0.003470</td>\n      <td>0.000160</td>\n    </tr>\n    <tr>\n      <th>min</th>\n      <td>428.000000</td>\n      <td>19.000000</td>\n      <td>1.000000</td>\n      <td>1.000000</td>\n      <td>1.000000</td>\n      <td>41.000000</td>\n      <td>29.000000</td>\n      <td>107.000000</td>\n      <td>1.000000</td>\n      <td>1.000000</td>\n      <td>1.000000</td>\n      <td>1.000000</td>\n      <td>1.000000</td>\n      <td>1.000000</td>\n      <td>0.404119</td>\n      <td>0.010013</td>\n    </tr>\n    <tr>\n      <th>25%</th>\n      <td>438.500000</td>\n      <td>33.750000</td>\n      <td>1.000000</td>\n      <td>1.000000</td>\n      <td>13.500000</td>\n      <td>99.000000</td>\n      <td>69.500000</td>\n      <td>261.000000</td>\n      <td>1.000000</td>\n      <td>1.000000</td>\n      <td>1.750000</td>\n      <td>1.000000</td>\n      <td>1.000000</td>\n      <td>1.000000</td>\n      <td>0.409872</td>\n      <td>0.010254</td>\n    </tr>\n    <tr>\n      <th>50%</th>\n      <td>758.000000</td>\n      <td>41.000000</td>\n      <td>1.500000</td>\n      <td>6.000000</td>\n      <td>87.500000</td>\n      <td>143.500000</td>\n      <td>88.500000</td>\n      <td>339.000000</td>\n      <td>1.000000</td>\n      <td>1.000000</td>\n      <td>2.500000</td>\n      <td>2.000000</td>\n      <td>2.000000</td>\n      <td>2.000000</td>\n      <td>0.412630</td>\n      <td>0.010370</td>\n    </tr>\n    <tr>\n      <th>75%</th>\n      <td>912.000000</td>\n      <td>59.000000</td>\n      <td>6.250000</td>\n      <td>26.000000</td>\n      <td>257.750000</td>\n      <td>182.000000</td>\n      <td>126.500000</td>\n      <td>607.500000</td>\n      <td>2.000000</td>\n      <td>1.500000</td>\n      <td>5.500000</td>\n      <td>4.500000</td>\n      <td>3.000000</td>\n      <td>6.250000</td>\n      <td>0.413171</td>\n      <td>0.010417</td>\n    </tr>\n    <tr>\n      <th>max</th>\n      <td>1221.000000</td>\n      <td>59.000000</td>\n      <td>724.000000</td>\n      <td>648.000000</td>\n      <td>580.000000</td>\n      <td>382.000000</td>\n      <td>248.000000</td>\n      <td>2465.000000</td>\n      <td>3.000000</td>\n      <td>2.000000</td>\n      <td>9.000000</td>\n      <td>7.000000</td>\n      <td>10.000000</td>\n      <td>24.000000</td>\n      <td>0.419460</td>\n      <td>0.010711</td>\n    </tr>\n  </tbody>\n</table>\n</div>"
     },
     "execution_count": 88,
     "metadata": {},
     "output_type": "execute_result"
    }
   ],
   "source": [
    "cwd.describe()"
   ]
  },
  {
   "cell_type": "code",
   "execution_count": 89,
   "metadata": {
    "pycharm": {
     "name": "#%% print out columns\n"
    }
   },
   "outputs": [
    {
     "data": {
      "text/plain": "Index(['OBJECTID_12', 'TR', 'CNTY_NUM', 'TIER', 'RANGE', 'CNTY_NAME',\n       'Tests2015', 'Test2016', 'Test2017', 'Test2018', 'Test2019',\n       'TestTotal', 'Pos2015', 'Pos2016', 'Pos2017', 'Pos2018', 'Pos2019',\n       'PosTotal', 'SHAPE_Length', 'SHAPE_Area'],\n      dtype='object')"
     },
     "execution_count": 89,
     "metadata": {},
     "output_type": "execute_result"
    }
   ],
   "source": [
    "cwd.columns\n"
   ]
  },
  {
   "cell_type": "code",
   "execution_count": 90,
   "metadata": {
    "pycharm": {
     "name": "#%% check for empty columns\n"
    }
   },
   "outputs": [
    {
     "data": {
      "text/plain": "OBJECTID_12      0\nTR               0\nCNTY_NUM         0\nTIER             0\nRANGE            0\nCNTY_NAME        0\nTests2015       18\nTest2016        13\nTest2017         0\nTest2018         0\nTest2019         0\nTestTotal        0\nPos2015         33\nPos2016         33\nPos2017         24\nPos2018         13\nPos2019         14\nPosTotal         0\nSHAPE_Length     0\nSHAPE_Area       0\ndtype: int64"
     },
     "execution_count": 90,
     "metadata": {},
     "output_type": "execute_result"
    }
   ],
   "source": [
    "cwd.isna().sum()"
   ]
  },
  {
   "cell_type": "code",
   "execution_count": 91,
   "outputs": [],
   "source": [
    "data_clean = cwd\n",
    "\n",
    "data_clean.replace('<null>', np.nan, inplace=True)"
   ],
   "metadata": {
    "collapsed": false,
    "pycharm": {
     "name": "#%% cleaning the data and getting rid of rows with <null>\n"
    }
   }
  },
  {
   "cell_type": "code",
   "execution_count": 92,
   "metadata": {
    "pycharm": {
     "name": "#%% grouping all colunmns and organizing according to Total Tested amount\n"
    }
   },
   "outputs": [
    {
     "data": {
      "text/plain": "  CNTY_NAME  TestTotal\n8  MONTCALM       7513\n0   CLINTON       2720\n4    INGHAM       2465\n7      KENT       1289\n6   JACKSON       1157",
      "text/html": "<div>\n<style scoped>\n    .dataframe tbody tr th:only-of-type {\n        vertical-align: middle;\n    }\n\n    .dataframe tbody tr th {\n        vertical-align: top;\n    }\n\n    .dataframe thead th {\n        text-align: right;\n    }\n</style>\n<table border=\"1\" class=\"dataframe\">\n  <thead>\n    <tr style=\"text-align: right;\">\n      <th></th>\n      <th>CNTY_NAME</th>\n      <th>TestTotal</th>\n    </tr>\n  </thead>\n  <tbody>\n    <tr>\n      <th>8</th>\n      <td>MONTCALM</td>\n      <td>7513</td>\n    </tr>\n    <tr>\n      <th>0</th>\n      <td>CLINTON</td>\n      <td>2720</td>\n    </tr>\n    <tr>\n      <th>4</th>\n      <td>INGHAM</td>\n      <td>2465</td>\n    </tr>\n    <tr>\n      <th>7</th>\n      <td>KENT</td>\n      <td>1289</td>\n    </tr>\n    <tr>\n      <th>6</th>\n      <td>JACKSON</td>\n      <td>1157</td>\n    </tr>\n  </tbody>\n</table>\n</div>"
     },
     "execution_count": 92,
     "metadata": {},
     "output_type": "execute_result"
    }
   ],
   "source": [
    "cwd1 = data_clean.groupby ('CNTY_NAME', as_index=False, sort=True)['TestTotal'].sum()\n",
    "cwd1 = cwd1.sort_values('TestTotal', ascending=False)\n",
    "cwd1.head()"
   ]
  },
  {
   "cell_type": "code",
   "execution_count": 93,
   "metadata": {
    "pycharm": {
     "name": "#%% plotting graph\n"
    }
   },
   "outputs": [
    {
     "data": {
      "text/plain": "Text(0.5, 1.0, 'Counties who tested for CWD the most.')"
     },
     "execution_count": 93,
     "metadata": {},
     "output_type": "execute_result"
    },
    {
     "data": {
      "text/plain": "<Figure size 576x576 with 1 Axes>",
      "image/png": "[encoded data removed]"
     },
     "metadata": {},
     "output_type": "display_data"
    }
   ],
   "source": [
    "cwd1 = cwd1[:]\n",
    "plt.figure(figsize=(8,8))\n",
    "sns.set_style('darkgrid')\n",
    "p = sns.barplot(x='CNTY_NAME', y='TestTotal', data=cwd1)\n",
    "p.set(xlabel='County', ylabel='Tested Total for CWD')\n",
    "p.set_title(\"Counties who tested for CWD the most.\")\n"
   ]
  },
  {
   "cell_type": "code",
   "execution_count": 94,
   "metadata": {
    "pycharm": {
     "name": "#%% grouping all columns and organizing according to Positive Total amount\n"
    }
   },
   "outputs": [
    {
     "data": {
      "text/plain": "  CNTY_NAME  PosTotal\n8  MONTCALM       116\n7      KENT        36\n6   JACKSON         9\n0   CLINTON         5\n4    INGHAM         5",
      "text/html": "<div>\n<style scoped>\n    .dataframe tbody tr th:only-of-type {\n        vertical-align: middle;\n    }\n\n    .dataframe tbody tr th {\n        vertical-align: top;\n    }\n\n    .dataframe thead th {\n        text-align: right;\n    }\n</style>\n<table border=\"1\" class=\"dataframe\">\n  <thead>\n    <tr style=\"text-align: right;\">\n      <th></th>\n      <th>CNTY_NAME</th>\n      <th>PosTotal</th>\n    </tr>\n  </thead>\n  <tbody>\n    <tr>\n      <th>8</th>\n      <td>MONTCALM</td>\n      <td>116</td>\n    </tr>\n    <tr>\n      <th>7</th>\n      <td>KENT</td>\n      <td>36</td>\n    </tr>\n    <tr>\n      <th>6</th>\n      <td>JACKSON</td>\n      <td>9</td>\n    </tr>\n    <tr>\n      <th>0</th>\n      <td>CLINTON</td>\n      <td>5</td>\n    </tr>\n    <tr>\n      <th>4</th>\n      <td>INGHAM</td>\n      <td>5</td>\n    </tr>\n  </tbody>\n</table>\n</div>"
     },
     "execution_count": 94,
     "metadata": {},
     "output_type": "execute_result"
    }
   ],
   "source": [
    "cwd2 = data_clean.groupby('CNTY_NAME', as_index=False, sort=True)['PosTotal'].sum()\n",
    "cwd2 = cwd2.sort_values('PosTotal', ascending=False)\n",
    "cwd2.head()"
   ]
  },
  {
   "cell_type": "code",
   "execution_count": 95,
   "metadata": {
    "pycharm": {
     "name": "#%% plotting graph\n"
    }
   },
   "outputs": [
    {
     "data": {
      "text/plain": "Text(0.5, 1.0, 'Counties with the most CWD Positive deer.')"
     },
     "execution_count": 95,
     "metadata": {},
     "output_type": "execute_result"
    },
    {
     "data": {
      "text/plain": "<Figure size 576x576 with 1 Axes>",
      "image/png": "[encoded data removed]"
     },
     "metadata": {},
     "output_type": "display_data"
    }
   ],
   "source": [
    "\n",
    "cwd2 = cwd2[:]\n",
    "plt.figure(figsize=(8, 8))\n",
    "sns.set_style('darkgrid')\n",
    "p = sns.barplot(x='CNTY_NAME', y='PosTotal', data=cwd2)\n",
    "p.set(xlabel='County', ylabel='Positive Total')\n",
    "p.set_title(\"Counties with the most CWD Positive deer.\")"
   ]
  },
  {
   "cell_type": "code",
   "execution_count": 96,
   "metadata": {
    "pycharm": {
     "name": "#%% grouping all columns and plotting graph for Tested Total amount of deer for CWD between 2015-2019\n"
    }
   },
   "outputs": [
    {
     "data": {
      "text/plain": "<AxesSubplot:xlabel='CNTY_NAME'>"
     },
     "execution_count": 96,
     "metadata": {},
     "output_type": "execute_result"
    },
    {
     "data": {
      "text/plain": "<Figure size 576x576 with 1 Axes>",
      "image/png": "[encoded data removed]"
     },
     "metadata": {},
     "output_type": "display_data"
    }
   ],
   "source": [
    "cwd3 = data_clean.groupby('CNTY_NAME', as_index=False, sort=True).sum()\n",
    "cwd3 = cwd3.sort_values('TestTotal', ascending=False)\n",
    "cwd3.head()\n",
    "\n",
    "pd.DataFrame(cwd3, columns=['CNTY_NAME', 'Tests2015', 'Test2016', 'Test2017', 'Test2018', 'Test2019'])\n",
    "\n",
    "cwd3.plot(x='CNTY_NAME', y=['Tests2015', 'Test2016', 'Test2017', 'Test2018', 'Test2019'], kind='bar', figsize=(8, 8))\n"
   ]
  },
  {
   "cell_type": "code",
   "execution_count": 97,
   "metadata": {
    "pycharm": {
     "name": "#%% grouping all columns and plotting graph for Positive results of CWD found in deer, between 2015-2019\n"
    }
   },
   "outputs": [
    {
     "data": {
      "text/plain": "<AxesSubplot:xlabel='CNTY_NAME'>"
     },
     "execution_count": 97,
     "metadata": {},
     "output_type": "execute_result"
    },
    {
     "data": {
      "text/plain": "<Figure size 576x576 with 1 Axes>",
      "image/png": "[encoded data removed]"
     },
     "metadata": {},
     "output_type": "display_data"
    }
   ],
   "source": [
    "cwd4 = data_clean.groupby('CNTY_NAME', as_index=False, sort=True).sum()\n",
    "cwd4 = cwd4.sort_values('PosTotal' ,ascending=False)\n",
    "cwd4.head()\n",
    "\n",
    "pd.DataFrame(cwd4, columns=['CNTY_NAME', 'Pos2015', 'Pos2016', 'Pos2017', 'Pos2018', 'Pos2019'])\n",
    "\n",
    "cwd4.plot(x='CNTY_NAME', y=['Pos2015', 'Pos2016', 'Pos2017', 'Pos2018', 'Pos2019'], kind='bar', figsize=(8, 8))"
   ]
  },
  {
   "cell_type": "code",
   "execution_count": 98,
   "outputs": [
    {
     "data": {
      "application/vnd.plotly.v1+json": {
       "config": {
        "linkText": "Export to plot.ly",
        "plotlyServerURL": "https://plot.ly",
        "showLink": true
       },
       "data": [
        {
         "marker": {
          "color": "rgba(226, 74, 51, 0.6)",
          "line": {
           "color": "rgba(226, 74, 51, 1.0)",
           "width": 1
          }
         },
         "name": "TestTotal",
         "orientation": "v",
         "text": "",
         "type": "bar",
         "x": [
          "CLINTON",
          "DICKINSON",
          "EATON",
          "GRATIOT",
          "INGHAM",
          "IONIA",
          "JACKSON",
          "KENT",
          "MONTCALM"
         ],
         "y": [
          2720,
          435,
          116,
          570,
          2465,
          1106,
          1157,
          1289,
          7513
         ]
        },
        {
         "marker": {
          "color": "rgba(62, 111, 176, 0.6)",
          "line": {
           "color": "rgba(62, 111, 176, 1.0)",
           "width": 1
          }
         },
         "name": "PosTotal",
         "orientation": "v",
         "text": "",
         "type": "bar",
         "x": [
          "CLINTON",
          "DICKINSON",
          "EATON",
          "GRATIOT",
          "INGHAM",
          "IONIA",
          "JACKSON",
          "KENT",
          "MONTCALM"
         ],
         "y": [
          5,
          1,
          1,
          4,
          5,
          4,
          9,
          36,
          116
         ]
        }
       ],
       "layout": {
        "legend": {
         "bgcolor": "#FFFFFF",
         "font": {
          "color": "#666666"
         }
        },
        "paper_bgcolor": "#FFFFFF",
        "plot_bgcolor": "#E5E5E5",
        "template": {
         "data": {
          "bar": [
           {
            "error_x": {
             "color": "#2a3f5f"
            },
            "error_y": {
             "color": "#2a3f5f"
            },
            "marker": {
             "line": {
              "color": "#E5ECF6",
              "width": 0.5
             },
             "pattern": {
              "fillmode": "overlay",
              "size": 10,
              "solidity": 0.2
             }
            },
            "type": "bar"
           }
          ],
          "barpolar": [
           {
            "marker": {
             "line": {
              "color": "#E5ECF6",
              "width": 0.5
             },
             "pattern": {
              "fillmode": "overlay",
              "size": 10,
              "solidity": 0.2
             }
            },
            "type": "barpolar"
           }
          ],
          "carpet": [
           {
            "aaxis": {
             "endlinecolor": "#2a3f5f",
             "gridcolor": "white",
             "linecolor": "white",
             "minorgridcolor": "white",
             "startlinecolor": "#2a3f5f"
            },
            "baxis": {
             "endlinecolor": "#2a3f5f",
             "gridcolor": "white",
             "linecolor": "white",
             "minorgridcolor": "white",
             "startlinecolor": "#2a3f5f"
            },
            "type": "carpet"
           }
          ],
          "choropleth": [
           {
            "colorbar": {
             "outlinewidth": 0,
             "ticks": ""
            },
            "type": "choropleth"
           }
          ],
          "contour": [
           {
            "colorbar": {
             "outlinewidth": 0,
             "ticks": ""
            },
            "colorscale": [
             [
              0.0,
              "#0d0887"
             ],
             [
              0.1111111111111111,
              "#46039f"
             ],
             [
              0.2222222222222222,
              "#7201a8"
             ],
             [
              0.3333333333333333,
              "#9c179e"
             ],
             [
              0.4444444444444444,
              "#bd3786"
             ],
             [
              0.5555555555555556,
              "#d8576b"
             ],
             [
              0.6666666666666666,
              "#ed7953"
             ],
             [
              0.7777777777777778,
              "#fb9f3a"
             ],
             [
              0.8888888888888888,
              "#fdca26"
             ],
             [
              1.0,
              "#f0f921"
             ]
            ],
            "type": "contour"
           }
          ],
          "contourcarpet": [
           {
            "colorbar": {
             "outlinewidth": 0,
             "ticks": ""
            },
            "type": "contourcarpet"
           }
          ],
          "heatmap": [
           {
            "colorbar": {
             "outlinewidth": 0,
             "ticks": ""
            },
            "colorscale": [
             [
              0.0,
              "#0d0887"
             ],
             [
              0.1111111111111111,
              "#46039f"
             ],
             [
              0.2222222222222222,
              "#7201a8"
             ],
             [
              0.3333333333333333,
              "#9c179e"
             ],
             [
              0.4444444444444444,
              "#bd3786"
             ],
             [
              0.5555555555555556,
              "#d8576b"
             ],
             [
              0.6666666666666666,
              "#ed7953"
             ],
             [
              0.7777777777777778,
              "#fb9f3a"
             ],
             [
              0.8888888888888888,
              "#fdca26"
             ],
             [
              1.0,
              "#f0f921"
             ]
            ],
            "type": "heatmap"
           }
          ],
          "heatmapgl": [
           {
            "colorbar": {
             "outlinewidth": 0,
             "ticks": ""
            },
            "colorscale": [
             [
              0.0,
              "#0d0887"
             ],
             [
              0.1111111111111111,
              "#46039f"
             ],
             [
              0.2222222222222222,
              "#7201a8"
             ],
             [
              0.3333333333333333,
              "#9c179e"
             ],
             [
              0.4444444444444444,
              "#bd3786"
             ],
             [
              0.5555555555555556,
              "#d8576b"
             ],
             [
              0.6666666666666666,
              "#ed7953"
             ],
             [
              0.7777777777777778,
              "#fb9f3a"
             ],
             [
              0.8888888888888888,
              "#fdca26"
             ],
             [
              1.0,
              "#f0f921"
             ]
            ],
            "type": "heatmapgl"
           }
          ],
          "histogram": [
           {
            "marker": {
             "pattern": {
              "fillmode": "overlay",
              "size": 10,
              "solidity": 0.2
             }
            },
            "type": "histogram"
           }
          ],
          "histogram2d": [
           {
            "colorbar": {
             "outlinewidth": 0,
             "ticks": ""
            },
            "colorscale": [
             [
              0.0,
              "#0d0887"
             ],
             [
              0.1111111111111111,
              "#46039f"
             ],
             [
              0.2222222222222222,
              "#7201a8"
             ],
             [
              0.3333333333333333,
              "#9c179e"
             ],
             [
              0.4444444444444444,
              "#bd3786"
             ],
             [
              0.5555555555555556,
              "#d8576b"
             ],
             [
              0.6666666666666666,
              "#ed7953"
             ],
             [
              0.7777777777777778,
              "#fb9f3a"
             ],
             [
              0.8888888888888888,
              "#fdca26"
             ],
             [
              1.0,
              "#f0f921"
             ]
            ],
            "type": "histogram2d"
           }
          ],
          "histogram2dcontour": [
           {
            "colorbar": {
             "outlinewidth": 0,
             "ticks": ""
            },
            "colorscale": [
             [
              0.0,
              "#0d0887"
             ],
             [
              0.1111111111111111,
              "#46039f"
             ],
             [
              0.2222222222222222,
              "#7201a8"
             ],
             [
              0.3333333333333333,
              "#9c179e"
             ],
             [
              0.4444444444444444,
              "#bd3786"
             ],
             [
              0.5555555555555556,
              "#d8576b"
             ],
             [
              0.6666666666666666,
              "#ed7953"
             ],
             [
              0.7777777777777778,
              "#fb9f3a"
             ],
             [
              0.8888888888888888,
              "#fdca26"
             ],
             [
              1.0,
              "#f0f921"
             ]
            ],
            "type": "histogram2dcontour"
           }
          ],
          "mesh3d": [
           {
            "colorbar": {
             "outlinewidth": 0,
             "ticks": ""
            },
            "type": "mesh3d"
           }
          ],
          "parcoords": [
           {
            "line": {
             "colorbar": {
              "outlinewidth": 0,
              "ticks": ""
             }
            },
            "type": "parcoords"
           }
          ],
          "pie": [
           {
            "automargin": true,
            "type": "pie"
           }
          ],
          "scatter": [
           {
            "marker": {
             "colorbar": {
              "outlinewidth": 0,
              "ticks": ""
             }
            },
            "type": "scatter"
           }
          ],
          "scatter3d": [
           {
            "line": {
             "colorbar": {
              "outlinewidth": 0,
              "ticks": ""
             }
            },
            "marker": {
             "colorbar": {
              "outlinewidth": 0,
              "ticks": ""
             }
            },
            "type": "scatter3d"
           }
          ],
          "scattercarpet": [
           {
            "marker": {
             "colorbar": {
              "outlinewidth": 0,
              "ticks": ""
             }
            },
            "type": "scattercarpet"
           }
          ],
          "scattergeo": [
           {
            "marker": {
             "colorbar": {
              "outlinewidth": 0,
              "ticks": ""
             }
            },
            "type": "scattergeo"
           }
          ],
          "scattergl": [
           {
            "marker": {
             "colorbar": {
              "outlinewidth": 0,
              "ticks": ""
             }
            },
            "type": "scattergl"
           }
          ],
          "scattermapbox": [
           {
            "marker": {
             "colorbar": {
              "outlinewidth": 0,
              "ticks": ""
             }
            },
            "type": "scattermapbox"
           }
          ],
          "scatterpolar": [
           {
            "marker": {
             "colorbar": {
              "outlinewidth": 0,
              "ticks": ""
             }
            },
            "type": "scatterpolar"
           }
          ],
          "scatterpolargl": [
           {
            "marker": {
             "colorbar": {
              "outlinewidth": 0,
              "ticks": ""
             }
            },
            "type": "scatterpolargl"
           }
          ],
          "scatterternary": [
           {
            "marker": {
             "colorbar": {
              "outlinewidth": 0,
              "ticks": ""
             }
            },
            "type": "scatterternary"
           }
          ],
          "surface": [
           {
            "colorbar": {
             "outlinewidth": 0,
             "ticks": ""
            },
            "colorscale": [
             [
              0.0,
              "#0d0887"
             ],
             [
              0.1111111111111111,
              "#46039f"
             ],
             [
              0.2222222222222222,
              "#7201a8"
             ],
             [
              0.3333333333333333,
              "#9c179e"
             ],
             [
              0.4444444444444444,
              "#bd3786"
             ],
             [
              0.5555555555555556,
              "#d8576b"
             ],
             [
              0.6666666666666666,
              "#ed7953"
             ],
             [
              0.7777777777777778,
              "#fb9f3a"
             ],
             [
              0.8888888888888888,
              "#fdca26"
             ],
             [
              1.0,
              "#f0f921"
             ]
            ],
            "type": "surface"
           }
          ],
          "table": [
           {
            "cells": {
             "fill": {
              "color": "#EBF0F8"
             },
             "line": {
              "color": "white"
             }
            },
            "header": {
             "fill": {
              "color": "#C8D4E3"
             },
             "line": {
              "color": "white"
             }
            },
            "type": "table"
           }
          ]
         },
         "layout": {
          "annotationdefaults": {
           "arrowcolor": "#2a3f5f",
           "arrowhead": 0,
           "arrowwidth": 1
          },
          "autotypenumbers": "strict",
          "coloraxis": {
           "colorbar": {
            "outlinewidth": 0,
            "ticks": ""
           }
          },
          "colorscale": {
           "diverging": [
            [
             0,
             "#8e0152"
            ],
            [
             0.1,
             "#c51b7d"
            ],
            [
             0.2,
             "#de77ae"
            ],
            [
             0.3,
             "#f1b6da"
            ],
            [
             0.4,
             "#fde0ef"
            ],
            [
             0.5,
             "#f7f7f7"
            ],
            [
             0.6,
             "#e6f5d0"
            ],
            [
             0.7,
             "#b8e186"
            ],
            [
             0.8,
             "#7fbc41"
            ],
            [
             0.9,
             "#4d9221"
            ],
            [
             1,
             "#276419"
            ]
           ],
           "sequential": [
            [
             0.0,
             "#0d0887"
            ],
            [
             0.1111111111111111,
             "#46039f"
            ],
            [
             0.2222222222222222,
             "#7201a8"
            ],
            [
             0.3333333333333333,
             "#9c179e"
            ],
            [
             0.4444444444444444,
             "#bd3786"
            ],
            [
             0.5555555555555556,
             "#d8576b"
            ],
            [
             0.6666666666666666,
             "#ed7953"
            ],
            [
             0.7777777777777778,
             "#fb9f3a"
            ],
            [
             0.8888888888888888,
             "#fdca26"
            ],
            [
             1.0,
             "#f0f921"
            ]
           ],
           "sequentialminus": [
            [
             0.0,
             "#0d0887"
            ],
            [
             0.1111111111111111,
             "#46039f"
            ],
            [
             0.2222222222222222,
             "#7201a8"
            ],
            [
             0.3333333333333333,
             "#9c179e"
            ],
            [
             0.4444444444444444,
             "#bd3786"
            ],
            [
             0.5555555555555556,
             "#d8576b"
            ],
            [
             0.6666666666666666,
             "#ed7953"
            ],
            [
             0.7777777777777778,
             "#fb9f3a"
            ],
            [
             0.8888888888888888,
             "#fdca26"
            ],
            [
             1.0,
             "#f0f921"
            ]
           ]
          },
          "colorway": [
           "#636efa",
           "#EF553B",
           "#00cc96",
           "#ab63fa",
           "#FFA15A",
           "#19d3f3",
           "#FF6692",
           "#B6E880",
           "#FF97FF",
           "#FECB52"
          ],
          "font": {
           "color": "#2a3f5f"
          },
          "geo": {
           "bgcolor": "white",
           "lakecolor": "white",
           "landcolor": "#E5ECF6",
           "showlakes": true,
           "showland": true,
           "subunitcolor": "white"
          },
          "hoverlabel": {
           "align": "left"
          },
          "hovermode": "closest",
          "mapbox": {
           "style": "light"
          },
          "paper_bgcolor": "white",
          "plot_bgcolor": "#E5ECF6",
          "polar": {
           "angularaxis": {
            "gridcolor": "white",
            "linecolor": "white",
            "ticks": ""
           },
           "bgcolor": "#E5ECF6",
           "radialaxis": {
            "gridcolor": "white",
            "linecolor": "white",
            "ticks": ""
           }
          },
          "scene": {
           "xaxis": {
            "backgroundcolor": "#E5ECF6",
            "gridcolor": "white",
            "gridwidth": 2,
            "linecolor": "white",
            "showbackground": true,
            "ticks": "",
            "zerolinecolor": "white"
           },
           "yaxis": {
            "backgroundcolor": "#E5ECF6",
            "gridcolor": "white",
            "gridwidth": 2,
            "linecolor": "white",
            "showbackground": true,
            "ticks": "",
            "zerolinecolor": "white"
           },
           "zaxis": {
            "backgroundcolor": "#E5ECF6",
            "gridcolor": "white",
            "gridwidth": 2,
            "linecolor": "white",
            "showbackground": true,
            "ticks": "",
            "zerolinecolor": "white"
           }
          },
          "shapedefaults": {
           "line": {
            "color": "#2a3f5f"
           }
          },
          "ternary": {
           "aaxis": {
            "gridcolor": "white",
            "linecolor": "white",
            "ticks": ""
           },
           "baxis": {
            "gridcolor": "white",
            "linecolor": "white",
            "ticks": ""
           },
           "bgcolor": "#E5ECF6",
           "caxis": {
            "gridcolor": "white",
            "linecolor": "white",
            "ticks": ""
           }
          },
          "title": {
           "x": 0.05
          },
          "xaxis": {
           "automargin": true,
           "gridcolor": "white",
           "linecolor": "white",
           "ticks": "",
           "title": {
            "standoff": 15
           },
           "zerolinecolor": "white",
           "zerolinewidth": 2
          },
          "yaxis": {
           "automargin": true,
           "gridcolor": "white",
           "linecolor": "white",
           "ticks": "",
           "title": {
            "standoff": 15
           },
           "zerolinecolor": "white",
           "zerolinewidth": 2
          }
         }
        },
        "title": {
         "font": {
          "color": "#151516"
         },
         "text": "Counties tested total amount, and positive results."
        },
        "xaxis": {
         "gridcolor": "#F6F6F6",
         "showgrid": true,
         "tickfont": {
          "color": "#666666"
         },
         "title": {
          "font": {
           "color": "#666666"
          },
          "text": ""
         },
         "zerolinecolor": "#F6F6F6"
        },
        "yaxis": {
         "gridcolor": "#F6F6F6",
         "showgrid": true,
         "tickfont": {
          "color": "#666666"
         },
         "title": {
          "font": {
           "color": "#666666"
          },
          "text": ""
         },
         "zerolinecolor": "#F6F6F6"
        }
       }
      },
      "text/html": "<div>                            <div id=\"a9882d7c-a47c-4aaa-9bb3-67ec27616daf\" class=\"plotly-graph-div\" style=\"height:525px; width:100%;\"></div>            <script type=\"text/javascript\">                require([\"plotly\"], function(Plotly) {                    window.PLOTLYENV=window.PLOTLYENV || {};\n                    window.PLOTLYENV.BASE_URL='https://plot.ly';                                    if (document.getElementById(\"a9882d7c-a47c-4aaa-9bb3-67ec27616daf\")) {                    Plotly.newPlot(                        \"a9882d7c-a47c-4aaa-9bb3-67ec27616daf\",                        [{\"marker\":{\"color\":\"rgba(226, 74, 51, 0.6)\",\"line\":{\"color\":\"rgba(226, 74, 51, 1.0)\",\"width\":1}},\"name\":\"TestTotal\",\"orientation\":\"v\",\"text\":\"\",\"type\":\"bar\",\"x\":[\"CLINTON\",\"DICKINSON\",\"EATON\",\"GRATIOT\",\"INGHAM\",\"IONIA\",\"JACKSON\",\"KENT\",\"MONTCALM\"],\"y\":[2720,435,116,570,2465,1106,1157,1289,7513]},{\"marker\":{\"color\":\"rgba(62, 111, 176, 0.6)\",\"line\":{\"color\":\"rgba(62, 111, 176, 1.0)\",\"width\":1}},\"name\":\"PosTotal\",\"orientation\":\"v\",\"text\":\"\",\"type\":\"bar\",\"x\":[\"CLINTON\",\"DICKINSON\",\"EATON\",\"GRATIOT\",\"INGHAM\",\"IONIA\",\"JACKSON\",\"KENT\",\"MONTCALM\"],\"y\":[5,1,1,4,5,4,9,36,116]}],                        {\"legend\":{\"bgcolor\":\"#FFFFFF\",\"font\":{\"color\":\"#666666\"}},\"paper_bgcolor\":\"#FFFFFF\",\"plot_bgcolor\":\"#E5E5E5\",\"template\":{\"data\":{\"bar\":[{\"error_x\":{\"color\":\"#2a3f5f\"},\"error_y\":{\"color\":\"#2a3f5f\"},\"marker\":{\"line\":{\"color\":\"#E5ECF6\",\"width\":0.5},\"pattern\":{\"fillmode\":\"overlay\",\"size\":10,\"solidity\":0.2}},\"type\":\"bar\"}],\"barpolar\":[{\"marker\":{\"line\":{\"color\":\"#E5ECF6\",\"width\":0.5},\"pattern\":{\"fillmode\":\"overlay\",\"size\":10,\"solidity\":0.2}},\"type\":\"barpolar\"}],\"carpet\":[{\"aaxis\":{\"endlinecolor\":\"#2a3f5f\",\"gridcolor\":\"white\",\"linecolor\":\"white\",\"minorgridcolor\":\"white\",\"startlinecolor\":\"#2a3f5f\"},\"baxis\":{\"endlinecolor\":\"#2a3f5f\",\"gridcolor\":\"white\",\"linecolor\":\"white\",\"minorgridcolor\":\"white\",\"startlinecolor\":\"#2a3f5f\"},\"type\":\"carpet\"}],\"choropleth\":[{\"colorbar\":{\"outlinewidth\":0,\"ticks\":\"\"},\"type\":\"choropleth\"}],\"contour\":[{\"colorbar\":{\"outlinewidth\":0,\"ticks\":\"\"},\"colorscale\":[[0.0,\"#0d0887\"],[0.1111111111111111,\"#46039f\"],[0.2222222222222222,\"#7201a8\"],[0.3333333333333333,\"#9c179e\"],[0.4444444444444444,\"#bd3786\"],[0.5555555555555556,\"#d8576b\"],[0.6666666666666666,\"#ed7953\"],[0.7777777777777778,\"#fb9f3a\"],[0.8888888888888888,\"#fdca26\"],[1.0,\"#f0f921\"]],\"type\":\"contour\"}],\"contourcarpet\":[{\"colorbar\":{\"outlinewidth\":0,\"ticks\":\"\"},\"type\":\"contourcarpet\"}],\"heatmap\":[{\"colorbar\":{\"outlinewidth\":0,\"ticks\":\"\"},\"colorscale\":[[0.0,\"#0d0887\"],[0.1111111111111111,\"#46039f\"],[0.2222222222222222,\"#7201a8\"],[0.3333333333333333,\"#9c179e\"],[0.4444444444444444,\"#bd3786\"],[0.5555555555555556,\"#d8576b\"],[0.6666666666666666,\"#ed7953\"],[0.7777777777777778,\"#fb9f3a\"],[0.8888888888888888,\"#fdca26\"],[1.0,\"#f0f921\"]],\"type\":\"heatmap\"}],\"heatmapgl\":[{\"colorbar\":{\"outlinewidth\":0,\"ticks\":\"\"},\"colorscale\":[[0.0,\"#0d0887\"],[0.1111111111111111,\"#46039f\"],[0.2222222222222222,\"#7201a8\"],[0.3333333333333333,\"#9c179e\"],[0.4444444444444444,\"#bd3786\"],[0.5555555555555556,\"#d8576b\"],[0.6666666666666666,\"#ed7953\"],[0.7777777777777778,\"#fb9f3a\"],[0.8888888888888888,\"#fdca26\"],[1.0,\"#f0f921\"]],\"type\":\"heatmapgl\"}],\"histogram\":[{\"marker\":{\"pattern\":{\"fillmode\":\"overlay\",\"size\":10,\"solidity\":0.2}},\"type\":\"histogram\"}],\"histogram2d\":[{\"colorbar\":{\"outlinewidth\":0,\"ticks\":\"\"},\"colorscale\":[[0.0,\"#0d0887\"],[0.1111111111111111,\"#46039f\"],[0.2222222222222222,\"#7201a8\"],[0.3333333333333333,\"#9c179e\"],[0.4444444444444444,\"#bd3786\"],[0.5555555555555556,\"#d8576b\"],[0.6666666666666666,\"#ed7953\"],[0.7777777777777778,\"#fb9f3a\"],[0.8888888888888888,\"#fdca26\"],[1.0,\"#f0f921\"]],\"type\":\"histogram2d\"}],\"histogram2dcontour\":[{\"colorbar\":{\"outlinewidth\":0,\"ticks\":\"\"},\"colorscale\":[[0.0,\"#0d0887\"],[0.1111111111111111,\"#46039f\"],[0.2222222222222222,\"#7201a8\"],[0.3333333333333333,\"#9c179e\"],[0.4444444444444444,\"#bd3786\"],[0.5555555555555556,\"#d8576b\"],[0.6666666666666666,\"#ed7953\"],[0.7777777777777778,\"#fb9f3a\"],[0.8888888888888888,\"#fdca26\"],[1.0,\"#f0f921\"]],\"type\":\"histogram2dcontour\"}],\"mesh3d\":[{\"colorbar\":{\"outlinewidth\":0,\"ticks\":\"\"},\"type\":\"mesh3d\"}],\"parcoords\":[{\"line\":{\"colorbar\":{\"outlinewidth\":0,\"ticks\":\"\"}},\"type\":\"parcoords\"}],\"pie\":[{\"automargin\":true,\"type\":\"pie\"}],\"scatter\":[{\"marker\":{\"colorbar\":{\"outlinewidth\":0,\"ticks\":\"\"}},\"type\":\"scatter\"}],\"scatter3d\":[{\"line\":{\"colorbar\":{\"outlinewidth\":0,\"ticks\":\"\"}},\"marker\":{\"colorbar\":{\"outlinewidth\":0,\"ticks\":\"\"}},\"type\":\"scatter3d\"}],\"scattercarpet\":[{\"marker\":{\"colorbar\":{\"outlinewidth\":0,\"ticks\":\"\"}},\"type\":\"scattercarpet\"}],\"scattergeo\":[{\"marker\":{\"colorbar\":{\"outlinewidth\":0,\"ticks\":\"\"}},\"type\":\"scattergeo\"}],\"scattergl\":[{\"marker\":{\"colorbar\":{\"outlinewidth\":0,\"ticks\":\"\"}},\"type\":\"scattergl\"}],\"scattermapbox\":[{\"marker\":{\"colorbar\":{\"outlinewidth\":0,\"ticks\":\"\"}},\"type\":\"scattermapbox\"}],\"scatterpolar\":[{\"marker\":{\"colorbar\":{\"outlinewidth\":0,\"ticks\":\"\"}},\"type\":\"scatterpolar\"}],\"scatterpolargl\":[{\"marker\":{\"colorbar\":{\"outlinewidth\":0,\"ticks\":\"\"}},\"type\":\"scatterpolargl\"}],\"scatterternary\":[{\"marker\":{\"colorbar\":{\"outlinewidth\":0,\"ticks\":\"\"}},\"type\":\"scatterternary\"}],\"surface\":[{\"colorbar\":{\"outlinewidth\":0,\"ticks\":\"\"},\"colorscale\":[[0.0,\"#0d0887\"],[0.1111111111111111,\"#46039f\"],[0.2222222222222222,\"#7201a8\"],[0.3333333333333333,\"#9c179e\"],[0.4444444444444444,\"#bd3786\"],[0.5555555555555556,\"#d8576b\"],[0.6666666666666666,\"#ed7953\"],[0.7777777777777778,\"#fb9f3a\"],[0.8888888888888888,\"#fdca26\"],[1.0,\"#f0f921\"]],\"type\":\"surface\"}],\"table\":[{\"cells\":{\"fill\":{\"color\":\"#EBF0F8\"},\"line\":{\"color\":\"white\"}},\"header\":{\"fill\":{\"color\":\"#C8D4E3\"},\"line\":{\"color\":\"white\"}},\"type\":\"table\"}]},\"layout\":{\"annotationdefaults\":{\"arrowcolor\":\"#2a3f5f\",\"arrowhead\":0,\"arrowwidth\":1},\"autotypenumbers\":\"strict\",\"coloraxis\":{\"colorbar\":{\"outlinewidth\":0,\"ticks\":\"\"}},\"colorscale\":{\"diverging\":[[0,\"#8e0152\"],[0.1,\"#c51b7d\"],[0.2,\"#de77ae\"],[0.3,\"#f1b6da\"],[0.4,\"#fde0ef\"],[0.5,\"#f7f7f7\"],[0.6,\"#e6f5d0\"],[0.7,\"#b8e186\"],[0.8,\"#7fbc41\"],[0.9,\"#4d9221\"],[1,\"#276419\"]],\"sequential\":[[0.0,\"#0d0887\"],[0.1111111111111111,\"#46039f\"],[0.2222222222222222,\"#7201a8\"],[0.3333333333333333,\"#9c179e\"],[0.4444444444444444,\"#bd3786\"],[0.5555555555555556,\"#d8576b\"],[0.6666666666666666,\"#ed7953\"],[0.7777777777777778,\"#fb9f3a\"],[0.8888888888888888,\"#fdca26\"],[1.0,\"#f0f921\"]],\"sequentialminus\":[[0.0,\"#0d0887\"],[0.1111111111111111,\"#46039f\"],[0.2222222222222222,\"#7201a8\"],[0.3333333333333333,\"#9c179e\"],[0.4444444444444444,\"#bd3786\"],[0.5555555555555556,\"#d8576b\"],[0.6666666666666666,\"#ed7953\"],[0.7777777777777778,\"#fb9f3a\"],[0.8888888888888888,\"#fdca26\"],[1.0,\"#f0f921\"]]},\"colorway\":[\"#636efa\",\"#EF553B\",\"#00cc96\",\"#ab63fa\",\"#FFA15A\",\"#19d3f3\",\"#FF6692\",\"#B6E880\",\"#FF97FF\",\"#FECB52\"],\"font\":{\"color\":\"#2a3f5f\"},\"geo\":{\"bgcolor\":\"white\",\"lakecolor\":\"white\",\"landcolor\":\"#E5ECF6\",\"showlakes\":true,\"showland\":true,\"subunitcolor\":\"white\"},\"hoverlabel\":{\"align\":\"left\"},\"hovermode\":\"closest\",\"mapbox\":{\"style\":\"light\"},\"paper_bgcolor\":\"white\",\"plot_bgcolor\":\"#E5ECF6\",\"polar\":{\"angularaxis\":{\"gridcolor\":\"white\",\"linecolor\":\"white\",\"ticks\":\"\"},\"bgcolor\":\"#E5ECF6\",\"radialaxis\":{\"gridcolor\":\"white\",\"linecolor\":\"white\",\"ticks\":\"\"}},\"scene\":{\"xaxis\":{\"backgroundcolor\":\"#E5ECF6\",\"gridcolor\":\"white\",\"gridwidth\":2,\"linecolor\":\"white\",\"showbackground\":true,\"ticks\":\"\",\"zerolinecolor\":\"white\"},\"yaxis\":{\"backgroundcolor\":\"#E5ECF6\",\"gridcolor\":\"white\",\"gridwidth\":2,\"linecolor\":\"white\",\"showbackground\":true,\"ticks\":\"\",\"zerolinecolor\":\"white\"},\"zaxis\":{\"backgroundcolor\":\"#E5ECF6\",\"gridcolor\":\"white\",\"gridwidth\":2,\"linecolor\":\"white\",\"showbackground\":true,\"ticks\":\"\",\"zerolinecolor\":\"white\"}},\"shapedefaults\":{\"line\":{\"color\":\"#2a3f5f\"}},\"ternary\":{\"aaxis\":{\"gridcolor\":\"white\",\"linecolor\":\"white\",\"ticks\":\"\"},\"baxis\":{\"gridcolor\":\"white\",\"linecolor\":\"white\",\"ticks\":\"\"},\"bgcolor\":\"#E5ECF6\",\"caxis\":{\"gridcolor\":\"white\",\"linecolor\":\"white\",\"ticks\":\"\"}},\"title\":{\"x\":0.05},\"xaxis\":{\"automargin\":true,\"gridcolor\":\"white\",\"linecolor\":\"white\",\"ticks\":\"\",\"title\":{\"standoff\":15},\"zerolinecolor\":\"white\",\"zerolinewidth\":2},\"yaxis\":{\"automargin\":true,\"gridcolor\":\"white\",\"linecolor\":\"white\",\"ticks\":\"\",\"title\":{\"standoff\":15},\"zerolinecolor\":\"white\",\"zerolinewidth\":2}}},\"title\":{\"font\":{\"color\":\"#151516\"},\"text\":\"Counties tested total amount, and positive results.\"},\"xaxis\":{\"gridcolor\":\"#F6F6F6\",\"showgrid\":true,\"tickfont\":{\"color\":\"#666666\"},\"title\":{\"font\":{\"color\":\"#666666\"},\"text\":\"\"},\"zerolinecolor\":\"#F6F6F6\"},\"yaxis\":{\"gridcolor\":\"#F6F6F6\",\"showgrid\":true,\"tickfont\":{\"color\":\"#666666\"},\"title\":{\"font\":{\"color\":\"#666666\"},\"text\":\"\"},\"zerolinecolor\":\"#F6F6F6\"}},                        {\"showLink\": true, \"linkText\": \"Export to plot.ly\", \"plotlyServerURL\": \"https://plot.ly\", \"responsive\": true}                    ).then(function(){\n                            \nvar gd = document.getElementById('a9882d7c-a47c-4aaa-9bb3-67ec27616daf');\nvar x = new MutationObserver(function (mutations, observer) {{\n        var display = window.getComputedStyle(gd).display;\n        if (!display || display === 'none') {{\n            console.log([gd, 'removed!']);\n            Plotly.purge(gd);\n            observer.disconnect();\n        }}\n}});\n\n// Listen for the removal of the full notebook cells\nvar notebookContainer = gd.closest('#notebook-container');\nif (notebookContainer) {{\n    x.observe(notebookContainer, {childList: true});\n}}\n\n// Listen for the clearing of the current output cell\nvar outputEl = gd.closest('.output');\nif (outputEl) {{\n    x.observe(outputEl, {childList: true});\n}}\n\n                        })                };                });            </script>        </div>"
     },
     "metadata": {},
     "output_type": "display_data"
    }
   ],
   "source": [
    "\n",
    "data_clean.groupby('CNTY_NAME', as_index=False, sort=True).sum().to_csv('CNTY_NAME_GROUP.csv', index=False)\n",
    "cwd5 = pd.read_csv('CNTY_NAME_GROUP.csv')\n",
    "cwd5\n",
    "\n",
    "\n",
    "cwd5.iplot(kind='bar', x='CNTY_NAME', y=['TestTotal', 'PosTotal'],\n",
    "           title= 'Counties tested total amount, and positive results.')\n"
   ],
   "metadata": {
    "collapsed": false,
    "pycharm": {
     "name": "#%%\n"
    }
   }
  },
  {
   "cell_type": "code",
   "execution_count": 101,
   "outputs": [
    {
     "data": {
      "application/vnd.plotly.v1+json": {
       "config": {
        "linkText": "Export to plot.ly",
        "plotlyServerURL": "https://plot.ly",
        "showLink": true
       },
       "data": [
        {
         "marker": {
          "color": "rgba(255, 153, 51, 0.6)",
          "line": {
           "color": "rgba(255, 153, 51, 1.0)",
           "width": 1
          }
         },
         "name": "Tests2015",
         "orientation": "v",
         "text": "",
         "type": "bar",
         "x": [
          "CLINTON",
          "DICKINSON",
          "EATON",
          "GRATIOT",
          "INGHAM",
          "IONIA",
          "JACKSON",
          "KENT",
          "MONTCALM"
         ],
         "y": [
          266.0,
          0.0,
          7.0,
          3.0,
          724.0,
          6.0,
          3.0,
          0.0,
          7.0
         ]
        },
        {
         "marker": {
          "color": "rgba(55, 128, 191, 0.6)",
          "line": {
           "color": "rgba(55, 128, 191, 1.0)",
           "width": 1
          }
         },
         "name": "Test2016",
         "orientation": "v",
         "text": "",
         "type": "bar",
         "x": [
          "CLINTON",
          "DICKINSON",
          "EATON",
          "GRATIOT",
          "INGHAM",
          "IONIA",
          "JACKSON",
          "KENT",
          "MONTCALM"
         ],
         "y": [
          910.0,
          33.0,
          10.0,
          4.0,
          648.0,
          68.0,
          1.0,
          4.0,
          30.0
         ]
        },
        {
         "marker": {
          "color": "rgba(50, 171, 96, 0.6)",
          "line": {
           "color": "rgba(50, 171, 96, 1.0)",
           "width": 1
          }
         },
         "name": "Test2017",
         "orientation": "v",
         "text": "",
         "type": "bar",
         "x": [
          "CLINTON",
          "DICKINSON",
          "EATON",
          "GRATIOT",
          "INGHAM",
          "IONIA",
          "JACKSON",
          "KENT",
          "MONTCALM"
         ],
         "y": [
          866,
          84,
          8,
          17,
          580,
          164,
          10,
          381,
          3283
         ]
        },
        {
         "marker": {
          "color": "rgba(128, 0, 128, 0.6)",
          "line": {
           "color": "rgba(128, 0, 128, 1.0)",
           "width": 1
          }
         },
         "name": "Test2018",
         "orientation": "v",
         "text": "",
         "type": "bar",
         "x": [
          "CLINTON",
          "DICKINSON",
          "EATON",
          "GRATIOT",
          "INGHAM",
          "IONIA",
          "JACKSON",
          "KENT",
          "MONTCALM"
         ],
         "y": [
          417,
          156,
          41,
          258,
          382,
          588,
          465,
          551,
          2782
         ]
        },
        {
         "marker": {
          "color": "rgba(219, 64, 82, 0.6)",
          "line": {
           "color": "rgba(219, 64, 82, 1.0)",
           "width": 1
          }
         },
         "name": "Test2019",
         "orientation": "v",
         "text": "",
         "type": "bar",
         "x": [
          "CLINTON",
          "DICKINSON",
          "EATON",
          "GRATIOT",
          "INGHAM",
          "IONIA",
          "JACKSON",
          "KENT",
          "MONTCALM"
         ],
         "y": [
          261,
          162,
          50,
          288,
          131,
          280,
          678,
          353,
          1411
         ]
        }
       ],
       "layout": {
        "legend": {
         "bgcolor": "#FFFFFF",
         "font": {
          "color": "#4D5663"
         }
        },
        "paper_bgcolor": "#FFFFFF",
        "plot_bgcolor": "#FFFFFF",
        "template": {
         "data": {
          "bar": [
           {
            "error_x": {
             "color": "#2a3f5f"
            },
            "error_y": {
             "color": "#2a3f5f"
            },
            "marker": {
             "line": {
              "color": "#E5ECF6",
              "width": 0.5
             },
             "pattern": {
              "fillmode": "overlay",
              "size": 10,
              "solidity": 0.2
             }
            },
            "type": "bar"
           }
          ],
          "barpolar": [
           {
            "marker": {
             "line": {
              "color": "#E5ECF6",
              "width": 0.5
             },
             "pattern": {
              "fillmode": "overlay",
              "size": 10,
              "solidity": 0.2
             }
            },
            "type": "barpolar"
           }
          ],
          "carpet": [
           {
            "aaxis": {
             "endlinecolor": "#2a3f5f",
             "gridcolor": "white",
             "linecolor": "white",
             "minorgridcolor": "white",
             "startlinecolor": "#2a3f5f"
            },
            "baxis": {
             "endlinecolor": "#2a3f5f",
             "gridcolor": "white",
             "linecolor": "white",
             "minorgridcolor": "white",
             "startlinecolor": "#2a3f5f"
            },
            "type": "carpet"
           }
          ],
          "choropleth": [
           {
            "colorbar": {
             "outlinewidth": 0,
             "ticks": ""
            },
            "type": "choropleth"
           }
          ],
          "contour": [
           {
            "colorbar": {
             "outlinewidth": 0,
             "ticks": ""
            },
            "colorscale": [
             [
              0.0,
              "#0d0887"
             ],
             [
              0.1111111111111111,
              "#46039f"
             ],
             [
              0.2222222222222222,
              "#7201a8"
             ],
             [
              0.3333333333333333,
              "#9c179e"
             ],
             [
              0.4444444444444444,
              "#bd3786"
             ],
             [
              0.5555555555555556,
              "#d8576b"
             ],
             [
              0.6666666666666666,
              "#ed7953"
             ],
             [
              0.7777777777777778,
              "#fb9f3a"
             ],
             [
              0.8888888888888888,
              "#fdca26"
             ],
             [
              1.0,
              "#f0f921"
             ]
            ],
            "type": "contour"
           }
          ],
          "contourcarpet": [
           {
            "colorbar": {
             "outlinewidth": 0,
             "ticks": ""
            },
            "type": "contourcarpet"
           }
          ],
          "heatmap": [
           {
            "colorbar": {
             "outlinewidth": 0,
             "ticks": ""
            },
            "colorscale": [
             [
              0.0,
              "#0d0887"
             ],
             [
              0.1111111111111111,
              "#46039f"
             ],
             [
              0.2222222222222222,
              "#7201a8"
             ],
             [
              0.3333333333333333,
              "#9c179e"
             ],
             [
              0.4444444444444444,
              "#bd3786"
             ],
             [
              0.5555555555555556,
              "#d8576b"
             ],
             [
              0.6666666666666666,
              "#ed7953"
             ],
             [
              0.7777777777777778,
              "#fb9f3a"
             ],
             [
              0.8888888888888888,
              "#fdca26"
             ],
             [
              1.0,
              "#f0f921"
             ]
            ],
            "type": "heatmap"
           }
          ],
          "heatmapgl": [
           {
            "colorbar": {
             "outlinewidth": 0,
             "ticks": ""
            },
            "colorscale": [
             [
              0.0,
              "#0d0887"
             ],
             [
              0.1111111111111111,
              "#46039f"
             ],
             [
              0.2222222222222222,
              "#7201a8"
             ],
             [
              0.3333333333333333,
              "#9c179e"
             ],
             [
              0.4444444444444444,
              "#bd3786"
             ],
             [
              0.5555555555555556,
              "#d8576b"
             ],
             [
              0.6666666666666666,
              "#ed7953"
             ],
             [
              0.7777777777777778,
              "#fb9f3a"
             ],
             [
              0.8888888888888888,
              "#fdca26"
             ],
             [
              1.0,
              "#f0f921"
             ]
            ],
            "type": "heatmapgl"
           }
          ],
          "histogram": [
           {
            "marker": {
             "pattern": {
              "fillmode": "overlay",
              "size": 10,
              "solidity": 0.2
             }
            },
            "type": "histogram"
           }
          ],
          "histogram2d": [
           {
            "colorbar": {
             "outlinewidth": 0,
             "ticks": ""
            },
            "colorscale": [
             [
              0.0,
              "#0d0887"
             ],
             [
              0.1111111111111111,
              "#46039f"
             ],
             [
              0.2222222222222222,
              "#7201a8"
             ],
             [
              0.3333333333333333,
              "#9c179e"
             ],
             [
              0.4444444444444444,
              "#bd3786"
             ],
             [
              0.5555555555555556,
              "#d8576b"
             ],
             [
              0.6666666666666666,
              "#ed7953"
             ],
             [
              0.7777777777777778,
              "#fb9f3a"
             ],
             [
              0.8888888888888888,
              "#fdca26"
             ],
             [
              1.0,
              "#f0f921"
             ]
            ],
            "type": "histogram2d"
           }
          ],
          "histogram2dcontour": [
           {
            "colorbar": {
             "outlinewidth": 0,
             "ticks": ""
            },
            "colorscale": [
             [
              0.0,
              "#0d0887"
             ],
             [
              0.1111111111111111,
              "#46039f"
             ],
             [
              0.2222222222222222,
              "#7201a8"
             ],
             [
              0.3333333333333333,
              "#9c179e"
             ],
             [
              0.4444444444444444,
              "#bd3786"
             ],
             [
              0.5555555555555556,
              "#d8576b"
             ],
             [
              0.6666666666666666,
              "#ed7953"
             ],
             [
              0.7777777777777778,
              "#fb9f3a"
             ],
             [
              0.8888888888888888,
              "#fdca26"
             ],
             [
              1.0,
              "#f0f921"
             ]
            ],
            "type": "histogram2dcontour"
           }
          ],
          "mesh3d": [
           {
            "colorbar": {
             "outlinewidth": 0,
             "ticks": ""
            },
            "type": "mesh3d"
           }
          ],
          "parcoords": [
           {
            "line": {
             "colorbar": {
              "outlinewidth": 0,
              "ticks": ""
             }
            },
            "type": "parcoords"
           }
          ],
          "pie": [
           {
            "automargin": true,
            "type": "pie"
           }
          ],
          "scatter": [
           {
            "marker": {
             "colorbar": {
              "outlinewidth": 0,
              "ticks": ""
             }
            },
            "type": "scatter"
           }
          ],
          "scatter3d": [
           {
            "line": {
             "colorbar": {
              "outlinewidth": 0,
              "ticks": ""
             }
            },
            "marker": {
             "colorbar": {
              "outlinewidth": 0,
              "ticks": ""
             }
            },
            "type": "scatter3d"
           }
          ],
          "scattercarpet": [
           {
            "marker": {
             "colorbar": {
              "outlinewidth": 0,
              "ticks": ""
             }
            },
            "type": "scattercarpet"
           }
          ],
          "scattergeo": [
           {
            "marker": {
             "colorbar": {
              "outlinewidth": 0,
              "ticks": ""
             }
            },
            "type": "scattergeo"
           }
          ],
          "scattergl": [
           {
            "marker": {
             "colorbar": {
              "outlinewidth": 0,
              "ticks": ""
             }
            },
            "type": "scattergl"
           }
          ],
          "scattermapbox": [
           {
            "marker": {
             "colorbar": {
              "outlinewidth": 0,
              "ticks": ""
             }
            },
            "type": "scattermapbox"
           }
          ],
          "scatterpolar": [
           {
            "marker": {
             "colorbar": {
              "outlinewidth": 0,
              "ticks": ""
             }
            },
            "type": "scatterpolar"
           }
          ],
          "scatterpolargl": [
           {
            "marker": {
             "colorbar": {
              "outlinewidth": 0,
              "ticks": ""
             }
            },
            "type": "scatterpolargl"
           }
          ],
          "scatterternary": [
           {
            "marker": {
             "colorbar": {
              "outlinewidth": 0,
              "ticks": ""
             }
            },
            "type": "scatterternary"
           }
          ],
          "surface": [
           {
            "colorbar": {
             "outlinewidth": 0,
             "ticks": ""
            },
            "colorscale": [
             [
              0.0,
              "#0d0887"
             ],
             [
              0.1111111111111111,
              "#46039f"
             ],
             [
              0.2222222222222222,
              "#7201a8"
             ],
             [
              0.3333333333333333,
              "#9c179e"
             ],
             [
              0.4444444444444444,
              "#bd3786"
             ],
             [
              0.5555555555555556,
              "#d8576b"
             ],
             [
              0.6666666666666666,
              "#ed7953"
             ],
             [
              0.7777777777777778,
              "#fb9f3a"
             ],
             [
              0.8888888888888888,
              "#fdca26"
             ],
             [
              1.0,
              "#f0f921"
             ]
            ],
            "type": "surface"
           }
          ],
          "table": [
           {
            "cells": {
             "fill": {
              "color": "#EBF0F8"
             },
             "line": {
              "color": "white"
             }
            },
            "header": {
             "fill": {
              "color": "#C8D4E3"
             },
             "line": {
              "color": "white"
             }
            },
            "type": "table"
           }
          ]
         },
         "layout": {
          "annotationdefaults": {
           "arrowcolor": "#2a3f5f",
           "arrowhead": 0,
           "arrowwidth": 1
          },
          "autotypenumbers": "strict",
          "coloraxis": {
           "colorbar": {
            "outlinewidth": 0,
            "ticks": ""
           }
          },
          "colorscale": {
           "diverging": [
            [
             0,
             "#8e0152"
            ],
            [
             0.1,
             "#c51b7d"
            ],
            [
             0.2,
             "#de77ae"
            ],
            [
             0.3,
             "#f1b6da"
            ],
            [
             0.4,
             "#fde0ef"
            ],
            [
             0.5,
             "#f7f7f7"
            ],
            [
             0.6,
             "#e6f5d0"
            ],
            [
             0.7,
             "#b8e186"
            ],
            [
             0.8,
             "#7fbc41"
            ],
            [
             0.9,
             "#4d9221"
            ],
            [
             1,
             "#276419"
            ]
           ],
           "sequential": [
            [
             0.0,
             "#0d0887"
            ],
            [
             0.1111111111111111,
             "#46039f"
            ],
            [
             0.2222222222222222,
             "#7201a8"
            ],
            [
             0.3333333333333333,
             "#9c179e"
            ],
            [
             0.4444444444444444,
             "#bd3786"
            ],
            [
             0.5555555555555556,
             "#d8576b"
            ],
            [
             0.6666666666666666,
             "#ed7953"
            ],
            [
             0.7777777777777778,
             "#fb9f3a"
            ],
            [
             0.8888888888888888,
             "#fdca26"
            ],
            [
             1.0,
             "#f0f921"
            ]
           ],
           "sequentialminus": [
            [
             0.0,
             "#0d0887"
            ],
            [
             0.1111111111111111,
             "#46039f"
            ],
            [
             0.2222222222222222,
             "#7201a8"
            ],
            [
             0.3333333333333333,
             "#9c179e"
            ],
            [
             0.4444444444444444,
             "#bd3786"
            ],
            [
             0.5555555555555556,
             "#d8576b"
            ],
            [
             0.6666666666666666,
             "#ed7953"
            ],
            [
             0.7777777777777778,
             "#fb9f3a"
            ],
            [
             0.8888888888888888,
             "#fdca26"
            ],
            [
             1.0,
             "#f0f921"
            ]
           ]
          },
          "colorway": [
           "#636efa",
           "#EF553B",
           "#00cc96",
           "#ab63fa",
           "#FFA15A",
           "#19d3f3",
           "#FF6692",
           "#B6E880",
           "#FF97FF",
           "#FECB52"
          ],
          "font": {
           "color": "#2a3f5f"
          },
          "geo": {
           "bgcolor": "white",
           "lakecolor": "white",
           "landcolor": "#E5ECF6",
           "showlakes": true,
           "showland": true,
           "subunitcolor": "white"
          },
          "hoverlabel": {
           "align": "left"
          },
          "hovermode": "closest",
          "mapbox": {
           "style": "light"
          },
          "paper_bgcolor": "white",
          "plot_bgcolor": "#E5ECF6",
          "polar": {
           "angularaxis": {
            "gridcolor": "white",
            "linecolor": "white",
            "ticks": ""
           },
           "bgcolor": "#E5ECF6",
           "radialaxis": {
            "gridcolor": "white",
            "linecolor": "white",
            "ticks": ""
           }
          },
          "scene": {
           "xaxis": {
            "backgroundcolor": "#E5ECF6",
            "gridcolor": "white",
            "gridwidth": 2,
            "linecolor": "white",
            "showbackground": true,
            "ticks": "",
            "zerolinecolor": "white"
           },
           "yaxis": {
            "backgroundcolor": "#E5ECF6",
            "gridcolor": "white",
            "gridwidth": 2,
            "linecolor": "white",
            "showbackground": true,
            "ticks": "",
            "zerolinecolor": "white"
           },
           "zaxis": {
            "backgroundcolor": "#E5ECF6",
            "gridcolor": "white",
            "gridwidth": 2,
            "linecolor": "white",
            "showbackground": true,
            "ticks": "",
            "zerolinecolor": "white"
           }
          },
          "shapedefaults": {
           "line": {
            "color": "#2a3f5f"
           }
          },
          "ternary": {
           "aaxis": {
            "gridcolor": "white",
            "linecolor": "white",
            "ticks": ""
           },
           "baxis": {
            "gridcolor": "white",
            "linecolor": "white",
            "ticks": ""
           },
           "bgcolor": "#E5ECF6",
           "caxis": {
            "gridcolor": "white",
            "linecolor": "white",
            "ticks": ""
           }
          },
          "title": {
           "x": 0.05
          },
          "xaxis": {
           "automargin": true,
           "gridcolor": "white",
           "linecolor": "white",
           "ticks": "",
           "title": {
            "standoff": 15
           },
           "zerolinecolor": "white",
           "zerolinewidth": 2
          },
          "yaxis": {
           "automargin": true,
           "gridcolor": "white",
           "linecolor": "white",
           "ticks": "",
           "title": {
            "standoff": 15
           },
           "zerolinecolor": "white",
           "zerolinewidth": 2
          }
         }
        },
        "title": {
         "font": {
          "color": "#4D5663"
         },
         "text": "Counties tested amounts for CWD, 2015-2019"
        },
        "xaxis": {
         "gridcolor": "#E1E5ED",
         "showgrid": true,
         "tickfont": {
          "color": "#4D5663"
         },
         "title": {
          "font": {
           "color": "#4D5663"
          },
          "text": ""
         },
         "zerolinecolor": "#E1E5ED"
        },
        "yaxis": {
         "gridcolor": "#E1E5ED",
         "showgrid": true,
         "tickfont": {
          "color": "#4D5663"
         },
         "title": {
          "font": {
           "color": "#4D5663"
          },
          "text": ""
         },
         "zerolinecolor": "#E1E5ED"
        }
       }
      },
      "text/html": "<div>                            <div id=\"15071a66-cb1f-4fd0-8bdd-b31cbf6269b8\" class=\"plotly-graph-div\" style=\"height:525px; width:100%;\"></div>            <script type=\"text/javascript\">                require([\"plotly\"], function(Plotly) {                    window.PLOTLYENV=window.PLOTLYENV || {};\n                    window.PLOTLYENV.BASE_URL='https://plot.ly';                                    if (document.getElementById(\"15071a66-cb1f-4fd0-8bdd-b31cbf6269b8\")) {                    Plotly.newPlot(                        \"15071a66-cb1f-4fd0-8bdd-b31cbf6269b8\",                        [{\"marker\":{\"color\":\"rgba(255, 153, 51, 0.6)\",\"line\":{\"color\":\"rgba(255, 153, 51, 1.0)\",\"width\":1}},\"name\":\"Tests2015\",\"orientation\":\"v\",\"text\":\"\",\"type\":\"bar\",\"x\":[\"CLINTON\",\"DICKINSON\",\"EATON\",\"GRATIOT\",\"INGHAM\",\"IONIA\",\"JACKSON\",\"KENT\",\"MONTCALM\"],\"y\":[266.0,0.0,7.0,3.0,724.0,6.0,3.0,0.0,7.0]},{\"marker\":{\"color\":\"rgba(55, 128, 191, 0.6)\",\"line\":{\"color\":\"rgba(55, 128, 191, 1.0)\",\"width\":1}},\"name\":\"Test2016\",\"orientation\":\"v\",\"text\":\"\",\"type\":\"bar\",\"x\":[\"CLINTON\",\"DICKINSON\",\"EATON\",\"GRATIOT\",\"INGHAM\",\"IONIA\",\"JACKSON\",\"KENT\",\"MONTCALM\"],\"y\":[910.0,33.0,10.0,4.0,648.0,68.0,1.0,4.0,30.0]},{\"marker\":{\"color\":\"rgba(50, 171, 96, 0.6)\",\"line\":{\"color\":\"rgba(50, 171, 96, 1.0)\",\"width\":1}},\"name\":\"Test2017\",\"orientation\":\"v\",\"text\":\"\",\"type\":\"bar\",\"x\":[\"CLINTON\",\"DICKINSON\",\"EATON\",\"GRATIOT\",\"INGHAM\",\"IONIA\",\"JACKSON\",\"KENT\",\"MONTCALM\"],\"y\":[866,84,8,17,580,164,10,381,3283]},{\"marker\":{\"color\":\"rgba(128, 0, 128, 0.6)\",\"line\":{\"color\":\"rgba(128, 0, 128, 1.0)\",\"width\":1}},\"name\":\"Test2018\",\"orientation\":\"v\",\"text\":\"\",\"type\":\"bar\",\"x\":[\"CLINTON\",\"DICKINSON\",\"EATON\",\"GRATIOT\",\"INGHAM\",\"IONIA\",\"JACKSON\",\"KENT\",\"MONTCALM\"],\"y\":[417,156,41,258,382,588,465,551,2782]},{\"marker\":{\"color\":\"rgba(219, 64, 82, 0.6)\",\"line\":{\"color\":\"rgba(219, 64, 82, 1.0)\",\"width\":1}},\"name\":\"Test2019\",\"orientation\":\"v\",\"text\":\"\",\"type\":\"bar\",\"x\":[\"CLINTON\",\"DICKINSON\",\"EATON\",\"GRATIOT\",\"INGHAM\",\"IONIA\",\"JACKSON\",\"KENT\",\"MONTCALM\"],\"y\":[261,162,50,288,131,280,678,353,1411]}],                        {\"legend\":{\"bgcolor\":\"#FFFFFF\",\"font\":{\"color\":\"#4D5663\"}},\"paper_bgcolor\":\"#FFFFFF\",\"plot_bgcolor\":\"#FFFFFF\",\"template\":{\"data\":{\"bar\":[{\"error_x\":{\"color\":\"#2a3f5f\"},\"error_y\":{\"color\":\"#2a3f5f\"},\"marker\":{\"line\":{\"color\":\"#E5ECF6\",\"width\":0.5},\"pattern\":{\"fillmode\":\"overlay\",\"size\":10,\"solidity\":0.2}},\"type\":\"bar\"}],\"barpolar\":[{\"marker\":{\"line\":{\"color\":\"#E5ECF6\",\"width\":0.5},\"pattern\":{\"fillmode\":\"overlay\",\"size\":10,\"solidity\":0.2}},\"type\":\"barpolar\"}],\"carpet\":[{\"aaxis\":{\"endlinecolor\":\"#2a3f5f\",\"gridcolor\":\"white\",\"linecolor\":\"white\",\"minorgridcolor\":\"white\",\"startlinecolor\":\"#2a3f5f\"},\"baxis\":{\"endlinecolor\":\"#2a3f5f\",\"gridcolor\":\"white\",\"linecolor\":\"white\",\"minorgridcolor\":\"white\",\"startlinecolor\":\"#2a3f5f\"},\"type\":\"carpet\"}],\"choropleth\":[{\"colorbar\":{\"outlinewidth\":0,\"ticks\":\"\"},\"type\":\"choropleth\"}],\"contour\":[{\"colorbar\":{\"outlinewidth\":0,\"ticks\":\"\"},\"colorscale\":[[0.0,\"#0d0887\"],[0.1111111111111111,\"#46039f\"],[0.2222222222222222,\"#7201a8\"],[0.3333333333333333,\"#9c179e\"],[0.4444444444444444,\"#bd3786\"],[0.5555555555555556,\"#d8576b\"],[0.6666666666666666,\"#ed7953\"],[0.7777777777777778,\"#fb9f3a\"],[0.8888888888888888,\"#fdca26\"],[1.0,\"#f0f921\"]],\"type\":\"contour\"}],\"contourcarpet\":[{\"colorbar\":{\"outlinewidth\":0,\"ticks\":\"\"},\"type\":\"contourcarpet\"}],\"heatmap\":[{\"colorbar\":{\"outlinewidth\":0,\"ticks\":\"\"},\"colorscale\":[[0.0,\"#0d0887\"],[0.1111111111111111,\"#46039f\"],[0.2222222222222222,\"#7201a8\"],[0.3333333333333333,\"#9c179e\"],[0.4444444444444444,\"#bd3786\"],[0.5555555555555556,\"#d8576b\"],[0.6666666666666666,\"#ed7953\"],[0.7777777777777778,\"#fb9f3a\"],[0.8888888888888888,\"#fdca26\"],[1.0,\"#f0f921\"]],\"type\":\"heatmap\"}],\"heatmapgl\":[{\"colorbar\":{\"outlinewidth\":0,\"ticks\":\"\"},\"colorscale\":[[0.0,\"#0d0887\"],[0.1111111111111111,\"#46039f\"],[0.2222222222222222,\"#7201a8\"],[0.3333333333333333,\"#9c179e\"],[0.4444444444444444,\"#bd3786\"],[0.5555555555555556,\"#d8576b\"],[0.6666666666666666,\"#ed7953\"],[0.7777777777777778,\"#fb9f3a\"],[0.8888888888888888,\"#fdca26\"],[1.0,\"#f0f921\"]],\"type\":\"heatmapgl\"}],\"histogram\":[{\"marker\":{\"pattern\":{\"fillmode\":\"overlay\",\"size\":10,\"solidity\":0.2}},\"type\":\"histogram\"}],\"histogram2d\":[{\"colorbar\":{\"outlinewidth\":0,\"ticks\":\"\"},\"colorscale\":[[0.0,\"#0d0887\"],[0.1111111111111111,\"#46039f\"],[0.2222222222222222,\"#7201a8\"],[0.3333333333333333,\"#9c179e\"],[0.4444444444444444,\"#bd3786\"],[0.5555555555555556,\"#d8576b\"],[0.6666666666666666,\"#ed7953\"],[0.7777777777777778,\"#fb9f3a\"],[0.8888888888888888,\"#fdca26\"],[1.0,\"#f0f921\"]],\"type\":\"histogram2d\"}],\"histogram2dcontour\":[{\"colorbar\":{\"outlinewidth\":0,\"ticks\":\"\"},\"colorscale\":[[0.0,\"#0d0887\"],[0.1111111111111111,\"#46039f\"],[0.2222222222222222,\"#7201a8\"],[0.3333333333333333,\"#9c179e\"],[0.4444444444444444,\"#bd3786\"],[0.5555555555555556,\"#d8576b\"],[0.6666666666666666,\"#ed7953\"],[0.7777777777777778,\"#fb9f3a\"],[0.8888888888888888,\"#fdca26\"],[1.0,\"#f0f921\"]],\"type\":\"histogram2dcontour\"}],\"mesh3d\":[{\"colorbar\":{\"outlinewidth\":0,\"ticks\":\"\"},\"type\":\"mesh3d\"}],\"parcoords\":[{\"line\":{\"colorbar\":{\"outlinewidth\":0,\"ticks\":\"\"}},\"type\":\"parcoords\"}],\"pie\":[{\"automargin\":true,\"type\":\"pie\"}],\"scatter\":[{\"marker\":{\"colorbar\":{\"outlinewidth\":0,\"ticks\":\"\"}},\"type\":\"scatter\"}],\"scatter3d\":[{\"line\":{\"colorbar\":{\"outlinewidth\":0,\"ticks\":\"\"}},\"marker\":{\"colorbar\":{\"outlinewidth\":0,\"ticks\":\"\"}},\"type\":\"scatter3d\"}],\"scattercarpet\":[{\"marker\":{\"colorbar\":{\"outlinewidth\":0,\"ticks\":\"\"}},\"type\":\"scattercarpet\"}],\"scattergeo\":[{\"marker\":{\"colorbar\":{\"outlinewidth\":0,\"ticks\":\"\"}},\"type\":\"scattergeo\"}],\"scattergl\":[{\"marker\":{\"colorbar\":{\"outlinewidth\":0,\"ticks\":\"\"}},\"type\":\"scattergl\"}],\"scattermapbox\":[{\"marker\":{\"colorbar\":{\"outlinewidth\":0,\"ticks\":\"\"}},\"type\":\"scattermapbox\"}],\"scatterpolar\":[{\"marker\":{\"colorbar\":{\"outlinewidth\":0,\"ticks\":\"\"}},\"type\":\"scatterpolar\"}],\"scatterpolargl\":[{\"marker\":{\"colorbar\":{\"outlinewidth\":0,\"ticks\":\"\"}},\"type\":\"scatterpolargl\"}],\"scatterternary\":[{\"marker\":{\"colorbar\":{\"outlinewidth\":0,\"ticks\":\"\"}},\"type\":\"scatterternary\"}],\"surface\":[{\"colorbar\":{\"outlinewidth\":0,\"ticks\":\"\"},\"colorscale\":[[0.0,\"#0d0887\"],[0.1111111111111111,\"#46039f\"],[0.2222222222222222,\"#7201a8\"],[0.3333333333333333,\"#9c179e\"],[0.4444444444444444,\"#bd3786\"],[0.5555555555555556,\"#d8576b\"],[0.6666666666666666,\"#ed7953\"],[0.7777777777777778,\"#fb9f3a\"],[0.8888888888888888,\"#fdca26\"],[1.0,\"#f0f921\"]],\"type\":\"surface\"}],\"table\":[{\"cells\":{\"fill\":{\"color\":\"#EBF0F8\"},\"line\":{\"color\":\"white\"}},\"header\":{\"fill\":{\"color\":\"#C8D4E3\"},\"line\":{\"color\":\"white\"}},\"type\":\"table\"}]},\"layout\":{\"annotationdefaults\":{\"arrowcolor\":\"#2a3f5f\",\"arrowhead\":0,\"arrowwidth\":1},\"autotypenumbers\":\"strict\",\"coloraxis\":{\"colorbar\":{\"outlinewidth\":0,\"ticks\":\"\"}},\"colorscale\":{\"diverging\":[[0,\"#8e0152\"],[0.1,\"#c51b7d\"],[0.2,\"#de77ae\"],[0.3,\"#f1b6da\"],[0.4,\"#fde0ef\"],[0.5,\"#f7f7f7\"],[0.6,\"#e6f5d0\"],[0.7,\"#b8e186\"],[0.8,\"#7fbc41\"],[0.9,\"#4d9221\"],[1,\"#276419\"]],\"sequential\":[[0.0,\"#0d0887\"],[0.1111111111111111,\"#46039f\"],[0.2222222222222222,\"#7201a8\"],[0.3333333333333333,\"#9c179e\"],[0.4444444444444444,\"#bd3786\"],[0.5555555555555556,\"#d8576b\"],[0.6666666666666666,\"#ed7953\"],[0.7777777777777778,\"#fb9f3a\"],[0.8888888888888888,\"#fdca26\"],[1.0,\"#f0f921\"]],\"sequentialminus\":[[0.0,\"#0d0887\"],[0.1111111111111111,\"#46039f\"],[0.2222222222222222,\"#7201a8\"],[0.3333333333333333,\"#9c179e\"],[0.4444444444444444,\"#bd3786\"],[0.5555555555555556,\"#d8576b\"],[0.6666666666666666,\"#ed7953\"],[0.7777777777777778,\"#fb9f3a\"],[0.8888888888888888,\"#fdca26\"],[1.0,\"#f0f921\"]]},\"colorway\":[\"#636efa\",\"#EF553B\",\"#00cc96\",\"#ab63fa\",\"#FFA15A\",\"#19d3f3\",\"#FF6692\",\"#B6E880\",\"#FF97FF\",\"#FECB52\"],\"font\":{\"color\":\"#2a3f5f\"},\"geo\":{\"bgcolor\":\"white\",\"lakecolor\":\"white\",\"landcolor\":\"#E5ECF6\",\"showlakes\":true,\"showland\":true,\"subunitcolor\":\"white\"},\"hoverlabel\":{\"align\":\"left\"},\"hovermode\":\"closest\",\"mapbox\":{\"style\":\"light\"},\"paper_bgcolor\":\"white\",\"plot_bgcolor\":\"#E5ECF6\",\"polar\":{\"angularaxis\":{\"gridcolor\":\"white\",\"linecolor\":\"white\",\"ticks\":\"\"},\"bgcolor\":\"#E5ECF6\",\"radialaxis\":{\"gridcolor\":\"white\",\"linecolor\":\"white\",\"ticks\":\"\"}},\"scene\":{\"xaxis\":{\"backgroundcolor\":\"#E5ECF6\",\"gridcolor\":\"white\",\"gridwidth\":2,\"linecolor\":\"white\",\"showbackground\":true,\"ticks\":\"\",\"zerolinecolor\":\"white\"},\"yaxis\":{\"backgroundcolor\":\"#E5ECF6\",\"gridcolor\":\"white\",\"gridwidth\":2,\"linecolor\":\"white\",\"showbackground\":true,\"ticks\":\"\",\"zerolinecolor\":\"white\"},\"zaxis\":{\"backgroundcolor\":\"#E5ECF6\",\"gridcolor\":\"white\",\"gridwidth\":2,\"linecolor\":\"white\",\"showbackground\":true,\"ticks\":\"\",\"zerolinecolor\":\"white\"}},\"shapedefaults\":{\"line\":{\"color\":\"#2a3f5f\"}},\"ternary\":{\"aaxis\":{\"gridcolor\":\"white\",\"linecolor\":\"white\",\"ticks\":\"\"},\"baxis\":{\"gridcolor\":\"white\",\"linecolor\":\"white\",\"ticks\":\"\"},\"bgcolor\":\"#E5ECF6\",\"caxis\":{\"gridcolor\":\"white\",\"linecolor\":\"white\",\"ticks\":\"\"}},\"title\":{\"x\":0.05},\"xaxis\":{\"automargin\":true,\"gridcolor\":\"white\",\"linecolor\":\"white\",\"ticks\":\"\",\"title\":{\"standoff\":15},\"zerolinecolor\":\"white\",\"zerolinewidth\":2},\"yaxis\":{\"automargin\":true,\"gridcolor\":\"white\",\"linecolor\":\"white\",\"ticks\":\"\",\"title\":{\"standoff\":15},\"zerolinecolor\":\"white\",\"zerolinewidth\":2}}},\"title\":{\"font\":{\"color\":\"#4D5663\"},\"text\":\"Counties tested amounts for CWD, 2015-2019\"},\"xaxis\":{\"gridcolor\":\"#E1E5ED\",\"showgrid\":true,\"tickfont\":{\"color\":\"#4D5663\"},\"title\":{\"font\":{\"color\":\"#4D5663\"},\"text\":\"\"},\"zerolinecolor\":\"#E1E5ED\"},\"yaxis\":{\"gridcolor\":\"#E1E5ED\",\"showgrid\":true,\"tickfont\":{\"color\":\"#4D5663\"},\"title\":{\"font\":{\"color\":\"#4D5663\"},\"text\":\"\"},\"zerolinecolor\":\"#E1E5ED\"}},                        {\"showLink\": true, \"linkText\": \"Export to plot.ly\", \"plotlyServerURL\": \"https://plot.ly\", \"responsive\": true}                    ).then(function(){\n                            \nvar gd = document.getElementById('15071a66-cb1f-4fd0-8bdd-b31cbf6269b8');\nvar x = new MutationObserver(function (mutations, observer) {{\n        var display = window.getComputedStyle(gd).display;\n        if (!display || display === 'none') {{\n            console.log([gd, 'removed!']);\n            Plotly.purge(gd);\n            observer.disconnect();\n        }}\n}});\n\n// Listen for the removal of the full notebook cells\nvar notebookContainer = gd.closest('#notebook-container');\nif (notebookContainer) {{\n    x.observe(notebookContainer, {childList: true});\n}}\n\n// Listen for the clearing of the current output cell\nvar outputEl = gd.closest('.output');\nif (outputEl) {{\n    x.observe(outputEl, {childList: true});\n}}\n\n                        })                };                });            </script>        </div>"
     },
     "metadata": {},
     "output_type": "display_data"
    }
   ],
   "source": [
    "cwd5.iplot(kind='bar', x='CNTY_NAME', y=['Tests2015', 'Test2016', 'Test2017', 'Test2018', 'Test2019'], theme='white',\n",
    "           title= 'Counties tested amounts for CWD, 2015-2019')"
   ],
   "metadata": {
    "collapsed": false,
    "pycharm": {
     "name": "#%%\n"
    }
   }
  },
  {
   "cell_type": "code",
   "execution_count": 100,
   "outputs": [
    {
     "data": {
      "application/vnd.plotly.v1+json": {
       "config": {
        "linkText": "Export to plot.ly",
        "plotlyServerURL": "https://plot.ly",
        "showLink": true
       },
       "data": [
        {
         "marker": {
          "color": "rgba(255, 153, 51, 0.6)",
          "line": {
           "color": "rgba(255, 153, 51, 1.0)",
           "width": 1
          }
         },
         "name": "Pos2015",
         "orientation": "v",
         "text": "",
         "type": "bar",
         "x": [
          "CLINTON",
          "DICKINSON",
          "EATON",
          "GRATIOT",
          "INGHAM",
          "IONIA",
          "JACKSON",
          "KENT",
          "MONTCALM"
         ],
         "y": [
          2.0,
          0.0,
          0.0,
          0.0,
          3.0,
          0.0,
          0.0,
          0.0,
          0.0
         ]
        },
        {
         "marker": {
          "color": "rgba(55, 128, 191, 0.6)",
          "line": {
           "color": "rgba(55, 128, 191, 1.0)",
           "width": 1
          }
         },
         "name": "Pos2016",
         "orientation": "v",
         "text": "",
         "type": "bar",
         "x": [
          "CLINTON",
          "DICKINSON",
          "EATON",
          "GRATIOT",
          "INGHAM",
          "IONIA",
          "JACKSON",
          "KENT",
          "MONTCALM"
         ],
         "y": [
          2.0,
          0.0,
          0.0,
          0.0,
          2.0,
          0.0,
          0.0,
          0.0,
          0.0
         ]
        },
        {
         "marker": {
          "color": "rgba(50, 171, 96, 0.6)",
          "line": {
           "color": "rgba(50, 171, 96, 1.0)",
           "width": 1
          }
         },
         "name": "Pos2017",
         "orientation": "v",
         "text": "",
         "type": "bar",
         "x": [
          "CLINTON",
          "DICKINSON",
          "EATON",
          "GRATIOT",
          "INGHAM",
          "IONIA",
          "JACKSON",
          "KENT",
          "MONTCALM"
         ],
         "y": [
          0.0,
          0.0,
          0.0,
          0.0,
          0.0,
          0.0,
          0.0,
          10.0,
          35.0
         ]
        },
        {
         "marker": {
          "color": "rgba(128, 0, 128, 0.6)",
          "line": {
           "color": "rgba(128, 0, 128, 1.0)",
           "width": 1
          }
         },
         "name": "Pos2018",
         "orientation": "v",
         "text": "",
         "type": "bar",
         "x": [
          "CLINTON",
          "DICKINSON",
          "EATON",
          "GRATIOT",
          "INGHAM",
          "IONIA",
          "JACKSON",
          "KENT",
          "MONTCALM"
         ],
         "y": [
          1.0,
          1.0,
          1.0,
          1.0,
          0.0,
          2.0,
          2.0,
          9.0,
          45.0
         ]
        },
        {
         "marker": {
          "color": "rgba(219, 64, 82, 0.6)",
          "line": {
           "color": "rgba(219, 64, 82, 1.0)",
           "width": 1
          }
         },
         "name": "Pos2019",
         "orientation": "v",
         "text": "",
         "type": "bar",
         "x": [
          "CLINTON",
          "DICKINSON",
          "EATON",
          "GRATIOT",
          "INGHAM",
          "IONIA",
          "JACKSON",
          "KENT",
          "MONTCALM"
         ],
         "y": [
          0.0,
          0.0,
          0.0,
          3.0,
          0.0,
          2.0,
          7.0,
          17.0,
          36.0
         ]
        }
       ],
       "layout": {
        "legend": {
         "bgcolor": "#FFFFFF",
         "font": {
          "color": "#4D5663"
         }
        },
        "paper_bgcolor": "#FFFFFF",
        "plot_bgcolor": "#FFFFFF",
        "template": {
         "data": {
          "bar": [
           {
            "error_x": {
             "color": "#2a3f5f"
            },
            "error_y": {
             "color": "#2a3f5f"
            },
            "marker": {
             "line": {
              "color": "#E5ECF6",
              "width": 0.5
             },
             "pattern": {
              "fillmode": "overlay",
              "size": 10,
              "solidity": 0.2
             }
            },
            "type": "bar"
           }
          ],
          "barpolar": [
           {
            "marker": {
             "line": {
              "color": "#E5ECF6",
              "width": 0.5
             },
             "pattern": {
              "fillmode": "overlay",
              "size": 10,
              "solidity": 0.2
             }
            },
            "type": "barpolar"
           }
          ],
          "carpet": [
           {
            "aaxis": {
             "endlinecolor": "#2a3f5f",
             "gridcolor": "white",
             "linecolor": "white",
             "minorgridcolor": "white",
             "startlinecolor": "#2a3f5f"
            },
            "baxis": {
             "endlinecolor": "#2a3f5f",
             "gridcolor": "white",
             "linecolor": "white",
             "minorgridcolor": "white",
             "startlinecolor": "#2a3f5f"
            },
            "type": "carpet"
           }
          ],
          "choropleth": [
           {
            "colorbar": {
             "outlinewidth": 0,
             "ticks": ""
            },
            "type": "choropleth"
           }
          ],
          "contour": [
           {
            "colorbar": {
             "outlinewidth": 0,
             "ticks": ""
            },
            "colorscale": [
             [
              0.0,
              "#0d0887"
             ],
             [
              0.1111111111111111,
              "#46039f"
             ],
             [
              0.2222222222222222,
              "#7201a8"
             ],
             [
              0.3333333333333333,
              "#9c179e"
             ],
             [
              0.4444444444444444,
              "#bd3786"
             ],
             [
              0.5555555555555556,
              "#d8576b"
             ],
             [
              0.6666666666666666,
              "#ed7953"
             ],
             [
              0.7777777777777778,
              "#fb9f3a"
             ],
             [
              0.8888888888888888,
              "#fdca26"
             ],
             [
              1.0,
              "#f0f921"
             ]
            ],
            "type": "contour"
           }
          ],
          "contourcarpet": [
           {
            "colorbar": {
             "outlinewidth": 0,
             "ticks": ""
            },
            "type": "contourcarpet"
           }
          ],
          "heatmap": [
           {
            "colorbar": {
             "outlinewidth": 0,
             "ticks": ""
            },
            "colorscale": [
             [
              0.0,
              "#0d0887"
             ],
             [
              0.1111111111111111,
              "#46039f"
             ],
             [
              0.2222222222222222,
              "#7201a8"
             ],
             [
              0.3333333333333333,
              "#9c179e"
             ],
             [
              0.4444444444444444,
              "#bd3786"
             ],
             [
              0.5555555555555556,
              "#d8576b"
             ],
             [
              0.6666666666666666,
              "#ed7953"
             ],
             [
              0.7777777777777778,
              "#fb9f3a"
             ],
             [
              0.8888888888888888,
              "#fdca26"
             ],
             [
              1.0,
              "#f0f921"
             ]
            ],
            "type": "heatmap"
           }
          ],
          "heatmapgl": [
           {
            "colorbar": {
             "outlinewidth": 0,
             "ticks": ""
            },
            "colorscale": [
             [
              0.0,
              "#0d0887"
             ],
             [
              0.1111111111111111,
              "#46039f"
             ],
             [
              0.2222222222222222,
              "#7201a8"
             ],
             [
              0.3333333333333333,
              "#9c179e"
             ],
             [
              0.4444444444444444,
              "#bd3786"
             ],
             [
              0.5555555555555556,
              "#d8576b"
             ],
             [
              0.6666666666666666,
              "#ed7953"
             ],
             [
              0.7777777777777778,
              "#fb9f3a"
             ],
             [
              0.8888888888888888,
              "#fdca26"
             ],
             [
              1.0,
              "#f0f921"
             ]
            ],
            "type": "heatmapgl"
           }
          ],
          "histogram": [
           {
            "marker": {
             "pattern": {
              "fillmode": "overlay",
              "size": 10,
              "solidity": 0.2
             }
            },
            "type": "histogram"
           }
          ],
          "histogram2d": [
           {
            "colorbar": {
             "outlinewidth": 0,
             "ticks": ""
            },
            "colorscale": [
             [
              0.0,
              "#0d0887"
             ],
             [
              0.1111111111111111,
              "#46039f"
             ],
             [
              0.2222222222222222,
              "#7201a8"
             ],
             [
              0.3333333333333333,
              "#9c179e"
             ],
             [
              0.4444444444444444,
              "#bd3786"
             ],
             [
              0.5555555555555556,
              "#d8576b"
             ],
             [
              0.6666666666666666,
              "#ed7953"
             ],
             [
              0.7777777777777778,
              "#fb9f3a"
             ],
             [
              0.8888888888888888,
              "#fdca26"
             ],
             [
              1.0,
              "#f0f921"
             ]
            ],
            "type": "histogram2d"
           }
          ],
          "histogram2dcontour": [
           {
            "colorbar": {
             "outlinewidth": 0,
             "ticks": ""
            },
            "colorscale": [
             [
              0.0,
              "#0d0887"
             ],
             [
              0.1111111111111111,
              "#46039f"
             ],
             [
              0.2222222222222222,
              "#7201a8"
             ],
             [
              0.3333333333333333,
              "#9c179e"
             ],
             [
              0.4444444444444444,
              "#bd3786"
             ],
             [
              0.5555555555555556,
              "#d8576b"
             ],
             [
              0.6666666666666666,
              "#ed7953"
             ],
             [
              0.7777777777777778,
              "#fb9f3a"
             ],
             [
              0.8888888888888888,
              "#fdca26"
             ],
             [
              1.0,
              "#f0f921"
             ]
            ],
            "type": "histogram2dcontour"
           }
          ],
          "mesh3d": [
           {
            "colorbar": {
             "outlinewidth": 0,
             "ticks": ""
            },
            "type": "mesh3d"
           }
          ],
          "parcoords": [
           {
            "line": {
             "colorbar": {
              "outlinewidth": 0,
              "ticks": ""
             }
            },
            "type": "parcoords"
           }
          ],
          "pie": [
           {
            "automargin": true,
            "type": "pie"
           }
          ],
          "scatter": [
           {
            "marker": {
             "colorbar": {
              "outlinewidth": 0,
              "ticks": ""
             }
            },
            "type": "scatter"
           }
          ],
          "scatter3d": [
           {
            "line": {
             "colorbar": {
              "outlinewidth": 0,
              "ticks": ""
             }
            },
            "marker": {
             "colorbar": {
              "outlinewidth": 0,
              "ticks": ""
             }
            },
            "type": "scatter3d"
           }
          ],
          "scattercarpet": [
           {
            "marker": {
             "colorbar": {
              "outlinewidth": 0,
              "ticks": ""
             }
            },
            "type": "scattercarpet"
           }
          ],
          "scattergeo": [
           {
            "marker": {
             "colorbar": {
              "outlinewidth": 0,
              "ticks": ""
             }
            },
            "type": "scattergeo"
           }
          ],
          "scattergl": [
           {
            "marker": {
             "colorbar": {
              "outlinewidth": 0,
              "ticks": ""
             }
            },
            "type": "scattergl"
           }
          ],
          "scattermapbox": [
           {
            "marker": {
             "colorbar": {
              "outlinewidth": 0,
              "ticks": ""
             }
            },
            "type": "scattermapbox"
           }
          ],
          "scatterpolar": [
           {
            "marker": {
             "colorbar": {
              "outlinewidth": 0,
              "ticks": ""
             }
            },
            "type": "scatterpolar"
           }
          ],
          "scatterpolargl": [
           {
            "marker": {
             "colorbar": {
              "outlinewidth": 0,
              "ticks": ""
             }
            },
            "type": "scatterpolargl"
           }
          ],
          "scatterternary": [
           {
            "marker": {
             "colorbar": {
              "outlinewidth": 0,
              "ticks": ""
             }
            },
            "type": "scatterternary"
           }
          ],
          "surface": [
           {
            "colorbar": {
             "outlinewidth": 0,
             "ticks": ""
            },
            "colorscale": [
             [
              0.0,
              "#0d0887"
             ],
             [
              0.1111111111111111,
              "#46039f"
             ],
             [
              0.2222222222222222,
              "#7201a8"
             ],
             [
              0.3333333333333333,
              "#9c179e"
             ],
             [
              0.4444444444444444,
              "#bd3786"
             ],
             [
              0.5555555555555556,
              "#d8576b"
             ],
             [
              0.6666666666666666,
              "#ed7953"
             ],
             [
              0.7777777777777778,
              "#fb9f3a"
             ],
             [
              0.8888888888888888,
              "#fdca26"
             ],
             [
              1.0,
              "#f0f921"
             ]
            ],
            "type": "surface"
           }
          ],
          "table": [
           {
            "cells": {
             "fill": {
              "color": "#EBF0F8"
             },
             "line": {
              "color": "white"
             }
            },
            "header": {
             "fill": {
              "color": "#C8D4E3"
             },
             "line": {
              "color": "white"
             }
            },
            "type": "table"
           }
          ]
         },
         "layout": {
          "annotationdefaults": {
           "arrowcolor": "#2a3f5f",
           "arrowhead": 0,
           "arrowwidth": 1
          },
          "autotypenumbers": "strict",
          "coloraxis": {
           "colorbar": {
            "outlinewidth": 0,
            "ticks": ""
           }
          },
          "colorscale": {
           "diverging": [
            [
             0,
             "#8e0152"
            ],
            [
             0.1,
             "#c51b7d"
            ],
            [
             0.2,
             "#de77ae"
            ],
            [
             0.3,
             "#f1b6da"
            ],
            [
             0.4,
             "#fde0ef"
            ],
            [
             0.5,
             "#f7f7f7"
            ],
            [
             0.6,
             "#e6f5d0"
            ],
            [
             0.7,
             "#b8e186"
            ],
            [
             0.8,
             "#7fbc41"
            ],
            [
             0.9,
             "#4d9221"
            ],
            [
             1,
             "#276419"
            ]
           ],
           "sequential": [
            [
             0.0,
             "#0d0887"
            ],
            [
             0.1111111111111111,
             "#46039f"
            ],
            [
             0.2222222222222222,
             "#7201a8"
            ],
            [
             0.3333333333333333,
             "#9c179e"
            ],
            [
             0.4444444444444444,
             "#bd3786"
            ],
            [
             0.5555555555555556,
             "#d8576b"
            ],
            [
             0.6666666666666666,
             "#ed7953"
            ],
            [
             0.7777777777777778,
             "#fb9f3a"
            ],
            [
             0.8888888888888888,
             "#fdca26"
            ],
            [
             1.0,
             "#f0f921"
            ]
           ],
           "sequentialminus": [
            [
             0.0,
             "#0d0887"
            ],
            [
             0.1111111111111111,
             "#46039f"
            ],
            [
             0.2222222222222222,
             "#7201a8"
            ],
            [
             0.3333333333333333,
             "#9c179e"
            ],
            [
             0.4444444444444444,
             "#bd3786"
            ],
            [
             0.5555555555555556,
             "#d8576b"
            ],
            [
             0.6666666666666666,
             "#ed7953"
            ],
            [
             0.7777777777777778,
             "#fb9f3a"
            ],
            [
             0.8888888888888888,
             "#fdca26"
            ],
            [
             1.0,
             "#f0f921"
            ]
           ]
          },
          "colorway": [
           "#636efa",
           "#EF553B",
           "#00cc96",
           "#ab63fa",
           "#FFA15A",
           "#19d3f3",
           "#FF6692",
           "#B6E880",
           "#FF97FF",
           "#FECB52"
          ],
          "font": {
           "color": "#2a3f5f"
          },
          "geo": {
           "bgcolor": "white",
           "lakecolor": "white",
           "landcolor": "#E5ECF6",
           "showlakes": true,
           "showland": true,
           "subunitcolor": "white"
          },
          "hoverlabel": {
           "align": "left"
          },
          "hovermode": "closest",
          "mapbox": {
           "style": "light"
          },
          "paper_bgcolor": "white",
          "plot_bgcolor": "#E5ECF6",
          "polar": {
           "angularaxis": {
            "gridcolor": "white",
            "linecolor": "white",
            "ticks": ""
           },
           "bgcolor": "#E5ECF6",
           "radialaxis": {
            "gridcolor": "white",
            "linecolor": "white",
            "ticks": ""
           }
          },
          "scene": {
           "xaxis": {
            "backgroundcolor": "#E5ECF6",
            "gridcolor": "white",
            "gridwidth": 2,
            "linecolor": "white",
            "showbackground": true,
            "ticks": "",
            "zerolinecolor": "white"
           },
           "yaxis": {
            "backgroundcolor": "#E5ECF6",
            "gridcolor": "white",
            "gridwidth": 2,
            "linecolor": "white",
            "showbackground": true,
            "ticks": "",
            "zerolinecolor": "white"
           },
           "zaxis": {
            "backgroundcolor": "#E5ECF6",
            "gridcolor": "white",
            "gridwidth": 2,
            "linecolor": "white",
            "showbackground": true,
            "ticks": "",
            "zerolinecolor": "white"
           }
          },
          "shapedefaults": {
           "line": {
            "color": "#2a3f5f"
           }
          },
          "ternary": {
           "aaxis": {
            "gridcolor": "white",
            "linecolor": "white",
            "ticks": ""
           },
           "baxis": {
            "gridcolor": "white",
            "linecolor": "white",
            "ticks": ""
           },
           "bgcolor": "#E5ECF6",
           "caxis": {
            "gridcolor": "white",
            "linecolor": "white",
            "ticks": ""
           }
          },
          "title": {
           "x": 0.05
          },
          "xaxis": {
           "automargin": true,
           "gridcolor": "white",
           "linecolor": "white",
           "ticks": "",
           "title": {
            "standoff": 15
           },
           "zerolinecolor": "white",
           "zerolinewidth": 2
          },
          "yaxis": {
           "automargin": true,
           "gridcolor": "white",
           "linecolor": "white",
           "ticks": "",
           "title": {
            "standoff": 15
           },
           "zerolinecolor": "white",
           "zerolinewidth": 2
          }
         }
        },
        "title": {
         "font": {
          "color": "#4D5663"
         },
         "text": "CWD positive deer between 2015-2019"
        },
        "xaxis": {
         "gridcolor": "#E1E5ED",
         "showgrid": true,
         "tickfont": {
          "color": "#4D5663"
         },
         "title": {
          "font": {
           "color": "#4D5663"
          },
          "text": ""
         },
         "zerolinecolor": "#E1E5ED"
        },
        "yaxis": {
         "gridcolor": "#E1E5ED",
         "showgrid": true,
         "tickfont": {
          "color": "#4D5663"
         },
         "title": {
          "font": {
           "color": "#4D5663"
          },
          "text": ""
         },
         "zerolinecolor": "#E1E5ED"
        }
       }
      },
      "text/html": "<div>                            <div id=\"ef7d41e4-e00f-411c-b568-5c4f7f12ff5a\" class=\"plotly-graph-div\" style=\"height:525px; width:100%;\"></div>            <script type=\"text/javascript\">                require([\"plotly\"], function(Plotly) {                    window.PLOTLYENV=window.PLOTLYENV || {};\n                    window.PLOTLYENV.BASE_URL='https://plot.ly';                                    if (document.getElementById(\"ef7d41e4-e00f-411c-b568-5c4f7f12ff5a\")) {                    Plotly.newPlot(                        \"ef7d41e4-e00f-411c-b568-5c4f7f12ff5a\",                        [{\"marker\":{\"color\":\"rgba(255, 153, 51, 0.6)\",\"line\":{\"color\":\"rgba(255, 153, 51, 1.0)\",\"width\":1}},\"name\":\"Pos2015\",\"orientation\":\"v\",\"text\":\"\",\"type\":\"bar\",\"x\":[\"CLINTON\",\"DICKINSON\",\"EATON\",\"GRATIOT\",\"INGHAM\",\"IONIA\",\"JACKSON\",\"KENT\",\"MONTCALM\"],\"y\":[2.0,0.0,0.0,0.0,3.0,0.0,0.0,0.0,0.0]},{\"marker\":{\"color\":\"rgba(55, 128, 191, 0.6)\",\"line\":{\"color\":\"rgba(55, 128, 191, 1.0)\",\"width\":1}},\"name\":\"Pos2016\",\"orientation\":\"v\",\"text\":\"\",\"type\":\"bar\",\"x\":[\"CLINTON\",\"DICKINSON\",\"EATON\",\"GRATIOT\",\"INGHAM\",\"IONIA\",\"JACKSON\",\"KENT\",\"MONTCALM\"],\"y\":[2.0,0.0,0.0,0.0,2.0,0.0,0.0,0.0,0.0]},{\"marker\":{\"color\":\"rgba(50, 171, 96, 0.6)\",\"line\":{\"color\":\"rgba(50, 171, 96, 1.0)\",\"width\":1}},\"name\":\"Pos2017\",\"orientation\":\"v\",\"text\":\"\",\"type\":\"bar\",\"x\":[\"CLINTON\",\"DICKINSON\",\"EATON\",\"GRATIOT\",\"INGHAM\",\"IONIA\",\"JACKSON\",\"KENT\",\"MONTCALM\"],\"y\":[0.0,0.0,0.0,0.0,0.0,0.0,0.0,10.0,35.0]},{\"marker\":{\"color\":\"rgba(128, 0, 128, 0.6)\",\"line\":{\"color\":\"rgba(128, 0, 128, 1.0)\",\"width\":1}},\"name\":\"Pos2018\",\"orientation\":\"v\",\"text\":\"\",\"type\":\"bar\",\"x\":[\"CLINTON\",\"DICKINSON\",\"EATON\",\"GRATIOT\",\"INGHAM\",\"IONIA\",\"JACKSON\",\"KENT\",\"MONTCALM\"],\"y\":[1.0,1.0,1.0,1.0,0.0,2.0,2.0,9.0,45.0]},{\"marker\":{\"color\":\"rgba(219, 64, 82, 0.6)\",\"line\":{\"color\":\"rgba(219, 64, 82, 1.0)\",\"width\":1}},\"name\":\"Pos2019\",\"orientation\":\"v\",\"text\":\"\",\"type\":\"bar\",\"x\":[\"CLINTON\",\"DICKINSON\",\"EATON\",\"GRATIOT\",\"INGHAM\",\"IONIA\",\"JACKSON\",\"KENT\",\"MONTCALM\"],\"y\":[0.0,0.0,0.0,3.0,0.0,2.0,7.0,17.0,36.0]}],                        {\"legend\":{\"bgcolor\":\"#FFFFFF\",\"font\":{\"color\":\"#4D5663\"}},\"paper_bgcolor\":\"#FFFFFF\",\"plot_bgcolor\":\"#FFFFFF\",\"template\":{\"data\":{\"bar\":[{\"error_x\":{\"color\":\"#2a3f5f\"},\"error_y\":{\"color\":\"#2a3f5f\"},\"marker\":{\"line\":{\"color\":\"#E5ECF6\",\"width\":0.5},\"pattern\":{\"fillmode\":\"overlay\",\"size\":10,\"solidity\":0.2}},\"type\":\"bar\"}],\"barpolar\":[{\"marker\":{\"line\":{\"color\":\"#E5ECF6\",\"width\":0.5},\"pattern\":{\"fillmode\":\"overlay\",\"size\":10,\"solidity\":0.2}},\"type\":\"barpolar\"}],\"carpet\":[{\"aaxis\":{\"endlinecolor\":\"#2a3f5f\",\"gridcolor\":\"white\",\"linecolor\":\"white\",\"minorgridcolor\":\"white\",\"startlinecolor\":\"#2a3f5f\"},\"baxis\":{\"endlinecolor\":\"#2a3f5f\",\"gridcolor\":\"white\",\"linecolor\":\"white\",\"minorgridcolor\":\"white\",\"startlinecolor\":\"#2a3f5f\"},\"type\":\"carpet\"}],\"choropleth\":[{\"colorbar\":{\"outlinewidth\":0,\"ticks\":\"\"},\"type\":\"choropleth\"}],\"contour\":[{\"colorbar\":{\"outlinewidth\":0,\"ticks\":\"\"},\"colorscale\":[[0.0,\"#0d0887\"],[0.1111111111111111,\"#46039f\"],[0.2222222222222222,\"#7201a8\"],[0.3333333333333333,\"#9c179e\"],[0.4444444444444444,\"#bd3786\"],[0.5555555555555556,\"#d8576b\"],[0.6666666666666666,\"#ed7953\"],[0.7777777777777778,\"#fb9f3a\"],[0.8888888888888888,\"#fdca26\"],[1.0,\"#f0f921\"]],\"type\":\"contour\"}],\"contourcarpet\":[{\"colorbar\":{\"outlinewidth\":0,\"ticks\":\"\"},\"type\":\"contourcarpet\"}],\"heatmap\":[{\"colorbar\":{\"outlinewidth\":0,\"ticks\":\"\"},\"colorscale\":[[0.0,\"#0d0887\"],[0.1111111111111111,\"#46039f\"],[0.2222222222222222,\"#7201a8\"],[0.3333333333333333,\"#9c179e\"],[0.4444444444444444,\"#bd3786\"],[0.5555555555555556,\"#d8576b\"],[0.6666666666666666,\"#ed7953\"],[0.7777777777777778,\"#fb9f3a\"],[0.8888888888888888,\"#fdca26\"],[1.0,\"#f0f921\"]],\"type\":\"heatmap\"}],\"heatmapgl\":[{\"colorbar\":{\"outlinewidth\":0,\"ticks\":\"\"},\"colorscale\":[[0.0,\"#0d0887\"],[0.1111111111111111,\"#46039f\"],[0.2222222222222222,\"#7201a8\"],[0.3333333333333333,\"#9c179e\"],[0.4444444444444444,\"#bd3786\"],[0.5555555555555556,\"#d8576b\"],[0.6666666666666666,\"#ed7953\"],[0.7777777777777778,\"#fb9f3a\"],[0.8888888888888888,\"#fdca26\"],[1.0,\"#f0f921\"]],\"type\":\"heatmapgl\"}],\"histogram\":[{\"marker\":{\"pattern\":{\"fillmode\":\"overlay\",\"size\":10,\"solidity\":0.2}},\"type\":\"histogram\"}],\"histogram2d\":[{\"colorbar\":{\"outlinewidth\":0,\"ticks\":\"\"},\"colorscale\":[[0.0,\"#0d0887\"],[0.1111111111111111,\"#46039f\"],[0.2222222222222222,\"#7201a8\"],[0.3333333333333333,\"#9c179e\"],[0.4444444444444444,\"#bd3786\"],[0.5555555555555556,\"#d8576b\"],[0.6666666666666666,\"#ed7953\"],[0.7777777777777778,\"#fb9f3a\"],[0.8888888888888888,\"#fdca26\"],[1.0,\"#f0f921\"]],\"type\":\"histogram2d\"}],\"histogram2dcontour\":[{\"colorbar\":{\"outlinewidth\":0,\"ticks\":\"\"},\"colorscale\":[[0.0,\"#0d0887\"],[0.1111111111111111,\"#46039f\"],[0.2222222222222222,\"#7201a8\"],[0.3333333333333333,\"#9c179e\"],[0.4444444444444444,\"#bd3786\"],[0.5555555555555556,\"#d8576b\"],[0.6666666666666666,\"#ed7953\"],[0.7777777777777778,\"#fb9f3a\"],[0.8888888888888888,\"#fdca26\"],[1.0,\"#f0f921\"]],\"type\":\"histogram2dcontour\"}],\"mesh3d\":[{\"colorbar\":{\"outlinewidth\":0,\"ticks\":\"\"},\"type\":\"mesh3d\"}],\"parcoords\":[{\"line\":{\"colorbar\":{\"outlinewidth\":0,\"ticks\":\"\"}},\"type\":\"parcoords\"}],\"pie\":[{\"automargin\":true,\"type\":\"pie\"}],\"scatter\":[{\"marker\":{\"colorbar\":{\"outlinewidth\":0,\"ticks\":\"\"}},\"type\":\"scatter\"}],\"scatter3d\":[{\"line\":{\"colorbar\":{\"outlinewidth\":0,\"ticks\":\"\"}},\"marker\":{\"colorbar\":{\"outlinewidth\":0,\"ticks\":\"\"}},\"type\":\"scatter3d\"}],\"scattercarpet\":[{\"marker\":{\"colorbar\":{\"outlinewidth\":0,\"ticks\":\"\"}},\"type\":\"scattercarpet\"}],\"scattergeo\":[{\"marker\":{\"colorbar\":{\"outlinewidth\":0,\"ticks\":\"\"}},\"type\":\"scattergeo\"}],\"scattergl\":[{\"marker\":{\"colorbar\":{\"outlinewidth\":0,\"ticks\":\"\"}},\"type\":\"scattergl\"}],\"scattermapbox\":[{\"marker\":{\"colorbar\":{\"outlinewidth\":0,\"ticks\":\"\"}},\"type\":\"scattermapbox\"}],\"scatterpolar\":[{\"marker\":{\"colorbar\":{\"outlinewidth\":0,\"ticks\":\"\"}},\"type\":\"scatterpolar\"}],\"scatterpolargl\":[{\"marker\":{\"colorbar\":{\"outlinewidth\":0,\"ticks\":\"\"}},\"type\":\"scatterpolargl\"}],\"scatterternary\":[{\"marker\":{\"colorbar\":{\"outlinewidth\":0,\"ticks\":\"\"}},\"type\":\"scatterternary\"}],\"surface\":[{\"colorbar\":{\"outlinewidth\":0,\"ticks\":\"\"},\"colorscale\":[[0.0,\"#0d0887\"],[0.1111111111111111,\"#46039f\"],[0.2222222222222222,\"#7201a8\"],[0.3333333333333333,\"#9c179e\"],[0.4444444444444444,\"#bd3786\"],[0.5555555555555556,\"#d8576b\"],[0.6666666666666666,\"#ed7953\"],[0.7777777777777778,\"#fb9f3a\"],[0.8888888888888888,\"#fdca26\"],[1.0,\"#f0f921\"]],\"type\":\"surface\"}],\"table\":[{\"cells\":{\"fill\":{\"color\":\"#EBF0F8\"},\"line\":{\"color\":\"white\"}},\"header\":{\"fill\":{\"color\":\"#C8D4E3\"},\"line\":{\"color\":\"white\"}},\"type\":\"table\"}]},\"layout\":{\"annotationdefaults\":{\"arrowcolor\":\"#2a3f5f\",\"arrowhead\":0,\"arrowwidth\":1},\"autotypenumbers\":\"strict\",\"coloraxis\":{\"colorbar\":{\"outlinewidth\":0,\"ticks\":\"\"}},\"colorscale\":{\"diverging\":[[0,\"#8e0152\"],[0.1,\"#c51b7d\"],[0.2,\"#de77ae\"],[0.3,\"#f1b6da\"],[0.4,\"#fde0ef\"],[0.5,\"#f7f7f7\"],[0.6,\"#e6f5d0\"],[0.7,\"#b8e186\"],[0.8,\"#7fbc41\"],[0.9,\"#4d9221\"],[1,\"#276419\"]],\"sequential\":[[0.0,\"#0d0887\"],[0.1111111111111111,\"#46039f\"],[0.2222222222222222,\"#7201a8\"],[0.3333333333333333,\"#9c179e\"],[0.4444444444444444,\"#bd3786\"],[0.5555555555555556,\"#d8576b\"],[0.6666666666666666,\"#ed7953\"],[0.7777777777777778,\"#fb9f3a\"],[0.8888888888888888,\"#fdca26\"],[1.0,\"#f0f921\"]],\"sequentialminus\":[[0.0,\"#0d0887\"],[0.1111111111111111,\"#46039f\"],[0.2222222222222222,\"#7201a8\"],[0.3333333333333333,\"#9c179e\"],[0.4444444444444444,\"#bd3786\"],[0.5555555555555556,\"#d8576b\"],[0.6666666666666666,\"#ed7953\"],[0.7777777777777778,\"#fb9f3a\"],[0.8888888888888888,\"#fdca26\"],[1.0,\"#f0f921\"]]},\"colorway\":[\"#636efa\",\"#EF553B\",\"#00cc96\",\"#ab63fa\",\"#FFA15A\",\"#19d3f3\",\"#FF6692\",\"#B6E880\",\"#FF97FF\",\"#FECB52\"],\"font\":{\"color\":\"#2a3f5f\"},\"geo\":{\"bgcolor\":\"white\",\"lakecolor\":\"white\",\"landcolor\":\"#E5ECF6\",\"showlakes\":true,\"showland\":true,\"subunitcolor\":\"white\"},\"hoverlabel\":{\"align\":\"left\"},\"hovermode\":\"closest\",\"mapbox\":{\"style\":\"light\"},\"paper_bgcolor\":\"white\",\"plot_bgcolor\":\"#E5ECF6\",\"polar\":{\"angularaxis\":{\"gridcolor\":\"white\",\"linecolor\":\"white\",\"ticks\":\"\"},\"bgcolor\":\"#E5ECF6\",\"radialaxis\":{\"gridcolor\":\"white\",\"linecolor\":\"white\",\"ticks\":\"\"}},\"scene\":{\"xaxis\":{\"backgroundcolor\":\"#E5ECF6\",\"gridcolor\":\"white\",\"gridwidth\":2,\"linecolor\":\"white\",\"showbackground\":true,\"ticks\":\"\",\"zerolinecolor\":\"white\"},\"yaxis\":{\"backgroundcolor\":\"#E5ECF6\",\"gridcolor\":\"white\",\"gridwidth\":2,\"linecolor\":\"white\",\"showbackground\":true,\"ticks\":\"\",\"zerolinecolor\":\"white\"},\"zaxis\":{\"backgroundcolor\":\"#E5ECF6\",\"gridcolor\":\"white\",\"gridwidth\":2,\"linecolor\":\"white\",\"showbackground\":true,\"ticks\":\"\",\"zerolinecolor\":\"white\"}},\"shapedefaults\":{\"line\":{\"color\":\"#2a3f5f\"}},\"ternary\":{\"aaxis\":{\"gridcolor\":\"white\",\"linecolor\":\"white\",\"ticks\":\"\"},\"baxis\":{\"gridcolor\":\"white\",\"linecolor\":\"white\",\"ticks\":\"\"},\"bgcolor\":\"#E5ECF6\",\"caxis\":{\"gridcolor\":\"white\",\"linecolor\":\"white\",\"ticks\":\"\"}},\"title\":{\"x\":0.05},\"xaxis\":{\"automargin\":true,\"gridcolor\":\"white\",\"linecolor\":\"white\",\"ticks\":\"\",\"title\":{\"standoff\":15},\"zerolinecolor\":\"white\",\"zerolinewidth\":2},\"yaxis\":{\"automargin\":true,\"gridcolor\":\"white\",\"linecolor\":\"white\",\"ticks\":\"\",\"title\":{\"standoff\":15},\"zerolinecolor\":\"white\",\"zerolinewidth\":2}}},\"title\":{\"font\":{\"color\":\"#4D5663\"},\"text\":\"CWD positive deer between 2015-2019\"},\"xaxis\":{\"gridcolor\":\"#E1E5ED\",\"showgrid\":true,\"tickfont\":{\"color\":\"#4D5663\"},\"title\":{\"font\":{\"color\":\"#4D5663\"},\"text\":\"\"},\"zerolinecolor\":\"#E1E5ED\"},\"yaxis\":{\"gridcolor\":\"#E1E5ED\",\"showgrid\":true,\"tickfont\":{\"color\":\"#4D5663\"},\"title\":{\"font\":{\"color\":\"#4D5663\"},\"text\":\"\"},\"zerolinecolor\":\"#E1E5ED\"}},                        {\"showLink\": true, \"linkText\": \"Export to plot.ly\", \"plotlyServerURL\": \"https://plot.ly\", \"responsive\": true}                    ).then(function(){\n                            \nvar gd = document.getElementById('ef7d41e4-e00f-411c-b568-5c4f7f12ff5a');\nvar x = new MutationObserver(function (mutations, observer) {{\n        var display = window.getComputedStyle(gd).display;\n        if (!display || display === 'none') {{\n            console.log([gd, 'removed!']);\n            Plotly.purge(gd);\n            observer.disconnect();\n        }}\n}});\n\n// Listen for the removal of the full notebook cells\nvar notebookContainer = gd.closest('#notebook-container');\nif (notebookContainer) {{\n    x.observe(notebookContainer, {childList: true});\n}}\n\n// Listen for the clearing of the current output cell\nvar outputEl = gd.closest('.output');\nif (outputEl) {{\n    x.observe(outputEl, {childList: true});\n}}\n\n                        })                };                });            </script>        </div>"
     },
     "metadata": {},
     "output_type": "display_data"
    }
   ],
   "source": [
    "cwd5.iplot(kind='bar', x='CNTY_NAME', y=['Pos2015', 'Pos2016', 'Pos2017', 'Pos2018', 'Pos2019'], theme='white',\n",
    "           title= 'CWD positive deer between 2015-2019')"
   ],
   "metadata": {
    "collapsed": false,
    "pycharm": {
     "name": "#%%\n"
    }
   }
  },
  {
   "cell_type": "code",
   "execution_count": 141,
   "outputs": [
    {
     "data": {
      "text/plain": "<folium.folium.Map at 0x19bd052f5b0>",
      "text/html": "<div style=\"width:100%;\"><div style=\"position:relative;width:100%;height:0;padding-bottom:60%;\"><span style=\"color:#565656\">Make this Notebook Trusted to load map: File -> Trust Notebook</span><iframe src=\"about:blank\" style=\"position:absolute;width:100%;height:100%;left:0;top:0;border:none !important;\" data-html=%3C%21DOCTYPE%20html%3E%0A%3Chead%3E%20%20%20%20%0A%20%20%20%20%3Cmeta%20http-equiv%3D%22content-type%22%20content%3D%22text/html%3B%20charset%3DUTF-8%22%20/%3E%0A%20%20%20%20%0A%20%20%20%20%20%20%20%20%3Cscript%3E%0A%20%20%20%20%20%20%20%20%20%20%20%20L_NO_TOUCH%20%3D%20false%3B%0A%20%20%20%20%20%20%20%20%20%20%20%20L_DISABLE_3D%20%3D%20false%3B%0A%20%20%20%20%20%20%20%20%3C/script%3E%0A%20%20%20%20%0A%20%20%20%20%3Cstyle%3Ehtml%2C%20body%20%7Bwidth%3A%20100%25%3Bheight%3A%20100%25%3Bmargin%3A%200%3Bpadding%3A%200%3B%7D%3C/style%3E%0A%20%20%20%20%3Cstyle%3E%23map%20%7Bposition%3Aabsolute%3Btop%3A0%3Bbottom%3A0%3Bright%3A0%3Bleft%3A0%3B%7D%3C/style%3E%0A%20%20%20%20%3Cscript%20src%3D%22https%3A//cdn.jsdelivr.net/npm/leaflet%401.6.0/dist/leaflet.js%22%3E%3C/script%3E%0A%20%20%20%20%3Cscript%20src%3D%22https%3A//code.jquery.com/jquery-1.12.4.min.js%22%3E%3C/script%3E%0A%20%20%20%20%3Cscript%20src%3D%22https%3A//maxcdn.bootstrapcdn.com/bootstrap/3.2.0/js/bootstrap.min.js%22%3E%3C/script%3E%0A%20%20%20%20%3Cscript%20src%3D%22https%3A//cdnjs.cloudflare.com/ajax/libs/Leaflet.awesome-markers/2.0.2/leaflet.awesome-markers.js%22%3E%3C/script%3E%0A%20%20%20%20%3Clink%20rel%3D%22stylesheet%22%20href%3D%22https%3A//cdn.jsdelivr.net/npm/leaflet%401.6.0/dist/leaflet.css%22/%3E%0A%20%20%20%20%3Clink%20rel%3D%22stylesheet%22%20href%3D%22https%3A//maxcdn.bootstrapcdn.com/bootstrap/3.2.0/css/bootstrap.min.css%22/%3E%0A%20%20%20%20%3Clink%20rel%3D%22stylesheet%22%20href%3D%22https%3A//maxcdn.bootstrapcdn.com/bootstrap/3.2.0/css/bootstrap-theme.min.css%22/%3E%0A%20%20%20%20%3Clink%20rel%3D%22stylesheet%22%20href%3D%22https%3A//maxcdn.bootstrapcdn.com/font-awesome/4.6.3/css/font-awesome.min.css%22/%3E%0A%20%20%20%20%3Clink%20rel%3D%22stylesheet%22%20href%3D%22https%3A//cdnjs.cloudflare.com/ajax/libs/Leaflet.awesome-markers/2.0.2/leaflet.awesome-markers.css%22/%3E%0A%20%20%20%20%3Clink%20rel%3D%22stylesheet%22%20href%3D%22https%3A//cdn.jsdelivr.net/gh/python-visualization/folium/folium/templates/leaflet.awesome.rotate.min.css%22/%3E%0A%20%20%20%20%0A%20%20%20%20%20%20%20%20%20%20%20%20%3Cmeta%20name%3D%22viewport%22%20content%3D%22width%3Ddevice-width%2C%0A%20%20%20%20%20%20%20%20%20%20%20%20%20%20%20%20initial-scale%3D1.0%2C%20maximum-scale%3D1.0%2C%20user-scalable%3Dno%22%20/%3E%0A%20%20%20%20%20%20%20%20%20%20%20%20%3Cstyle%3E%0A%20%20%20%20%20%20%20%20%20%20%20%20%20%20%20%20%23map_57963e557fb5482c982709103908699c%20%7B%0A%20%20%20%20%20%20%20%20%20%20%20%20%20%20%20%20%20%20%20%20position%3A%20relative%3B%0A%20%20%20%20%20%20%20%20%20%20%20%20%20%20%20%20%20%20%20%20width%3A%20100.0%25%3B%0A%20%20%20%20%20%20%20%20%20%20%20%20%20%20%20%20%20%20%20%20height%3A%20100.0%25%3B%0A%20%20%20%20%20%20%20%20%20%20%20%20%20%20%20%20%20%20%20%20left%3A%200.0%25%3B%0A%20%20%20%20%20%20%20%20%20%20%20%20%20%20%20%20%20%20%20%20top%3A%200.0%25%3B%0A%20%20%20%20%20%20%20%20%20%20%20%20%20%20%20%20%7D%0A%20%20%20%20%20%20%20%20%20%20%20%20%3C/style%3E%0A%20%20%20%20%20%20%20%20%0A%3C/head%3E%0A%3Cbody%3E%20%20%20%20%0A%20%20%20%20%0A%20%20%20%20%20%20%20%20%20%20%20%20%3Cdiv%20class%3D%22folium-map%22%20id%3D%22map_57963e557fb5482c982709103908699c%22%20%3E%3C/div%3E%0A%20%20%20%20%20%20%20%20%0A%3C/body%3E%0A%3Cscript%3E%20%20%20%20%0A%20%20%20%20%0A%20%20%20%20%20%20%20%20%20%20%20%20var%20map_57963e557fb5482c982709103908699c%20%3D%20L.map%28%0A%20%20%20%20%20%20%20%20%20%20%20%20%20%20%20%20%22map_57963e557fb5482c982709103908699c%22%2C%0A%20%20%20%20%20%20%20%20%20%20%20%20%20%20%20%20%7B%0A%20%20%20%20%20%20%20%20%20%20%20%20%20%20%20%20%20%20%20%20center%3A%20%5B42.963795%2C%20-85.670006%5D%2C%0A%20%20%20%20%20%20%20%20%20%20%20%20%20%20%20%20%20%20%20%20crs%3A%20L.CRS.EPSG3857%2C%0A%20%20%20%20%20%20%20%20%20%20%20%20%20%20%20%20%20%20%20%20zoom%3A%208%2C%0A%20%20%20%20%20%20%20%20%20%20%20%20%20%20%20%20%20%20%20%20zoomControl%3A%20true%2C%0A%20%20%20%20%20%20%20%20%20%20%20%20%20%20%20%20%20%20%20%20preferCanvas%3A%20false%2C%0A%20%20%20%20%20%20%20%20%20%20%20%20%20%20%20%20%7D%0A%20%20%20%20%20%20%20%20%20%20%20%20%29%3B%0A%0A%20%20%20%20%20%20%20%20%20%20%20%20%0A%0A%20%20%20%20%20%20%20%20%0A%20%20%20%20%0A%20%20%20%20%20%20%20%20%20%20%20%20var%20tile_layer_a40c7ce1ae014887915231aa76e8f106%20%3D%20L.tileLayer%28%0A%20%20%20%20%20%20%20%20%20%20%20%20%20%20%20%20%22https%3A//%7Bs%7D.tile.openstreetmap.org/%7Bz%7D/%7Bx%7D/%7By%7D.png%22%2C%0A%20%20%20%20%20%20%20%20%20%20%20%20%20%20%20%20%7B%22attribution%22%3A%20%22Data%20by%20%5Cu0026copy%3B%20%5Cu003ca%20href%3D%5C%22http%3A//openstreetmap.org%5C%22%5Cu003eOpenStreetMap%5Cu003c/a%5Cu003e%2C%20under%20%5Cu003ca%20href%3D%5C%22http%3A//www.openstreetmap.org/copyright%5C%22%5Cu003eODbL%5Cu003c/a%5Cu003e.%22%2C%20%22detectRetina%22%3A%20false%2C%20%22maxNativeZoom%22%3A%2018%2C%20%22maxZoom%22%3A%2018%2C%20%22minZoom%22%3A%200%2C%20%22noWrap%22%3A%20false%2C%20%22opacity%22%3A%201%2C%20%22subdomains%22%3A%20%22abc%22%2C%20%22tms%22%3A%20false%7D%0A%20%20%20%20%20%20%20%20%20%20%20%20%29.addTo%28map_57963e557fb5482c982709103908699c%29%3B%0A%20%20%20%20%20%20%20%20%0A%20%20%20%20%0A%0A%20%20%20%20%20%20%20%20function%20geo_json_8a57f29d658547f69190f02844048aa3_onEachFeature%28feature%2C%20layer%29%20%7B%0A%20%20%20%20%20%20%20%20%20%20%20%20layer.on%28%7B%0A%20%20%20%20%20%20%20%20%20%20%20%20%7D%29%3B%0A%20%20%20%20%20%20%20%20%7D%3B%0A%20%20%20%20%20%20%20%20var%20geo_json_8a57f29d658547f69190f02844048aa3%20%3D%20L.geoJson%28null%2C%20%7B%0A%20%20%20%20%20%20%20%20%20%20%20%20%20%20%20%20onEachFeature%3A%20geo_json_8a57f29d658547f69190f02844048aa3_onEachFeature%2C%0A%20%20%20%20%20%20%20%20%20%20%20%20%0A%20%20%20%20%20%20%20%20%7D%29%3B%0A%0A%20%20%20%20%20%20%20%20function%20geo_json_8a57f29d658547f69190f02844048aa3_add%20%28data%29%20%7B%0A%20%20%20%20%20%20%20%20%20%20%20%20geo_json_8a57f29d658547f69190f02844048aa3%0A%20%20%20%20%20%20%20%20%20%20%20%20%20%20%20%20.addData%28data%29%0A%20%20%20%20%20%20%20%20%20%20%20%20%20%20%20%20.addTo%28map_57963e557fb5482c982709103908699c%29%3B%0A%20%20%20%20%20%20%20%20%7D%0A%20%20%20%20%20%20%20%20%20%20%20%20geo_json_8a57f29d658547f69190f02844048aa3_add%28%7B%22crs%22%3A%20%7B%22properties%22%3A%20%7B%22name%22%3A%20%22urn%3Aogc%3Adef%3Acrs%3AOGC%3A1.3%3ACRS84%22%7D%2C%20%22type%22%3A%20%22name%22%7D%2C%20%22features%22%3A%20%5B%7B%22geometry%22%3A%20%7B%22coordinates%22%3A%20%5B%5B%5B%5B-85.20452792799995%2C%2043.46733054300006%5D%2C%20%5B-85.20448468099994%2C%2043.463557439000056%5D%2C%20%5B-85.20444318899996%2C%2043.45993619500007%5D%2C%20%5B-85.20439851399999%2C%2043.45631497100004%5D%2C%20%5B-85.20432765499999%2C%2043.45269389200007%5D%2C%20%5B-85.20429455199996%2C%2043.44906767500004%5D%2C%20%5B-85.20426144099997%2C%2043.445441447000064%5D%2C%20%5B-85.20422833499998%2C%2043.44181522700006%5D%2C%20%5B-85.20419524699997%2C%2043.43818898600006%5D%2C%20%5B-85.20415651299999%2C%2043.434573740000076%5D%2C%20%5B-85.20411780899997%2C%2043.43095848300004%5D%2C%20%5B-85.20407908499999%2C%2043.42734322300004%5D%2C%20%5B-85.20404037999998%2C%2043.423727953000025%5D%2C%20%5B-85.20398290899999%2C%2043.420130518000065%5D%2C%20%5B-85.20392544599997%2C%2043.416533091000076%5D%2C%20%5B-85.20386797699996%2C%2043.41293566100006%5D%2C%20%5B-85.20381052899995%2C%2043.40933822100004%5D%2C%20%5B-85.20373602199999%2C%2043.40570728600005%5D%2C%20%5B-85.20366168899994%2C%2043.40207636800005%5D%2C%20%5B-85.20363243299994%2C%2043.398446499000045%5D%2C%20%5B-85.20360319499997%2C%2043.39481660900003%5D%2C%20%5B-85.20363777299997%2C%2043.391206812000064%5D%2C%20%5B-85.20367233399998%2C%2043.38759701400005%5D%2C%20%5B-85.20370691899996%2C%2043.38398720500004%5D%2C%20%5B-85.20374147399997%2C%2043.38037738400004%5D%2C%20%5B-85.20866413799996%2C%2043.38040154600003%5D%2C%20%5B-85.21358680399999%2C%2043.38042550600005%5D%2C%20%5B-85.21850947399997%2C%2043.38044925400004%5D%2C%20%5B-85.22343213299996%2C%2043.380472789000066%5D%2C%20%5B-85.22836417699995%2C%2043.38047552200004%5D%2C%20%5B-85.23329619599997%2C%2043.38047804100006%5D%2C%20%5B-85.23822823899997%2C%2043.38048035800006%5D%2C%20%5B-85.24316028099997%2C%2043.380482451000034%5D%2C%20%5B-85.24818512599995%2C%2043.380496281000035%5D%2C%20%5B-85.25320996799996%2C%2043.38049214000006%5D%2C%20%5B-85.25823484999995%2C%2043.380477376000044%5D%2C%20%5B-85.26325974099996%2C%2043.380462410000064%5D%2C%20%5B-85.26820773499998%2C%2043.380465067000046%5D%2C%20%5B-85.27315574099998%2C%2043.380467519000035%5D%2C%20%5B-85.27810373299997%2C%2043.38046974800005%5D%2C%20%5B-85.28305172499995%2C%2043.38047177100003%5D%2C%20%5B-85.28804807399996%2C%2043.380532118000076%5D%2C%20%5B-85.29304443199999%2C%2043.380592257000046%5D%2C%20%5B-85.29804078599994%2C%2043.38065216700005%5D%2C%20%5B-85.30303714799999%2C%2043.38071186700006%5D%2C%20%5B-85.30800220299994%2C%2043.38072504100006%5D%2C%20%5B-85.31296724499998%2C%2043.38073799800003%5D%2C%20%5B-85.31793230099998%2C%2043.38075074000005%5D%2C%20%5B-85.32288302199998%2C%2043.38076324300005%5D%2C%20%5B-85.32290459599994%2C%2043.38438674300005%5D%2C%20%5B-85.32292616099994%2C%2043.388010232000056%5D%2C%20%5B-85.32294771799997%2C%2043.391633709000075%5D%2C%20%5B-85.32296930399997%2C%2043.39525719400007%5D%2C%20%5B-85.32297368099995%2C%2043.39886987600005%5D%2C%20%5B-85.32297807199996%2C%2043.40248256600006%5D%2C%20%5B-85.32298245199996%2C%2043.40609524400003%5D%2C%20%5B-85.32298685999996%2C%2043.409707912000044%5D%2C%20%5B-85.32301567499997%2C%2043.413318910000044%5D%2C%20%5B-85.32304450799995%2C%2043.416929905000075%5D%2C%20%5B-85.32307334499995%2C%2043.42054089900006%5D%2C%20%5B-85.32310218799995%2C%2043.42415187300003%5D%2C%20%5B-85.32310471299996%2C%2043.42776455600006%5D%2C%20%5B-85.32310722699998%2C%2043.43137721900007%5D%2C%20%5B-85.32310972999994%2C%2043.434989890000054%5D%2C%20%5B-85.32311224799997%2C%2043.43860254900005%5D%2C%20%5B-85.32316972499996%2C%2043.44222965700004%5D%2C%20%5B-85.32322721099996%2C%2043.44585676400004%5D%2C%20%5B-85.32328470399995%2C%2043.449483859000054%5D%2C%20%5B-85.32334219399996%2C%2043.45311096100005%5D%2C%20%5B-85.32337561899999%2C%2043.45673225400003%5D%2C%20%5B-85.32340904999995%2C%2043.46035355400005%5D%2C%20%5B-85.32344248699997%2C%2043.463974852000035%5D%2C%20%5B-85.32347811399995%2C%2043.467833281000026%5D%2C%20%5B-85.31844764299996%2C%2043.46780822100004%5D%2C%20%5B-85.31347560799998%2C%2043.46778323500007%5D%2C%20%5B-85.30850358999999%2C%2043.46775804200007%5D%2C%20%5B-85.30353156299998%2C%2043.46773247600004%5D%2C%20%5B-85.29858646299994%2C%2043.467703819000064%5D%2C%20%5B-85.2936413799999%2C%2043.46767494800008%5D%2C%20%5B-85.28869629899998%2C%2043.46764587300004%5D%2C%20%5B-85.28387181299996%2C%2043.467617301000075%5D%2C%20%5B-85.27881109199996%2C%2043.46760846600006%5D%2C%20%5B-85.27387100599998%2C%2043.46759962800007%5D%2C%20%5B-85.26893090799996%2C%2043.46759057700007%5D%2C%20%5B-85.26399079799995%2C%2043.46758131200005%5D%2C%20%5B-85.25902760699995%2C%2043.46755476800007%5D%2C%20%5B-85.25406441899997%2C%2043.467528%5D%2C%20%5B-85.24910122199998%2C%2043.46750100700007%5D%2C%20%5B-85.24413805499995%2C%2043.467473762000054%5D%2C%20%5B-85.23918207099996%2C%2043.467457986000056%5D%2C%20%5B-85.23422611399997%2C%2043.46744197700008%5D%2C%20%5B-85.22927013299994%2C%2043.46742577100008%5D%2C%20%5B-85.22431416699999%2C%2043.467409341000064%5D%2C%20%5B-85.21936760699998%2C%2043.46738995800007%5D%2C%20%5B-85.21442104899995%2C%2043.467370361000064%5D%2C%20%5B-85.20947449399995%2C%2043.46735055900007%5D%2C%20%5B-85.20452792799995%2C%2043.46733054300006%5D%5D%5D%5D%2C%20%22type%22%3A%20%22MultiPolygon%22%7D%2C%20%22properties%22%3A%20%7B%22CNTY_NAME%22%3A%20%22MONTCALM%22%2C%20%22CNTY_NUM%22%3A%20%2259%22%2C%20%22FID%22%3A%20428%2C%20%22Pos2015%22%3A%20null%2C%20%22Pos2016%22%3A%20null%2C%20%22Pos2017%22%3A%202%2C%20%22Pos2018%22%3A%201%2C%20%22Pos2019%22%3A%20null%2C%20%22PosTotal%22%3A%203%2C%20%22RANGE%22%3A%20%2208W%22%2C%20%22SHAPE_Area%22%3A%200.010365498388048813%2C%20%22SHAPE_Length%22%3A%200.41212824525119274%2C%20%22TIER%22%3A%20%2212N%22%2C%20%22TR%22%3A%20%22T12N%2CR08W%22%2C%20%22Test2016%22%3A%20null%2C%20%22Test2017%22%3A%20570%2C%20%22Test2018%22%3A%20258%2C%20%22Test2019%22%3A%20125%2C%20%22TestTotal%22%3A%20953%2C%20%22Tests2015%22%3A%20null%7D%2C%20%22type%22%3A%20%22Feature%22%7D%2C%20%7B%22geometry%22%3A%20%7B%22coordinates%22%3A%20%5B%5B%5B%5B-85.36297496899994%2C%2043.46814614500005%5D%2C%20%5B-85.35787982499994%2C%2043.46810065600005%5D%2C%20%5B-85.35293628699998%2C%2043.46805636400006%5D%2C%20%5B-85.34799279299995%2C%2043.46801185000004%5D%2C%20%5B-85.34304932699996%2C%2043.46796738000006%5D%2C%20%5B-85.33815639199997%2C%2043.46793416200006%5D%2C%20%5B-85.33326353499996%2C%2043.467900744000076%5D%2C%20%5B-85.32837078499995%2C%2043.467867117000026%5D%2C%20%5B-85.32347811399995%2C%2043.467833281000026%5D%2C%20%5B-85.32344248699997%2C%2043.463974852000035%5D%2C%20%5B-85.32340904999995%2C%2043.46035355400005%5D%2C%20%5B-85.32337561899999%2C%2043.45673225400003%5D%2C%20%5B-85.32334219399996%2C%2043.45311096100005%5D%2C%20%5B-85.32328470399995%2C%2043.449483859000054%5D%2C%20%5B-85.32322721099996%2C%2043.44585676400004%5D%2C%20%5B-85.32316972499996%2C%2043.44222965700004%5D%2C%20%5B-85.32311224799997%2C%2043.43860254900005%5D%2C%20%5B-85.32310972999994%2C%2043.434989890000054%5D%2C%20%5B-85.32310722699998%2C%2043.43137721900007%5D%2C%20%5B-85.32310471299996%2C%2043.42776455600006%5D%2C%20%5B-85.32310218799995%2C%2043.42415187300003%5D%2C%20%5B-85.32307334499995%2C%2043.42054089900006%5D%2C%20%5B-85.32304450799995%2C%2043.416929905000075%5D%2C%20%5B-85.32301567499997%2C%2043.413318910000044%5D%2C%20%5B-85.32298685999996%2C%2043.409707912000044%5D%2C%20%5B-85.32298245199996%2C%2043.40609524400003%5D%2C%20%5B-85.32297807199996%2C%2043.40248256600006%5D%2C%20%5B-85.32297368099995%2C%2043.39886987600005%5D%2C%20%5B-85.32296930399997%2C%2043.39525719400007%5D%2C%20%5B-85.32294771799997%2C%2043.391633709000075%5D%2C%20%5B-85.32292616099994%2C%2043.388010232000056%5D%2C%20%5B-85.32290459599994%2C%2043.38438674300005%5D%2C%20%5B-85.32288302199998%2C%2043.38076324300005%5D%2C%20%5B-85.32788975699998%2C%2043.38077911600004%5D%2C%20%5B-85.33289647999999%2C%2043.38079478700007%5D%2C%20%5B-85.33790321599997%2C%2043.38081023900003%5D%2C%20%5B-85.34290995399994%2C%2043.38082547100004%5D%2C%20%5B-85.34790445299996%2C%2043.380881868000074%5D%2C%20%5B-85.35289897299998%2C%2043.38093805600005%5D%2C%20%5B-85.35789351299996%2C%2043.38099404400003%5D%2C%20%5B-85.36288804799995%2C%2043.381049794000035%5D%2C%20%5B-85.36782221599998%2C%2043.381044872000075%5D%2C%20%5B-85.37275626799999%2C%2043.38104932600004%5D%2C%20%5B-85.37768999499997%2C%2043.38107817500003%5D%2C%20%5B-85.38262363599995%2C%2043.38111061800004%5D%2C%20%5B-85.38760347499993%2C%2043.381131623000044%5D%2C%20%5B-85.39258330399997%2C%2043.38115241000003%5D%2C%20%5B-85.39756313399994%2C%2043.38117298000003%5D%2C%20%5B-85.40254296599994%2C%2043.381193333000056%5D%2C%20%5B-85.40754939099998%2C%2043.38120909200006%5D%2C%20%5B-85.40766215099995%2C%2043.38120944600007%5D%2C%20%5B-85.41255582899998%2C%2043.381224641000074%5D%2C%20%5B-85.41278030099994%2C%2043.38122533400008%5D%2C%20%5B-85.41756226899997%2C%2043.38123996200005%5D%2C%20%5B-85.41789743899994%2C%2043.38124098600008%5D%2C%20%5B-85.42265770299997%2C%2043.38125534200003%5D%2C%20%5B-85.42305849899998%2C%2043.38124067700005%5D%2C%20%5B-85.42753387999994%2C%2043.381260241000064%5D%2C%20%5B-85.42801302899994%2C%2043.381262322000055%5D%2C%20%5B-85.43249891599999%2C%2043.381281727000044%5D%2C%20%5B-85.43297817899997%2C%2043.38128378700003%5D%2C%20%5B-85.43746395399995%2C%2043.38130300600005%5D%2C%20%5B-85.43794330499998%2C%2043.38130505500004%5D%2C%20%5B-85.44268986899993%2C%2043.38132517100007%5D%2C%20%5B-85.44269789499998%2C%2043.38493969600006%5D%2C%20%5B-85.44270591199995%2C%2043.38855421000005%5D%2C%20%5B-85.44271393199995%2C%2043.39216871200006%5D%2C%20%5B-85.44272194099995%2C%2043.39578321300007%5D%2C%20%5B-85.44275839899996%2C%2043.39942645800005%5D%2C%20%5B-85.44279485099997%2C%2043.40306968200008%5D%2C%20%5B-85.44283130899998%2C%2043.406712896000045%5D%2C%20%5B-85.44286779899994%2C%2043.41035610800003%5D%2C%20%5B-85.44286584299994%2C%2043.41389782700003%5D%2C%20%5B-85.44286388899997%2C%2043.41743953500003%5D%2C%20%5B-85.44286193699998%2C%2043.42098123200003%5D%2C%20%5B-85.44285852999997%2C%2043.424520348000044%5D%2C%20%5B-85.44284609899995%2C%2043.428232293000065%5D%2C%20%5B-85.44283239099997%2C%2043.43194163800007%5D%2C%20%5B-85.44281860599995%2C%2043.43565098200003%5D%2C%20%5B-85.44280480899994%2C%2043.439360314000055%5D%2C%20%5B-85.44280347599994%2C%2043.44298028700007%5D%2C%20%5B-85.44280214399998%2C%2043.446600266000075%5D%2C%20%5B-85.44280081299996%2C%2043.450220244000036%5D%2C%20%5B-85.44279947199999%2C%2043.453840211000056%5D%2C%20%5B-85.44275623599998%2C%2043.45746145000004%5D%2C%20%5B-85.44271298399997%2C%2043.46108269700005%5D%2C%20%5B-85.44266972899999%2C%2043.46470391400004%5D%2C%20%5B-85.44262770199998%2C%2043.468221838000034%5D%2C%20%5B-85.43696466899996%2C%2043.46822593100006%5D%2C%20%5B-85.43199249399999%2C%2043.46822928900008%5D%2C%20%5B-85.42702032999995%2C%2043.46823244900003%5D%2C%20%5B-85.42204816499998%2C%2043.46823524500007%5D%2C%20%5B-85.41719562399999%2C%2043.46823624800004%5D%2C%20%5B-85.41234305599994%2C%2043.46823704500008%5D%2C%20%5B-85.40749048499998%2C%2043.46823763500004%5D%2C%20%5B-85.40249107499994%2C%2043.46823778300006%5D%2C%20%5B-85.39777185299994%2C%2043.468229973000064%5D%2C%20%5B-85.39290579199997%2C%2043.46822172800006%5D%2C%20%5B-85.38803974399997%2C%2043.46821327600003%5D%2C%20%5B-85.38317369599997%2C%2043.468204626000045%5D%2C%20%5B-85.37808611999998%2C%2043.46819024200005%5D%2C%20%5B-85.37299854399998%2C%2043.46817561200004%5D%2C%20%5B-85.36791098299994%2C%2043.46816076600004%5D%2C%20%5B-85.36297496899994%2C%2043.46814614500005%5D%5D%5D%5D%2C%20%22type%22%3A%20%22MultiPolygon%22%7D%2C%20%22properties%22%3A%20%7B%22CNTY_NAME%22%3A%20%22MONTCALM%22%2C%20%22CNTY_NUM%22%3A%20%2259%22%2C%20%22FID%22%3A%20430%2C%20%22Pos2015%22%3A%20null%2C%20%22Pos2016%22%3A%20null%2C%20%22Pos2017%22%3A%202%2C%20%22Pos2018%22%3A%201%2C%20%22Pos2019%22%3A%20null%2C%20%22PosTotal%22%3A%203%2C%20%22RANGE%22%3A%20%2209W%22%2C%20%22SHAPE_Area%22%3A%200.010418343430374987%2C%20%22SHAPE_Length%22%3A%200.41293186189178166%2C%20%22TIER%22%3A%20%2212N%22%2C%20%22TR%22%3A%20%22T12N%2CR09W%22%2C%20%22Test2016%22%3A%20null%2C%20%22Test2017%22%3A%20355%2C%20%22Test2018%22%3A%20182%2C%20%22Test2019%22%3A%2078%2C%20%22TestTotal%22%3A%20615%2C%20%22Tests2015%22%3A%20null%7D%2C%20%22type%22%3A%20%22Feature%22%7D%2C%20%7B%22geometry%22%3A%20%7B%22coordinates%22%3A%20%5B%5B%5B%5B-85.44262770199998%2C%2043.468221838000034%5D%2C%20%5B-85.44266972899999%2C%2043.46470391400004%5D%2C%20%5B-85.44271298399997%2C%2043.46108269700005%5D%2C%20%5B-85.44275623599998%2C%2043.45746145000004%5D%2C%20%5B-85.44279947199999%2C%2043.453840211000056%5D%2C%20%5B-85.44280081299996%2C%2043.450220244000036%5D%2C%20%5B-85.44280214399998%2C%2043.446600266000075%5D%2C%20%5B-85.44280347599994%2C%2043.44298028700007%5D%2C%20%5B-85.44280480899994%2C%2043.439360314000055%5D%2C%20%5B-85.44281860599995%2C%2043.43565098200003%5D%2C%20%5B-85.44283239099997%2C%2043.43194163800007%5D%2C%20%5B-85.44284609899995%2C%2043.428232293000065%5D%2C%20%5B-85.44285852999997%2C%2043.424520348000044%5D%2C%20%5B-85.44286193699998%2C%2043.42098123200003%5D%2C%20%5B-85.44286388899997%2C%2043.41743953500003%5D%2C%20%5B-85.44286584299994%2C%2043.41389782700003%5D%2C%20%5B-85.44286779899994%2C%2043.41035610800003%5D%2C%20%5B-85.44283130899998%2C%2043.406712896000045%5D%2C%20%5B-85.44279485099997%2C%2043.40306968200008%5D%2C%20%5B-85.44275839899996%2C%2043.39942645800005%5D%2C%20%5B-85.44272194099995%2C%2043.39578321300007%5D%2C%20%5B-85.44271393199995%2C%2043.39216871200006%5D%2C%20%5B-85.44270591199995%2C%2043.38855421000005%5D%2C%20%5B-85.44269789499998%2C%2043.38493969600006%5D%2C%20%5B-85.44268986899993%2C%2043.38132517100007%5D%2C%20%5B-85.4476427%2C%2043.381313480000074%5D%2C%20%5B-85.45259547699999%2C%2043.38130156400007%5D%2C%20%5B-85.45754823799996%2C%2043.381289442000025%5D%2C%20%5B-85.46250306799999%2C%2043.381277115000046%5D%2C%20%5B-85.46747736199995%2C%2043.38125897800006%5D%2C%20%5B-85.47245368599994%2C%2043.38124061500008%5D%2C%20%5B-85.47742999299999%2C%2043.381222035000064%5D%2C%20%5B-85.48240628199994%2C%2043.38120323800007%5D%2C%20%5B-85.48740634299998%2C%2043.381172863000074%5D%2C%20%5B-85.49240632099998%2C%2043.381142269000065%5D%2C%20%5B-85.49740625399994%2C%2043.38111146500006%5D%2C%20%5B-85.50002417499996%2C%2043.381095249000055%5D%2C%20%5B-85.50240629999996%2C%2043.38113024300003%5D%2C%20%5B-85.50730474499994%2C%2043.38112214200004%5D%2C%20%5B-85.50737824299995%2C%2043.38112201900003%5D%2C%20%5B-85.51220319899994%2C%2043.38111383100005%5D%2C%20%5B-85.51235018299997%2C%2043.381113569000036%5D%2C%20%5B-85.51710164899998%2C%2043.38110530000006%5D%2C%20%5B-85.51732210599994%2C%2043.38110492100003%5D%2C%20%5B-85.52200008299997%2C%2043.38109657700005%5D%2C%20%5B-85.52229407099998%2C%2043.38110294400008%5D%2C%20%5B-85.52692465899997%2C%2043.38113890300008%5D%2C%20%5B-85.52726960899997%2C%2043.38114157500007%5D%2C%20%5B-85.53184928499996%2C%2043.381176940000046%5D%2C%20%5B-85.53224515199997%2C%2043.38117998000007%5D%2C%20%5B-85.53677392799995%2C%2043.38121475500003%5D%2C%20%5B-85.53722071199996%2C%2043.38121818600007%5D%2C%20%5B-85.54169856199997%2C%2043.38125236700006%5D%2C%20%5B-85.54219605099996%2C%2043.38127025400007%5D%2C%20%5B-85.54666373599997%2C%2043.381256251000025%5D%2C%20%5B-85.54716112399996%2C%2043.38125467900005%5D%2C%20%5B-85.55162879099998%2C%2043.38124048200007%5D%2C%20%5B-85.55212617899997%2C%2043.38123888800004%5D%2C%20%5B-85.55659385499996%2C%2043.38122449600007%5D%2C%20%5B-85.55709124199996%2C%2043.38122289000006%5D%2C%20%5B-85.56267202499998%2C%2043.38120464200006%5D%2C%20%5B-85.56264781999994%2C%2043.384842768000055%5D%2C%20%5B-85.56262361399996%2C%2043.388480884000046%5D%2C%20%5B-85.56259940799998%2C%2043.39211899800006%5D%2C%20%5B-85.56257520099996%2C%2043.395757110000034%5D%2C%20%5B-85.56259819899998%2C%2043.39937471800005%5D%2C%20%5B-85.56262118999996%2C%2043.40299231500006%5D%2C%20%5B-85.56264419899998%2C%2043.40660992000005%5D%2C%20%5B-85.56266721199995%2C%2043.41022750500008%5D%2C%20%5B-85.56264505299998%2C%2043.413822982000056%5D%2C%20%5B-85.56262290599994%2C%2043.417418448000035%5D%2C%20%5B-85.56260074599999%2C%2043.42101390400006%5D%2C%20%5B-85.56257858499998%2C%2043.424609358000055%5D%2C%20%5B-85.56258091199999%2C%2043.42821038400007%5D%2C%20%5B-85.56258324299995%2C%2043.43181139100005%5D%2C%20%5B-85.56258557499996%2C%2043.43541240500008%5D%2C%20%5B-85.56258791%2C%2043.43901340800005%5D%2C%20%5B-85.56257122699998%2C%2043.442650109000056%5D%2C%20%5B-85.56255454399997%2C%2043.44628680000005%5D%2C%20%5B-85.56253786099995%2C%2043.449923488000024%5D%2C%20%5B-85.56252117899999%2C%2043.453560018000076%5D%2C%20%5B-85.56249707899997%2C%2043.45718150600004%5D%2C%20%5B-85.56247296699996%2C%2043.460802827000066%5D%2C%20%5B-85.56244884099993%2C%2043.464424146000056%5D%2C%20%5B-85.56242406799998%2C%2043.468145280000044%5D%2C%20%5B-85.55666173399999%2C%2043.46808812900008%5D%2C%20%5B-85.55169007399996%2C%2043.46803858200008%5D%2C%20%5B-85.54671841899994%2C%2043.467988836000075%5D%2C%20%5B-85.54174675099995%2C%2043.467939787000034%5D%2C%20%5B-85.53686042099997%2C%2043.46790568700004%5D%2C%20%5B-85.53197409399996%2C%2043.46787139600008%5D%2C%20%5B-85.52708778299996%2C%2043.46783688600004%5D%2C%20%5B-85.52220150099998%2C%2043.46780216800005%5D%2C%20%5B-85.51721676499994%2C%2043.46783694900006%5D%2C%20%5B-85.51223203399996%2C%2043.467871512000045%5D%2C%20%5B-85.50724729599995%2C%2043.46790585700006%5D%2C%20%5B-85.50226251299995%2C%2043.467939810000075%5D%2C%20%5B-85.49721394899996%2C%2043.46796407000005%5D%2C%20%5B-85.49216537899997%2C%2043.467988098000035%5D%2C%20%5B-85.48711681599997%2C%2043.46801190300005%5D%2C%20%5B-85.48206764799994%2C%2043.468035943000075%5D%2C%20%5B-85.47719344899997%2C%2043.46806758300005%5D%2C%20%5B-85.47231864899999%2C%2043.46809902200005%5D%2C%20%5B-85.46744385399995%2C%2043.46813025300003%5D%2C%20%5B-85.46256903999995%2C%2043.468161285000065%5D%2C%20%5B-85.45758370299995%2C%2043.468176750000055%5D%2C%20%5B-85.45259837399999%2C%2043.46819198800006%5D%2C%20%5B-85.44761303999996%2C%2043.46820702600007%5D%2C%20%5B-85.44262770199998%2C%2043.468221838000034%5D%5D%5D%5D%2C%20%22type%22%3A%20%22MultiPolygon%22%7D%2C%20%22properties%22%3A%20%7B%22CNTY_NAME%22%3A%20%22MONTCALM%22%2C%20%22CNTY_NUM%22%3A%20%2259%22%2C%20%22FID%22%3A%20431%2C%20%22Pos2015%22%3A%20null%2C%20%22Pos2016%22%3A%20null%2C%20%22Pos2017%22%3A%202%2C%20%22Pos2018%22%3A%20null%2C%20%22Pos2019%22%3A%20null%2C%20%22PosTotal%22%3A%202%2C%20%22RANGE%22%3A%20%2210W%22%2C%20%22SHAPE_Area%22%3A%200.010399064568500902%2C%20%22SHAPE_Length%22%3A%200.41362367459260807%2C%20%22TIER%22%3A%20%2212N%22%2C%20%22TR%22%3A%20%22T12N%2CR10W%22%2C%20%22Test2016%22%3A%20null%2C%20%22Test2017%22%3A%20172%2C%20%22Test2018%22%3A%2067%2C%20%22Test2019%22%3A%2029%2C%20%22TestTotal%22%3A%20268%2C%20%22Tests2015%22%3A%20null%7D%2C%20%22type%22%3A%20%22Feature%22%7D%2C%20%7B%22geometry%22%3A%20%7B%22coordinates%22%3A%20%5B%5B%5B%5B-84.84994904699994%2C%2043.37910619400003%5D%2C%20%5B-84.84497864399998%2C%2043.37911820000005%5D%2C%20%5B-84.84501548799994%2C%2043.37545035100004%5D%2C%20%5B-84.84505187299999%2C%2043.37182898200007%5D%2C%20%5B-84.84508825299997%2C%2043.36820760000006%5D%2C%20%5B-84.84512190899994%2C%2043.36485555000007%5D%2C%20%5B-84.84515102699999%2C%2043.36094333400007%5D%2C%20%5B-84.84517755999997%2C%2043.35730046000003%5D%2C%20%5B-84.84520407699995%2C%2043.35365758300003%5D%2C%20%5B-84.84523055299996%2C%2043.35001467600006%5D%2C%20%5B-84.84522137299996%2C%2043.34643642100008%5D%2C%20%5B-84.84521216799999%2C%2043.342858155000044%5D%2C%20%5B-84.84520297599994%2C%2043.33927988600004%5D%2C%20%5B-84.84519409199999%2C%2043.33582259700006%5D%2C%20%5B-84.8452127%2C%2043.33205871100006%5D%2C%20%5B-84.84523162499994%2C%2043.32841579600006%5D%2C%20%5B-84.84525055899996%2C%2043.32477288700005%5D%2C%20%5B-84.84526965599997%2C%2043.321129969000026%5D%2C%20%5B-84.84531124899996%2C%2043.317522782000026%5D%2C%20%5B-84.84535283799994%2C%2043.31391558400003%5D%2C%20%5B-84.84539443399996%2C%2043.31030838400005%5D%2C%20%5B-84.84543415099995%2C%2043.30686133300003%5D%2C%20%5B-84.84547068699999%2C%2043.30321546500005%5D%2C%20%5B-84.84550700399996%2C%2043.29956958400004%5D%2C%20%5B-84.84554332899995%2C%2043.29592371000007%5D%2C%20%5B-84.84557963799995%2C%2043.29227782400005%5D%2C%20%5B-84.85014152399998%2C%2043.29228804500008%5D%2C%20%5B-84.85054979199998%2C%2043.292288952000035%5D%2C%20%5B-84.8550985%2C%2043.29229895100008%5D%2C%20%5B-84.85551996899994%2C%2043.292300666000074%5D%2C%20%5B-84.86007245399998%2C%2043.292319073000044%5D%2C%20%5B-84.86049007399998%2C%2043.29232074000004%5D%2C%20%5B-84.86504641199997%2C%2043.29233897000006%5D%2C%20%5B-84.86546016899996%2C%2043.292340626000055%5D%2C%20%5B-84.87002045799994%2C%2043.292350130000045%5D%2C%20%5B-84.87033258299994%2C%2043.29235077300007%5D%2C%20%5B-84.87464425999997%2C%2043.292359582000074%5D%2C%20%5B-84.87501945799994%2C%2043.29231436800006%5D%2C%20%5B-84.87520443599999%2C%2043.29231541100006%5D%2C%20%5B-84.87997226899995%2C%2043.29234203500005%5D%2C%20%5B-84.88007756899998%2C%2043.29234263400008%5D%2C%20%5B-84.88494977399995%2C%2043.29236964100005%5D%2C%20%5B-84.88992732999998%2C%2043.292388353000035%5D%2C%20%5B-84.89001190699997%2C%2043.29238867300006%5D%2C%20%5B-84.89490490299994%2C%2043.29240680200007%5D%2C%20%5B-84.89507399899998%2C%2043.29240717600004%5D%2C%20%5B-84.89982565899999%2C%2043.29241734900006%5D%2C%20%5B-84.90013600299994%2C%2043.29241800400007%5D%2C%20%5B-84.90474641699996%2C%2043.292427675000056%5D%2C%20%5B-84.90519805899999%2C%2043.29242860800008%5D%2C%20%5B-84.90966739799995%2C%2043.29241384300008%5D%2C%20%5B-84.91017343499999%2C%2043.29241215900004%5D%2C%20%5B-84.91458810499995%2C%2043.29239738100006%5D%2C%20%5B-84.91514916899996%2C%2043.292401297000026%5D%2C%20%5B-84.91960484399993%2C%2043.29243231400005%5D%2C%20%5B-84.92012501199997%2C%2043.29243592200004%5D%2C%20%5B-84.92462197899994%2C%2043.29246703000007%5D%2C%20%5B-84.92510023999995%2C%2043.29247033400003%5D%2C%20%5B-84.92963909799994%2C%2043.29248514000005%5D%2C%20%5B-84.93005275799999%2C%2043.292486488000065%5D%2C%20%5B-84.93465622499997%2C%2043.29250131400005%5D%2C%20%5B-84.93500528999994%2C%2043.292502427000045%5D%2C%20%5B-84.93961394699994%2C%2043.29251708400005%5D%2C%20%5B-84.93995781199999%2C%2043.29251816000004%5D%2C%20%5B-84.94457149599998%2C%2043.29253262900005%5D%2C%20%5B-84.94491033599996%2C%2043.29253367900003%5D%2C%20%5B-84.94952933099995%2C%2043.292551142000036%5D%2C%20%5B-84.94986825599995%2C%2043.29255241900006%5D%2C%20%5B-84.95467239999994%2C%2043.292570357000045%5D%2C%20%5B-84.95482617499994%2C%2043.29257043600006%5D%2C%20%5B-84.95966260999995%2C%2043.29257246600008%5D%2C%20%5B-84.95978407899997%2C%2043.292572524000036%5D%2C%20%5B-84.96465304599997%2C%2043.29257437800004%5D%2C%20%5B-84.96510070899996%2C%2043.292574530000024%5D%2C%20%5B-84.96506035199997%2C%2043.29616531000005%5D%2C%20%5B-84.96501997799999%2C%2043.29975607800003%5D%2C%20%5B-84.96497959999994%2C%2043.30334685300005%5D%2C%20%5B-84.96493921699994%2C%2043.30693761600003%5D%2C%20%5B-84.96492771899995%2C%2043.31056654500003%5D%2C%20%5B-84.96491621899997%2C%2043.31419548000008%5D%2C%20%5B-84.96490471799996%2C%2043.31782441300004%5D%2C%20%5B-84.96489321599995%2C%2043.321453344000076%5D%2C%20%5B-84.96487580999997%2C%2043.32506721500005%5D%2C%20%5B-84.96485838999996%2C%2043.32868107500008%5D%2C%20%5B-84.96484096799998%2C%2043.33229494100004%5D%2C%20%5B-84.96482354499994%2C%2043.33590879600007%5D%2C%20%5B-84.96483168699996%2C%2043.33947984000008%5D%2C%20%5B-84.96483981799997%2C%2043.34305086300003%5D%2C%20%5B-84.96484794999998%2C%2043.34662188300007%5D%2C%20%5B-84.96485609599995%2C%2043.35019290200006%5D%2C%20%5B-84.96484473699996%2C%2043.35383003100003%5D%2C%20%5B-84.96483337599994%2C%2043.35746715700003%5D%2C%20%5B-84.96482201399994%2C%2043.36110427300008%5D%2C%20%5B-84.96481065099994%2C%2043.36474139500007%5D%2C%20%5B-84.96483144699994%2C%2043.36836296900003%5D%2C%20%5B-84.96485223299999%2C%2043.371984550000036%5D%2C%20%5B-84.96486359199997%2C%2043.37560607000006%5D%2C%20%5B-84.96482292599995%2C%2043.37921401300008%5D%2C%20%5B-84.96028916199998%2C%2043.37920645200006%5D%2C%20%5B-84.95952160299998%2C%2043.37920514900003%5D%2C%20%5B-84.95532425099998%2C%2043.37919796400007%5D%2C%20%5B-84.95455669199998%2C%2043.379196627000056%5D%2C%20%5B-84.95035931599995%2C%2043.37918925100007%5D%2C%20%5B-84.94959176999998%2C%2043.379187890000026%5D%2C%20%5B-84.94539424299995%2C%2043.37918033900007%5D%2C%20%5B-84.94462683599994%2C%2043.37917893600007%5D%2C%20%5B-84.94047901499994%2C%2043.37916001700006%5D%2C%20%5B-84.93967013199995%2C%2043.37915631800007%5D%2C%20%5B-84.93556370199997%2C%2043.37913740800008%5D%2C%20%5B-84.93471343199997%2C%2043.37913347500006%5D%2C%20%5B-84.93064837899999%2C%2043.37911459600008%5D%2C%20%5B-84.92975672299997%2C%2043.37911043500003%5D%2C%20%5B-84.92573321099997%2C%2043.379091566000056%5D%2C%20%5B-84.92480002999997%2C%2043.37908717200003%5D%2C%20%5B-84.92080074399996%2C%2043.37908144600004%5D%2C%20%5B-84.91980556199996%2C%2043.37908000300007%5D%2C%20%5B-84.91586836%2C%2043.37907420400006%5D%2C%20%5B-84.91481106899994%2C%2043.37907262400006%5D%2C%20%5B-84.91093596599995%2C%2043.37906674800007%5D%2C%20%5B-84.90981658999993%2C%2043.37906502800007%5D%2C%20%5B-84.90600376199995%2C%2043.379059082000026%5D%2C%20%5B-84.90482212499995%2C%2043.379057214000056%5D%2C%20%5B-84.90099954299995%2C%2043.37905838300003%5D%2C%20%5B-84.89981062099997%2C%2043.37905871500004%5D%2C%20%5B-84.89599540899997%2C%2043.37905972400006%5D%2C%20%5B-84.89479911699993%2C%2043.37906001500005%5D%2C%20%5B-84.89099132599995%2C%2043.37906084800005%5D%2C%20%5B-84.88978761199996%2C%2043.379061087000025%5D%2C%20%5B-84.88598696399998%2C%2043.37906175900008%5D%2C%20%5B-84.88477612%2C%2043.37906193900005%5D%2C%20%5B-84.88095170899999%2C%2043.379054084000074%5D%2C%20%5B-84.87979719599997%2C%2043.37905168300006%5D%2C%20%5B-84.87591612599994%2C%2043.37904352800007%5D%2C%20%5B-84.87481805299996%2C%2043.37904219400008%5D%2C%20%5B-84.87088063299996%2C%2043.37905289100007%5D%2C%20%5B-84.86983914399997%2C%2043.379055693000055%5D%2C%20%5B-84.86584523199997%2C%2043.379066367000064%5D%2C%20%5B-84.86486020799998%2C%2043.37906889100003%5D%2C%20%5B-84.86062858899999%2C%2043.37907967500007%5D%2C%20%5B-84.85988984799997%2C%2043.37908153600006%5D%2C%20%5B-84.85541192999995%2C%2043.379092754000055%5D%2C%20%5B-84.85491943599999%2C%2043.37909397300007%5D%2C%20%5B-84.85019529399995%2C%2043.379105596000045%5D%2C%20%5B-84.84994904699994%2C%2043.37910619400003%5D%5D%5D%5D%2C%20%22type%22%3A%20%22MultiPolygon%22%7D%2C%20%22properties%22%3A%20%7B%22CNTY_NAME%22%3A%20%22MONTCALM%22%2C%20%22CNTY_NUM%22%3A%20%2259%22%2C%20%22FID%22%3A%20432%2C%20%22Pos2015%22%3A%20null%2C%20%22Pos2016%22%3A%20null%2C%20%22Pos2017%22%3A%201%2C%20%22Pos2018%22%3A%20null%2C%20%22Pos2019%22%3A%20null%2C%20%22PosTotal%22%3A%201%2C%20%22RANGE%22%3A%20%2205W%22%2C%20%22SHAPE_Area%22%3A%200.010369262267674128%2C%20%22SHAPE_Length%22%3A%200.4128538138940274%2C%20%22TIER%22%3A%20%2211N%22%2C%20%22TR%22%3A%20%22T11N%2CR05W%22%2C%20%22Test2016%22%3A%206%2C%20%22Test2017%22%3A%2091%2C%20%22Test2018%22%3A%20347%2C%20%22Test2019%22%3A%20159%2C%20%22TestTotal%22%3A%20605%2C%20%22Tests2015%22%3A%202%7D%2C%20%22type%22%3A%20%22Feature%22%7D%2C%20%7B%22geometry%22%3A%20%7B%22coordinates%22%3A%20%5B%5B%5B%5B-84.96981194599994%2C%2043.37920603500004%5D%2C%20%5B-84.96482292599995%2C%2043.37921401300008%5D%2C%20%5B-84.96486359199997%2C%2043.37560607000006%5D%2C%20%5B-84.96485223299999%2C%2043.371984550000036%5D%2C%20%5B-84.96483144699994%2C%2043.36836296900003%5D%2C%20%5B-84.96481065099994%2C%2043.36474139500007%5D%2C%20%5B-84.96482201399994%2C%2043.36110427300008%5D%2C%20%5B-84.96483337599994%2C%2043.35746715700003%5D%2C%20%5B-84.96484473699996%2C%2043.35383003100003%5D%2C%20%5B-84.96485609599995%2C%2043.35019290200006%5D%2C%20%5B-84.96484794999998%2C%2043.34662188300007%5D%2C%20%5B-84.96483981799997%2C%2043.34305086300003%5D%2C%20%5B-84.96483168699996%2C%2043.33947984000008%5D%2C%20%5B-84.96482354499994%2C%2043.33590879600007%5D%2C%20%5B-84.96484096799998%2C%2043.33229494100004%5D%2C%20%5B-84.96485838999996%2C%2043.32868107500008%5D%2C%20%5B-84.96487580999997%2C%2043.32506721500005%5D%2C%20%5B-84.96489321599995%2C%2043.321453344000076%5D%2C%20%5B-84.96490471799996%2C%2043.31782441300004%5D%2C%20%5B-84.96491621899997%2C%2043.31419548000008%5D%2C%20%5B-84.96492771899995%2C%2043.31056654500003%5D%2C%20%5B-84.96493921699994%2C%2043.30693761600003%5D%2C%20%5B-84.96497959999994%2C%2043.30334685300005%5D%2C%20%5B-84.96501997799999%2C%2043.29975607800003%5D%2C%20%5B-84.96506035199997%2C%2043.29616531000005%5D%2C%20%5B-84.96510070899996%2C%2043.292574530000024%5D%2C%20%5B-84.96964322999997%2C%2043.292548913000076%5D%2C%20%5B-84.97007383199997%2C%2043.292546472000026%5D%2C%20%5B-84.97463329199996%2C%2043.29252056400003%5D%2C%20%5B-84.97504713299998%2C%2043.29252003500005%5D%2C%20%5B-84.97958413599997%2C%2043.29251425000007%5D%2C%20%5B-84.98002038599998%2C%2043.29251368700005%5D%2C%20%5B-84.98453489099995%2C%2043.29250772200004%5D%2C%20%5B-84.98499364999998%2C%2043.29250710300005%5D%2C%20%5B-84.98948607999995%2C%2043.29251775700004%5D%2C%20%5B-84.98997610399994%2C%2043.29251890300003%5D%2C%20%5B-84.99443739299994%2C%2043.29252928400007%5D%2C%20%5B-84.99495876199995%2C%2043.29253416700004%5D%2C%20%5B-84.99938776799996%2C%2043.29257557500006%5D%2C%20%5B-84.99994088199998%2C%2043.29258073700004%5D%2C%20%5B-85.00433696699997%2C%2043.292588812000076%5D%2C%20%5B-85.00492338999999%2C%2043.29258987600008%5D%2C%20%5B-85.00928389499995%2C%2043.29253492300006%5D%2C%20%5B-85.00990126599999%2C%2043.29252713400007%5D%2C%20%5B-85.01423057399995%2C%2043.29247238900007%5D%2C%20%5B-85.01487907599994%2C%2043.29247520300004%5D%2C%20%5B-85.01918979599998%2C%2043.29249387800007%5D%2C%20%5B-85.01985604599997%2C%2043.29249675500006%5D%2C%20%5B-85.02414903299996%2C%2043.29251516200003%5D%2C%20%5B-85.02483293099993%2C%2043.292518080000036%5D%2C%20%5B-85.02910830299999%2C%2043.29253205300006%5D%2C%20%5B-85.02977317599994%2C%2043.29253420400005%5D%2C%20%5B-85.03406757299996%2C%2043.292548055000054%5D%2C%20%5B-85.03471339999999%2C%2043.29254845600008%5D%2C%20%5B-85.03901707899996%2C%2043.29255105200008%5D%2C%20%5B-85.03965376499997%2C%2043.29255141900006%5D%2C%20%5B-85.04396658399997%2C%2043.292553834000046%5D%2C%20%5B-85.04459413099994%2C%2043.292554170000074%5D%2C%20%5B-85.04891642199999%2C%2043.292564768000034%5D%2C%20%5B-85.04956250599997%2C%2043.292566341000054%5D%2C%20%5B-85.05386625499995%2C%2043.292576705000045%5D%2C%20%5B-85.05453096599996%2C%2043.29257626800006%5D%2C%20%5B-85.05882416599997%2C%2043.29257336400008%5D%2C%20%5B-85.05949935499996%2C%2043.292572894000045%5D%2C%20%5B-85.06378207599994%2C%2043.292569816000025%5D%2C%20%5B-85.06446775599994%2C%2043.29256930300005%5D%2C%20%5B-85.06874004099996%2C%2043.29256811100004%5D%2C%20%5B-85.06942567699997%2C%2043.29256790900007%5D%2C%20%5B-85.07392727699994%2C%2043.29256644800006%5D%2C%20%5B-85.07438371299997%2C%2043.29256781200007%5D%2C%20%5B-85.07894664499997%2C%2043.292581333000044%5D%2C%20%5B-85.07934160499997%2C%2043.292582493000054%5D%2C%20%5B-85.08396596299997%2C%2043.292595996000045%5D%2C%20%5B-85.08481489799999%2C%2043.29259845100006%5D%2C%20%5B-85.08480729399997%2C%2043.29622463900006%5D%2C%20%5B-85.08479967799997%2C%2043.29985081500007%5D%2C%20%5B-85.08479206199996%2C%2043.303476990000036%5D%2C%20%5B-85.08478444599996%2C%2043.30710315300007%5D%2C%20%5B-85.08476716799998%2C%2043.31071706200004%5D%2C%20%5B-85.08474988899997%2C%2043.31433096100005%5D%2C%20%5B-85.08473260899996%2C%2043.31794485800003%5D%2C%20%5B-85.08471532799996%2C%2043.321558752000044%5D%2C%20%5B-85.08473745599997%2C%2043.325191354000026%5D%2C%20%5B-85.08475958799994%2C%2043.32882391700008%5D%2C%20%5B-85.08478171199994%2C%2043.33245643200007%5D%2C%20%5B-85.08485057599995%2C%2043.33608924400005%5D%2C%20%5B-85.08478413999995%2C%2043.339688488000036%5D%2C%20%5B-85.08471769699997%2C%2043.34328772100008%5D%2C%20%5B-85.08465125899994%2C%2043.346886952000034%5D%2C%20%5B-85.08458481399998%2C%2043.350486181000065%5D%2C%20%5B-85.08460541099998%2C%2043.35411616300007%5D%2C%20%5B-85.08462599899997%2C%2043.357746133000035%5D%2C%20%5B-85.08464661499994%2C%2043.361376101000076%5D%2C%20%5B-85.08466722199995%2C%2043.36500606700008%5D%2C%20%5B-85.08468492599997%2C%2043.368627745000026%5D%2C%20%5B-85.08470263299995%2C%2043.37224941200003%5D%2C%20%5B-85.08471265799994%2C%2043.375870949000046%5D%2C%20%5B-85.08469464699994%2C%2043.379233215000056%5D%2C%20%5B-85.07895006599995%2C%2043.37922369200004%5D%2C%20%5B-85.07876917699997%2C%2043.379223384000056%5D%2C%20%5B-85.07398514299996%2C%2043.379215240000065%5D%2C%20%5B-85.07380426699996%2C%2043.37921492400005%5D%2C%20%5B-85.06902022099996%2C%2043.379206563000025%5D%2C%20%5B-85.06883934499996%2C%2043.37920624900005%5D%2C%20%5B-85.06405529899996%2C%2043.37919768900008%5D%2C%20%5B-85.05910107299997%2C%2043.37919102200004%5D%2C%20%5B-85.05414684799996%2C%2043.37918414000006%5D%2C%20%5B-85.04919262299995%2C%2043.37917706200005%5D%2C%20%5B-85.04423841099998%2C%2043.379169760000025%5D%2C%20%5B-85.03924435599998%2C%2043.379178472000035%5D%2C%20%5B-85.03425028699996%2C%2043.37918696600008%5D%2C%20%5B-85.02925622899994%2C%2043.37919524200004%5D%2C%20%5B-85.02426216899994%2C%2043.37920330900005%5D%2C%20%5B-85.01934180699999%2C%2043.379202064000026%5D%2C%20%5B-85.01930590399996%2C%2043.379202055000064%5D%2C%20%5B-85.01442144599997%2C%2043.379200608000076%5D%2C%20%5B-85.01434965199996%2C%2043.379200586000024%5D%2C%20%5B-85.00950108499995%2C%2043.37919894000004%5D%2C%20%5B-85.00939339999996%2C%2043.37919890200004%5D%2C%20%5B-85.00458072299995%2C%2043.37919707000003%5D%2C%20%5B-85.00443712899994%2C%2043.379212504000066%5D%2C%20%5B-84.99972491499994%2C%2043.37914346300005%5D%2C%20%5B-84.99952244399998%2C%2043.37914398100003%5D%2C%20%5B-84.99486807599999%2C%2043.37915589500005%5D%2C%20%5B-84.99460790399996%2C%2043.37915655100005%5D%2C%20%5B-84.99001146299997%2C%2043.379168133000064%5D%2C%20%5B-84.98969341199995%2C%2043.37916893000005%5D%2C%20%5B-84.98515502299995%2C%2043.379180166000026%5D%2C%20%5B-84.98007201099995%2C%2043.379188964000036%5D%2C%20%5B-84.97978995699998%2C%2043.37918945200005%5D%2C%20%5B-84.97498897099996%2C%2043.37919754600006%5D%2C%20%5B-84.97480095299994%2C%2043.37919784800005%5D%2C%20%5B-84.96990594299996%2C%2043.37920589200007%5D%2C%20%5B-84.96981194599994%2C%2043.37920603500004%5D%5D%5D%5D%2C%20%22type%22%3A%20%22MultiPolygon%22%7D%2C%20%22properties%22%3A%20%7B%22CNTY_NAME%22%3A%20%22MONTCALM%22%2C%20%22CNTY_NUM%22%3A%20%2259%22%2C%20%22FID%22%3A%20433%2C%20%22Pos2015%22%3A%20null%2C%20%22Pos2016%22%3A%20null%2C%20%22Pos2017%22%3A%20null%2C%20%22Pos2018%22%3A%205%2C%20%22Pos2019%22%3A%205%2C%20%22PosTotal%22%3A%2010%2C%20%22RANGE%22%3A%20%2206W%22%2C%20%22SHAPE_Area%22%3A%200.010383745878251086%2C%20%22SHAPE_Length%22%3A%200.41286855837676506%2C%20%22TIER%22%3A%20%2211N%22%2C%20%22TR%22%3A%20%22T11N%2CR06W%22%2C%20%22Test2016%22%3A%201%2C%20%22Test2017%22%3A%2077%2C%20%22Test2018%22%3A%20237%2C%20%22Test2019%22%3A%20132%2C%20%22TestTotal%22%3A%20447%2C%20%22Tests2015%22%3A%20null%7D%2C%20%22type%22%3A%20%22Feature%22%7D%2C%20%7B%22geometry%22%3A%20%7B%22coordinates%22%3A%20%5B%5B%5B%5B-85.20866413799996%2C%2043.38040154600003%5D%2C%20%5B-85.20374147399997%2C%2043.38037738400004%5D%2C%20%5B-85.20385429299995%2C%2043.376416403000064%5D%2C%20%5B-85.20393421499995%2C%2043.37279541300006%5D%2C%20%5B-85.20399935799998%2C%2043.36917401100004%5D%2C%20%5B-85.20406450699994%2C%2043.36555260600005%5D%2C%20%5B-85.20404149199999%2C%2043.36190719600006%5D%2C%20%5B-85.20401849399997%2C%2043.358261784000035%5D%2C%20%5B-85.20399548699999%2C%2043.35461635100006%5D%2C%20%5B-85.20397249599995%2C%2043.35097092600006%5D%2C%20%5B-85.20393152399998%2C%2043.347363674000064%5D%2C%20%5B-85.20389056999994%2C%2043.34375642100008%5D%2C%20%5B-85.20384962199995%2C%2043.34014916500007%5D%2C%20%5B-85.20380866699998%2C%2043.33654190800007%5D%2C%20%5B-85.20387337299996%2C%2043.33292518600007%5D%2C%20%5B-85.20393808599994%2C%2043.32930844300006%5D%2C%20%5B-85.20400279199998%2C%2043.32569170800008%5D%2C%20%5B-85.20406749099999%2C%2043.322074962000045%5D%2C%20%5B-85.20408631599997%2C%2043.31848364100006%5D%2C%20%5B-85.20410516499999%2C%2043.314892318000034%5D%2C%20%5B-85.20412398699995%2C%2043.31130099200004%5D%2C%20%5B-85.20414283399998%2C%2043.30770966600005%5D%2C%20%5B-85.20420330299999%2C%2043.30410931100005%5D%2C%20%5B-85.20426375199997%2C%2043.30050896500006%5D%2C%20%5B-85.20432419599996%2C%2043.296908607000034%5D%2C%20%5B-85.20438464699998%2C%2043.29330824700003%5D%2C%20%5B-85.20723481699997%2C%2043.29331392300003%5D%2C%20%5B-85.20931614099999%2C%2043.293318019000026%5D%2C%20%5B-85.21239002499999%2C%2043.29332401100004%5D%2C%20%5B-85.21424784699997%2C%2043.29333834100004%5D%2C%20%5B-85.21733067299994%2C%2043.29336206000005%5D%2C%20%5B-85.21917910599996%2C%2043.29337624400006%5D%2C%20%5B-85.22227133899997%2C%2043.29339990400007%5D%2C%20%5B-85.22411038199994%2C%2043.29341393300007%5D%2C%20%5B-85.22721236499996%2C%2043.29342187000003%5D%2C%20%5B-85.22909824899995%2C%2043.293426656000065%5D%2C%20%5B-85.23215323599999%2C%2043.29343434500004%5D%2C%20%5B-85.23408630499995%2C%2043.29345002500003%5D%2C%20%5B-85.23716265699994%2C%2043.29347489600008%5D%2C%20%5B-85.23907392899997%2C%2043.293490305000034%5D%2C%20%5B-85.24217205799994%2C%2043.29351522700006%5D%2C%20%5B-85.24406155899999%2C%2043.293530376000035%5D%2C%20%5B-85.24718136999996%2C%2043.293559783000035%5D%2C%20%5B-85.24903187399997%2C%2043.29357719500007%5D%2C%20%5B-85.25219126999997%2C%2043.293571977000056%5D%2C%20%5B-85.25400235099994%2C%2043.293597343000044%5D%2C%20%5B-85.25713812999999%2C%2043.29364120900004%5D%2C%20%5B-85.25897280399994%2C%2043.29366682800003%5D%2C%20%5B-85.262085%2C%2043.29371022600003%5D%2C%20%5B-85.26394262299993%2C%2043.293736083000056%5D%2C%20%5B-85.26703246299996%2C%2043.293762471000036%5D%2C%20%5B-85.26889364499993%2C%2043.293778331000055%5D%2C%20%5B-85.27197987799997%2C%2043.29380455200004%5D%2C%20%5B-85.27384463799996%2C%2043.293824219000044%5D%2C%20%5B-85.27703779399997%2C%2043.29385782500003%5D%2C%20%5B-85.27879549599999%2C%2043.29387629000007%5D%2C%20%5B-85.28209570499996%2C%2043.293910882000034%5D%2C%20%5B-85.28374634799997%2C%2043.29392814600004%5D%2C%20%5B-85.28715398099996%2C%2043.29395081800004%5D%2C%20%5B-85.28869387199995%2C%2043.29396103000005%5D%2C%20%5B-85.29221222199999%2C%2043.29398428700006%5D%2C%20%5B-85.29364056499998%2C%2043.29400661200003%5D%2C%20%5B-85.29750417999998%2C%2043.29406692200007%5D%2C%20%5B-85.29858853999997%2C%2043.294083827000065%5D%2C%20%5B-85.30246281599995%2C%2043.294144129000074%5D%2C%20%5B-85.30353520099999%2C%2043.29416080100003%5D%2C%20%5B-85.30742014299994%2C%2043.29413750600003%5D%2C%20%5B-85.30849307599999%2C%2043.29413105500004%5D%2C%20%5B-85.31237710499994%2C%2043.29410758600005%5D%2C%20%5B-85.31345101999995%2C%2043.294113165000056%5D%2C%20%5B-85.31840973099997%2C%2043.294138771000064%5D%2C%20%5B-85.32402046199996%2C%2043.294167481000045%5D%2C%20%5B-85.32394201499994%2C%2043.29780842400004%5D%2C%20%5B-85.32386357299998%2C%2043.30144936500005%5D%2C%20%5B-85.32378509799997%2C%2043.30509029400008%5D%2C%20%5B-85.32370662799997%2C%2043.30873122200006%5D%2C%20%5B-85.32368570899996%2C%2043.31233991200003%5D%2C%20%5B-85.32366480199994%2C%2043.315948572000025%5D%2C%20%5B-85.32364388099995%2C%2043.31955723100003%5D%2C%20%5B-85.32362294699999%2C%2043.32316588800006%5D%2C%20%5B-85.32360014599999%2C%2043.326778672000046%5D%2C%20%5B-85.32357735599999%2C%2043.33039144400004%5D%2C%20%5B-85.32355455299995%2C%2043.33400422500006%5D%2C%20%5B-85.32353173599995%2C%2043.33761698400008%5D%2C%20%5B-85.32349949699994%2C%2043.34120501900003%5D%2C%20%5B-85.32346724499996%2C%2043.34479302400007%5D%2C%20%5B-85.32343500199994%2C%2043.34838103700008%5D%2C%20%5B-85.32340275699994%2C%2043.35196904800006%5D%2C%20%5B-85.32333290899999%2C%2043.35559967800003%5D%2C%20%5B-85.32326305499998%2C%2043.35923029600008%5D%2C%20%5B-85.32319319299995%2C%2043.36286092200004%5D%2C%20%5B-85.32312332499998%2C%2043.36649152700005%5D%2C%20%5B-85.32311089599995%2C%2043.37011220800008%5D%2C%20%5B-85.32309845499998%2C%2043.373732879000045%5D%2C%20%5B-85.32300891899996%2C%2043.377354396000044%5D%2C%20%5B-85.32288302199998%2C%2043.38076324300005%5D%2C%20%5B-85.31793230099998%2C%2043.38075074000005%5D%2C%20%5B-85.31296724499998%2C%2043.38073799800003%5D%2C%20%5B-85.30800220299994%2C%2043.38072504100006%5D%2C%20%5B-85.30303714799999%2C%2043.38071186700006%5D%2C%20%5B-85.29804078599994%2C%2043.38065216700005%5D%2C%20%5B-85.29304443199999%2C%2043.380592257000046%5D%2C%20%5B-85.28804807399996%2C%2043.380532118000076%5D%2C%20%5B-85.28305172499995%2C%2043.38047177100003%5D%2C%20%5B-85.27810373299997%2C%2043.38046974800005%5D%2C%20%5B-85.27315574099998%2C%2043.380467519000035%5D%2C%20%5B-85.26820773499998%2C%2043.380465067000046%5D%2C%20%5B-85.26325974099996%2C%2043.380462410000064%5D%2C%20%5B-85.25823484999995%2C%2043.380477376000044%5D%2C%20%5B-85.25320996799996%2C%2043.38049214000006%5D%2C%20%5B-85.24818512599995%2C%2043.380496281000035%5D%2C%20%5B-85.24316028099997%2C%2043.380482451000034%5D%2C%20%5B-85.23822823899997%2C%2043.38048035800006%5D%2C%20%5B-85.23329619599997%2C%2043.38047804100006%5D%2C%20%5B-85.22836417699995%2C%2043.38047552200004%5D%2C%20%5B-85.22343213299996%2C%2043.380472789000066%5D%2C%20%5B-85.21850947399997%2C%2043.38044925400004%5D%2C%20%5B-85.21358680399999%2C%2043.38042550600005%5D%2C%20%5B-85.20866413799996%2C%2043.38040154600003%5D%5D%5D%5D%2C%20%22type%22%3A%20%22MultiPolygon%22%7D%2C%20%22properties%22%3A%20%7B%22CNTY_NAME%22%3A%20%22MONTCALM%22%2C%20%22CNTY_NUM%22%3A%20%2259%22%2C%20%22FID%22%3A%20434%2C%20%22Pos2015%22%3A%20null%2C%20%22Pos2016%22%3A%20null%2C%20%22Pos2017%22%3A%204%2C%20%22Pos2018%22%3A%205%2C%20%22Pos2019%22%3A%201%2C%20%22PosTotal%22%3A%2010%2C%20%22RANGE%22%3A%20%2208W%22%2C%20%22SHAPE_Area%22%3A%200.010369102012643374%2C%20%22SHAPE_Length%22%3A%200.41246910774591%2C%20%22TIER%22%3A%20%2211N%22%2C%20%22TR%22%3A%20%22T11N%2CR08W%22%2C%20%22Test2016%22%3A%20null%2C%20%22Test2017%22%3A%20296%2C%20%22Test2018%22%3A%20182%2C%20%22Test2019%22%3A%2073%2C%20%22TestTotal%22%3A%20552%2C%20%22Tests2015%22%3A%201%7D%2C%20%22type%22%3A%20%22Feature%22%7D%2C%20%7B%22geometry%22%3A%20%7B%22coordinates%22%3A%20%5B%5B%5B%5B-85.20374147399997%2C%2043.38037738400004%5D%2C%20%5B-85.19860435399994%2C%2043.38029599600003%5D%2C%20%5B-85.19364050399997%2C%2043.38021714100006%5D%2C%20%5B-85.18867666599994%2C%2043.380138070000044%5D%2C%20%5B-85.18385042899996%2C%2043.38006100600006%5D%2C%20%5B-85.18371283999994%2C%2043.380058802000065%5D%2C%20%5B-85.17880335099994%2C%2043.38001572600007%5D%2C%20%5B-85.17389388%2C%2043.37997244700006%5D%2C%20%5B-85.16898440199998%2C%2043.37992894900003%5D%2C%20%5B-85.16407494399994%2C%2043.37988523900003%5D%2C%20%5B-85.15912231099998%2C%2043.37982757700007%5D%2C%20%5B-85.15416967399995%2C%2043.379769700000054%5D%2C%20%5B-85.14921704599999%2C%2043.379711609000026%5D%2C%20%5B-85.14426443999997%2C%2043.379653302000065%5D%2C%20%5B-85.13924758899998%2C%2043.379624052000054%5D%2C%20%5B-85.13423075499998%2C%2043.37959458200004%5D%2C%20%5B-85.12921392499999%2C%2043.37956489100003%5D%2C%20%5B-85.12419708699997%2C%2043.379534980000074%5D%2C%20%5B-85.11924516799996%2C%2043.37949378800005%5D%2C%20%5B-85.11429325599994%2C%2043.37945238000003%5D%2C%20%5B-85.10934134899998%2C%2043.37941075800006%5D%2C%20%5B-85.10438943599996%2C%2043.37936892100004%5D%2C%20%5B-85.09946573199994%2C%2043.37933530400005%5D%2C%20%5B-85.09454204499997%2C%2043.37930148300006%5D%2C%20%5B-85.08961834999997%2C%2043.37926746000005%5D%2C%20%5B-85.08469464699994%2C%2043.379233215000056%5D%2C%20%5B-85.08471265799994%2C%2043.375870949000046%5D%2C%20%5B-85.08470263299995%2C%2043.37224941200003%5D%2C%20%5B-85.08468492599997%2C%2043.368627745000026%5D%2C%20%5B-85.08466722199995%2C%2043.36500606700008%5D%2C%20%5B-85.08464661499994%2C%2043.361376101000076%5D%2C%20%5B-85.08462599899997%2C%2043.357746133000035%5D%2C%20%5B-85.08460541099998%2C%2043.35411616300007%5D%2C%20%5B-85.08458481399998%2C%2043.350486181000065%5D%2C%20%5B-85.08465125899994%2C%2043.346886952000034%5D%2C%20%5B-85.08471769699997%2C%2043.34328772100008%5D%2C%20%5B-85.08478413999995%2C%2043.339688488000036%5D%2C%20%5B-85.08485057599995%2C%2043.33608924400005%5D%2C%20%5B-85.08478171199994%2C%2043.33245643200007%5D%2C%20%5B-85.08475958799994%2C%2043.32882391700008%5D%2C%20%5B-85.08473745599997%2C%2043.325191354000026%5D%2C%20%5B-85.08471532799996%2C%2043.321558752000044%5D%2C%20%5B-85.08473260899996%2C%2043.31794485800003%5D%2C%20%5B-85.08474988899997%2C%2043.31433096100005%5D%2C%20%5B-85.08476716799998%2C%2043.31071706200004%5D%2C%20%5B-85.08478444599996%2C%2043.30710315300007%5D%2C%20%5B-85.08479206199996%2C%2043.303476990000036%5D%2C%20%5B-85.08479967799997%2C%2043.29985081500007%5D%2C%20%5B-85.08480729399997%2C%2043.29622463900006%5D%2C%20%5B-85.08481489799999%2C%2043.29259845100006%5D%2C%20%5B-85.08898543899994%2C%2043.29261761500004%5D%2C%20%5B-85.08976311999999%2C%2043.29262117600007%5D%2C%20%5B-85.09400497099995%2C%2043.292640480000045%5D%2C%20%5B-85.09471133699998%2C%2043.29264416700005%5D%2C%20%5B-85.09893611799998%2C%2043.29266610900004%5D%2C%20%5B-85.09965952599998%2C%2043.29266984800006%5D%2C%20%5B-85.10386725599994%2C%2043.29269153400003%5D%2C%20%5B-85.10460771799995%2C%2043.29269533200005%5D%2C%20%5B-85.10879852099998%2C%2043.29270677000005%5D%2C%20%5B-85.10958233299993%2C%2043.29270889000003%5D%2C%20%5B-85.11372975099994%2C%2043.292720032000034%5D%2C%20%5B-85.11455717599995%2C%2043.29272654000005%5D%2C%20%5B-85.11879745499994%2C%2043.29275979300007%5D%2C%20%5B-85.11953156299995%2C%2043.292765528000075%5D%2C%20%5B-85.12386700799999%2C%2043.29279933400005%5D%2C%20%5B-85.12450594399996%2C%2043.29280430000006%5D%2C%20%5B-85.12503724299995%2C%2043.29277095300006%5D%2C%20%5B-85.12893394799994%2C%2043.292773381000075%5D%2C%20%5B-85.12949292799999%2C%2043.29277372000007%5D%2C%20%5B-85.13400203699996%2C%2043.292776332000074%5D%2C%20%5B-85.13447869899994%2C%2043.292781717000025%5D%2C%20%5B-85.13907312699996%2C%2043.292833450000046%5D%2C%20%5B-85.13946409999994%2C%2043.29283783900007%5D%2C%20%5B-85.14414418699994%2C%2043.29289033300006%5D%2C%20%5B-85.14445002699995%2C%2043.29289375700006%5D%2C%20%5B-85.14921551799995%2C%2043.29295428700004%5D%2C%20%5B-85.14945040599997%2C%2043.29295725800006%5D%2C%20%5B-85.15428692699999%2C%2043.29301846800007%5D%2C%20%5B-85.15445056099998%2C%2043.293018233000055%5D%2C%20%5B-85.15907899799998%2C%2043.293011437000075%5D%2C%20%5B-85.15945092999993%2C%2043.29301087400006%5D%2C%20%5B-85.16387187999999%2C%2043.29302000600006%5D%2C%20%5B-85.16445139699994%2C%2043.29302225600003%5D%2C%20%5B-85.16866527599996%2C%2043.29303854900007%5D%2C%20%5B-85.16933633699995%2C%2043.29304112400007%5D%2C%20%5B-85.17345902499994%2C%2043.293063431000064%5D%2C%20%5B-85.17422132699994%2C%2043.29306900500006%5D%2C%20%5B-85.17841676599994%2C%2043.29309962000008%5D%2C%20%5B-85.17910610999996%2C%2043.29310463400003%5D%2C%20%5B-85.18337449899997%2C%2043.29313558500007%5D%2C%20%5B-85.18399091099997%2C%2043.29314004400004%5D%2C%20%5B-85.18833227699997%2C%2043.29316933400003%5D%2C%20%5B-85.18894869299999%2C%2043.293173480000064%5D%2C%20%5B-85.19176958499997%2C%2043.29319239600005%5D%2C%20%5B-85.19390644399994%2C%2043.293212123000046%5D%2C%20%5B-85.19692443899999%2C%2043.29323989800008%5D%2C%20%5B-85.19886403999999%2C%2043.29325771400005%5D%2C%20%5B-85.20207982999995%2C%2043.29328718100004%5D%2C%20%5B-85.20438464699998%2C%2043.29330824700003%5D%2C%20%5B-85.20432419599996%2C%2043.296908607000034%5D%2C%20%5B-85.20426375199997%2C%2043.30050896500006%5D%2C%20%5B-85.20420330299999%2C%2043.30410931100005%5D%2C%20%5B-85.20414283399998%2C%2043.30770966600005%5D%2C%20%5B-85.20412398699995%2C%2043.31130099200004%5D%2C%20%5B-85.20410516499999%2C%2043.314892318000034%5D%2C%20%5B-85.20408631599997%2C%2043.31848364100006%5D%2C%20%5B-85.20406749099999%2C%2043.322074962000045%5D%2C%20%5B-85.20400279199998%2C%2043.32569170800008%5D%2C%20%5B-85.20393808599994%2C%2043.32930844300006%5D%2C%20%5B-85.20387337299996%2C%2043.33292518600007%5D%2C%20%5B-85.20380866699998%2C%2043.33654190800007%5D%2C%20%5B-85.20384962199995%2C%2043.34014916500007%5D%2C%20%5B-85.20389056999994%2C%2043.34375642100008%5D%2C%20%5B-85.20393152399998%2C%2043.347363674000064%5D%2C%20%5B-85.20397249599995%2C%2043.35097092600006%5D%2C%20%5B-85.20399548699999%2C%2043.35461635100006%5D%2C%20%5B-85.20401849399997%2C%2043.358261784000035%5D%2C%20%5B-85.20404149199999%2C%2043.36190719600006%5D%2C%20%5B-85.20406450699994%2C%2043.36555260600005%5D%2C%20%5B-85.20399935799998%2C%2043.36917401100004%5D%2C%20%5B-85.20393421499995%2C%2043.37279541300006%5D%2C%20%5B-85.20385429299995%2C%2043.376416403000064%5D%2C%20%5B-85.20374147399997%2C%2043.38037738400004%5D%5D%5D%5D%2C%20%22type%22%3A%20%22MultiPolygon%22%7D%2C%20%22properties%22%3A%20%7B%22CNTY_NAME%22%3A%20%22MONTCALM%22%2C%20%22CNTY_NUM%22%3A%20%2259%22%2C%20%22FID%22%3A%20435%2C%20%22Pos2015%22%3A%20null%2C%20%22Pos2016%22%3A%20null%2C%20%22Pos2017%22%3A%201%2C%20%22Pos2018%22%3A%204%2C%20%22Pos2019%22%3A%201%2C%20%22PosTotal%22%3A%206%2C%20%22RANGE%22%3A%20%2207W%22%2C%20%22SHAPE_Area%22%3A%200.01035605695055939%2C%20%22SHAPE_Length%22%3A%200.4123441594958507%2C%20%22TIER%22%3A%20%2211N%22%2C%20%22TR%22%3A%20%22T11N%2CR07W%22%2C%20%22Test2016%22%3A%20null%2C%20%22Test2017%22%3A%20402%2C%20%22Test2018%22%3A%20330%2C%20%22Test2019%22%3A%20181%2C%20%22TestTotal%22%3A%20913%2C%20%22Tests2015%22%3A%20null%7D%2C%20%22type%22%3A%20%22Feature%22%7D%2C%20%7B%22geometry%22%3A%20%7B%22coordinates%22%3A%20%5B%5B%5B%5B-85.36288804799995%2C%2043.381049794000035%5D%2C%20%5B-85.35789351299996%2C%2043.38099404400003%5D%2C%20%5B-85.35289897299998%2C%2043.38093805600005%5D%2C%20%5B-85.34790445299996%2C%2043.380881868000074%5D%2C%20%5B-85.34290995399994%2C%2043.38082547100004%5D%2C%20%5B-85.33790321599997%2C%2043.38081023900003%5D%2C%20%5B-85.33289647999999%2C%2043.38079478700007%5D%2C%20%5B-85.32788975699998%2C%2043.38077911600004%5D%2C%20%5B-85.32288302199998%2C%2043.38076324300005%5D%2C%20%5B-85.32300891899996%2C%2043.377354396000044%5D%2C%20%5B-85.32309845499998%2C%2043.373732879000045%5D%2C%20%5B-85.32311089599995%2C%2043.37011220800008%5D%2C%20%5B-85.32312332499998%2C%2043.36649152700005%5D%2C%20%5B-85.32319319299995%2C%2043.36286092200004%5D%2C%20%5B-85.32326305499998%2C%2043.35923029600008%5D%2C%20%5B-85.32333290899999%2C%2043.35559967800003%5D%2C%20%5B-85.32340275699994%2C%2043.35196904800006%5D%2C%20%5B-85.32343500199994%2C%2043.34838103700008%5D%2C%20%5B-85.32346724499996%2C%2043.34479302400007%5D%2C%20%5B-85.32349949699994%2C%2043.34120501900003%5D%2C%20%5B-85.32353173599995%2C%2043.33761698400008%5D%2C%20%5B-85.32355455299995%2C%2043.33400422500006%5D%2C%20%5B-85.32357735599999%2C%2043.33039144400004%5D%2C%20%5B-85.32360014599999%2C%2043.326778672000046%5D%2C%20%5B-85.32362294699999%2C%2043.32316588800006%5D%2C%20%5B-85.32364388099995%2C%2043.31955723100003%5D%2C%20%5B-85.32366480199994%2C%2043.315948572000025%5D%2C%20%5B-85.32368570899996%2C%2043.31233991200003%5D%2C%20%5B-85.32370662799997%2C%2043.30873122200006%5D%2C%20%5B-85.32378509799997%2C%2043.30509029400008%5D%2C%20%5B-85.32386357299998%2C%2043.30144936500005%5D%2C%20%5B-85.32394201499994%2C%2043.29780842400004%5D%2C%20%5B-85.32402046199996%2C%2043.294167481000045%5D%2C%20%5B-85.32897306399997%2C%2043.29421859400003%5D%2C%20%5B-85.33392594399999%2C%2043.29425666700007%5D%2C%20%5B-85.33887921999997%2C%2043.294271853000055%5D%2C%20%5B-85.34383243399998%2C%2043.29428683300006%5D%2C%20%5B-85.34878336799994%2C%2043.29428863000004%5D%2C%20%5B-85.35373429299995%2C%2043.294292046000066%5D%2C%20%5B-85.35868524399996%2C%2043.294300863000046%5D%2C%20%5B-85.36363616899996%2C%2043.29430946600007%5D%2C%20%5B-85.36857344999999%2C%2043.29430707000006%5D%2C%20%5B-85.37351097199996%2C%2043.29431123900008%5D%2C%20%5B-85.37844807799996%2C%2043.29433905600007%5D%2C%20%5B-85.38338519899997%2C%2043.294366668000066%5D%2C%20%5B-85.38834863099999%2C%2043.29433062600003%5D%2C%20%5B-85.39331185399999%2C%2043.29429437600004%5D%2C%20%5B-85.39827426499994%2C%2043.29432430400004%5D%2C%20%5B-85.40323688099994%2C%2043.294354027000054%5D%2C%20%5B-85.40821296099995%2C%2043.29435423800004%5D%2C%20%5B-85.41318904399998%2C%2043.29435366000007%5D%2C%20%5B-85.41816513099997%2C%2043.29434842100005%5D%2C%20%5B-85.42314121599998%2C%2043.294342965000055%5D%2C%20%5B-85.42809931399995%2C%2043.29434195600004%5D%2C%20%5B-85.43305741699999%2C%2043.29434265000003%5D%2C%20%5B-85.43801552499997%2C%2043.294350284000075%5D%2C%20%5B-85.44336890799997%2C%2043.29435827800006%5D%2C%20%5B-85.44332681899994%2C%2043.297977358000026%5D%2C%20%5B-85.44328472699993%2C%2043.30159642700005%5D%2C%20%5B-85.44324261899999%2C%2043.305215485000076%5D%2C%20%5B-85.44320050799996%2C%2043.30883455000003%5D%2C%20%5B-85.44318984399996%2C%2043.312440845000026%5D%2C%20%5B-85.44317917999996%2C%2043.31604713000007%5D%2C%20%5B-85.44316850399997%2C%2043.31965343100006%5D%2C%20%5B-85.44315784099996%2C%2043.32325971100005%5D%2C%20%5B-85.44312621799997%2C%2043.326898913000036%5D%2C%20%5B-85.44309459199997%2C%2043.330538114000035%5D%2C%20%5B-85.44306296499997%2C%2043.33417730300005%5D%2C%20%5B-85.44303132299996%2C%2043.33781648100006%5D%2C%20%5B-85.44301302599996%2C%2043.34143372500006%5D%2C%20%5B-85.44299472799997%2C%2043.34505095700007%5D%2C%20%5B-85.44297643099998%2C%2043.34866817900007%5D%2C%20%5B-85.44295813299999%2C%2043.35228539900004%5D%2C%20%5B-85.44290589399998%2C%2043.35590523900004%5D%2C%20%5B-85.44285363799997%2C%2043.359525088000055%5D%2C%20%5B-85.44280139099999%2C%2043.36314491600007%5D%2C%20%5B-85.44274915099999%2C%2043.36676475200005%5D%2C%20%5B-85.44273777999996%2C%2043.37038625800005%5D%2C%20%5B-85.44272642199996%2C%2043.37400777200003%5D%2C%20%5B-85.44270947799998%2C%2043.37762920000006%5D%2C%20%5B-85.44268986899993%2C%2043.38132517100007%5D%2C%20%5B-85.43794330499998%2C%2043.38130505500004%5D%2C%20%5B-85.43746395399995%2C%2043.38130300600005%5D%2C%20%5B-85.43297817899997%2C%2043.38128378700003%5D%2C%20%5B-85.43249891599999%2C%2043.381281727000044%5D%2C%20%5B-85.42801302899994%2C%2043.381262322000055%5D%2C%20%5B-85.42753387999994%2C%2043.381260241000064%5D%2C%20%5B-85.42305849899998%2C%2043.38124067700005%5D%2C%20%5B-85.42265770299997%2C%2043.38125534200003%5D%2C%20%5B-85.41789743899994%2C%2043.38124098600008%5D%2C%20%5B-85.41756226899997%2C%2043.38123996200005%5D%2C%20%5B-85.41278030099994%2C%2043.38122533400008%5D%2C%20%5B-85.41255582899998%2C%2043.381224641000074%5D%2C%20%5B-85.40766215099995%2C%2043.38120944600007%5D%2C%20%5B-85.40754939099998%2C%2043.38120909200006%5D%2C%20%5B-85.40254296599994%2C%2043.381193333000056%5D%2C%20%5B-85.39756313399994%2C%2043.38117298000003%5D%2C%20%5B-85.39258330399997%2C%2043.38115241000003%5D%2C%20%5B-85.38760347499993%2C%2043.381131623000044%5D%2C%20%5B-85.38262363599995%2C%2043.38111061800004%5D%2C%20%5B-85.37768999499997%2C%2043.38107817500003%5D%2C%20%5B-85.37275626799999%2C%2043.38104932600004%5D%2C%20%5B-85.36782221599998%2C%2043.381044872000075%5D%2C%20%5B-85.36288804799995%2C%2043.381049794000035%5D%5D%5D%5D%2C%20%22type%22%3A%20%22MultiPolygon%22%7D%2C%20%22properties%22%3A%20%7B%22CNTY_NAME%22%3A%20%22MONTCALM%22%2C%20%22CNTY_NUM%22%3A%20%2259%22%2C%20%22FID%22%3A%20436%2C%20%22Pos2015%22%3A%20null%2C%20%22Pos2016%22%3A%20null%2C%20%22Pos2017%22%3A%207%2C%20%22Pos2018%22%3A%204%2C%20%22Pos2019%22%3A%207%2C%20%22PosTotal%22%3A%2018%2C%20%22RANGE%22%3A%20%2209W%22%2C%20%22SHAPE_Area%22%3A%200.010371631752960684%2C%20%22SHAPE_Length%22%3A%200.4127353732793543%2C%20%22TIER%22%3A%20%2211N%22%2C%20%22TR%22%3A%20%22T11N%2CR09W%22%2C%20%22Test2016%22%3A%20null%2C%20%22Test2017%22%3A%20215%2C%20%22Test2018%22%3A%20133%2C%20%22Test2019%22%3A%2072%2C%20%22TestTotal%22%3A%20420%2C%20%22Tests2015%22%3A%20null%7D%2C%20%22type%22%3A%20%22Feature%22%7D%2C%20%7B%22geometry%22%3A%20%7B%22coordinates%22%3A%20%5B%5B%5B%5B-85.44268986899993%2C%2043.38132517100007%5D%2C%20%5B-85.44270947799998%2C%2043.37762920000006%5D%2C%20%5B-85.44272642199996%2C%2043.37400777200003%5D%2C%20%5B-85.44273777999996%2C%2043.37038625800005%5D%2C%20%5B-85.44274915099999%2C%2043.36676475200005%5D%2C%20%5B-85.44280139099999%2C%2043.36314491600007%5D%2C%20%5B-85.44285363799997%2C%2043.359525088000055%5D%2C%20%5B-85.44290589399998%2C%2043.35590523900004%5D%2C%20%5B-85.44295813299999%2C%2043.35228539900004%5D%2C%20%5B-85.44297643099998%2C%2043.34866817900007%5D%2C%20%5B-85.44299472799997%2C%2043.34505095700007%5D%2C%20%5B-85.44301302599996%2C%2043.34143372500006%5D%2C%20%5B-85.44303132299996%2C%2043.33781648100006%5D%2C%20%5B-85.44306296499997%2C%2043.33417730300005%5D%2C%20%5B-85.44309459199997%2C%2043.330538114000035%5D%2C%20%5B-85.44312621799997%2C%2043.326898913000036%5D%2C%20%5B-85.44315784099996%2C%2043.32325971100005%5D%2C%20%5B-85.44316850399997%2C%2043.31965343100006%5D%2C%20%5B-85.44317917999996%2C%2043.31604713000007%5D%2C%20%5B-85.44318984399996%2C%2043.312440845000026%5D%2C%20%5B-85.44320050799996%2C%2043.30883455000003%5D%2C%20%5B-85.44324261899999%2C%2043.305215485000076%5D%2C%20%5B-85.44328472699993%2C%2043.30159642700005%5D%2C%20%5B-85.44332681899994%2C%2043.297977358000026%5D%2C%20%5B-85.44336890799997%2C%2043.29435827800006%5D%2C%20%5B-85.44828844599994%2C%2043.294336299000065%5D%2C%20%5B-85.45320803299995%2C%2043.29431774100004%5D%2C%20%5B-85.45812762899999%2C%2043.29430826500004%5D%2C%20%5B-85.46304722199994%2C%2043.294298586000025%5D%2C%20%5B-85.46803264799996%2C%2043.294271457000036%5D%2C%20%5B-85.4730181%2C%2043.29426853600006%5D%2C%20%5B-85.47800366299998%2C%2043.29426538800004%5D%2C%20%5B-85.48298902999994%2C%2043.29427682100004%5D%2C%20%5B-85.48786222099994%2C%2043.29427693700006%5D%2C%20%5B-85.49273563999998%2C%2043.29426919300005%5D%2C%20%5B-85.49760946399994%2C%2043.29423122900005%5D%2C%20%5B-85.50248320399999%2C%2043.294193094000036%5D%2C%20%5B-85.50743318299999%2C%2043.29420859000004%5D%2C%20%5B-85.51238291299995%2C%2043.294243050000034%5D%2C%20%5B-85.51733273599996%2C%2043.29427729400004%5D%2C%20%5B-85.52228222299999%2C%2043.29432498800003%5D%2C%20%5B-85.52734435299999%2C%2043.294302248000065%5D%2C%20%5B-85.53240672299995%2C%2043.29428326800007%5D%2C%20%5B-85.53746894699998%2C%2043.294286543000055%5D%2C%20%5B-85.54253116899997%2C%2043.29428960200005%5D%2C%20%5B-85.54748915399995%2C%2043.29426693400006%5D%2C%20%5B-85.55244715999999%2C%2043.29424708500005%5D%2C%20%5B-85.55740538799995%2C%2043.29424535100003%5D%2C%20%5B-85.56257394199997%2C%2043.294243331000075%5D%2C%20%5B-85.56261487399996%2C%2043.29787990300008%5D%2C%20%5B-85.56265581199995%2C%2043.30151647400004%5D%2C%20%5B-85.56269675799996%2C%2043.30515305200004%5D%2C%20%5B-85.56273769899997%2C%2043.30878961900004%5D%2C%20%5B-85.56274108299993%2C%2043.31240412600005%5D%2C%20%5B-85.56274446999998%2C%2043.31601862200006%5D%2C%20%5B-85.56274785899996%2C%2043.31963311700008%5D%2C%20%5B-85.56275126399998%2C%2043.323247611000056%5D%2C%20%5B-85.56275280099999%2C%2043.326853852000056%5D%2C%20%5B-85.56275432799998%2C%2043.33046007300004%5D%2C%20%5B-85.56275586999999%2C%2043.33406631100007%5D%2C%20%5B-85.56275740299998%2C%2043.33767252900003%5D%2C%20%5B-85.56271563999996%2C%2043.34127592700003%5D%2C%20%5B-85.56267388699996%2C%2043.34487933200006%5D%2C%20%5B-85.56263211899994%2C%2043.34848272600004%5D%2C%20%5B-85.56259036099999%2C%2043.35208610900003%5D%2C%20%5B-85.56259363299995%2C%2043.35573356000003%5D%2C%20%5B-85.56259690799999%2C%2043.35938101000005%5D%2C%20%5B-85.56260018599994%2C%2043.36302844800008%5D%2C%20%5B-85.56260346699997%2C%2043.36667589500007%5D%2C%20%5B-85.56262055699995%2C%2043.37029734600003%5D%2C%20%5B-85.56263763899995%2C%2043.37391880600006%5D%2C%20%5B-85.56265472499996%2C%2043.37754025400005%5D%2C%20%5B-85.56267202499998%2C%2043.38120464200006%5D%2C%20%5B-85.55709124199996%2C%2043.38122289000006%5D%2C%20%5B-85.55659385499996%2C%2043.38122449600007%5D%2C%20%5B-85.55212617899997%2C%2043.38123888800004%5D%2C%20%5B-85.55162879099998%2C%2043.38124048200007%5D%2C%20%5B-85.54716112399996%2C%2043.38125467900005%5D%2C%20%5B-85.54666373599997%2C%2043.381256251000025%5D%2C%20%5B-85.54219605099996%2C%2043.38127025400007%5D%2C%20%5B-85.54169856199997%2C%2043.38125236700006%5D%2C%20%5B-85.53722071199996%2C%2043.38121818600007%5D%2C%20%5B-85.53677392799995%2C%2043.38121475500003%5D%2C%20%5B-85.53224515199997%2C%2043.38117998000007%5D%2C%20%5B-85.53184928499996%2C%2043.381176940000046%5D%2C%20%5B-85.52726960899997%2C%2043.38114157500007%5D%2C%20%5B-85.52692465899997%2C%2043.38113890300008%5D%2C%20%5B-85.52229407099998%2C%2043.38110294400008%5D%2C%20%5B-85.52200008299997%2C%2043.38109657700005%5D%2C%20%5B-85.51732210599994%2C%2043.38110492100003%5D%2C%20%5B-85.51710164899998%2C%2043.38110530000006%5D%2C%20%5B-85.51235018299997%2C%2043.381113569000036%5D%2C%20%5B-85.51220319899994%2C%2043.38111383100005%5D%2C%20%5B-85.50737824299995%2C%2043.38112201900003%5D%2C%20%5B-85.50730474499994%2C%2043.38112214200004%5D%2C%20%5B-85.50240629999996%2C%2043.38113024300003%5D%2C%20%5B-85.50002417499996%2C%2043.381095249000055%5D%2C%20%5B-85.49740625399994%2C%2043.38111146500006%5D%2C%20%5B-85.49240632099998%2C%2043.381142269000065%5D%2C%20%5B-85.48740634299998%2C%2043.381172863000074%5D%2C%20%5B-85.48240628199994%2C%2043.38120323800007%5D%2C%20%5B-85.47742999299999%2C%2043.381222035000064%5D%2C%20%5B-85.47245368599994%2C%2043.38124061500008%5D%2C%20%5B-85.46747736199995%2C%2043.38125897800006%5D%2C%20%5B-85.46250306799999%2C%2043.381277115000046%5D%2C%20%5B-85.45754823799996%2C%2043.381289442000025%5D%2C%20%5B-85.45259547699999%2C%2043.38130156400007%5D%2C%20%5B-85.4476427%2C%2043.381313480000074%5D%2C%20%5B-85.44268986899993%2C%2043.38132517100007%5D%5D%5D%5D%2C%20%22type%22%3A%20%22MultiPolygon%22%7D%2C%20%22properties%22%3A%20%7B%22CNTY_NAME%22%3A%20%22MONTCALM%22%2C%20%22CNTY_NUM%22%3A%20%2259%22%2C%20%22FID%22%3A%20437%2C%20%22Pos2015%22%3A%20null%2C%20%22Pos2016%22%3A%20null%2C%20%22Pos2017%22%3A%20null%2C%20%22Pos2018%22%3A%205%2C%20%22Pos2019%22%3A%209%2C%20%22PosTotal%22%3A%2014%2C%20%22RANGE%22%3A%20%2210W%22%2C%20%22SHAPE_Area%22%3A%200.010401418968118985%2C%20%22SHAPE_Length%22%3A%200.4131239230780285%2C%20%22TIER%22%3A%20%2211N%22%2C%20%22TR%22%3A%20%22T11N%2CR10W%22%2C%20%22Test2016%22%3A%202%2C%20%22Test2017%22%3A%2065%2C%20%22Test2018%22%3A%20126%2C%20%22Test2019%22%3A%2070%2C%20%22TestTotal%22%3A%20263%2C%20%22Tests2015%22%3A%20null%7D%2C%20%22type%22%3A%20%22Feature%22%7D%2C%20%7B%22geometry%22%3A%20%7B%22coordinates%22%3A%20%5B%5B%5B%5B-84.95467239999994%2C%2043.292570357000045%5D%2C%20%5B-84.95468050399995%2C%2043.28956763100007%5D%2C%20%5B-84.95469028599996%2C%2043.28594606400003%5D%2C%20%5B-84.95470006599999%2C%2043.28232449500007%5D%2C%20%5B-84.95470984599996%2C%2043.27870292400007%5D%2C%20%5B-84.95474659399997%2C%2043.275158685000065%5D%2C%20%5B-84.95474597099997%2C%2043.27507013400003%5D%2C%20%5B-84.95472158499996%2C%2043.27161395100006%5D%2C%20%5B-84.95472013399996%2C%2043.27143703200005%5D%2C%20%5B-84.95469235999997%2C%2043.26806946100004%5D%2C%20%5B-84.95469016899995%2C%2043.26780417400005%5D%2C%20%5B-84.95466334999998%2C%2043.26455049600003%5D%2C%20%5B-84.95466023199998%2C%2043.264171462000036%5D%2C%20%5B-84.95471215199996%2C%2043.26085626300005%5D%2C%20%5B-84.95471630299994%2C%2043.260591247000036%5D%2C%20%5B-84.95476961699995%2C%2043.25718801100004%5D%2C%20%5B-84.95477238899997%2C%2043.257011324000075%5D%2C%20%5B-84.95482706299998%2C%2043.25351975700005%5D%2C%20%5B-84.95482844299994%2C%2043.25343140000007%5D%2C%20%5B-84.95488450299996%2C%2043.24985151000004%5D%2C%20%5B-84.95487843999996%2C%2043.24628764600004%5D%2C%20%5B-84.95487238999993%2C%2043.24272378000006%5D%2C%20%5B-84.95486632999996%2C%2043.23915991200005%5D%2C%20%5B-84.95486027099997%2C%2043.23559382000008%5D%2C%20%5B-84.95488641699995%2C%2043.23191329100007%5D%2C%20%5B-84.95491255999997%2C%2043.228232742000046%5D%2C%20%5B-84.95493870099995%2C%2043.22455219900007%5D%2C%20%5B-84.95496483599999%2C%2043.22087112000003%5D%2C%20%5B-84.95503600699999%2C%2043.21727593300005%5D%2C%20%5B-84.95510718299994%2C%2043.21368075400005%5D%2C%20%5B-84.95517833899999%2C%2043.21008556400005%5D%2C%20%5B-84.95524948599996%2C%2043.20649038000005%5D%2C%20%5B-84.96021460899999%2C%2043.20645513300008%5D%2C%20%5B-84.96517971299994%2C%2043.20641967800003%5D%2C%20%5B-84.97014479799998%2C%2043.206383999000025%5D%2C%20%5B-84.97510988899995%2C%2043.20634811300005%5D%2C%20%5B-84.98004668399994%2C%2043.20635048500003%5D%2C%20%5B-84.98498347999998%2C%2043.20635263400004%5D%2C%20%5B-84.98992028799995%2C%2043.20635457900005%5D%2C%20%5B-84.99485710799996%2C%2043.206356311000036%5D%2C%20%5B-84.99975792899994%2C%2043.20635146700005%5D%2C%20%5B-84.99979352999998%2C%2043.206351435000045%5D%2C%20%5B-85.00465873399997%2C%2043.20634659800004%5D%2C%20%5B-85.00473001099994%2C%2043.206346523000036%5D%2C%20%5B-85.00955954899996%2C%2043.206341509000026%5D%2C%20%5B-85.00966647699994%2C%2043.206341406000035%5D%2C%20%5B-85.01446036299996%2C%2043.206336229000044%5D%2C%20%5B-85.01460294199995%2C%2043.20633608500003%5D%2C%20%5B-85.01944567199996%2C%2043.20633090800004%5D%2C%20%5B-85.0195526%2C%2043.20633079500004%5D%2C%20%5B-85.02443097999998%2C%2043.20632537000006%5D%2C%20%5B-85.02450226899998%2C%2043.20632529200003%5D%2C%20%5B-85.02941628599996%2C%2043.20631961500004%5D%2C%20%5B-85.02945189899998%2C%2043.20631956400007%5D%2C%20%5B-85.03440158999996%2C%2043.206313642000055%5D%2C%20%5B-85.03938875799997%2C%2043.206296457000064%5D%2C%20%5B-85.04437594799998%2C%2043.20627905400005%5D%2C%20%5B-85.04936312099994%2C%2043.206261434000055%5D%2C%20%5B-85.05435029099993%2C%2043.206243606000044%5D%2C%20%5B-85.05930123399997%2C%2043.20626185400005%5D%2C%20%5B-85.06425216799994%2C%2043.20627988800004%5D%2C%20%5B-85.06920311599998%2C%2043.20629771700004%5D%2C%20%5B-85.07355516899997%2C%2043.20631320100006%5D%2C%20%5B-85.07353220199997%2C%2043.20993766500004%5D%2C%20%5B-85.07350922099994%2C%2043.21356211800003%5D%2C%20%5B-85.07348626299995%2C%2043.21718657900004%5D%2C%20%5B-85.07346329099994%2C%2043.22081102800007%5D%2C%20%5B-85.07348353299994%2C%2043.22444921400006%5D%2C%20%5B-85.07350377799997%2C%2043.22808738900005%5D%2C%20%5B-85.07352402599997%2C%2043.23172557100003%5D%2C%20%5B-85.07354427699994%2C%2043.23536374200006%5D%2C%20%5B-85.07355698299995%2C%2043.23895517900007%5D%2C%20%5B-85.07356970399996%2C%2043.24254661400005%5D%2C%20%5B-85.07358243999994%2C%2043.246138047000045%5D%2C%20%5B-85.07359516599996%2C%2043.24972947700007%5D%2C%20%5B-85.07360868599994%2C%2043.25340561100006%5D%2C%20%5B-85.07362220899995%2C%2043.257081733000064%5D%2C%20%5B-85.07363574699997%2C%2043.26075785300003%5D%2C%20%5B-85.07364926199995%2C%2043.264433971000074%5D%2C%20%5B-85.07367660399996%2C%2043.26805847900005%5D%2C%20%5B-85.07370394899993%2C%2043.27168298400005%5D%2C%20%5B-85.07373128599994%2C%2043.27530747900005%5D%2C%20%5B-85.07375863999994%2C%2043.27893198000004%5D%2C%20%5B-85.07380342599998%2C%2043.28255341500005%5D%2C%20%5B-85.07384821699998%2C%2043.28617485700005%5D%2C%20%5B-85.07389301499995%2C%2043.28979627900003%5D%2C%20%5B-85.07392727699994%2C%2043.29256644800006%5D%2C%20%5B-85.06942567699997%2C%2043.29256790900007%5D%2C%20%5B-85.06874004099996%2C%2043.29256811100004%5D%2C%20%5B-85.06446775599994%2C%2043.29256930300005%5D%2C%20%5B-85.06378207599994%2C%2043.292569816000025%5D%2C%20%5B-85.05949935499996%2C%2043.292572894000045%5D%2C%20%5B-85.05882416599997%2C%2043.29257336400008%5D%2C%20%5B-85.05453096599996%2C%2043.29257626800006%5D%2C%20%5B-85.05386625499995%2C%2043.292576705000045%5D%2C%20%5B-85.04956250599997%2C%2043.292566341000054%5D%2C%20%5B-85.04891642199999%2C%2043.292564768000034%5D%2C%20%5B-85.04459413099994%2C%2043.292554170000074%5D%2C%20%5B-85.04396658399997%2C%2043.292553834000046%5D%2C%20%5B-85.03965376499997%2C%2043.29255141900006%5D%2C%20%5B-85.03901707899996%2C%2043.29255105200008%5D%2C%20%5B-85.03471339999999%2C%2043.29254845600008%5D%2C%20%5B-85.03406757299996%2C%2043.292548055000054%5D%2C%20%5B-85.02977317599994%2C%2043.29253420400005%5D%2C%20%5B-85.02910830299999%2C%2043.29253205300006%5D%2C%20%5B-85.02483293099993%2C%2043.292518080000036%5D%2C%20%5B-85.02414903299996%2C%2043.29251516200003%5D%2C%20%5B-85.01985604599997%2C%2043.29249675500006%5D%2C%20%5B-85.01918979599998%2C%2043.29249387800007%5D%2C%20%5B-85.01487907599994%2C%2043.29247520300004%5D%2C%20%5B-85.01423057399995%2C%2043.29247238900007%5D%2C%20%5B-85.00990126599999%2C%2043.29252713400007%5D%2C%20%5B-85.00928389499995%2C%2043.29253492300006%5D%2C%20%5B-85.00492338999999%2C%2043.29258987600008%5D%2C%20%5B-85.00433696699997%2C%2043.292588812000076%5D%2C%20%5B-84.99994088199998%2C%2043.29258073700004%5D%2C%20%5B-84.99938776799996%2C%2043.29257557500006%5D%2C%20%5B-84.99495876199995%2C%2043.29253416700004%5D%2C%20%5B-84.99443739299994%2C%2043.29252928400007%5D%2C%20%5B-84.98997610399994%2C%2043.29251890300003%5D%2C%20%5B-84.98948607999995%2C%2043.29251775700004%5D%2C%20%5B-84.98499364999998%2C%2043.29250710300005%5D%2C%20%5B-84.98453489099995%2C%2043.29250772200004%5D%2C%20%5B-84.98002038599998%2C%2043.29251368700005%5D%2C%20%5B-84.97958413599997%2C%2043.29251425000007%5D%2C%20%5B-84.97504713299998%2C%2043.29252003500005%5D%2C%20%5B-84.97463329199996%2C%2043.29252056400003%5D%2C%20%5B-84.97007383199997%2C%2043.292546472000026%5D%2C%20%5B-84.96964322999997%2C%2043.292548913000076%5D%2C%20%5B-84.96510070899996%2C%2043.292574530000024%5D%2C%20%5B-84.96465304599997%2C%2043.29257437800004%5D%2C%20%5B-84.95978407899997%2C%2043.292572524000036%5D%2C%20%5B-84.95966260999995%2C%2043.29257246600008%5D%2C%20%5B-84.95482617499994%2C%2043.29257043600006%5D%2C%20%5B-84.95467239999994%2C%2043.292570357000045%5D%5D%5D%5D%2C%20%22type%22%3A%20%22MultiPolygon%22%7D%2C%20%22properties%22%3A%20%7B%22CNTY_NAME%22%3A%20%22MONTCALM%22%2C%20%22CNTY_NUM%22%3A%20%2259%22%2C%20%22FID%22%3A%20439%2C%20%22Pos2015%22%3A%20null%2C%20%22Pos2016%22%3A%20null%2C%20%22Pos2017%22%3A%20null%2C%20%22Pos2018%22%3A%204%2C%20%22Pos2019%22%3A%203%2C%20%22PosTotal%22%3A%207%2C%20%22RANGE%22%3A%20%2206W%22%2C%20%22SHAPE_Area%22%3A%200.010239908028850817%2C%20%22SHAPE_Length%22%3A%200.4099036341889571%2C%20%22TIER%22%3A%20%2210N%22%2C%20%22TR%22%3A%20%22T10N%2CR06W%22%2C%20%22Test2016%22%3A%201%2C%20%22Test2017%22%3A%20115%2C%20%22Test2018%22%3A%20165%2C%20%22Test2019%22%3A%2077%2C%20%22TestTotal%22%3A%20359%2C%20%22Tests2015%22%3A%201%7D%2C%20%22type%22%3A%20%22Feature%22%7D%2C%20%7B%22geometry%22%3A%20%7B%22coordinates%22%3A%20%5B%5B%5B%5B-85.07438371299997%2C%2043.29256781200007%5D%2C%20%5B-85.07392727699994%2C%2043.29256644800006%5D%2C%20%5B-85.07389301499995%2C%2043.28979627900003%5D%2C%20%5B-85.07384821699998%2C%2043.28617485700005%5D%2C%20%5B-85.07380342599998%2C%2043.28255341500005%5D%2C%20%5B-85.07375863999994%2C%2043.27893198000004%5D%2C%20%5B-85.07373128599994%2C%2043.27530747900005%5D%2C%20%5B-85.07370394899993%2C%2043.27168298400005%5D%2C%20%5B-85.07367660399996%2C%2043.26805847900005%5D%2C%20%5B-85.07364926199995%2C%2043.264433971000074%5D%2C%20%5B-85.07363574699997%2C%2043.26075785300003%5D%2C%20%5B-85.07362220899995%2C%2043.257081733000064%5D%2C%20%5B-85.07360868599994%2C%2043.25340561100006%5D%2C%20%5B-85.07359516599996%2C%2043.24972947700007%5D%2C%20%5B-85.07358243999994%2C%2043.246138047000045%5D%2C%20%5B-85.07356970399996%2C%2043.24254661400005%5D%2C%20%5B-85.07355698299995%2C%2043.23895517900007%5D%2C%20%5B-85.07354427699994%2C%2043.23536374200006%5D%2C%20%5B-85.07352402599997%2C%2043.23172557100003%5D%2C%20%5B-85.07350377799997%2C%2043.22808738900005%5D%2C%20%5B-85.07348353299994%2C%2043.22444921400006%5D%2C%20%5B-85.07346329099994%2C%2043.22081102800007%5D%2C%20%5B-85.07348626299995%2C%2043.21718657900004%5D%2C%20%5B-85.07350922099994%2C%2043.21356211800003%5D%2C%20%5B-85.07353220199997%2C%2043.20993766500004%5D%2C%20%5B-85.07355516899997%2C%2043.20631320100006%5D%2C%20%5B-85.07856115099997%2C%2043.206294343000025%5D%2C%20%5B-85.08356711699997%2C%2043.206275256000026%5D%2C%20%5B-85.08857304099996%2C%2043.20625594000006%5D%2C%20%5B-85.09357896099993%2C%2043.20623642400005%5D%2C%20%5B-85.09853416199996%2C%2043.206259286000034%5D%2C%20%5B-85.09857936399999%2C%2043.20625948600008%5D%2C%20%5B-85.10348941599995%2C%2043.20628192500004%5D%2C%20%5B-85.10357964399998%2C%2043.20628232800004%5D%2C%20%5B-85.10844469699998%2C%2043.20630435900006%5D%2C%20%5B-85.10858000099995%2C%2043.20630496100006%5D%2C%20%5B-85.11340001899998%2C%2043.206326569000055%5D%2C%20%5B-85.11358042499995%2C%2043.20632654600007%5D%2C%20%5B-85.11830821299998%2C%2043.20632619700007%5D%2C%20%5B-85.11848501299994%2C%2043.20632617600006%5D%2C%20%5B-85.12321641799997%2C%2043.20632561600007%5D%2C%20%5B-85.12338968799997%2C%2043.20632558600005%5D%2C%20%5B-85.12812483899995%2C%2043.20633753100003%5D%2C%20%5B-85.12829429199996%2C%2043.20633819300008%5D%2C%20%5B-85.13303335599994%2C%2043.20635658700007%5D%2C%20%5B-85.13319879899996%2C%2043.20635731100003%5D%2C%20%5B-85.13803391799996%2C%2043.20638107600007%5D%2C%20%5B-85.13815884699994%2C%2043.206381683000075%5D%2C%20%5B-85.14303449399995%2C%2043.206405421000056%5D%2C%20%5B-85.14311889799995%2C%2043.20640583100004%5D%2C%20%5B-85.14803505999998%2C%2043.206429565000064%5D%2C%20%5B-85.14807895099995%2C%2043.206429772000035%5D%2C%20%5B-85.15303900699996%2C%2043.20645349800003%5D%2C%20%5B-85.15797652499998%2C%2043.206477059000065%5D%2C%20%5B-85.16291405899995%2C%2043.20650040700008%5D%2C%20%5B-85.16785159499995%2C%2043.20652354100008%5D%2C%20%5B-85.17278912099994%2C%2043.20654646200006%5D%2C%20%5B-85.17773980499999%2C%2043.20658870500006%5D%2C%20%5B-85.18269051999994%2C%2043.206630724000036%5D%2C%20%5B-85.18764121499999%2C%2043.20667253800008%5D%2C%20%5B-85.19274441699997%2C%2043.20671541000007%5D%2C%20%5B-85.19272405599997%2C%2043.21032686800004%5D%2C%20%5B-85.19270369399999%2C%2043.213938315000064%5D%2C%20%5B-85.19268331899997%2C%2043.21754976900007%5D%2C%20%5B-85.19266294199997%2C%2043.22116121200003%5D%2C%20%5B-85.19264351099997%2C%2043.22478930400007%5D%2C%20%5B-85.19262409199996%2C%2043.22841737600004%5D%2C%20%5B-85.19260465899998%2C%2043.23204545500005%5D%2C%20%5B-85.19258523799994%2C%2043.23567353200008%5D%2C%20%5B-85.19255478299993%2C%2043.23927257300005%5D%2C%20%5B-85.19252433799994%2C%2043.242871603000026%5D%2C%20%5B-85.19249387799994%2C%2043.24647063100008%5D%2C%20%5B-85.19246341599995%2C%2043.25006964700003%5D%2C%20%5B-85.19239067099994%2C%2043.25375363300003%5D%2C%20%5B-85.19231790599997%2C%2043.25743761600006%5D%2C%20%5B-85.19224514699994%2C%2043.26112158900003%5D%2C%20%5B-85.19217237899994%2C%2043.26480555000006%5D%2C%20%5B-85.19210096799998%2C%2043.26836872200005%5D%2C%20%5B-85.19202954899998%2C%2043.27193188200005%5D%2C%20%5B-85.19195812299995%2C%2043.275495041000056%5D%2C%20%5B-85.19188669%2C%2043.27905818900007%5D%2C%20%5B-85.19185668899996%2C%2043.28267971900004%5D%2C%20%5B-85.19182668499997%2C%2043.28630123800008%5D%2C%20%5B-85.19179667899994%2C%2043.28992274600006%5D%2C%20%5B-85.19176958499997%2C%2043.29319239600005%5D%2C%20%5B-85.18894869299999%2C%2043.293173480000064%5D%2C%20%5B-85.18833227699997%2C%2043.29316933400003%5D%2C%20%5B-85.18399091099997%2C%2043.29314004400004%5D%2C%20%5B-85.18337449899997%2C%2043.29313558500007%5D%2C%20%5B-85.17910610999996%2C%2043.29310463400003%5D%2C%20%5B-85.17841676599994%2C%2043.29309962000008%5D%2C%20%5B-85.17422132699994%2C%2043.29306900500006%5D%2C%20%5B-85.17345902499994%2C%2043.293063431000064%5D%2C%20%5B-85.16933633699995%2C%2043.29304112400007%5D%2C%20%5B-85.16866527599996%2C%2043.29303854900007%5D%2C%20%5B-85.16445139699994%2C%2043.29302225600003%5D%2C%20%5B-85.16387187999999%2C%2043.29302000600006%5D%2C%20%5B-85.15945092999993%2C%2043.29301087400006%5D%2C%20%5B-85.15907899799998%2C%2043.293011437000075%5D%2C%20%5B-85.15445056099998%2C%2043.293018233000055%5D%2C%20%5B-85.15428692699999%2C%2043.29301846800007%5D%2C%20%5B-85.14945040599997%2C%2043.29295725800006%5D%2C%20%5B-85.14921551799995%2C%2043.29295428700004%5D%2C%20%5B-85.14445002699995%2C%2043.29289375700006%5D%2C%20%5B-85.14414418699994%2C%2043.29289033300006%5D%2C%20%5B-85.13946409999994%2C%2043.29283783900007%5D%2C%20%5B-85.13907312699996%2C%2043.292833450000046%5D%2C%20%5B-85.13447869899994%2C%2043.292781717000025%5D%2C%20%5B-85.13400203699996%2C%2043.292776332000074%5D%2C%20%5B-85.12949292799999%2C%2043.29277372000007%5D%2C%20%5B-85.12893394799994%2C%2043.292773381000075%5D%2C%20%5B-85.12503724299995%2C%2043.29277095300006%5D%2C%20%5B-85.12450594399996%2C%2043.29280430000006%5D%2C%20%5B-85.12386700799999%2C%2043.29279933400005%5D%2C%20%5B-85.11953156299995%2C%2043.292765528000075%5D%2C%20%5B-85.11879745499994%2C%2043.29275979300007%5D%2C%20%5B-85.11455717599995%2C%2043.29272654000005%5D%2C%20%5B-85.11372975099994%2C%2043.292720032000034%5D%2C%20%5B-85.10958233299993%2C%2043.29270889000003%5D%2C%20%5B-85.10879852099998%2C%2043.29270677000005%5D%2C%20%5B-85.10460771799995%2C%2043.29269533200005%5D%2C%20%5B-85.10386725599994%2C%2043.29269153400003%5D%2C%20%5B-85.09965952599998%2C%2043.29266984800006%5D%2C%20%5B-85.09893611799998%2C%2043.29266610900004%5D%2C%20%5B-85.09471133699998%2C%2043.29264416700005%5D%2C%20%5B-85.09400497099995%2C%2043.292640480000045%5D%2C%20%5B-85.08976311999999%2C%2043.29262117600007%5D%2C%20%5B-85.08898543899994%2C%2043.29261761500004%5D%2C%20%5B-85.08481489799999%2C%2043.29259845100006%5D%2C%20%5B-85.08396596299997%2C%2043.292595996000045%5D%2C%20%5B-85.07934160499997%2C%2043.292582493000054%5D%2C%20%5B-85.07894664499997%2C%2043.292581333000044%5D%2C%20%5B-85.07438371299997%2C%2043.29256781200007%5D%5D%5D%5D%2C%20%22type%22%3A%20%22MultiPolygon%22%7D%2C%20%22properties%22%3A%20%7B%22CNTY_NAME%22%3A%20%22MONTCALM%22%2C%20%22CNTY_NUM%22%3A%20%2259%22%2C%20%22FID%22%3A%20440%2C%20%22Pos2015%22%3A%20null%2C%20%22Pos2016%22%3A%20null%2C%20%22Pos2017%22%3A%208%2C%20%22Pos2018%22%3A%207%2C%20%22Pos2019%22%3A%201%2C%20%22PosTotal%22%3A%2016%2C%20%22RANGE%22%3A%20%2207W%22%2C%20%22SHAPE_Area%22%3A%200.010262299163377573%2C%20%22SHAPE_Length%22%3A%200.4097764151094256%2C%20%22TIER%22%3A%20%2210N%22%2C%20%22TR%22%3A%20%22T10N%2CR07W%22%2C%20%22Test2016%22%3A%203%2C%20%22Test2017%22%3A%20339%2C%20%22Test2018%22%3A%20264%2C%20%22Test2019%22%3A%20135%2C%20%22TestTotal%22%3A%20743%2C%20%22Tests2015%22%3A%202%7D%2C%20%22type%22%3A%20%22Feature%22%7D%2C%20%7B%22geometry%22%3A%20%7B%22coordinates%22%3A%20%5B%5B%5B%5B-85.30353520099999%2C%2043.29416080100003%5D%2C%20%5B-85.30246281599995%2C%2043.294144129000074%5D%2C%20%5B-85.29858853999997%2C%2043.294083827000065%5D%2C%20%5B-85.29750417999998%2C%2043.29406692200007%5D%2C%20%5B-85.29364056499998%2C%2043.29400661200003%5D%2C%20%5B-85.29221222199999%2C%2043.29398428700006%5D%2C%20%5B-85.28869387199995%2C%2043.29396103000005%5D%2C%20%5B-85.28715398099996%2C%2043.29395081800004%5D%2C%20%5B-85.28374634799997%2C%2043.29392814600004%5D%2C%20%5B-85.28209570499996%2C%2043.293910882000034%5D%2C%20%5B-85.27879549599999%2C%2043.29387629000007%5D%2C%20%5B-85.27703779399997%2C%2043.29385782500003%5D%2C%20%5B-85.27384463799996%2C%2043.293824219000044%5D%2C%20%5B-85.27197987799997%2C%2043.29380455200004%5D%2C%20%5B-85.26889364499993%2C%2043.293778331000055%5D%2C%20%5B-85.26703246299996%2C%2043.293762471000036%5D%2C%20%5B-85.26394262299993%2C%2043.293736083000056%5D%2C%20%5B-85.262085%2C%2043.29371022600003%5D%2C%20%5B-85.25897280399994%2C%2043.29366682800003%5D%2C%20%5B-85.25713812999999%2C%2043.29364120900004%5D%2C%20%5B-85.25400235099994%2C%2043.293597343000044%5D%2C%20%5B-85.25219126999997%2C%2043.293571977000056%5D%2C%20%5B-85.24903187399997%2C%2043.29357719500007%5D%2C%20%5B-85.24718136999996%2C%2043.293559783000035%5D%2C%20%5B-85.24406155899999%2C%2043.293530376000035%5D%2C%20%5B-85.24217205799994%2C%2043.29351522700006%5D%2C%20%5B-85.23907392899997%2C%2043.293490305000034%5D%2C%20%5B-85.23716265699994%2C%2043.29347489600008%5D%2C%20%5B-85.23408630499995%2C%2043.29345002500003%5D%2C%20%5B-85.23215323599999%2C%2043.29343434500004%5D%2C%20%5B-85.22909824899995%2C%2043.293426656000065%5D%2C%20%5B-85.22721236499996%2C%2043.29342187000003%5D%2C%20%5B-85.22411038199994%2C%2043.29341393300007%5D%2C%20%5B-85.22227133899997%2C%2043.29339990400007%5D%2C%20%5B-85.21917910599996%2C%2043.29337624400006%5D%2C%20%5B-85.21733067299994%2C%2043.29336206000005%5D%2C%20%5B-85.21424784699997%2C%2043.29333834100004%5D%2C%20%5B-85.21239002499999%2C%2043.29332401100004%5D%2C%20%5B-85.20931614099999%2C%2043.293318019000026%5D%2C%20%5B-85.20723481699997%2C%2043.29331392300003%5D%2C%20%5B-85.20438464699998%2C%2043.29330824700003%5D%2C%20%5B-85.20207982999995%2C%2043.29328718100004%5D%2C%20%5B-85.19886403999999%2C%2043.29325771400005%5D%2C%20%5B-85.19692443899999%2C%2043.29323989800008%5D%2C%20%5B-85.19390644399994%2C%2043.293212123000046%5D%2C%20%5B-85.19176958499997%2C%2043.29319239600005%5D%2C%20%5B-85.19179667899994%2C%2043.28992274600006%5D%2C%20%5B-85.19182668499997%2C%2043.28630123800008%5D%2C%20%5B-85.19185668899996%2C%2043.28267971900004%5D%2C%20%5B-85.19188669%2C%2043.27905818900007%5D%2C%20%5B-85.19195812299995%2C%2043.275495041000056%5D%2C%20%5B-85.19202954899998%2C%2043.27193188200005%5D%2C%20%5B-85.19210096799998%2C%2043.26836872200005%5D%2C%20%5B-85.19217237899994%2C%2043.26480555000006%5D%2C%20%5B-85.19224514699994%2C%2043.26112158900003%5D%2C%20%5B-85.19231790599997%2C%2043.25743761600006%5D%2C%20%5B-85.19239067099994%2C%2043.25375363300003%5D%2C%20%5B-85.19246341599995%2C%2043.25006964700003%5D%2C%20%5B-85.19249387799994%2C%2043.24647063100008%5D%2C%20%5B-85.19252433799994%2C%2043.242871603000026%5D%2C%20%5B-85.19255478299993%2C%2043.23927257300005%5D%2C%20%5B-85.19258523799994%2C%2043.23567353200008%5D%2C%20%5B-85.19260465899998%2C%2043.23204545500005%5D%2C%20%5B-85.19262409199996%2C%2043.22841737600004%5D%2C%20%5B-85.19264351099997%2C%2043.22478930400007%5D%2C%20%5B-85.19266294199997%2C%2043.22116121200003%5D%2C%20%5B-85.19268331899997%2C%2043.21754976900007%5D%2C%20%5B-85.19270369399999%2C%2043.213938315000064%5D%2C%20%5B-85.19272405599997%2C%2043.21032686800004%5D%2C%20%5B-85.19274441699997%2C%2043.20671541000007%5D%2C%20%5B-85.19765595899997%2C%2043.20667994200005%5D%2C%20%5B-85.19772778199996%2C%2043.20667942700004%5D%2C%20%5B-85.20256746799998%2C%2043.20664427100007%5D%2C%20%5B-85.20271112699999%2C%2043.20664322600004%5D%2C%20%5B-85.20747896999995%2C%2043.20660838900005%5D%2C%20%5B-85.20769447699996%2C%2043.20660681700008%5D%2C%20%5B-85.21239047799997%2C%2043.20657229500006%5D%2C%20%5B-85.21267781599994%2C%2043.20657137100005%5D%2C%20%5B-85.21743835099994%2C%2043.20655591000008%5D%2C%20%5B-85.21765384499997%2C%2043.20655520500003%5D%2C%20%5B-85.22248620799996%2C%2043.20653929200006%5D%2C%20%5B-85.22262988299997%2C%2043.206538813000066%5D%2C%20%5B-85.22753407299996%2C%2043.20652246100008%5D%2C%20%5B-85.22760591699995%2C%2043.206522223000036%5D%2C%20%5B-85.23258193299995%2C%2043.20650539700006%5D%2C%20%5B-85.23758656499996%2C%2043.20652049300003%5D%2C%20%5B-85.23763442699999%2C%2043.20652062800008%5D%2C%20%5B-85.24259119699997%2C%2043.20653535100007%5D%2C%20%5B-85.24268689699994%2C%2043.20653563500008%5D%2C%20%5B-85.24759581799998%2C%2043.20655000800008%5D%2C%20%5B-85.24773936799994%2C%2043.20655041800006%5D%2C%20%5B-85.25260045099998%2C%2043.20656652000008%5D%2C%20%5B-85.25279186599994%2C%2043.20656481200007%5D%2C%20%5B-85.25757276299998%2C%2043.20651532000005%5D%2C%20%5B-85.25771633699998%2C%2043.20651382700004%5D%2C%20%5B-85.26254509399996%2C%2043.20646362600007%5D%2C%20%5B-85.26264080999994%2C%2043.20646263000003%5D%2C%20%5B-85.26751738999997%2C%2043.206411725000066%5D%2C%20%5B-85.26756524799998%2C%2043.206411229000025%5D%2C%20%5B-85.27248970099998%2C%2043.206359607000024%5D%2C%20%5B-85.27738794499999%2C%2043.206402377000074%5D%2C%20%5B-85.28228619299995%2C%2043.206444945000044%5D%2C%20%5B-85.28718445999993%2C%2043.206487312000036%5D%2C%20%5B-85.29208273199998%2C%2043.20652946000007%5D%2C%20%5B-85.29703369699996%2C%2043.206511067000065%5D%2C%20%5B-85.30198465799998%2C%2043.20649245900006%5D%2C%20%5B-85.30693562699997%2C%2043.206473645000074%5D%2C%20%5B-85.31211739799994%2C%2043.206453718000034%5D%2C%20%5B-85.31214338899997%2C%2043.21009016900007%5D%2C%20%5B-85.31216939699993%2C%2043.21372660900005%5D%2C%20%5B-85.31219541099995%2C%2043.21736305600007%5D%2C%20%5B-85.31222141599994%2C%2043.22099949300008%5D%2C%20%5B-85.31219466199997%2C%2043.22462674800005%5D%2C%20%5B-85.31216793199997%2C%2043.22825400100004%5D%2C%20%5B-85.31214118799994%2C%2043.23188125200005%5D%2C%20%5B-85.31211444199994%2C%2043.23550850100003%5D%2C%20%5B-85.31214787299996%2C%2043.23913861200003%5D%2C%20%5B-85.31218129699994%2C%2043.24276871200004%5D%2C%20%5B-85.31221472699997%2C%2043.246398819000035%5D%2C%20%5B-85.31224816199995%2C%2043.25002891500003%5D%2C%20%5B-85.31227034699998%2C%2043.25364958100005%5D%2C%20%5B-85.31229252299994%2C%2043.25727024400004%5D%2C%20%5B-85.31231470299997%2C%2043.260890896000035%5D%2C%20%5B-85.31233688799995%2C%2043.264511510000034%5D%2C%20%5B-85.31233092199994%2C%2043.268128037000054%5D%2C%20%5B-85.31232498399999%2C%2043.27174452600008%5D%2C%20%5B-85.31231901999996%2C%2043.27536100400005%5D%2C%20%5B-85.31231308399998%2C%2043.278977489000056%5D%2C%20%5B-85.31232839899997%2C%2043.282599692000076%5D%2C%20%5B-85.31234372399996%2C%2043.28622125700008%5D%2C%20%5B-85.31235905399996%2C%2043.28984282000005%5D%2C%20%5B-85.31237710499994%2C%2043.29410758600005%5D%2C%20%5B-85.30849307599999%2C%2043.29413105500004%5D%2C%20%5B-85.30742014299994%2C%2043.29413750600003%5D%2C%20%5B-85.30353520099999%2C%2043.29416080100003%5D%5D%5D%5D%2C%20%22type%22%3A%20%22MultiPolygon%22%7D%2C%20%22properties%22%3A%20%7B%22CNTY_NAME%22%3A%20%22MONTCALM%22%2C%20%22CNTY_NUM%22%3A%20%2259%22%2C%20%22FID%22%3A%20441%2C%20%22Pos2015%22%3A%20null%2C%20%22Pos2016%22%3A%20null%2C%20%22Pos2017%22%3A%205%2C%20%22Pos2018%22%3A%203%2C%20%22Pos2019%22%3A%205%2C%20%22PosTotal%22%3A%2013%2C%20%22RANGE%22%3A%20%2208W%22%2C%20%22SHAPE_Area%22%3A%200.010447341152214094%2C%20%22SHAPE_Length%22%3A%200.4141283593812426%2C%20%22TIER%22%3A%20%2210N%22%2C%20%22TR%22%3A%20%22T10N%2CR08W%22%2C%20%22Test2016%22%3A%2015%2C%20%22Test2017%22%3A%20293%2C%20%22Test2018%22%3A%20211%2C%20%22Test2019%22%3A%20117%2C%20%22TestTotal%22%3A%20636%2C%20%22Tests2015%22%3A%20null%7D%2C%20%22type%22%3A%20%22Feature%22%7D%2C%20%7B%22geometry%22%3A%20%7B%22coordinates%22%3A%20%5B%5B%5B%5B-85.07856115099997%2C%2043.206294343000025%5D%2C%20%5B-85.07355516899997%2C%2043.20631320100006%5D%2C%20%5B-85.07358137599994%2C%2043.20375213900007%5D%2C%20%5B-85.07361842499995%2C%2043.200130555000044%5D%2C%20%5B-85.07365546899996%2C%2043.196508977000065%5D%2C%20%5B-85.07369251099999%2C%2043.19288738900008%5D%2C%20%5B-85.07373047299996%2C%2043.18925741400005%5D%2C%20%5B-85.07376844399994%2C%2043.18562743800004%5D%2C%20%5B-85.07380641199995%2C%2043.18199745000004%5D%2C%20%5B-85.07384437599995%2C%2043.17836745100004%5D%2C%20%5B-85.07382224499997%2C%2043.17474021500004%5D%2C%20%5B-85.07380011599997%2C%2043.17111297800005%5D%2C%20%5B-85.07377799199998%2C%2043.16748573800004%5D%2C%20%5B-85.07375588399998%2C%2043.163858496000046%5D%2C%20%5B-85.07381822199994%2C%2043.16021611200006%5D%2C%20%5B-85.07388056699995%2C%2043.156573725000044%5D%2C%20%5B-85.07394289299998%2C%2043.15293133700004%5D%2C%20%5B-85.07400522499995%2C%2043.14928893700005%5D%2C%20%5B-85.07415021099996%2C%2043.14563952200007%5D%2C%20%5B-85.07429504599997%2C%2043.14199394900004%5D%2C%20%5B-85.07443986399994%2C%2043.13834835600005%5D%2C%20%5B-85.07458465399998%2C%2043.134702779000065%5D%2C%20%5B-85.07467493699994%2C%2043.131083913000055%5D%2C%20%5B-85.07476522299999%2C%2043.127465046000054%5D%2C%20%5B-85.07485548699998%2C%2043.123846177000075%5D%2C%20%5B-85.07494585899997%2C%2043.120223%5D%2C%20%5B-85.07999838699999%2C%2043.12020545400003%5D%2C%20%5B-85.08505091099994%2C%2043.12018769500003%5D%2C%20%5B-85.09010343099999%2C%2043.120169702000055%5D%2C%20%5B-85.09515286199996%2C%2043.12015150800005%5D%2C%20%5B-85.10002830699995%2C%2043.12012882500005%5D%2C%20%5B-85.10490063699996%2C%2043.120105927000054%5D%2C%20%5B-85.10977297599999%2C%2043.120082840000066%5D%2C%20%5B-85.11463064299994%2C%2043.12005962200004%5D%2C%20%5B-85.11973608599999%2C%2043.11999480800006%5D%2C%20%5B-85.12482685099997%2C%2043.11992984500006%5D%2C%20%5B-85.12991758999993%2C%2043.11986465500007%5D%2C%20%5B-85.13500831799996%2C%2043.11979924600007%5D%2C%20%5B-85.13999422799998%2C%2043.11977789400004%5D%2C%20%5B-85.14498013299999%2C%2043.11975632300005%5D%2C%20%5B-85.14996603299994%2C%2043.11973453500008%5D%2C%20%5B-85.15495192799995%2C%2043.119712539000034%5D%2C%20%5B-85.15985911799999%2C%2043.119675021000035%5D%2C%20%5B-85.16476631499995%2C%2043.11963728400008%5D%2C%20%5B-85.16967350299996%2C%2043.11959934500004%5D%2C%20%5B-85.17458068399998%2C%2043.119561195000074%5D%2C%20%5B-85.17952472699994%2C%2043.11955672800008%5D%2C%20%5B-85.18446876699994%2C%2043.11955205600003%5D%2C%20%5B-85.18941280499996%2C%2043.11954717000003%5D%2C%20%5B-85.19367637399995%2C%2043.119542790000025%5D%2C%20%5B-85.19364398599998%2C%2043.12319180000003%5D%2C%20%5B-85.19361160799997%2C%2043.12684080900004%5D%2C%20%5B-85.19357921599999%2C%2043.13048981500003%5D%2C%20%5B-85.19354683299997%2C%2043.13413882000003%5D%2C%20%5B-85.19353640799994%2C%2043.137748792000025%5D%2C%20%5B-85.19352595799995%2C%2043.14135876200004%5D%2C%20%5B-85.19351553399997%2C%2043.14496873000007%5D%2C%20%5B-85.19351049899996%2C%2043.14857872600004%5D%2C%20%5B-85.1934817%2C%2043.15219613700003%5D%2C%20%5B-85.19352642099994%2C%2043.155814246000034%5D%2C%20%5B-85.19345161199999%2C%2043.15943133800005%5D%2C%20%5B-85.19334732499999%2C%2043.16304797400005%5D%2C%20%5B-85.19328709499996%2C%2043.16664220700005%5D%2C%20%5B-85.19322685999998%2C%2043.170236447000036%5D%2C%20%5B-85.19316661799996%2C%2043.17383067600008%5D%2C%20%5B-85.19310637199999%2C%2043.17742489400007%5D%2C%20%5B-85.19306388899997%2C%2043.18105045400006%5D%2C%20%5B-85.19302140399998%2C%2043.18467601100008%5D%2C%20%5B-85.19297891499997%2C%2043.188301557000045%5D%2C%20%5B-85.19293643399999%2C%2043.19192711100004%5D%2C%20%5B-85.19288942899999%2C%2043.19554863700006%5D%2C%20%5B-85.19284240799999%2C%2043.19917015200008%5D%2C%20%5B-85.19279538299998%2C%2043.202791656000045%5D%2C%20%5B-85.19274441699997%2C%2043.20671541000007%5D%2C%20%5B-85.18764121499999%2C%2043.20667253800008%5D%2C%20%5B-85.18269051999994%2C%2043.206630724000036%5D%2C%20%5B-85.17773980499999%2C%2043.20658870500006%5D%2C%20%5B-85.17278912099994%2C%2043.20654646200006%5D%2C%20%5B-85.16785159499995%2C%2043.20652354100008%5D%2C%20%5B-85.16291405899995%2C%2043.20650040700008%5D%2C%20%5B-85.15797652499998%2C%2043.206477059000065%5D%2C%20%5B-85.15303900699996%2C%2043.20645349800003%5D%2C%20%5B-85.14807895099995%2C%2043.206429772000035%5D%2C%20%5B-85.14803505999998%2C%2043.206429565000064%5D%2C%20%5B-85.14311889799995%2C%2043.20640583100004%5D%2C%20%5B-85.14303449399995%2C%2043.206405421000056%5D%2C%20%5B-85.13815884699994%2C%2043.206381683000075%5D%2C%20%5B-85.13803391799996%2C%2043.20638107600007%5D%2C%20%5B-85.13319879899996%2C%2043.20635731100003%5D%2C%20%5B-85.13303335599994%2C%2043.20635658700007%5D%2C%20%5B-85.12829429199996%2C%2043.20633819300008%5D%2C%20%5B-85.12812483899995%2C%2043.20633753100003%5D%2C%20%5B-85.12338968799997%2C%2043.20632558600005%5D%2C%20%5B-85.12321641799997%2C%2043.20632561600007%5D%2C%20%5B-85.11848501299994%2C%2043.20632617600006%5D%2C%20%5B-85.11830821299998%2C%2043.20632619700007%5D%2C%20%5B-85.11358042499995%2C%2043.20632654600007%5D%2C%20%5B-85.11340001899998%2C%2043.206326569000055%5D%2C%20%5B-85.10858000099995%2C%2043.20630496100006%5D%2C%20%5B-85.10844469699998%2C%2043.20630435900006%5D%2C%20%5B-85.10357964399998%2C%2043.20628232800004%5D%2C%20%5B-85.10348941599995%2C%2043.20628192500004%5D%2C%20%5B-85.09857936399999%2C%2043.20625948600008%5D%2C%20%5B-85.09853416199996%2C%2043.206259286000034%5D%2C%20%5B-85.09357896099993%2C%2043.20623642400005%5D%2C%20%5B-85.08857304099996%2C%2043.20625594000006%5D%2C%20%5B-85.08356711699997%2C%2043.206275256000026%5D%2C%20%5B-85.07856115099997%2C%2043.206294343000025%5D%5D%5D%5D%2C%20%22type%22%3A%20%22MultiPolygon%22%7D%2C%20%22properties%22%3A%20%7B%22CNTY_NAME%22%3A%20%22MONTCALM%22%2C%20%22CNTY_NUM%22%3A%20%2259%22%2C%20%22FID%22%3A%20444%2C%20%22Pos2015%22%3A%20null%2C%20%22Pos2016%22%3A%20null%2C%20%22Pos2017%22%3A%203%2C%20%22Pos2018%22%3A%205%2C%20%22Pos2019%22%3A%203%2C%20%22PosTotal%22%3A%2011%2C%20%22RANGE%22%3A%20%2207W%22%2C%20%22SHAPE_Area%22%3A%200.010320093739147098%2C%20%22SHAPE_Length%22%3A%200.4112144059237478%2C%20%22TIER%22%3A%20%2209N%22%2C%20%22TR%22%3A%20%22T09N%2CR07W%22%2C%20%22Test2016%22%3A%201%2C%20%22Test2017%22%3A%20159%2C%20%22Test2018%22%3A%20166%2C%20%22Test2019%22%3A%20102%2C%20%22TestTotal%22%3A%20429%2C%20%22Tests2015%22%3A%201%7D%2C%20%22type%22%3A%20%22Feature%22%7D%2C%20%7B%22geometry%22%3A%20%7B%22coordinates%22%3A%20%5B%5B%5B%5B-85.19765595899997%2C%2043.20667994200005%5D%2C%20%5B-85.19274441699997%2C%2043.20671541000007%5D%2C%20%5B-85.19279538299998%2C%2043.202791656000045%5D%2C%20%5B-85.19284240799999%2C%2043.19917015200008%5D%2C%20%5B-85.19288942899999%2C%2043.19554863700006%5D%2C%20%5B-85.19293643399999%2C%2043.19192711100004%5D%2C%20%5B-85.19297891499997%2C%2043.188301557000045%5D%2C%20%5B-85.19302140399998%2C%2043.18467601100008%5D%2C%20%5B-85.19306388899997%2C%2043.18105045400006%5D%2C%20%5B-85.19310637199999%2C%2043.17742489400007%5D%2C%20%5B-85.19316661799996%2C%2043.17383067600008%5D%2C%20%5B-85.19322685999998%2C%2043.170236447000036%5D%2C%20%5B-85.19328709499996%2C%2043.16664220700005%5D%2C%20%5B-85.19334732499999%2C%2043.16304797400005%5D%2C%20%5B-85.19345161199999%2C%2043.15943133800005%5D%2C%20%5B-85.19352642099994%2C%2043.155814246000034%5D%2C%20%5B-85.1934817%2C%2043.15219613700003%5D%2C%20%5B-85.19351049899996%2C%2043.14857872600004%5D%2C%20%5B-85.19351553399997%2C%2043.14496873000007%5D%2C%20%5B-85.19352595799995%2C%2043.14135876200004%5D%2C%20%5B-85.19353640799994%2C%2043.137748792000025%5D%2C%20%5B-85.19354683299997%2C%2043.13413882000003%5D%2C%20%5B-85.19357921599999%2C%2043.13048981500003%5D%2C%20%5B-85.19361160799997%2C%2043.12684080900004%5D%2C%20%5B-85.19364398599998%2C%2043.12319180000003%5D%2C%20%5B-85.19367637399995%2C%2043.119542790000025%5D%2C%20%5B-85.19860959499994%2C%2043.11956276700005%5D%2C%20%5B-85.20354280499998%2C%2043.11958252200003%5D%2C%20%5B-85.20847601599996%2C%2043.11960207300007%5D%2C%20%5B-85.21340925399994%2C%2043.119621411000026%5D%2C%20%5B-85.21841061199996%2C%2043.11960475800004%5D%2C%20%5B-85.22341196499997%2C%2043.11958789500005%5D%2C%20%5B-85.22841332599995%2C%2043.119570804000034%5D%2C%20%5B-85.23341467299997%2C%2043.11955322700004%5D%2C%20%5B-85.23837668899995%2C%2043.11952482200007%5D%2C%20%5B-85.24333868599996%2C%2043.11949620200005%5D%2C%20%5B-85.24830070199994%2C%2043.119467376000046%5D%2C%20%5B-85.25326269899995%2C%2043.11943826100003%5D%2C%20%5B-85.25825980299999%2C%2043.119395388000044%5D%2C%20%5B-85.26325691099998%2C%2043.119352297000034%5D%2C%20%5B-85.26825399799998%2C%2043.11930895900008%5D%2C%20%5B-85.27325111%2C%2043.11926463700007%5D%2C%20%5B-85.27822337899994%2C%2043.11920544800006%5D%2C%20%5B-85.28319562499996%2C%2043.11914606100004%5D%2C%20%5B-85.28816788399996%2C%2043.11908645800003%5D%2C%20%5B-85.29314012499998%2C%2043.119027163000055%5D%2C%20%5B-85.29808381299995%2C%2043.118985148000036%5D%2C%20%5B-85.30302747899998%2C%2043.11894291800007%5D%2C%20%5B-85.30797113699998%2C%2043.11890049300007%5D%2C%20%5B-85.31255067799998%2C%2043.11886098200006%5D%2C%20%5B-85.31251300599996%2C%2043.12244305300004%5D%2C%20%5B-85.31247531899999%2C%2043.12602513200005%5D%2C%20%5B-85.31243761699994%2C%2043.12960719900008%5D%2C%20%5B-85.31239992499997%2C%2043.133189265000055%5D%2C%20%5B-85.31236054099998%2C%2043.13684417500008%5D%2C%20%5B-85.31232115499995%2C%2043.140499110000064%5D%2C%20%5B-85.31228176499997%2C%2043.14415405300008%5D%2C%20%5B-85.31224237299995%2C%2043.14780899500005%5D%2C%20%5B-85.31225111499998%2C%2043.15142365200006%5D%2C%20%5B-85.31225987199997%2C%2043.15503829800008%5D%2C%20%5B-85.31226861999994%2C%2043.15865294200006%5D%2C%20%5B-85.31227735799996%2C%2043.162267575000044%5D%2C%20%5B-85.31226189499995%2C%2043.165893426000025%5D%2C%20%5B-85.31224641999995%2C%2043.169519265000076%5D%2C%20%5B-85.31223094499995%2C%2043.17314510300008%5D%2C%20%5B-85.31221548199994%2C%2043.17677093900005%5D%2C%20%5B-85.31217948399996%2C%2043.18040520300008%5D%2C%20%5B-85.31214348399999%2C%2043.18403944600004%5D%2C%20%5B-85.31210748099994%2C%2043.187673688000075%5D%2C%20%5B-85.31207147599997%2C%2043.19130793700003%5D%2C%20%5B-85.31208245999994%2C%2043.194929614000046%5D%2C%20%5B-85.31209343499995%2C%2043.19855128800003%5D%2C%20%5B-85.31210442599996%2C%2043.20217296100003%5D%2C%20%5B-85.31211739799994%2C%2043.206453718000034%5D%2C%20%5B-85.30693562699997%2C%2043.206473645000074%5D%2C%20%5B-85.30198465799998%2C%2043.20649245900006%5D%2C%20%5B-85.29703369699996%2C%2043.206511067000065%5D%2C%20%5B-85.29208273199998%2C%2043.20652946000007%5D%2C%20%5B-85.28718445999993%2C%2043.206487312000036%5D%2C%20%5B-85.28228619299995%2C%2043.206444945000044%5D%2C%20%5B-85.27738794499999%2C%2043.206402377000074%5D%2C%20%5B-85.27248970099998%2C%2043.206359607000024%5D%2C%20%5B-85.26756524799998%2C%2043.206411229000025%5D%2C%20%5B-85.26751738999997%2C%2043.206411725000066%5D%2C%20%5B-85.26264080999994%2C%2043.20646263000003%5D%2C%20%5B-85.26254509399996%2C%2043.20646362600007%5D%2C%20%5B-85.25771633699998%2C%2043.20651382700004%5D%2C%20%5B-85.25757276299998%2C%2043.20651532000005%5D%2C%20%5B-85.25279186599994%2C%2043.20656481200007%5D%2C%20%5B-85.25260045099998%2C%2043.20656652000008%5D%2C%20%5B-85.24773936799994%2C%2043.20655041800006%5D%2C%20%5B-85.24759581799998%2C%2043.20655000800008%5D%2C%20%5B-85.24268689699994%2C%2043.20653563500008%5D%2C%20%5B-85.24259119699997%2C%2043.20653535100007%5D%2C%20%5B-85.23763442699999%2C%2043.20652062800008%5D%2C%20%5B-85.23758656499996%2C%2043.20652049300003%5D%2C%20%5B-85.23258193299995%2C%2043.20650539700006%5D%2C%20%5B-85.22760591699995%2C%2043.206522223000036%5D%2C%20%5B-85.22753407299996%2C%2043.20652246100008%5D%2C%20%5B-85.22262988299997%2C%2043.206538813000066%5D%2C%20%5B-85.22248620799996%2C%2043.20653929200006%5D%2C%20%5B-85.21765384499997%2C%2043.20655520500003%5D%2C%20%5B-85.21743835099994%2C%2043.20655591000008%5D%2C%20%5B-85.21267781599994%2C%2043.20657137100005%5D%2C%20%5B-85.21239047799997%2C%2043.20657229500006%5D%2C%20%5B-85.20769447699996%2C%2043.20660681700008%5D%2C%20%5B-85.20747896999995%2C%2043.20660838900005%5D%2C%20%5B-85.20271112699999%2C%2043.20664322600004%5D%2C%20%5B-85.20256746799998%2C%2043.20664427100007%5D%2C%20%5B-85.19772778199996%2C%2043.20667942700004%5D%2C%20%5B-85.19765595899997%2C%2043.20667994200005%5D%5D%5D%5D%2C%20%22type%22%3A%20%22MultiPolygon%22%7D%2C%20%22properties%22%3A%20%7B%22CNTY_NAME%22%3A%20%22MONTCALM%22%2C%20%22CNTY_NUM%22%3A%20%2259%22%2C%20%22FID%22%3A%20445%2C%20%22Pos2015%22%3A%20null%2C%20%22Pos2016%22%3A%20null%2C%20%22Pos2017%22%3A%20null%2C%20%22Pos2018%22%3A%201%2C%20%22Pos2019%22%3A%201%2C%20%22PosTotal%22%3A%202%2C%20%22RANGE%22%3A%20%2208W%22%2C%20%22SHAPE_Area%22%3A%200.010370190399252752%2C%20%22SHAPE_Length%22%3A%200.41302896342640355%2C%20%22TIER%22%3A%20%2209N%22%2C%20%22TR%22%3A%20%22T09N%2CR08W%22%2C%20%22Test2016%22%3A%201%2C%20%22Test2017%22%3A%20134%2C%20%22Test2018%22%3A%20114%2C%20%22Test2019%22%3A%2061%2C%20%22TestTotal%22%3A%20310%2C%20%22Tests2015%22%3A%20null%7D%2C%20%22type%22%3A%20%22Feature%22%7D%2C%20%7B%22geometry%22%3A%20%7B%22coordinates%22%3A%20%5B%5B%5B%5B-85.33723228099996%2C%2043.29426683400004%5D%2C%20%5B-85.33213656299995%2C%2043.29425112400003%5D%2C%20%5B-85.32719665499997%2C%2043.29420028100003%5D%2C%20%5B-85.32225675999996%2C%2043.29415848200006%5D%2C%20%5B-85.31731693099994%2C%2043.29413314100003%5D%2C%20%5B-85.31237710499994%2C%2043.29410758600005%5D%2C%20%5B-85.31235904799996%2C%2043.289842184000065%5D%2C%20%5B-85.31234371899995%2C%2043.28622063000006%5D%2C%20%5B-85.31232840599995%2C%2043.282599065000056%5D%2C%20%5B-85.31231308399998%2C%2043.278977489000056%5D%2C%20%5B-85.31231901999996%2C%2043.27536100400005%5D%2C%20%5B-85.31232498399999%2C%2043.27174450700005%5D%2C%20%5B-85.31233092299999%2C%2043.268128009000066%5D%2C%20%5B-85.31233688799995%2C%2043.264511510000034%5D%2C%20%5B-85.31231470299997%2C%2043.260890878000055%5D%2C%20%5B-85.31229252299994%2C%2043.25727022500007%5D%2C%20%5B-85.31227034699998%2C%2043.25364957100004%5D%2C%20%5B-85.31224816199995%2C%2043.25002891500003%5D%2C%20%5B-85.31221472699997%2C%2043.246398819000035%5D%2C%20%5B-85.31218129699994%2C%2043.24276871200004%5D%2C%20%5B-85.31214787299996%2C%2043.23913861200003%5D%2C%20%5B-85.31211444199994%2C%2043.23550850100003%5D%2C%20%5B-85.31214118799994%2C%2043.23188125200005%5D%2C%20%5B-85.31216793199997%2C%2043.22825400100004%5D%2C%20%5B-85.31219466199997%2C%2043.22462674800005%5D%2C%20%5B-85.31222141599994%2C%2043.22099949300008%5D%2C%20%5B-85.31219541099995%2C%2043.21736305600007%5D%2C%20%5B-85.31216938499995%2C%2043.21372661800007%5D%2C%20%5B-85.31214338899997%2C%2043.21009017800003%5D%2C%20%5B-85.31211739799994%2C%2043.206453718000034%5D%2C%20%5B-85.31708808299999%2C%2043.20640176900008%5D%2C%20%5B-85.31714219299994%2C%2043.206401208000045%5D%2C%20%5B-85.32205874499994%2C%2043.206349612000054%5D%2C%20%5B-85.32216696499995%2C%2043.206348468000044%5D%2C%20%5B-85.32702939699999%2C%2043.206297230000075%5D%2C%20%5B-85.32719172599997%2C%2043.20629551500008%5D%2C%20%5B-85.33200005199996%2C%2043.20624463200005%5D%2C%20%5B-85.33221648999995%2C%2043.206242287000066%5D%2C%20%5B-85.33693541599996%2C%2043.206255663000036%5D%2C%20%5B-85.33709773199996%2C%2043.206256120000035%5D%2C%20%5B-85.34187075999995%2C%2043.206269460000044%5D%2C%20%5B-85.34197897499996%2C%2043.20626976300008%5D%2C%20%5B-85.34680610399994%2C%2043.20628303400008%5D%2C%20%5B-85.34686021799996%2C%2043.20628318800004%5D%2C%20%5B-85.35174147299995%2C%2043.20629640400006%5D%2C%20%5B-85.35673887999997%2C%2043.20627082400006%5D%2C%20%5B-85.35688874299996%2C%2043.20627005500006%5D%2C%20%5B-85.36173629399997%2C%2043.20624502600003%5D%2C%20%5B-85.36203601799997%2C%2043.20624348400003%5D%2C%20%5B-85.36673371299997%2C%2043.20621902700003%5D%2C%20%5B-85.36718327499995%2C%2043.20621667100005%5D%2C%20%5B-85.37173111399994%2C%2043.20619280100004%5D%2C%20%5B-85.37233054299998%2C%2043.206189110000025%5D%2C%20%5B-85.37666955599997%2C%2043.20620077600006%5D%2C%20%5B-85.37725048599998%2C%2043.206202321000035%5D%2C%20%5B-85.38160796599999%2C%2043.20621385800007%5D%2C%20%5B-85.38217042999997%2C%2043.20621533000008%5D%2C%20%5B-85.38654638899999%2C%2043.20622671700005%5D%2C%20%5B-85.38709037399997%2C%2043.20622811700008%5D%2C%20%5B-85.39148481099994%2C%2043.20623937100004%5D%2C%20%5B-85.39201034499996%2C%2043.206235639000056%5D%2C%20%5B-85.39645583299995%2C%2043.20620487100007%5D%2C%20%5B-85.39698606699994%2C%2043.20620118800008%5D%2C%20%5B-85.40142684599994%2C%2043.206170274000044%5D%2C%20%5B-85.40196175499995%2C%2043.20616653900004%5D%2C%20%5B-85.40639786299994%2C%2043.20613546100003%5D%2C%20%5B-85.40693743699995%2C%2043.206131663000065%5D%2C%20%5B-85.41136888599993%2C%2043.20610043200003%5D%2C%20%5B-85.41191316299995%2C%2043.206100056000025%5D%2C%20%5B-85.41631977699996%2C%2043.20607720400005%5D%2C%20%5B-85.41686404%2C%2043.20607437000007%5D%2C%20%5B-85.42127064799996%2C%2043.206051337000076%5D%2C%20%5B-85.42181492299994%2C%2043.20604847900006%5D%2C%20%5B-85.42622151299997%2C%2043.20602525400005%5D%2C%20%5B-85.42676578699997%2C%2043.20602238200007%5D%2C%20%5B-85.43145614299993%2C%2043.205997455000045%5D%2C%20%5B-85.43147220399999%2C%2043.20962805400006%5D%2C%20%5B-85.43148825699996%2C%2043.213258661000054%5D%2C%20%5B-85.43150432599998%2C%2043.21688925600006%5D%2C%20%5B-85.43152038699998%2C%2043.22051985100006%5D%2C%20%5B-85.43152523999998%2C%2043.22415330800004%5D%2C%20%5B-85.43153009599996%2C%2043.22778675500007%5D%2C%20%5B-85.43153494199998%2C%2043.23142019100004%5D%2C%20%5B-85.43153980299996%2C%2043.235053625000035%5D%2C%20%5B-85.43152614499996%2C%2043.238702259000036%5D%2C%20%5B-85.43151248699996%2C%2043.24235088200004%5D%2C%20%5B-85.43149882999995%2C%2043.24599950400005%5D%2C%20%5B-85.43148515999997%2C%2043.24964811500007%5D%2C%20%5B-85.43153762299994%2C%2043.25329509200003%5D%2C%20%5B-85.43159008099997%2C%2043.25694206700007%5D%2C%20%5B-85.43164255999994%2C%2043.26058903100005%5D%2C%20%5B-85.43169504799994%2C%2043.26423598400004%5D%2C%20%5B-85.43174892699994%2C%2043.26787821200003%5D%2C%20%5B-85.43180282699996%2C%2043.27152042900008%5D%2C%20%5B-85.43185671099997%2C%2043.27516263500007%5D%2C%20%5B-85.43191062799997%2C%2043.27880483100006%5D%2C%20%5B-85.43193343999997%2C%2043.282426385000065%5D%2C%20%5B-85.43195624499998%2C%2043.286047918000065%5D%2C%20%5B-85.43197906599994%2C%2043.289669469000046%5D%2C%20%5B-85.43200850299996%2C%2043.29434101800007%5D%2C%20%5B-85.42749653699997%2C%2043.294342087000075%5D%2C%20%5B-85.42253843299994%2C%2043.29434363100006%5D%2C%20%5B-85.41758035%2C%2043.294349046000036%5D%2C%20%5B-85.41262226399994%2C%2043.29435423500007%5D%2C%20%5B-85.40757828299996%2C%2043.29435422100005%5D%2C%20%5B-85.40253443499995%2C%2043.29433701000005%5D%2C%20%5B-85.39749017099996%2C%2043.29431958200007%5D%2C%20%5B-85.39244635499995%2C%2043.29428912600008%5D%2C%20%5B-85.38744029399999%2C%2043.29433204500003%5D%2C%20%5B-85.38243404799994%2C%2043.29436136400005%5D%2C%20%5B-85.37742747599998%2C%2043.29433332900004%5D%2C%20%5B-85.37242099499997%2C%2043.29430506500006%5D%2C%20%5B-85.36744562999996%2C%2043.29430763100004%5D%2C%20%5B-85.36247023999994%2C%2043.294307453000044%5D%2C%20%5B-85.35749490099994%2C%2043.29429875100004%5D%2C%20%5B-85.35251953599999%2C%2043.29428985000004%5D%2C%20%5B-85.34742379699998%2C%2043.29428816600006%5D%2C%20%5B-85.34232798699998%2C%2043.29428230700006%5D%2C%20%5B-85.33723228099996%2C%2043.29426683400004%5D%5D%5D%5D%2C%20%22type%22%3A%20%22MultiPolygon%22%7D%2C%20%22properties%22%3A%20%7B%22CNTY_NAME%22%3A%20%22KENT%22%2C%20%22CNTY_NUM%22%3A%20%2241%22%2C%20%22FID%22%3A%20751%2C%20%22Pos2015%22%3A%20null%2C%20%22Pos2016%22%3A%20null%2C%20%22Pos2017%22%3A%209%2C%20%22Pos2018%22%3A%205%2C%20%22Pos2019%22%3A%2010%2C%20%22PosTotal%22%3A%2024%2C%20%22RANGE%22%3A%20%2209W%22%2C%20%22SHAPE_Area%22%3A%200.010516697392371014%2C%20%22SHAPE_Length%22%3A%200.4149765637656898%2C%20%22TIER%22%3A%20%2210N%22%2C%20%22TR%22%3A%20%22T10N%2CR09W%22%2C%20%22Test2016%22%3A%20null%2C%20%22Test2017%22%3A%20187%2C%20%22Test2018%22%3A%20144%2C%20%22Test2019%22%3A%20113%2C%20%22TestTotal%22%3A%20444%2C%20%22Tests2015%22%3A%20null%7D%2C%20%22type%22%3A%20%22Feature%22%7D%2C%20%7B%22geometry%22%3A%20%7B%22coordinates%22%3A%20%5B%5B%5B%5B-85.43200850299996%2C%2043.29434101800007%5D%2C%20%5B-85.43197906599994%2C%2043.289669469000046%5D%2C%20%5B-85.43195624499998%2C%2043.286047918000065%5D%2C%20%5B-85.43193343999997%2C%2043.282426385000065%5D%2C%20%5B-85.43191062799997%2C%2043.27880483100006%5D%2C%20%5B-85.43185671099997%2C%2043.27516263500007%5D%2C%20%5B-85.43180282699996%2C%2043.27152042900008%5D%2C%20%5B-85.43174892699994%2C%2043.26787821200003%5D%2C%20%5B-85.43169504799994%2C%2043.26423598400004%5D%2C%20%5B-85.43164255999994%2C%2043.26058903100005%5D%2C%20%5B-85.43159008099997%2C%2043.25694206700007%5D%2C%20%5B-85.43153762299994%2C%2043.25329509200003%5D%2C%20%5B-85.43148515999997%2C%2043.24964811500007%5D%2C%20%5B-85.43149882999995%2C%2043.24599950400005%5D%2C%20%5B-85.43151248699996%2C%2043.24235088200004%5D%2C%20%5B-85.43152614499996%2C%2043.238702259000036%5D%2C%20%5B-85.43153980299996%2C%2043.235053625000035%5D%2C%20%5B-85.43153494199998%2C%2043.23142019100004%5D%2C%20%5B-85.43153009599996%2C%2043.22778675500007%5D%2C%20%5B-85.43152523999998%2C%2043.22415330800004%5D%2C%20%5B-85.43152038699998%2C%2043.22051985100006%5D%2C%20%5B-85.43150432599998%2C%2043.21688925600006%5D%2C%20%5B-85.43148825699996%2C%2043.213258661000054%5D%2C%20%5B-85.43147220399999%2C%2043.20962805400006%5D%2C%20%5B-85.43145614299993%2C%2043.205997455000045%5D%2C%20%5B-85.43633010899998%2C%2043.205980744000044%5D%2C%20%5B-85.43641149099994%2C%2043.205980460000035%5D%2C%20%5B-85.44120405799998%2C%2043.205963825000026%5D%2C%20%5B-85.44136683499994%2C%2043.20596325900004%5D%2C%20%5B-85.44607800199998%2C%2043.20594670600008%5D%2C%20%5B-85.44632218599997%2C%2043.20594585200007%5D%2C%20%5B-85.45095195299996%2C%2043.20592938000004%5D%2C%20%5B-85.45127751599995%2C%2043.20592729900005%5D%2C%20%5B-85.45578157399996%2C%2043.20591933400004%5D%2C%20%5B-85.45620297299996%2C%2043.20591858100005%5D%2C%20%5B-85.46061120199994%2C%2043.20591060600003%5D%2C%20%5B-85.46112843999998%2C%2043.20590965000008%5D%2C%20%5B-85.46544083899994%2C%2043.20590167200004%5D%2C%20%5B-85.46605391499997%2C%2043.20590052500006%5D%2C%20%5B-85.47027047199998%2C%2043.20589253500003%5D%2C%20%5B-85.47097934099997%2C%2043.205887895000046%5D%2C%20%5B-85.47541467199994%2C%2043.20588931700007%5D%2C%20%5B-85.47594630599997%2C%2043.205889478000074%5D%2C%20%5B-85.48055886399999%2C%2043.205890744000044%5D%2C%20%5B-85.48091328199996%2C%2043.205890846000045%5D%2C%20%5B-85.48570303999998%2C%2043.20589194900003%5D%2C%20%5B-85.48588024299994%2C%2043.20589198700003%5D%2C%20%5B-85.49084722699996%2C%2043.20589292200003%5D%2C%20%5B-85.49578128599995%2C%2043.205877315000066%5D%2C%20%5B-85.49582825399995%2C%2043.205877163000025%5D%2C%20%5B-85.50071534099999%2C%2043.20586148600006%5D%2C%20%5B-85.50080930199994%2C%2043.20586117700003%5D%2C%20%5B-85.50564938999997%2C%2043.205845425000064%5D%2C%20%5B-85.50579033099996%2C%2043.20584496400005%5D%2C%20%5B-85.51058343399995%2C%2043.205829159000075%5D%2C%20%5B-85.51077135199995%2C%2043.205827519000024%5D%2C%20%5B-85.51549372999995%2C%2043.20578776200006%5D%2C%20%5B-85.51573224699996%2C%2043.20578574800004%5D%2C%20%5B-85.52040397899998%2C%2043.20574621800006%5D%2C%20%5B-85.52069312099997%2C%2043.205743761000065%5D%2C%20%5B-85.52531424299997%2C%2043.205704463000075%5D%2C%20%5B-85.52565398499996%2C%2043.20570156700006%5D%2C%20%5B-85.53022449799994%2C%2043.20566250500008%5D%2C%20%5B-85.53061484099999%2C%2043.205658964000065%5D%2C%20%5B-85.53517541399998%2C%2043.20564174400005%5D%2C%20%5B-85.53556575199997%2C%2043.20564026100004%5D%2C%20%5B-85.54012630799997%2C%2043.20562285200003%5D%2C%20%5B-85.54051665799994%2C%2043.20562135200004%5D%2C%20%5B-85.54507718299999%2C%2043.20560373600006%5D%2C%20%5B-85.54546754599994%2C%2043.20560221900007%5D%2C%20%5B-85.55106128599994%2C%2043.20558035600004%5D%2C%20%5B-85.55109320299994%2C%2043.20918595100005%5D%2C%20%5B-85.55112513799997%2C%2043.212791534000075%5D%2C%20%5B-85.55115706699996%2C%2043.21639711600005%5D%2C%20%5B-85.55118900299999%2C%2043.22000270600006%5D%2C%20%5B-85.55120058099999%2C%2043.22362634700005%5D%2C%20%5B-85.55121213899997%2C%2043.22724997800003%5D%2C%20%5B-85.55122372499994%2C%2043.23087361600005%5D%2C%20%5B-85.55123530299994%2C%2043.23449724400007%5D%2C%20%5B-85.55128850099999%2C%2043.23813422600006%5D%2C%20%5B-85.55134168299998%2C%2043.241771207000056%5D%2C%20%5B-85.55139488599997%2C%2043.24540817700006%5D%2C%20%5B-85.55144809899997%2C%2043.249045154000044%5D%2C%20%5B-85.55146244499997%2C%2043.252624268000034%5D%2C%20%5B-85.55147679499999%2C%2043.256203398000025%5D%2C%20%5B-85.55149114899996%2C%2043.25978250900005%5D%2C%20%5B-85.55150549399997%2C%2043.26336161800003%5D%2C%20%5B-85.55152911499994%2C%2043.26701175300008%5D%2C%20%5B-85.55155272799999%2C%2043.270661895000046%5D%2C%20%5B-85.55157633399995%2C%2043.274312018000046%5D%2C%20%5B-85.55159995699995%2C%2043.27796214800003%5D%2C%20%5B-85.55163175699994%2C%2043.28158366100007%5D%2C%20%5B-85.55166360199996%2C%2043.28521328800008%5D%2C%20%5B-85.55169532499997%2C%2043.288826656000026%5D%2C%20%5B-85.55174291699996%2C%2043.29424730900007%5D%2C%20%5B-85.54651851299997%2C%2043.29427139100005%5D%2C%20%5B-85.54156026299995%2C%2043.294289036000066%5D%2C%20%5B-85.53660219499994%2C%2043.29428599600004%5D%2C%20%5B-85.53164412499996%2C%2043.294282751000026%5D%2C%20%5B-85.52662160099999%2C%2043.29430550200004%5D%2C%20%5B-85.52159858199997%2C%2043.29431841200005%5D%2C%20%5B-85.51657464899995%2C%2043.29426997400003%5D%2C%20%5B-85.51155102499996%2C%2043.29422131600006%5D%2C%20%5B-85.50659903899998%2C%2043.294205989000034%5D%2C%20%5B-85.50164708899996%2C%2043.294199631000026%5D%2C%20%5B-85.49669544299996%2C%2043.29423837000007%5D%2C%20%5B-85.49174380099998%2C%2043.294276885000045%5D%2C%20%5B-85.48675625599998%2C%2043.294276936000074%5D%2C%20%5B-85.48176864499999%2C%2043.29427403900007%5D%2C%20%5B-85.47678110699997%2C%2043.29426255200008%5D%2C%20%5B-85.47179358099999%2C%2043.29425083700005%5D%2C%20%5B-85.46680093899994%2C%2043.29427817900006%5D%2C%20%5B-85.46180815299994%2C%2043.29430105000006%5D%2C%20%5B-85.45681539199995%2C%2043.29431082200006%5D%2C%20%5B-85.45182262699996%2C%2043.29432036600008%5D%2C%20%5B-85.44686923599994%2C%2043.29434265900005%5D%2C%20%5B-85.44191549099997%2C%2043.29435614200003%5D%2C%20%5B-85.43696200399995%2C%2043.29434868300007%5D%2C%20%5B-85.43200850299996%2C%2043.29434101800007%5D%5D%5D%5D%2C%20%22type%22%3A%20%22MultiPolygon%22%7D%2C%20%22properties%22%3A%20%7B%22CNTY_NAME%22%3A%20%22KENT%22%2C%20%22CNTY_NUM%22%3A%20%2241%22%2C%20%22FID%22%3A%20752%2C%20%22Pos2015%22%3A%20null%2C%20%22Pos2016%22%3A%20null%2C%20%22Pos2017%22%3A%20null%2C%20%22Pos2018%22%3A%202%2C%20%22Pos2019%22%3A%203%2C%20%22PosTotal%22%3A%205%2C%20%22RANGE%22%3A%20%2210W%22%2C%20%22SHAPE_Area%22%3A%200.010592474023409924%2C%20%22SHAPE_Length%22%3A%200.41635934674793146%2C%20%22TIER%22%3A%20%2210N%22%2C%20%22TR%22%3A%20%22T10N%2CR10W%22%2C%20%22Test2016%22%3A%201%2C%20%22Test2017%22%3A%2051%2C%20%22Test2018%22%3A%20115%2C%20%22Test2019%22%3A%2084%2C%20%22TestTotal%22%3A%20251%2C%20%22Tests2015%22%3A%20null%7D%2C%20%22type%22%3A%20%22Feature%22%7D%2C%20%7B%22geometry%22%3A%20%7B%22coordinates%22%3A%20%5B%5B%5B%5B-85.31708808299999%2C%2043.20640176900008%5D%2C%20%5B-85.31211739799994%2C%2043.206453718000034%5D%2C%20%5B-85.31210442599996%2C%2043.20217296100003%5D%2C%20%5B-85.31209343499995%2C%2043.19855128800003%5D%2C%20%5B-85.31208245999994%2C%2043.194929614000046%5D%2C%20%5B-85.31207147599997%2C%2043.19130793700003%5D%2C%20%5B-85.31210748099994%2C%2043.187673688000075%5D%2C%20%5B-85.31214348399999%2C%2043.18403944600004%5D%2C%20%5B-85.31217948399996%2C%2043.18040519300007%5D%2C%20%5B-85.31221548199994%2C%2043.17677093900005%5D%2C%20%5B-85.31223094499995%2C%2043.17314510300008%5D%2C%20%5B-85.31224641999995%2C%2043.169519265000076%5D%2C%20%5B-85.31226189499995%2C%2043.165893426000025%5D%2C%20%5B-85.31227735799996%2C%2043.162267575000044%5D%2C%20%5B-85.31226860699996%2C%2043.15865293300004%5D%2C%20%5B-85.31225987199997%2C%2043.15503829800008%5D%2C%20%5B-85.31225111499998%2C%2043.15142365200006%5D%2C%20%5B-85.31224237299995%2C%2043.14780899500005%5D%2C%20%5B-85.31228176499997%2C%2043.14415405300008%5D%2C%20%5B-85.31232115499995%2C%2043.140499110000064%5D%2C%20%5B-85.31236054099998%2C%2043.13684417500008%5D%2C%20%5B-85.31239992499997%2C%2043.13318921900003%5D%2C%20%5B-85.31243761699994%2C%2043.12960716200007%5D%2C%20%5B-85.31247531899999%2C%2043.126025113000026%5D%2C%20%5B-85.31251299399997%2C%2043.12244304400008%5D%2C%20%5B-85.31255067799998%2C%2043.11886098200006%5D%2C%20%5B-85.31750238499995%2C%2043.11880522000007%5D%2C%20%5B-85.31756247299995%2C%2043.11880454100003%5D%2C%20%5B-85.32245409399997%2C%2043.11874923400006%5D%2C%20%5B-85.32257423199997%2C%2043.11874787800008%5D%2C%20%5B-85.32740576599997%2C%2043.118693043000064%5D%2C%20%5B-85.32758599299996%2C%2043.118690987000036%5D%2C%20%5B-85.33235743999995%2C%2043.118636636000076%5D%2C%20%5B-85.33259774699997%2C%2043.11863451200003%5D%2C%20%5B-85.33732298799998%2C%2043.11861927900003%5D%2C%20%5B-85.33762663499994%2C%2043.11861829900005%5D%2C%20%5B-85.34228851599994%2C%2043.11860307000006%5D%2C%20%5B-85.34265551699997%2C%2043.11860186500007%5D%2C%20%5B-85.34725403899995%2C%2043.11858664500005%5D%2C%20%5B-85.34768438299994%2C%2043.11858520800007%5D%2C%20%5B-85.35221956999999%2C%2043.11857000400005%5D%2C%20%5B-85.35271325199994%2C%2043.11856750100003%5D%2C%20%5B-85.35717865399994%2C%2043.118541417000074%5D%2C%20%5B-85.35774192599996%2C%2043.11853811800006%5D%2C%20%5B-85.36213773399999%2C%2043.11851225500004%5D%2C%20%5B-85.36277058099995%2C%2043.11850851300005%5D%2C%20%5B-85.36709679499995%2C%2043.118482878000066%5D%2C%20%5B-85.36779925399998%2C%2043.11847869600007%5D%2C%20%5B-85.37205586099998%2C%2043.118453284000054%5D%2C%20%5B-85.37282788099998%2C%2043.11844752300004%5D%2C%20%5B-85.37699797399995%2C%2043.11842983500003%5D%2C%20%5B-85.37765260899994%2C%2043.11842704600008%5D%2C%20%5B-85.38194009199998%2C%2043.11840867900003%5D%2C%20%5B-85.38247733199995%2C%2043.118406365000055%5D%2C%20%5B-85.38688220499995%2C%2043.11838730900007%5D%2C%20%5B-85.38730204899997%2C%2043.11838549000004%5D%2C%20%5B-85.39182431199998%2C%2043.118365735000054%5D%2C%20%5B-85.39212674399994%2C%2043.11836244600005%5D%2C%20%5B-85.39677430699999%2C%2043.11833153200007%5D%2C%20%5B-85.39700114599998%2C%2043.11833001900004%5D%2C%20%5B-85.40172431899998%2C%2043.11829839600006%5D%2C%20%5B-85.40187555299997%2C%2043.11829738400007%5D%2C%20%5B-85.40667430999997%2C%2043.11826505400006%5D%2C%20%5B-85.40674992699996%2C%2043.11826454000004%5D%2C%20%5B-85.41162430699995%2C%2043.11823149800006%5D%2C%20%5B-85.41656800699997%2C%2043.11819464100006%5D%2C%20%5B-85.42151168599997%2C%2043.11815758900008%5D%2C%20%5B-85.42645536999999%2C%2043.11812030400006%5D%2C%20%5B-85.43100935599995%2C%2043.118085791000055%5D%2C%20%5B-85.43104858699996%2C%2043.12170742200004%5D%2C%20%5B-85.43108779999994%2C%2043.12532906100006%5D%2C%20%5B-85.43108812%2C%2043.12535847700008%5D%2C%20%5B-85.43112704499998%2C%2043.12895068900008%5D%2C%20%5B-85.43112751299998%2C%2043.12899482300003%5D%2C%20%5B-85.43116691199998%2C%2043.13263116600007%5D%2C%20%5B-85.43116614399997%2C%2043.13625290600004%5D%2C%20%5B-85.43116537799995%2C%2043.13987464400003%5D%2C%20%5B-85.43116536199994%2C%2043.13990108100006%5D%2C%20%5B-85.43116458899999%2C%2043.14349637200007%5D%2C%20%5B-85.43116458299994%2C%2043.14353604000007%5D%2C%20%5B-85.43116380699996%2C%2043.14717098800003%5D%2C%20%5B-85.43116330599997%2C%2043.150739832000056%5D%2C%20%5B-85.43116330299995%2C%2043.15082105000005%5D%2C%20%5B-85.43116281299996%2C%2043.154361556000026%5D%2C%20%5B-85.43116279999998%2C%2043.15447111000003%5D%2C%20%5B-85.43116231%2C%2043.157983278000074%5D%2C%20%5B-85.43116227499996%2C%2043.15812116800004%5D%2C%20%5B-85.43116177799999%2C%2043.161771215000044%5D%2C%20%5B-85.43118068499996%2C%2043.16522664300004%5D%2C%20%5B-85.43118165999994%2C%2043.16540733200003%5D%2C%20%5B-85.43120047199994%2C%2043.16884829000003%5D%2C%20%5B-85.43120154699994%2C%2043.169043428000066%5D%2C%20%5B-85.43122028899995%2C%2043.172469945000046%5D%2C%20%5B-85.43122142599998%2C%2043.172679532000075%5D%2C%20%5B-85.43124130999996%2C%2043.17631563500004%5D%2C%20%5B-85.43124409599994%2C%2043.17971348100008%5D%2C%20%5B-85.43124430099994%2C%2043.17995052400005%5D%2C%20%5B-85.43124706599997%2C%2043.183335173000046%5D%2C%20%5B-85.43124728199996%2C%2043.18358540100007%5D%2C%20%5B-85.43125005%2C%2043.18695687300004%5D%2C%20%5B-85.43125025299997%2C%2043.18722027700005%5D%2C%20%5B-85.43125323899994%2C%2043.19085514200003%5D%2C%20%5B-85.43129729699996%2C%2043.19414335700003%5D%2C%20%5B-85.43130175299996%2C%2043.19447665900003%5D%2C%20%5B-85.43134581799995%2C%2043.19776485300008%5D%2C%20%5B-85.43135027399995%2C%2043.198098164000044%5D%2C%20%5B-85.43139434599999%2C%2043.20138635700005%5D%2C%20%5B-85.43139880399997%2C%2043.20171966800007%5D%2C%20%5B-85.43145614299993%2C%2043.205997455000045%5D%2C%20%5B-85.42676578699997%2C%2043.20602238200007%5D%2C%20%5B-85.42622151299997%2C%2043.20602525400005%5D%2C%20%5B-85.42181492299994%2C%2043.20604847900006%5D%2C%20%5B-85.42127064799996%2C%2043.206051337000076%5D%2C%20%5B-85.41686404%2C%2043.20607437000007%5D%2C%20%5B-85.41631977699996%2C%2043.20607720400005%5D%2C%20%5B-85.41191316299995%2C%2043.206100056000025%5D%2C%20%5B-85.41136888599993%2C%2043.20610043200003%5D%2C%20%5B-85.40693743699995%2C%2043.206131663000065%5D%2C%20%5B-85.40639786299994%2C%2043.20613546100003%5D%2C%20%5B-85.40196175499995%2C%2043.20616653900004%5D%2C%20%5B-85.40142684599994%2C%2043.206170274000044%5D%2C%20%5B-85.39698606699994%2C%2043.20620118800008%5D%2C%20%5B-85.39645583299995%2C%2043.20620487100007%5D%2C%20%5B-85.39201034499996%2C%2043.206235639000056%5D%2C%20%5B-85.39148481099994%2C%2043.20623937100004%5D%2C%20%5B-85.38709037399997%2C%2043.20622811700008%5D%2C%20%5B-85.38654638899999%2C%2043.20622671700005%5D%2C%20%5B-85.38217042999997%2C%2043.20621533000008%5D%2C%20%5B-85.38160796599999%2C%2043.20621385800007%5D%2C%20%5B-85.37725048599998%2C%2043.206202321000035%5D%2C%20%5B-85.37666955599997%2C%2043.20620077600006%5D%2C%20%5B-85.37233054299998%2C%2043.206189110000025%5D%2C%20%5B-85.37173111399994%2C%2043.20619280100004%5D%2C%20%5B-85.36718327499995%2C%2043.20621667100005%5D%2C%20%5B-85.36673371299997%2C%2043.20621902700003%5D%2C%20%5B-85.36203601799997%2C%2043.20624348400003%5D%2C%20%5B-85.36173629399997%2C%2043.20624502600003%5D%2C%20%5B-85.35688874299996%2C%2043.20627005500006%5D%2C%20%5B-85.35673887999997%2C%2043.20627082400006%5D%2C%20%5B-85.35174147299995%2C%2043.20629640400006%5D%2C%20%5B-85.34686021799996%2C%2043.20628318800004%5D%2C%20%5B-85.34680610399994%2C%2043.20628303400008%5D%2C%20%5B-85.34197897499996%2C%2043.20626976300008%5D%2C%20%5B-85.34187075999995%2C%2043.206269460000044%5D%2C%20%5B-85.33709773199996%2C%2043.206256120000035%5D%2C%20%5B-85.33693541599996%2C%2043.206255663000036%5D%2C%20%5B-85.33221648999995%2C%2043.206242287000066%5D%2C%20%5B-85.33200005199996%2C%2043.20624463200005%5D%2C%20%5B-85.32719172599997%2C%2043.20629551500008%5D%2C%20%5B-85.32702939699999%2C%2043.206297230000075%5D%2C%20%5B-85.32216696499995%2C%2043.206348468000044%5D%2C%20%5B-85.32205874499994%2C%2043.206349612000054%5D%2C%20%5B-85.31714219299994%2C%2043.206401208000045%5D%2C%20%5B-85.31708808299999%2C%2043.20640176900008%5D%5D%5D%5D%2C%20%22type%22%3A%20%22MultiPolygon%22%7D%2C%20%22properties%22%3A%20%7B%22CNTY_NAME%22%3A%20%22KENT%22%2C%20%22CNTY_NUM%22%3A%20%2241%22%2C%20%22FID%22%3A%20755%2C%20%22Pos2015%22%3A%20null%2C%20%22Pos2016%22%3A%20null%2C%20%22Pos2017%22%3A%201%2C%20%22Pos2018%22%3A%201%2C%20%22Pos2019%22%3A%20null%2C%20%22PosTotal%22%3A%202%2C%20%22RANGE%22%3A%20%2209W%22%2C%20%22SHAPE_Area%22%3A%200.010438933613328661%2C%20%22SHAPE_Length%22%3A%200.4133120778725628%2C%20%22TIER%22%3A%20%2209N%22%2C%20%22TR%22%3A%20%22T09N%2CR09W%22%2C%20%22Test2016%22%3A%20null%2C%20%22Test2017%22%3A%20105%2C%20%22Test2018%22%3A%2096%2C%20%22Test2019%22%3A%2054%2C%20%22TestTotal%22%3A%20255%2C%20%22Tests2015%22%3A%20null%7D%2C%20%22type%22%3A%20%22Feature%22%7D%2C%20%7B%22geometry%22%3A%20%7B%22coordinates%22%3A%20%5B%5B%5B%5B-85.43633010899998%2C%2043.205980744000044%5D%2C%20%5B-85.43145614299993%2C%2043.205997455000045%5D%2C%20%5B-85.43139880399997%2C%2043.20171966800007%5D%2C%20%5B-85.43139434599999%2C%2043.20138635700005%5D%2C%20%5B-85.43135027399995%2C%2043.198098164000044%5D%2C%20%5B-85.43134581799995%2C%2043.19776485300008%5D%2C%20%5B-85.43130175299996%2C%2043.19447665900003%5D%2C%20%5B-85.43129729699996%2C%2043.19414335700003%5D%2C%20%5B-85.43125323899994%2C%2043.19085514200003%5D%2C%20%5B-85.43125025299997%2C%2043.18722027700005%5D%2C%20%5B-85.43125005%2C%2043.18695687300004%5D%2C%20%5B-85.43124728199996%2C%2043.18358540100007%5D%2C%20%5B-85.43124706599997%2C%2043.183335173000046%5D%2C%20%5B-85.43124430099994%2C%2043.17995052400005%5D%2C%20%5B-85.43124409599994%2C%2043.17971348100008%5D%2C%20%5B-85.43124130999996%2C%2043.17631563500004%5D%2C%20%5B-85.43122142599998%2C%2043.172679532000075%5D%2C%20%5B-85.43122028899995%2C%2043.172469945000046%5D%2C%20%5B-85.43120154699994%2C%2043.169043428000066%5D%2C%20%5B-85.43120047199994%2C%2043.16884829000003%5D%2C%20%5B-85.43118165999994%2C%2043.16540733200003%5D%2C%20%5B-85.43118068499996%2C%2043.16522664300004%5D%2C%20%5B-85.43116177799999%2C%2043.161771215000044%5D%2C%20%5B-85.43116227499996%2C%2043.15812116800004%5D%2C%20%5B-85.43116231%2C%2043.157983278000074%5D%2C%20%5B-85.43116279999998%2C%2043.15447111000003%5D%2C%20%5B-85.43116281299996%2C%2043.154361556000026%5D%2C%20%5B-85.43116330299995%2C%2043.15082105000005%5D%2C%20%5B-85.43116330599997%2C%2043.150739832000056%5D%2C%20%5B-85.43116380699996%2C%2043.14717098800003%5D%2C%20%5B-85.43116458299994%2C%2043.14353604000007%5D%2C%20%5B-85.43116458899999%2C%2043.14349637200007%5D%2C%20%5B-85.43116536199994%2C%2043.13990108100006%5D%2C%20%5B-85.43116537799995%2C%2043.13987464400003%5D%2C%20%5B-85.43116614399997%2C%2043.13625290600004%5D%2C%20%5B-85.43116691199998%2C%2043.13263116600007%5D%2C%20%5B-85.43112751299998%2C%2043.12899482300003%5D%2C%20%5B-85.43112704499998%2C%2043.12895068900008%5D%2C%20%5B-85.43108812%2C%2043.12535847700008%5D%2C%20%5B-85.43108779999994%2C%2043.12532906100006%5D%2C%20%5B-85.43104858699996%2C%2043.12170742200004%5D%2C%20%5B-85.43100935599995%2C%2043.118085791000055%5D%2C%20%5B-85.43592189499998%2C%2043.11806262300007%5D%2C%20%5B-85.43600741599994%2C%2043.118062215000066%5D%2C%20%5B-85.44083441499998%2C%2043.11803925300006%5D%2C%20%5B-85.44100546999994%2C%2043.11803843800004%5D%2C%20%5B-85.44574691699995%2C%2043.11801568100003%5D%2C%20%5B-85.44600350399998%2C%2043.11801443300004%5D%2C%20%5B-85.45065943699996%2C%2043.11799188700007%5D%2C%20%5B-85.45100152199996%2C%2043.11798865000003%5D%2C%20%5B-85.45560297199995%2C%2043.11796184900004%5D%2C%20%5B-85.45597145399995%2C%2043.11795969700006%5D%2C%20%5B-85.46054651299994%2C%2043.117932851000035%5D%2C%20%5B-85.46094137799997%2C%2043.117930527000055%5D%2C%20%5B-85.46549004699995%2C%2043.11790364800004%5D%2C%20%5B-85.46591131999998%2C%2043.11790115000008%5D%2C%20%5B-85.47043356099994%2C%2043.11787422200007%5D%2C%20%5B-85.47088122099996%2C%2043.117871122000054%5D%2C%20%5B-85.47540051899995%2C%2043.11780491400003%5D%2C%20%5B-85.47583646499999%2C%2043.117798512000036%5D%2C%20%5B-85.48036735599999%2C%2043.11773193200003%5D%2C%20%5B-85.48079169399995%2C%2043.117725696000036%5D%2C%20%5B-85.48533417899995%2C%2043.11765875200007%5D%2C%20%5B-85.48574690799995%2C%2043.11765266400005%5D%2C%20%5B-85.49030098699996%2C%2043.117585347000045%5D%2C%20%5B-85.49070212099997%2C%2043.11757946300003%5D%2C%20%5B-85.49529337699994%2C%2043.11756496500004%5D%2C%20%5B-85.49570854199999%2C%2043.117563647000054%5D%2C%20%5B-85.50028570899997%2C%2043.11754899300007%5D%2C%20%5B-85.50071494599996%2C%2043.11754761100008%5D%2C%20%5B-85.50527804799998%2C%2043.117532794000056%5D%2C%20%5B-85.50572136999995%2C%2043.11753134500003%5D%2C%20%5B-85.51027038199999%2C%2043.117516366000075%5D%2C%20%5B-85.51072777499996%2C%2043.11751353200003%5D%2C%20%5B-85.51518563799993%2C%2043.11749563400008%5D%2C%20%5B-85.51571700999995%2C%2043.117493496000066%5D%2C%20%5B-85.52010092899997%2C%2043.11747571300003%5D%2C%20%5B-85.52070625099998%2C%2043.117473242000074%5D%2C%20%5B-85.52501625299999%2C%2043.11745557100005%5D%2C%20%5B-85.52569548599996%2C%2043.11745276900007%5D%2C%20%5B-85.52988346199999%2C%2043.11743542500005%5D%2C%20%5B-85.53068472099994%2C%2043.117432981000036%5D%2C%20%5B-85.53482735799997%2C%2043.11743547200007%5D%2C%20%5B-85.53562859199997%2C%2043.11743592600004%5D%2C%20%5B-85.53977124099998%2C%2043.11743824700005%5D%2C%20%5B-85.54057248699996%2C%2043.11743867500007%5D%2C%20%5B-85.54471513399994%2C%2043.11744080700004%5D%2C%20%5B-85.54551636699995%2C%2043.11744120000003%5D%2C%20%5B-85.55079021799997%2C%2043.11744366800008%5D%2C%20%5B-85.55076131799996%2C%2043.12106968400008%5D%2C%20%5B-85.55073240499996%2C%2043.12469569900003%5D%2C%20%5B-85.55070349099998%2C%2043.12832171200006%5D%2C%20%5B-85.55067458899998%2C%2043.13194771500008%5D%2C%20%5B-85.55067905399994%2C%2043.13559625100004%5D%2C%20%5B-85.55068350899995%2C%2043.139244777000044%5D%2C%20%5B-85.55068796799998%2C%2043.142893310000034%5D%2C%20%5B-85.55069244299995%2C%2043.14654184200003%5D%2C%20%5B-85.55073987699996%2C%2043.15017895900007%5D%2C%20%5B-85.55078733199997%2C%2043.153816075000066%5D%2C%20%5B-85.55083478199998%2C%2043.15745319800004%5D%2C%20%5B-85.55088225399999%2C%2043.16109030100006%5D%2C%20%5B-85.55092197899995%2C%2043.16471375200007%5D%2C%20%5B-85.55096169799998%2C%2043.168337173000054%5D%2C%20%5B-85.55100141299994%2C%2043.17196060300006%5D%2C%20%5B-85.55104114699998%2C%2043.17558402100008%5D%2C%20%5B-85.55105444199995%2C%2043.17919944500005%5D%2C%20%5B-85.55106772699997%2C%2043.18281485800003%5D%2C%20%5B-85.55108102999998%2C%2043.18643027000007%5D%2C%20%5B-85.55109432399996%2C%2043.190045671000064%5D%2C%20%5B-85.55108661599996%2C%2043.19366735600005%5D%2C%20%5B-85.55107892199999%2C%2043.197289030000036%5D%2C%20%5B-85.55107121799995%2C%2043.200910702000044%5D%2C%20%5B-85.55106128599994%2C%2043.20558035600004%5D%2C%20%5B-85.54546754599994%2C%2043.20560221900007%5D%2C%20%5B-85.54507718299999%2C%2043.20560373600006%5D%2C%20%5B-85.54051665799994%2C%2043.20562135200004%5D%2C%20%5B-85.54012630799997%2C%2043.20562285200003%5D%2C%20%5B-85.53556575199997%2C%2043.20564026100004%5D%2C%20%5B-85.53517541399998%2C%2043.20564174400005%5D%2C%20%5B-85.53061484099999%2C%2043.205658964000065%5D%2C%20%5B-85.53022449799994%2C%2043.20566250500008%5D%2C%20%5B-85.52565398499996%2C%2043.20570156700006%5D%2C%20%5B-85.52531424299997%2C%2043.205704463000075%5D%2C%20%5B-85.52069312099997%2C%2043.205743761000065%5D%2C%20%5B-85.52040397899998%2C%2043.20574621800006%5D%2C%20%5B-85.51573224699996%2C%2043.20578574800004%5D%2C%20%5B-85.51549372999995%2C%2043.20578776200006%5D%2C%20%5B-85.51077135199995%2C%2043.205827519000024%5D%2C%20%5B-85.51058343399995%2C%2043.205829159000075%5D%2C%20%5B-85.50579033099996%2C%2043.20584496400005%5D%2C%20%5B-85.50564938999997%2C%2043.205845425000064%5D%2C%20%5B-85.50080930199994%2C%2043.20586117700003%5D%2C%20%5B-85.50071534099999%2C%2043.20586148600006%5D%2C%20%5B-85.49582825399995%2C%2043.205877163000025%5D%2C%20%5B-85.49578128599995%2C%2043.205877315000066%5D%2C%20%5B-85.49084722699996%2C%2043.20589292200003%5D%2C%20%5B-85.48588024299994%2C%2043.20589198700003%5D%2C%20%5B-85.48570303999998%2C%2043.20589194900003%5D%2C%20%5B-85.48091328199996%2C%2043.205890846000045%5D%2C%20%5B-85.48055886399999%2C%2043.205890744000044%5D%2C%20%5B-85.47594630599997%2C%2043.205889478000074%5D%2C%20%5B-85.47541467199994%2C%2043.20588931700007%5D%2C%20%5B-85.47097934099997%2C%2043.205887895000046%5D%2C%20%5B-85.47027047199998%2C%2043.20589253500003%5D%2C%20%5B-85.46605391499997%2C%2043.20590052500006%5D%2C%20%5B-85.46544083899994%2C%2043.20590167200004%5D%2C%20%5B-85.46112843999998%2C%2043.20590965000008%5D%2C%20%5B-85.46061120199994%2C%2043.20591060600003%5D%2C%20%5B-85.45620297299996%2C%2043.20591858100005%5D%2C%20%5B-85.45578157399996%2C%2043.20591933400004%5D%2C%20%5B-85.45127751599995%2C%2043.20592729900005%5D%2C%20%5B-85.45095195299996%2C%2043.20592938000004%5D%2C%20%5B-85.44632218599997%2C%2043.20594585200007%5D%2C%20%5B-85.44607800199998%2C%2043.20594670600008%5D%2C%20%5B-85.44136683499994%2C%2043.20596325900004%5D%2C%20%5B-85.44120405799998%2C%2043.205963825000026%5D%2C%20%5B-85.43641149099994%2C%2043.205980460000035%5D%2C%20%5B-85.43633010899998%2C%2043.205980744000044%5D%5D%5D%5D%2C%20%22type%22%3A%20%22MultiPolygon%22%7D%2C%20%22properties%22%3A%20%7B%22CNTY_NAME%22%3A%20%22KENT%22%2C%20%22CNTY_NUM%22%3A%20%2241%22%2C%20%22FID%22%3A%20756%2C%20%22Pos2015%22%3A%20null%2C%20%22Pos2016%22%3A%20null%2C%20%22Pos2017%22%3A%20null%2C%20%22Pos2018%22%3A%201%2C%20%22Pos2019%22%3A%203%2C%20%22PosTotal%22%3A%204%2C%20%22RANGE%22%3A%20%2210W%22%2C%20%22SHAPE_Area%22%3A%200.010548828568240014%2C%20%22SHAPE_Length%22%3A%200.4154436662871935%2C%20%22TIER%22%3A%20%2209N%22%2C%20%22TR%22%3A%20%22T09N%2CR10W%22%2C%20%22Test2016%22%3A%201%2C%20%22Test2017%22%3A%2026%2C%20%22Test2018%22%3A%20100%2C%20%22Test2019%22%3A%2057%2C%20%22TestTotal%22%3A%20184%2C%20%22Tests2015%22%3A%20null%7D%2C%20%22type%22%3A%20%22Feature%22%7D%2C%20%7B%22geometry%22%3A%20%7B%22coordinates%22%3A%20%5B%5B%5B%5B-85.43592189499998%2C%2043.11806262300007%5D%2C%20%5B-85.43100935599995%2C%2043.118085791000055%5D%2C%20%5B-85.43100273099998%2C%2043.11257306300007%5D%2C%20%5B-85.43099836399995%2C%2043.10895130400007%5D%2C%20%5B-85.430994%2C%2043.10532953400008%5D%2C%20%5B-85.43098963899996%2C%2043.101707763000036%5D%2C%20%5B-85.43096749199998%2C%2043.098099905000026%5D%2C%20%5B-85.43094534999994%2C%2043.09449203600008%5D%2C%20%5B-85.43092321299997%2C%2043.090884165000034%5D%2C%20%5B-85.43090106899996%2C%2043.08727628300005%5D%2C%20%5B-85.43087919699997%2C%2043.08363815600006%5D%2C%20%5B-85.43085730499996%2C%2043.08000003700005%5D%2C%20%5B-85.43083542999995%2C%2043.076361907000035%5D%2C%20%5B-85.43081356%2C%2043.07272376600008%5D%2C%20%5B-85.43081052999997%2C%2043.06907195500003%5D%2C%20%5B-85.43080751499997%2C%2043.06542014200005%5D%2C%20%5B-85.43080450299999%2C%2043.06176832700004%5D%2C%20%5B-85.43080149399998%2C%2043.05811650100003%5D%2C%20%5B-85.43078164099995%2C%2043.05446049300008%5D%2C%20%5B-85.43076180599996%2C%2043.05080447300003%5D%2C%20%5B-85.43074197499999%2C%2043.047148452000044%5D%2C%20%5B-85.43072213699998%2C%2043.043492420000064%5D%2C%20%5B-85.43073995099996%2C%2043.03981455300004%5D%2C%20%5B-85.43075775399996%2C%2043.03613667500008%5D%2C%20%5B-85.43077556899999%2C%2043.03245879600007%5D%2C%20%5B-85.43079337299997%2C%2043.028780906000065%5D%2C%20%5B-85.43575368299997%2C%2043.028764685000056%5D%2C%20%5B-85.43584032299998%2C%2043.028764386000034%5D%2C%20%5B-85.44071401299999%2C%2043.02874824000003%5D%2C%20%5B-85.44088725399996%2C%2043.02874765100006%5D%2C%20%5B-85.44567433799995%2C%2043.028731579000066%5D%2C%20%5B-85.44593418099998%2C%2043.028730703000065%5D%2C%20%5B-85.45063465699997%2C%2043.02871471200007%5D%2C%20%5B-85.45098111399994%2C%2043.028712176000056%5D%2C%20%5B-85.45560157899996%2C%2043.02868436500006%5D%2C%20%5B-85.45607310999998%2C%2043.02868151500007%5D%2C%20%5B-85.46056851499998%2C%2043.02865425400006%5D%2C%20%5B-85.46116508699998%2C%2043.02865062700005%5D%2C%20%5B-85.46553543099998%2C%2043.02862393600003%5D%2C%20%5B-85.46625706699996%2C%2043.028619512000034%5D%2C%20%5B-85.47050233899995%2C%2043.02859340100008%5D%2C%20%5B-85.47134901299995%2C%2043.02858556800004%5D%2C%20%5B-85.47545188499998%2C%2043.02855108600005%5D%2C%20%5B-85.47634556099996%2C%2043.028543554000066%5D%2C%20%5B-85.48040141499996%2C%2043.02850928500004%5D%2C%20%5B-85.48134208799996%2C%2043.02850132000003%5D%2C%20%5B-85.48535096099994%2C%2043.02846727900004%5D%2C%20%5B-85.48633861699994%2C%2043.02845887600006%5D%2C%20%5B-85.49030048499998%2C%2043.02842505800004%5D%2C%20%5B-85.49133511699995%2C%2043.028415504000066%5D%2C%20%5B-85.49527452799998%2C%2043.02837881600004%5D%2C%20%5B-85.49628903499996%2C%2043.028369346000034%5D%2C%20%5B-85.50024854899993%2C%2043.02833229300006%5D%2C%20%5B-85.50124295499995%2C%2043.02832296300005%5D%2C%20%5B-85.50522255899995%2C%2043.02828554400003%5D%2C%20%5B-85.50619686399995%2C%2043.02827635600005%5D%2C%20%5B-85.51019657199998%2C%2043.02823856900005%5D%2C%20%5B-85.51115077099996%2C%2043.028234706000035%5D%2C%20%5B-85.51515523999996%2C%2043.02822336100007%5D%2C%20%5B-85.51612525199994%2C%2043.02822059600004%5D%2C%20%5B-85.52011390499996%2C%2043.028209117000074%5D%2C%20%5B-85.52109973999995%2C%2043.02820626000005%5D%2C%20%5B-85.52507257699995%2C%2043.02819466600005%5D%2C%20%5B-85.52607421%2C%2043.028191725000056%5D%2C%20%5B-85.53003123199994%2C%2043.02818%5D%2C%20%5B-85.53104864099998%2C%2043.028170343000056%5D%2C%20%5B-85.53496619499998%2C%2043.02808877800004%5D%2C%20%5B-85.53598339099995%2C%2043.02806757800005%5D%2C%20%5B-85.53990099299995%2C%2043.02798584400006%5D%2C%20%5B-85.54091812199994%2C%2043.02796459900003%5D%2C%20%5B-85.54483579599997%2C%2043.02788269600006%5D%2C%20%5B-85.54585283299997%2C%2043.027861407000046%5D%2C%20%5B-85.55089930099996%2C%2043.02775566300005%5D%2C%20%5B-85.55084613299994%2C%2043.03138506200003%5D%2C%20%5B-85.55079296299994%2C%2043.03501446100006%5D%2C%20%5B-85.55073978899998%2C%2043.03864384900004%5D%2C%20%5B-85.55068661099995%2C%2043.04227323500004%5D%2C%20%5B-85.55067230599997%2C%2043.045933182000056%5D%2C%20%5B-85.55065797799995%2C%2043.049593128000026%5D%2C%20%5B-85.55064366299996%2C%2043.053253082000026%5D%2C%20%5B-85.55062934899996%2C%2043.05691301500008%5D%2C%20%5B-85.55068488699999%2C%2043.06053914800003%5D%2C%20%5B-85.55074040999995%2C%2043.064165270000046%5D%2C%20%5B-85.55079595499996%2C%2043.06779139900004%5D%2C%20%5B-85.55085149699994%2C%2043.07141751800003%5D%2C%20%5B-85.55088370999994%2C%2043.07509982200003%5D%2C%20%5B-85.55091590599994%2C%2043.07878211600007%5D%2C%20%5B-85.55094813299996%2C%2043.08246441700004%5D%2C%20%5B-85.55098035399999%2C%2043.08614670700007%5D%2C%20%5B-85.55095689799998%2C%2043.08979142100003%5D%2C%20%5B-85.55093344199997%2C%2043.09343613400006%5D%2C%20%5B-85.55090999899994%2C%2043.09708083600003%5D%2C%20%5B-85.55088655599997%2C%2043.10072553700007%5D%2C%20%5B-85.55086568099995%2C%2043.10434728700005%5D%2C%20%5B-85.55084481899996%2C%2043.10796901700007%5D%2C%20%5B-85.55082394399994%2C%2043.11159074600005%5D%2C%20%5B-85.55079021799997%2C%2043.11744366800008%5D%2C%20%5B-85.54551636699995%2C%2043.11744120000003%5D%2C%20%5B-85.54471513399994%2C%2043.11744080700004%5D%2C%20%5B-85.54057248699996%2C%2043.11743867500007%5D%2C%20%5B-85.53977124099998%2C%2043.11743824700005%5D%2C%20%5B-85.53562859199997%2C%2043.11743592600004%5D%2C%20%5B-85.53482735799997%2C%2043.11743547200007%5D%2C%20%5B-85.53068472099994%2C%2043.117432981000036%5D%2C%20%5B-85.52988346199999%2C%2043.11743542500005%5D%2C%20%5B-85.52569548599996%2C%2043.11745276900007%5D%2C%20%5B-85.52501625299999%2C%2043.11745557100005%5D%2C%20%5B-85.52070625099998%2C%2043.117473242000074%5D%2C%20%5B-85.52010092899997%2C%2043.11747571300003%5D%2C%20%5B-85.51571700999995%2C%2043.117493496000066%5D%2C%20%5B-85.51518563799993%2C%2043.11749563400008%5D%2C%20%5B-85.51072777499996%2C%2043.11751353200003%5D%2C%20%5B-85.51027038199999%2C%2043.117516366000075%5D%2C%20%5B-85.50572136999995%2C%2043.11753134500003%5D%2C%20%5B-85.50527804799998%2C%2043.117532794000056%5D%2C%20%5B-85.50071494599996%2C%2043.11754761100008%5D%2C%20%5B-85.50028570899997%2C%2043.11754899300007%5D%2C%20%5B-85.49570854199999%2C%2043.117563647000054%5D%2C%20%5B-85.49529337699994%2C%2043.11756496500004%5D%2C%20%5B-85.49070212099997%2C%2043.11757946300003%5D%2C%20%5B-85.49030098699996%2C%2043.117585347000045%5D%2C%20%5B-85.48574690799995%2C%2043.11765266400005%5D%2C%20%5B-85.48533417899995%2C%2043.11765875200007%5D%2C%20%5B-85.48079169399995%2C%2043.117725696000036%5D%2C%20%5B-85.48036735599999%2C%2043.11773193200003%5D%2C%20%5B-85.47583646499999%2C%2043.117798512000036%5D%2C%20%5B-85.47540051899995%2C%2043.11780491400003%5D%2C%20%5B-85.47088122099996%2C%2043.117871122000054%5D%2C%20%5B-85.47043356099994%2C%2043.11787422200007%5D%2C%20%5B-85.46591131999998%2C%2043.11790115000008%5D%2C%20%5B-85.46549004699995%2C%2043.11790364800004%5D%2C%20%5B-85.46094137799997%2C%2043.117930527000055%5D%2C%20%5B-85.46054651299994%2C%2043.117932851000035%5D%2C%20%5B-85.45597145399995%2C%2043.11795969700006%5D%2C%20%5B-85.45560297199995%2C%2043.11796184900004%5D%2C%20%5B-85.45100152199996%2C%2043.11798865000003%5D%2C%20%5B-85.45065943699996%2C%2043.11799188700007%5D%2C%20%5B-85.44600350399998%2C%2043.11801443300004%5D%2C%20%5B-85.44574691699995%2C%2043.11801568100003%5D%2C%20%5B-85.44100546999994%2C%2043.11803843800004%5D%2C%20%5B-85.44083441499998%2C%2043.11803925300006%5D%2C%20%5B-85.43600741599994%2C%2043.118062215000066%5D%2C%20%5B-85.43592189499998%2C%2043.11806262300007%5D%5D%5D%5D%2C%20%22type%22%3A%20%22MultiPolygon%22%7D%2C%20%22properties%22%3A%20%7B%22CNTY_NAME%22%3A%20%22KENT%22%2C%20%22CNTY_NUM%22%3A%20%2241%22%2C%20%22FID%22%3A%20760%2C%20%22Pos2015%22%3A%20null%2C%20%22Pos2016%22%3A%20null%2C%20%22Pos2017%22%3A%20null%2C%20%22Pos2018%22%3A%20null%2C%20%22Pos2019%22%3A%201%2C%20%22PosTotal%22%3A%201%2C%20%22RANGE%22%3A%20%2210W%22%2C%20%22SHAPE_Area%22%3A%200.01071106733224681%2C%20%22SHAPE_Length%22%3A%200.41889467783235174%2C%20%22TIER%22%3A%20%2208N%22%2C%20%22TR%22%3A%20%22T08N%2CR10W%22%2C%20%22Test2016%22%3A%202%2C%20%22Test2017%22%3A%2012%2C%20%22Test2018%22%3A%2096%2C%20%22Test2019%22%3A%2045%2C%20%22TestTotal%22%3A%20155%2C%20%22Tests2015%22%3A%20null%7D%2C%20%22type%22%3A%20%22Feature%22%7D%2C%20%7B%22geometry%22%3A%20%7B%22coordinates%22%3A%20%5B%5B%5B%5B-84.36508550599996%2C%2042.24756224400005%5D%2C%20%5B-84.36504984799996%2C%2042.244035316000065%5D%2C%20%5B-84.36504934299995%2C%2042.24398433500005%5D%2C%20%5B-84.36501324699998%2C%2042.24041341700007%5D%2C%20%5B-84.36501272899994%2C%2042.24036244600006%5D%2C%20%5B-84.36497663799997%2C%2042.23679152500006%5D%2C%20%5B-84.36497613299997%2C%2042.23674055400005%5D%2C%20%5B-84.36494005699996%2C%2042.23316964000003%5D%2C%20%5B-84.36493991299994%2C%2042.233118656000045%5D%2C%20%5B-84.36490058099997%2C%2042.22954669600006%5D%2C%20%5B-84.36489995099998%2C%2042.22948921100004%5D%2C%20%5B-84.36486069899996%2C%2042.225923762000036%5D%2C%20%5B-84.36486000699995%2C%2042.225859763000074%5D%2C%20%5B-84.36482083499999%2C%2042.22230082600004%5D%2C%20%5B-84.36482005599999%2C%2042.22223030500004%5D%2C%20%5B-84.36478096299999%2C%2042.21867788800006%5D%2C%20%5B-84.36478182199994%2C%2042.21860084100007%5D%2C%20%5B-84.36473694299997%2C%2042.21506316000006%5D%2C%20%5B-84.36473621%2C%2042.215005387000076%5D%2C%20%5B-84.36469109299998%2C%2042.21144844100007%5D%2C%20%5B-84.36469060399997%2C%2042.21140993100005%5D%2C%20%5B-84.36464525999997%2C%2042.207833728000026%5D%2C%20%5B-84.36459943299997%2C%2042.204219013000056%5D%2C%20%5B-84.36458166299997%2C%2042.20059910100008%5D%2C%20%5B-84.36456388299996%2C%2042.19697918600008%5D%2C%20%5B-84.36454626699998%2C%2042.193391897000026%5D%2C%20%5B-84.36454611799996%2C%2042.19335925900003%5D%2C%20%5B-84.36452856199998%2C%2042.18978287300007%5D%2C%20%5B-84.36452202799995%2C%2042.18973938500005%5D%2C%20%5B-84.36448084599994%2C%2042.18613922800006%5D%2C%20%5B-84.36448048499994%2C%2042.18610666100005%5D%2C%20%5B-84.36443914999995%2C%2042.18249565200006%5D%2C%20%5B-84.36439748399994%2C%2042.17885208300004%5D%2C%20%5B-84.36435581099994%2C%2042.175208492000024%5D%2C%20%5B-84.36431999699994%2C%2042.17156769800005%5D%2C%20%5B-84.36428418599996%2C%2042.16792691100005%5D%2C%20%5B-84.36424836799995%2C%2042.16428611300006%5D%2C%20%5B-84.36421256699998%2C%2042.16064532100006%5D%2C%20%5B-84.36910175999998%2C%2042.16062488400007%5D%2C%20%5B-84.37395409899995%2C%2042.16060440000007%5D%2C%20%5B-84.37399096299998%2C%2042.16060424700004%5D%2C%20%5B-84.37882484799997%2C%2042.16058361900008%5D%2C%20%5B-84.37888013699995%2C%2042.16058338400006%5D%2C%20%5B-84.38369561799999%2C%2042.16056263200005%5D%2C%20%5B-84.38376933099994%2C%2042.16056284700005%5D%2C%20%5B-84.38857990399998%2C%2042.160505733000036%5D%2C%20%5B-84.38863519099993%2C%2042.16050507800003%5D%2C%20%5B-84.39346418399998%2C%2042.16044753800003%5D%2C%20%5B-84.39350104299996%2C%2042.16044709300007%5D%2C%20%5B-84.39836688399998%2C%2042.16038892100005%5D%2C%20%5B-84.40323271699998%2C%2042.160330514000066%5D%2C%20%5B-84.40813529399998%2C%2042.16029127300004%5D%2C%20%5B-84.41303787699997%2C%2042.16025182200008%5D%2C%20%5B-84.41310332699999%2C%2042.160251291000066%5D%2C%20%5B-84.41794044099998%2C%2042.16021214300008%5D%2C%20%5B-84.41803861599999%2C%2042.16021134700003%5D%2C%20%5B-84.42284302299998%2C%2042.16017225500008%5D%2C%20%5B-84.42297383999994%2C%2042.16016571100005%5D%2C%20%5B-84.42767534399997%2C%2042.16016829800003%5D%2C%20%5B-84.42781032999994%2C%2042.16016837500007%5D%2C%20%5B-84.43250769299993%2C%2042.160170761000074%5D%2C%20%5B-84.43264680799996%2C%2042.16017082600007%5D%2C%20%5B-84.43734001699994%2C%2042.16017301000005%5D%2C%20%5B-84.43748329799996%2C%2042.16017306400005%5D%2C%20%5B-84.44217235299999%2C%2042.16017505600007%5D%2C%20%5B-84.44231979199998%2C%2042.16017539300003%5D%2C%20%5B-84.44708583599999%2C%2042.16016207700005%5D%2C%20%5B-84.44716692299994%2C%2042.16016184700004%5D%2C%20%5B-84.45201406399997%2C%2042.16014809700005%5D%2C%20%5B-84.45686120199997%2C%2042.16013413200005%5D%2C%20%5B-84.45691279299996%2C%2042.160133974000075%5D%2C%20%5B-84.46170833799994%2C%2042.16011995300005%5D%2C%20%5B-84.46182628299994%2C%2042.16012021500006%5D%2C%20%5B-84.46657654899997%2C%2042.160124788000076%5D%2C%20%5B-84.46669451099996%2C%2042.16012489800005%5D%2C%20%5B-84.47144477699999%2C%2042.160129260000076%5D%2C%20%5B-84.47156273899998%2C%2042.160129374000064%5D%2C%20%5B-84.47631300499995%2C%2042.16013353500006%5D%2C%20%5B-84.47643095399997%2C%2042.16013363500008%5D%2C%20%5B-84.48049205899997%2C%2042.16013703700003%5D%2C%20%5B-84.48061083199997%2C%2042.16377227500004%5D%2C%20%5B-84.48072964499994%2C%2042.16740751100008%5D%2C%20%5B-84.48084845899996%2C%2042.17104275300005%5D%2C%20%5B-84.48096728799999%2C%2042.174677994000035%5D%2C%20%5B-84.48107506999997%2C%2042.178313209000066%5D%2C%20%5B-84.48118286399995%2C%2042.18194843200007%5D%2C%20%5B-84.48129065999996%2C%2042.18558365200005%5D%2C%20%5B-84.48139848099999%2C%2042.18921887100004%5D%2C%20%5B-84.48152843899999%2C%2042.19286933300003%5D%2C%20%5B-84.48165827399998%2C%2042.19651588000005%5D%2C%20%5B-84.48166008299995%2C%2042.19656657200005%5D%2C%20%5B-84.48178812399999%2C%2042.20016244300007%5D%2C%20%5B-84.48179090699995%2C%2042.20024041500005%5D%2C%20%5B-84.48191820199997%2C%2042.20381496500005%5D%2C%20%5B-84.48193258399994%2C%2042.20391405300006%5D%2C%20%5B-84.48201672999994%2C%2042.20742801700004%5D%2C%20%5B-84.48201921299994%2C%2042.20753165600007%5D%2C%20%5B-84.48210326699996%2C%2042.21104122600008%5D%2C%20%5B-84.48210585299995%2C%2042.211149274000036%5D%2C%20%5B-84.48218981499997%2C%2042.21465443200003%5D%2C%20%5B-84.48219250299996%2C%2042.21476688200005%5D%2C%20%5B-84.48227637399998%2C%2042.218267655000034%5D%2C%20%5B-84.48226911499995%2C%2042.21838440500005%5D%2C%20%5B-84.48237253199994%2C%2042.22192210900005%5D%2C%20%5B-84.48237510399997%2C%2042.22200969800008%5D%2C%20%5B-84.48247938699996%2C%2042.225576587000035%5D%2C%20%5B-84.48248110599997%2C%2042.22563498900007%5D%2C%20%5B-84.48258624199997%2C%2042.22923107100007%5D%2C%20%5B-84.48258710799996%2C%2042.22926027700004%5D%2C%20%5B-84.48269312299999%2C%2042.232885563000025%5D%2C%20%5B-84.48282985299994%2C%2042.23650612000006%5D%2C%20%5B-84.48296658599997%2C%2042.24012669200005%5D%2C%20%5B-84.48310333599994%2C%2042.24374725400003%5D%2C%20%5B-84.48324316599997%2C%2042.24744869300008%5D%2C%20%5B-84.47724212599996%2C%2042.24745273100007%5D%2C%20%5B-84.47236708899999%2C%2042.24745577700003%5D%2C%20%5B-84.46749204999998%2C%2042.24745861500003%5D%2C%20%5B-84.46261701199995%2C%2042.24746122700003%5D%2C%20%5B-84.45773363699999%2C%2042.247458867000034%5D%2C%20%5B-84.45285026199997%2C%2042.24745629900008%5D%2C%20%5B-84.44796689899994%2C%2042.24745352300005%5D%2C%20%5B-84.44308351199999%2C%2042.247450539000056%5D%2C%20%5B-84.43819274699996%2C%2042.24745282400005%5D%2C%20%5B-84.43330195599998%2C%2042.24745489900005%5D%2C%20%5B-84.42841118899997%2C%2042.247456757000066%5D%2C%20%5B-84.42352039699995%2C%2042.24745842400006%5D%2C%20%5B-84.41865897299994%2C%2042.24749570300003%5D%2C%20%5B-84.41379754199994%2C%2042.24753278400004%5D%2C%20%5B-84.40893610499995%2C%2042.24756966900003%5D%2C%20%5B-84.40407466299996%2C%2042.247606329000064%5D%2C%20%5B-84.39918525799999%2C%2042.24759316900003%5D%2C%20%5B-84.39433751699994%2C%2042.247579933000054%5D%2C%20%5B-84.39429584299995%2C%2042.247579820000055%5D%2C%20%5B-84.38946894699995%2C%2042.24756641100004%5D%2C%20%5B-84.38940645399998%2C%2042.24756624300005%5D%2C%20%5B-84.38460037899995%2C%2042.24755269100007%5D%2C%20%5B-84.38451712099999%2C%2042.24754663900006%5D%2C%20%5B-84.37972170799998%2C%2042.247563642000046%5D%2C%20%5B-84.37965905499999%2C%2042.24756386400003%5D%2C%20%5B-84.37484287899997%2C%2042.24757979900005%5D%2C%20%5B-84.37480099199996%2C%2042.24757972200007%5D%2C%20%5B-84.36994324899996%2C%2042.247571081000046%5D%2C%20%5B-84.36508550599996%2C%2042.24756224400005%5D%5D%5D%5D%2C%20%22type%22%3A%20%22MultiPolygon%22%7D%2C%20%22properties%22%3A%20%7B%22CNTY_NAME%22%3A%20%22JACKSON%22%2C%20%22CNTY_NUM%22%3A%20%2238%22%2C%20%22FID%22%3A%20819%2C%20%22Pos2015%22%3A%20null%2C%20%22Pos2016%22%3A%20null%2C%20%22Pos2017%22%3A%20null%2C%20%22Pos2018%22%3A%20null%2C%20%22Pos2019%22%3A%202%2C%20%22PosTotal%22%3A%202%2C%20%22RANGE%22%3A%20%2201W%22%2C%20%22SHAPE_Area%22%3A%200.010223097928049905%2C%20%22SHAPE_Length%22%3A%200.40871957800081254%2C%20%22TIER%22%3A%20%2203S%22%2C%20%22TR%22%3A%20%22T03S%2CR01W%22%2C%20%22Test2016%22%3A%20null%2C%20%22Test2017%22%3A%201%2C%20%22Test2018%22%3A%2087%2C%20%22Test2019%22%3A%20248%2C%20%22TestTotal%22%3A%20337%2C%20%22Tests2015%22%3A%201%7D%2C%20%22type%22%3A%20%22Feature%22%7D%2C%20%7B%22geometry%22%3A%20%7B%22coordinates%22%3A%20%5B%5B%5B%5B-84.48324316599997%2C%2042.24744869300008%5D%2C%20%5B-84.48310333599994%2C%2042.24374725400003%5D%2C%20%5B-84.48296658599997%2C%2042.24012669200005%5D%2C%20%5B-84.48282985299994%2C%2042.23650612000006%5D%2C%20%5B-84.48269312299999%2C%2042.232885563000025%5D%2C%20%5B-84.48258710799996%2C%2042.22926027700004%5D%2C%20%5B-84.48258624199997%2C%2042.22923107100007%5D%2C%20%5B-84.48248110599997%2C%2042.22563498900007%5D%2C%20%5B-84.48247938699996%2C%2042.225576587000035%5D%2C%20%5B-84.48237510399997%2C%2042.22200969800008%5D%2C%20%5B-84.48237253199994%2C%2042.22192210900005%5D%2C%20%5B-84.48226911499995%2C%2042.21838440500005%5D%2C%20%5B-84.48227637399998%2C%2042.218267655000034%5D%2C%20%5B-84.48219250299996%2C%2042.21476688200005%5D%2C%20%5B-84.48218981499997%2C%2042.21465443200003%5D%2C%20%5B-84.48210585299995%2C%2042.211149274000036%5D%2C%20%5B-84.48210326699996%2C%2042.21104122600008%5D%2C%20%5B-84.48201921299994%2C%2042.20753165600007%5D%2C%20%5B-84.48201672999994%2C%2042.20742801700004%5D%2C%20%5B-84.48193258399994%2C%2042.20391405300006%5D%2C%20%5B-84.48191820199997%2C%2042.20381496500005%5D%2C%20%5B-84.48179090699995%2C%2042.20024041500005%5D%2C%20%5B-84.48178812399999%2C%2042.20016244300007%5D%2C%20%5B-84.48166008299995%2C%2042.19656657200005%5D%2C%20%5B-84.48165827399998%2C%2042.19651588000005%5D%2C%20%5B-84.48152843899999%2C%2042.19286933300003%5D%2C%20%5B-84.48139848099999%2C%2042.18921887100004%5D%2C%20%5B-84.48129065999996%2C%2042.18558365200005%5D%2C%20%5B-84.48118286399995%2C%2042.18194843200007%5D%2C%20%5B-84.48107506999997%2C%2042.178313209000066%5D%2C%20%5B-84.48096728799999%2C%2042.174677994000035%5D%2C%20%5B-84.48084845899996%2C%2042.17104275300005%5D%2C%20%5B-84.48072964499994%2C%2042.16740751100008%5D%2C%20%5B-84.48061083199997%2C%2042.16377227500004%5D%2C%20%5B-84.48049205899997%2C%2042.16013703700003%5D%2C%20%5B-84.48526532099999%2C%2042.160168492000025%5D%2C%20%5B-84.48534972399995%2C%2042.16016903700006%5D%2C%20%5B-84.49003858699996%2C%2042.160199738000074%5D%2C%20%5B-84.49020741699997%2C%2042.160200830000065%5D%2C%20%5B-84.49481185799993%2C%2042.16023077600005%5D%2C%20%5B-84.49506511399994%2C%2042.16023242700004%5D%2C%20%5B-84.49958514399998%2C%2042.16026163300006%5D%2C%20%5B-84.49992206899998%2C%2042.16024210300003%5D%2C%20%5B-84.50442263799994%2C%2042.16025989700006%5D%2C%20%5B-84.50482387399995%2C%2042.16026147700006%5D%2C%20%5B-84.50926089999996%2C%2042.160278832000074%5D%2C%20%5B-84.50972568099996%2C%2042.16028063200008%5D%2C%20%5B-84.51409913999998%2C%2042.16029754400006%5D%2C%20%5B-84.51462748999995%2C%2042.160299578000036%5D%2C%20%5B-84.51893735699997%2C%2042.16031606900003%5D%2C%20%5B-84.51952880799996%2C%2042.16030380700005%5D%2C%20%5B-84.52391799499998%2C%2042.16028356500004%5D%2C%20%5B-84.52444486499996%2C%2042.16028112500004%5D%2C%20%5B-84.52889869699999%2C%2042.160260383000036%5D%2C%20%5B-84.52936090499998%2C%2042.16025822300003%5D%2C%20%5B-84.53387939299995%2C%2042.16023699400006%5D%2C%20%5B-84.53427710099999%2C%2042.160235122000074%5D%2C%20%5B-84.53886008399996%2C%2042.16021337800004%5D%2C%20%5B-84.53919289999999%2C%2042.16020230300006%5D%2C%20%5B-84.54381628899995%2C%2042.160160243000064%5D%2C%20%5B-84.54411399199995%2C%2042.16015752800007%5D%2C%20%5B-84.54877275099994%2C%2042.16011494000003%5D%2C%20%5B-84.54903506399995%2C%2042.16011253200003%5D%2C%20%5B-84.55372921799994%2C%2042.16006943200006%5D%2C%20%5B-84.55395615299994%2C%2042.16006734300004%5D%2C%20%5B-84.55868572599996%2C%2042.16002369100005%5D%2C%20%5B-84.55887760899998%2C%2042.160045506000074%5D%2C%20%5B-84.56351387299998%2C%2042.16007141700004%5D%2C%20%5B-84.56365793699996%2C%2042.16007221800004%5D%2C%20%5B-84.56834221199995%2C%2042.160098197000025%5D%2C%20%5B-84.56843826799997%2C%2042.16009873000007%5D%2C%20%5B-84.57317059199994%2C%2042.16012479200003%5D%2C%20%5B-84.57321860099995%2C%2042.16012504300005%5D%2C%20%5B-84.57799896299997%2C%2042.16015116500006%5D%2C%20%5B-84.58286737699996%2C%2042.160148%5D%2C%20%5B-84.58773578899996%2C%2042.16014462700008%5D%2C%20%5B-84.59260421299996%2C%2042.16014104800007%5D%2C%20%5B-84.59492629999994%2C%2042.16013926800008%5D%2C%20%5B-84.59509328999997%2C%2042.16376898300007%5D%2C%20%5B-84.59526031299998%2C%2042.16739869500003%5D%2C%20%5B-84.59542736899994%2C%2042.17102840500007%5D%2C%20%5B-84.59559441999994%2C%2042.17465812200004%5D%2C%20%5B-84.59580070599998%2C%2042.178337931000044%5D%2C%20%5B-84.59600700499999%2C%2042.18201773800007%5D%2C%20%5B-84.59621335299994%2C%2042.18569755100003%5D%2C%20%5B-84.59641970299998%2C%2042.18937736200007%5D%2C%20%5B-84.59662563099994%2C%2042.193009063000034%5D%2C%20%5B-84.59683157099994%2C%2042.196640761000026%5D%2C%20%5B-84.59703754799995%2C%2042.20027245700004%5D%2C%20%5B-84.59724352599994%2C%2042.203904160000036%5D%2C%20%5B-84.59749715199996%2C%2042.207551729000045%5D%2C%20%5B-84.59775079699995%2C%2042.21119930400005%5D%2C%20%5B-84.59800448499999%2C%2042.21484686800005%5D%2C%20%5B-84.59825818999997%2C%2042.21849443900004%5D%2C%20%5B-84.59844838299995%2C%2042.22210114300003%5D%2C%20%5B-84.59863861199995%2C%2042.22570785400006%5D%2C%20%5B-84.59882886199995%2C%2042.22931457200008%5D%2C%20%5B-84.59901912399994%2C%2042.23292127900004%5D%2C%20%5B-84.59922539099995%2C%2042.23654005600008%5D%2C%20%5B-84.59943167099999%2C%2042.24015884000005%5D%2C%20%5B-84.59963798799998%2C%2042.24377761300008%5D%2C%20%5B-84.59985009099995%2C%2042.24749765800004%5D%2C%20%5B-84.59602303499997%2C%2042.24749897000004%5D%2C%20%5B-84.59114780599998%2C%2042.24750045400003%5D%2C%20%5B-84.58627257599994%2C%2042.24750173100006%5D%2C%20%5B-84.58139735599997%2C%2042.24750280000006%5D%2C%20%5B-84.57659107699999%2C%2042.24752803100006%5D%2C%20%5B-84.5764935%2C%2042.24752854800005%5D%2C%20%5B-84.57178480599998%2C%2042.247553061000076%5D%2C%20%5B-84.57158965099995%2C%2042.247554078000064%5D%2C%20%5B-84.56697852999997%2C%2042.24757788000005%5D%2C%20%5B-84.56668579699993%2C%2042.24757938800008%5D%2C%20%5B-84.56217224899996%2C%2042.24760250700007%5D%2C%20%5B-84.56178170699997%2C%2042.247581066000066%5D%2C%20%5B-84.55723731499995%2C%2042.24758255100005%5D%2C%20%5B-84.55683349099996%2C%2042.24758266900005%5D%2C%20%5B-84.55230239399998%2C%2042.24758395600003%5D%2C%20%5B-84.55188526099994%2C%2042.247584059000076%5D%2C%20%5B-84.54736745999998%2C%2042.24758514900003%5D%2C%20%5B-84.54693702999998%2C%2042.24758524400005%5D%2C%20%5B-84.54243252399993%2C%2042.24758613900008%5D%2C%20%5B-84.54198879799998%2C%2042.24757892900004%5D%2C%20%5B-84.53745040599995%2C%2042.24760374500005%5D%2C%20%5B-84.53706810899996%2C%2042.247605831000044%5D%2C%20%5B-84.53246837699999%2C%2042.24763076500005%5D%2C%20%5B-84.53214739099997%2C%2042.247632502000044%5D%2C%20%5B-84.52748634199997%2C%2042.24765758700005%5D%2C%20%5B-84.52722715199997%2C%2042.24765896900004%5D%2C%20%5B-84.52250430199996%2C%2042.24768417400003%5D%2C%20%5B-84.52230561099998%2C%2042.24764793300005%5D%2C%20%5B-84.51758981799998%2C%2042.24760240300003%5D%2C%20%5B-84.51744036699995%2C%2042.24760095800008%5D%2C%20%5B-84.51267475899994%2C%2042.24755475300003%5D%2C%20%5B-84.51257512999996%2C%2042.247553786000026%5D%2C%20%5B-84.50775970699993%2C%2042.247506893000036%5D%2C%20%5B-84.50770988699998%2C%2042.24750639800004%5D%2C%20%5B-84.50284467499995%2C%2042.24745881200005%5D%2C%20%5B-84.49989774799997%2C%2042.24740323200007%5D%2C%20%5B-84.49794225699998%2C%2042.24740869900006%5D%2C%20%5B-84.49304258299998%2C%2042.24742224400006%5D%2C%20%5B-84.48814342799994%2C%2042.247435567000025%5D%2C%20%5B-84.48324316599997%2C%2042.24744869300008%5D%5D%5D%5D%2C%20%22type%22%3A%20%22MultiPolygon%22%7D%2C%20%22properties%22%3A%20%7B%22CNTY_NAME%22%3A%20%22JACKSON%22%2C%20%22CNTY_NUM%22%3A%20%2238%22%2C%20%22FID%22%3A%20820%2C%20%22Pos2015%22%3A%20null%2C%20%22Pos2016%22%3A%20null%2C%20%22Pos2017%22%3A%20null%2C%20%22Pos2018%22%3A%202%2C%20%22Pos2019%22%3A%203%2C%20%22PosTotal%22%3A%205%2C%20%22RANGE%22%3A%20%2202W%22%2C%20%22SHAPE_Area%22%3A%200.01008677250691998%2C%20%22SHAPE_Length%22%3A%200.40590732530762236%2C%20%22TIER%22%3A%20%2203S%22%2C%20%22TR%22%3A%20%22T03S%2CR02W%22%2C%20%22Test2016%22%3A%20null%2C%20%22Test2017%22%3A%205%2C%20%22Test2018%22%3A%20164%2C%20%22Test2019%22%3A%20154%2C%20%22TestTotal%22%3A%20324%2C%20%22Tests2015%22%3A%201%7D%2C%20%22type%22%3A%20%22Feature%22%7D%2C%20%7B%22geometry%22%3A%20%7B%22coordinates%22%3A%20%5B%5B%5B%5B-84.36421256699998%2C%2042.16064532100006%5D%2C%20%5B-84.36418222499998%2C%2042.15705810000003%5D%2C%20%5B-84.36418191999996%2C%2042.15702158500005%5D%2C%20%5B-84.36415158299997%2C%2042.153436198000065%5D%2C%20%5B-84.36415127799995%2C%2042.15339967400007%5D%2C%20%5B-84.36412095699995%2C%2042.14981427500004%5D%2C%20%5B-84.36412065199994%2C%2042.149777742000026%5D%2C%20%5B-84.36409033599995%2C%2042.146192359000054%5D%2C%20%5B-84.36409813899996%2C%2042.14615388900006%5D%2C%20%5B-84.36404038799998%2C%2042.14256788700004%5D%2C%20%5B-84.36403974799998%2C%2042.142528121000055%5D%2C%20%5B-84.36398200399998%2C%2042.13894350100003%5D%2C%20%5B-84.36398135199994%2C%2042.13890231400006%5D%2C%20%5B-84.36392365199998%2C%2042.13531911300004%5D%2C%20%5B-84.36392296199995%2C%2042.13527657900005%5D%2C%20%5B-84.36386529499998%2C%2042.13169471400005%5D%2C%20%5B-84.36387315699994%2C%2042.13165074600005%5D%2C%20%5B-84.36383582299999%2C%2042.12802493800007%5D%2C%20%5B-84.36383547599996%2C%2042.12799188200006%5D%2C%20%5B-84.36380499499995%2C%2042.12433316800008%5D%2C%20%5B-84.36380382599998%2C%2042.12067424700007%5D%2C%20%5B-84.36380824699995%2C%2042.11701528700007%5D%2C%20%5B-84.36373624299995%2C%2042.11342568200007%5D%2C%20%5B-84.36373543399998%2C%2042.113385737000044%5D%2C%20%5B-84.36366423399994%2C%2042.10983607400004%5D%2C%20%5B-84.36366262999996%2C%2042.109756194000056%5D%2C%20%5B-84.36359225899997%2C%2042.106246474000045%5D%2C%20%5B-84.36358984599997%2C%2042.10612664900003%5D%2C%20%5B-84.36352026799995%2C%2042.10265687100008%5D%2C%20%5B-84.36351280899999%2C%2042.10249715000003%5D%2C%20%5B-84.36349491899995%2C%2042.099005301000034%5D%2C%20%5B-84.36349411399993%2C%2042.09884692400004%5D%2C%20%5B-84.36347623799998%2C%2042.09535371700008%5D%2C%20%5B-84.36347542099998%2C%2042.095196704000045%5D%2C%20%5B-84.36345754599995%2C%2042.09170214000005%5D%2C%20%5B-84.36345674399996%2C%2042.09154647400004%5D%2C%20%5B-84.36343884599995%2C%2042.088050560000056%5D%2C%20%5B-84.36340187999997%2C%2042.08789636200004%5D%2C%20%5B-84.36337633499994%2C%2042.08440411500004%5D%2C%20%5B-84.36337548799997%2C%2042.08428834500006%5D%2C%20%5B-84.36334965899994%2C%2042.08075751500007%5D%2C%20%5B-84.36334909799996%2C%2042.08068033400008%5D%2C%20%5B-84.36332298599996%2C%2042.07711092100004%5D%2C%20%5B-84.36332269999997%2C%2042.07707233100007%5D%2C%20%5B-84.36329631799998%2C%2042.07346432500003%5D%2C%20%5B-84.36818083399999%2C%2042.07344510100006%5D%2C%20%5B-84.37306535999994%2C%2042.073425660000055%5D%2C%20%5B-84.37794985799997%2C%2042.07340601000004%5D%2C%20%5B-84.38283436099994%2C%2042.07338439000006%5D%2C%20%5B-84.38764542199993%2C%2042.07333868200004%5D%2C%20%5B-84.39245647599995%2C%2042.07329276300004%5D%2C%20%5B-84.39726752199994%2C%2042.07324664200007%5D%2C%20%5B-84.40207860699996%2C%2042.073200910000025%5D%2C%20%5B-84.40698914899997%2C%2042.07316323200007%5D%2C%20%5B-84.41189969799996%2C%2042.07312533500004%5D%2C%20%5B-84.41681044399996%2C%2042.07309950900003%5D%2C%20%5B-84.42172118499997%2C%2042.07307347100004%5D%2C%20%5B-84.42658418699995%2C%2042.07304746800003%5D%2C%20%5B-84.43144709699999%2C%2042.07304212300005%5D%2C%20%5B-84.43631000599999%2C%2042.073036553000065%5D%2C%20%5B-84.44117292499999%2C%2042.07302886700006%5D%2C%20%5B-84.44603941099996%2C%2042.07300367500005%5D%2C%20%5B-84.45090587999994%2C%2042.072978284000044%5D%2C%20%5B-84.45577235699994%2C%2042.072952678000036%5D%2C%20%5B-84.46063884799997%2C%2042.07292708800003%5D%2C%20%5B-84.46550017599998%2C%2042.072902584000076%5D%2C%20%5B-84.47036149999997%2C%2042.07287784600004%5D%2C%20%5B-84.47522281899995%2C%2042.07285291100004%5D%2C%20%5B-84.47793858499995%2C%2042.072838888000035%5D%2C%20%5B-84.47799141799999%2C%2042.07645768700007%5D%2C%20%5B-84.47804424599997%2C%2042.080076474000066%5D%2C%20%5B-84.47809708099999%2C%2042.08369525900008%5D%2C%20%5B-84.47815035599996%2C%2042.08731404800005%5D%2C%20%5B-84.47820659199994%2C%2042.090946564000035%5D%2C%20%5B-84.47826326899997%2C%2042.09457908400003%5D%2C%20%5B-84.47831994099994%2C%2042.09821160200005%5D%2C%20%5B-84.47837661999995%2C%2042.10184412700005%5D%2C%20%5B-84.47848185899994%2C%2042.10550730500006%5D%2C%20%5B-84.47858615799998%2C%2042.10913750900005%5D%2C%20%5B-84.47858709899998%2C%2042.109170489000064%5D%2C%20%5B-84.47869093999998%2C%2042.11278420200006%5D%2C%20%5B-84.47869235199994%2C%2042.11283367200008%5D%2C%20%5B-84.47879573499995%2C%2042.11643090200005%5D%2C%20%5B-84.47879900699996%2C%2042.11649680700003%5D%2C%20%5B-84.47897755799994%2C%2042.120086110000045%5D%2C%20%5B-84.47897894%2C%2042.12011382000003%5D%2C%20%5B-84.47915890499996%2C%2042.12373089600004%5D%2C%20%5B-84.47930303699997%2C%2042.12734870300005%5D%2C%20%5B-84.47930471799998%2C%2042.127398878000065%5D%2C%20%5B-84.47942469899994%2C%2042.130966845000046%5D%2C%20%5B-84.47940961799998%2C%2042.131054867000046%5D%2C%20%5B-84.47954797099999%2C%2042.13458315300005%5D%2C%20%5B-84.47955194999997%2C%2042.13468465500006%5D%2C%20%5B-84.47968976999994%2C%2042.13819906700007%5D%2C%20%5B-84.47969431099995%2C%2042.138314440000045%5D%2C%20%5B-84.47983161199994%2C%2042.14181498000005%5D%2C%20%5B-84.47983667599999%2C%2042.14194423300006%5D%2C%20%5B-84.47997344499998%2C%2042.14543088900007%5D%2C%20%5B-84.47998764899995%2C%2042.145574012000054%5D%2C%20%5B-84.48010807699995%2C%2042.14905149400005%5D%2C%20%5B-84.48011302999998%2C%2042.14919479400004%5D%2C%20%5B-84.48023347299994%2C%2042.152672265000035%5D%2C%20%5B-84.48023843899995%2C%2042.152815565000026%5D%2C%20%5B-84.48035888399994%2C%2042.15629304300006%5D%2C%20%5B-84.48036385099994%2C%2042.15643634300005%5D%2C%20%5B-84.48049205899997%2C%2042.16013703700003%5D%2C%20%5B-84.47643095399997%2C%2042.16013363500008%5D%2C%20%5B-84.47631300499995%2C%2042.16013353500006%5D%2C%20%5B-84.47156273899998%2C%2042.160129374000064%5D%2C%20%5B-84.47144477699999%2C%2042.160129260000076%5D%2C%20%5B-84.46669451099996%2C%2042.16012489800005%5D%2C%20%5B-84.46657654899997%2C%2042.160124788000076%5D%2C%20%5B-84.46182628299994%2C%2042.16012021500006%5D%2C%20%5B-84.46170833799994%2C%2042.16011995300005%5D%2C%20%5B-84.45691279299996%2C%2042.160133974000075%5D%2C%20%5B-84.45686120199997%2C%2042.16013413200005%5D%2C%20%5B-84.45201406399997%2C%2042.16014809700005%5D%2C%20%5B-84.44716692299994%2C%2042.16016184700004%5D%2C%20%5B-84.44708583599999%2C%2042.16016207700005%5D%2C%20%5B-84.44231979199998%2C%2042.16017539300003%5D%2C%20%5B-84.44217235299999%2C%2042.16017505600007%5D%2C%20%5B-84.43748329799996%2C%2042.16017306400005%5D%2C%20%5B-84.43734001699994%2C%2042.16017301000005%5D%2C%20%5B-84.43264680799996%2C%2042.16017082600007%5D%2C%20%5B-84.43250769299993%2C%2042.160170761000074%5D%2C%20%5B-84.42781032999994%2C%2042.16016837500007%5D%2C%20%5B-84.42767534399997%2C%2042.16016829800003%5D%2C%20%5B-84.42297383999994%2C%2042.16016571100005%5D%2C%20%5B-84.42284302299998%2C%2042.16017225500008%5D%2C%20%5B-84.41803861599999%2C%2042.16021134700003%5D%2C%20%5B-84.41794044099998%2C%2042.16021214300008%5D%2C%20%5B-84.41310332699999%2C%2042.160251291000066%5D%2C%20%5B-84.41303787699997%2C%2042.16025182200008%5D%2C%20%5B-84.40813529399998%2C%2042.16029127300004%5D%2C%20%5B-84.40323271699998%2C%2042.160330514000066%5D%2C%20%5B-84.39836688399998%2C%2042.16038892100005%5D%2C%20%5B-84.39350104299996%2C%2042.16044709300007%5D%2C%20%5B-84.39346418399998%2C%2042.16044753800003%5D%2C%20%5B-84.38863519099993%2C%2042.16050507800003%5D%2C%20%5B-84.38857990399998%2C%2042.160505733000036%5D%2C%20%5B-84.38376933099994%2C%2042.16056284700005%5D%2C%20%5B-84.38369561799999%2C%2042.16056263200005%5D%2C%20%5B-84.37888013699995%2C%2042.16058338400006%5D%2C%20%5B-84.37882484799997%2C%2042.16058361900008%5D%2C%20%5B-84.37399096299998%2C%2042.16060424700004%5D%2C%20%5B-84.37395409899995%2C%2042.16060440000007%5D%2C%20%5B-84.36910175999998%2C%2042.16062488400007%5D%2C%20%5B-84.36421256699998%2C%2042.16064532100006%5D%5D%5D%5D%2C%20%22type%22%3A%20%22MultiPolygon%22%7D%2C%20%22properties%22%3A%20%7B%22CNTY_NAME%22%3A%20%22JACKSON%22%2C%20%22CNTY_NUM%22%3A%20%2238%22%2C%20%22FID%22%3A%20824%2C%20%22Pos2015%22%3A%20null%2C%20%22Pos2016%22%3A%20null%2C%20%22Pos2017%22%3A%20null%2C%20%22Pos2018%22%3A%20null%2C%20%22Pos2019%22%3A%201%2C%20%22PosTotal%22%3A%201%2C%20%22RANGE%22%3A%20%2201W%22%2C%20%22SHAPE_Area%22%3A%200.010046786585696977%2C%20%22SHAPE_Length%22%3A%200.405462644170036%2C%20%22TIER%22%3A%20%2204S%22%2C%20%22TR%22%3A%20%22T04S%2CR01W%22%2C%20%22Test2016%22%3A%201%2C%20%22Test2017%22%3A%202%2C%20%22Test2018%22%3A%2096%2C%20%22Test2019%22%3A%20163%2C%20%22TestTotal%22%3A%20263%2C%20%22Tests2015%22%3A%201%7D%2C%20%22type%22%3A%20%22Feature%22%7D%2C%20%7B%22geometry%22%3A%20%7B%22coordinates%22%3A%20%5B%5B%5B%5B-84.48049205899997%2C%2042.16013703700003%5D%2C%20%5B-84.48036385099994%2C%2042.15643634300005%5D%2C%20%5B-84.48035888399994%2C%2042.15629304300006%5D%2C%20%5B-84.48023843899995%2C%2042.152815565000026%5D%2C%20%5B-84.48023347299994%2C%2042.152672265000035%5D%2C%20%5B-84.48011302999998%2C%2042.14919479400004%5D%2C%20%5B-84.48010807699995%2C%2042.14905149400005%5D%2C%20%5B-84.47998764899995%2C%2042.145574012000054%5D%2C%20%5B-84.47997344499998%2C%2042.14543088900007%5D%2C%20%5B-84.47983667599999%2C%2042.14194423300006%5D%2C%20%5B-84.47983161199994%2C%2042.14181498000005%5D%2C%20%5B-84.47969431099995%2C%2042.138314440000045%5D%2C%20%5B-84.47968976999994%2C%2042.13819906700007%5D%2C%20%5B-84.47955194999997%2C%2042.13468465500006%5D%2C%20%5B-84.47954797099999%2C%2042.13458315300005%5D%2C%20%5B-84.47940961799998%2C%2042.131054867000046%5D%2C%20%5B-84.47942469899994%2C%2042.130966845000046%5D%2C%20%5B-84.47930471799998%2C%2042.127398878000065%5D%2C%20%5B-84.47930303699997%2C%2042.12734870300005%5D%2C%20%5B-84.47915890499996%2C%2042.12373089600004%5D%2C%20%5B-84.47897894%2C%2042.12011382000003%5D%2C%20%5B-84.47897755799994%2C%2042.120086110000045%5D%2C%20%5B-84.47879900699996%2C%2042.11649680700003%5D%2C%20%5B-84.47879573499995%2C%2042.11643090200005%5D%2C%20%5B-84.47869235199994%2C%2042.11283367200008%5D%2C%20%5B-84.47869093999998%2C%2042.11278420200006%5D%2C%20%5B-84.47858709899998%2C%2042.109170489000064%5D%2C%20%5B-84.47858615799998%2C%2042.10913750900005%5D%2C%20%5B-84.47848185899994%2C%2042.10550730500006%5D%2C%20%5B-84.47837661999995%2C%2042.10184412700005%5D%2C%20%5B-84.47831994099994%2C%2042.09821160200005%5D%2C%20%5B-84.47826326899997%2C%2042.09457908400003%5D%2C%20%5B-84.47820659199994%2C%2042.090946564000035%5D%2C%20%5B-84.47815035599996%2C%2042.08731404800005%5D%2C%20%5B-84.47809708099999%2C%2042.08369525900008%5D%2C%20%5B-84.47804424599997%2C%2042.080076474000066%5D%2C%20%5B-84.47799141799999%2C%2042.07645768700007%5D%2C%20%5B-84.47793858499995%2C%2042.072838888000035%5D%2C%20%5B-84.48281757399997%2C%2042.07277865700007%5D%2C%20%5B-84.48769656499996%2C%2042.072718208000026%5D%2C%20%5B-84.49257553299998%2C%2042.07265755200007%5D%2C%20%5B-84.49745451699994%2C%2042.072597149000046%5D%2C%20%5B-84.50225453799999%2C%2042.07254727700007%5D%2C%20%5B-84.50705466199997%2C%2042.072497214000066%5D%2C%20%5B-84.51185477599995%2C%2042.07244694000008%5D%2C%20%5B-84.51665487099996%2C%2042.072396457000025%5D%2C%20%5B-84.52152444399997%2C%2042.072346923000055%5D%2C%20%5B-84.52639401%2C%2042.07229716400008%5D%2C%20%5B-84.53126357899998%2C%2042.07224719800007%5D%2C%20%5B-84.53613315499996%2C%2042.072197403000075%5D%2C%20%5B-84.54103214%2C%2042.072155114000054%5D%2C%20%5B-84.54593109299998%2C%2042.07211259600007%5D%2C%20%5B-84.55083004999995%2C%2042.072069879000026%5D%2C%20%5B-84.55572896599995%2C%2042.07202577100003%5D%2C%20%5B-84.56055786%2C%2042.07197310600003%5D%2C%20%5B-84.56538673399996%2C%2042.07192022900006%5D%2C%20%5B-84.57021560999993%2C%2042.07186715700004%5D%2C%20%5B-84.57504460799998%2C%2042.07181621700005%5D%2C%20%5B-84.57990614099998%2C%2042.071803190000026%5D%2C%20%5B-84.58476765699999%2C%2042.07178995700008%5D%2C%20%5B-84.58962918299994%2C%2042.071776509000074%5D%2C%20%5B-84.59294483799994%2C%2042.07176722500003%5D%2C%20%5B-84.59300104799996%2C%2042.07534373400006%5D%2C%20%5B-84.59305726599996%2C%2042.078920251000056%5D%2C%20%5B-84.59305795699998%2C%2042.07896402700004%5D%2C%20%5B-84.59311349199999%2C%2042.08249676600008%5D%2C%20%5B-84.59311452299994%2C%2042.08256240700007%5D%2C%20%5B-84.59316972599999%2C%2042.08607327900006%5D%2C%20%5B-84.59316210299994%2C%2042.086160911000036%5D%2C%20%5B-84.59323342099998%2C%2042.08971449900008%5D%2C%20%5B-84.59323521599998%2C%2042.089804565000065%5D%2C%20%5B-84.59330648899999%2C%2042.09335564200006%5D%2C%20%5B-84.59330834999997%2C%2042.09344821900004%5D%2C%20%5B-84.59337958099997%2C%2042.09699674700005%5D%2C%20%5B-84.59338149499996%2C%2042.097091860000035%5D%2C%20%5B-84.59345268199996%2C%2042.100637849000066%5D%2C%20%5B-84.59344494899995%2C%2042.10073562600007%5D%2C%20%5B-84.59353074799998%2C%2042.104240642000036%5D%2C%20%5B-84.59353412299998%2C%2042.10437841600003%5D%2C%20%5B-84.59361894699998%2C%2042.10784329400008%5D%2C%20%5B-84.59362329599998%2C%2042.10802121300003%5D%2C%20%5B-84.59370714599999%2C%2042.11144595300004%5D%2C%20%5B-84.59371249199995%2C%2042.111664027000074%5D%2C%20%5B-84.59379535599999%2C%2042.11504860000008%5D%2C%20%5B-84.59378699199993%2C%2042.11530698400003%5D%2C%20%5B-84.59386223399997%2C%2042.11863382700005%5D%2C%20%5B-84.59386873399995%2C%2042.11892093900008%5D%2C%20%5B-84.59394333699998%2C%2042.12221885500003%5D%2C%20%5B-84.59395048599998%2C%2042.12253489100004%5D%2C%20%5B-84.59402443699997%2C%2042.12580390800008%5D%2C%20%5B-84.59403224899995%2C%2042.12614885100004%5D%2C%20%5B-84.59410553499998%2C%2042.12938895900004%5D%2C%20%5B-84.59410954799995%2C%2042.12976286300005%5D%2C%20%5B-84.59416087099999%2C%2042.13299494100005%5D%2C%20%5B-84.59416723199996%2C%2042.13339559600007%5D%2C%20%5B-84.59421814799998%2C%2042.136600919000045%5D%2C%20%5B-84.59422492999994%2C%2042.13702860500007%5D%2C%20%5B-84.59427540799999%2C%2042.140206884000065%5D%2C%20%5B-84.59428263799998%2C%2042.14066150000008%5D%2C%20%5B-84.59433269999994%2C%2042.143812867000065%5D%2C%20%5B-84.59444443699994%2C%2042.14429292300008%5D%2C%20%5B-84.59453987499995%2C%2042.147431906000065%5D%2C%20%5B-84.59455452199995%2C%2042.14791400100006%5D%2C%20%5B-84.59464996999998%2C%2042.151053055000034%5D%2C%20%5B-84.59466463299998%2C%2042.15153508600008%5D%2C%20%5B-84.59476008799999%2C%2042.15467436900008%5D%2C%20%5B-84.59477474499994%2C%2042.155156169000065%5D%2C%20%5B-84.59492629999994%2C%2042.16013926800008%5D%2C%20%5B-84.59260421299996%2C%2042.16014104800007%5D%2C%20%5B-84.58773578899996%2C%2042.16014462700008%5D%2C%20%5B-84.58286737699996%2C%2042.160148%5D%2C%20%5B-84.57799896299997%2C%2042.16015116500006%5D%2C%20%5B-84.57321860099995%2C%2042.16012504300005%5D%2C%20%5B-84.57317059199994%2C%2042.16012479200003%5D%2C%20%5B-84.56843826799997%2C%2042.16009873000007%5D%2C%20%5B-84.56834221199995%2C%2042.160098197000025%5D%2C%20%5B-84.56365793699996%2C%2042.16007221800004%5D%2C%20%5B-84.56351387299998%2C%2042.16007141700004%5D%2C%20%5B-84.55887760899998%2C%2042.160045506000074%5D%2C%20%5B-84.55868572599996%2C%2042.16002369100005%5D%2C%20%5B-84.55395615299994%2C%2042.16006734300004%5D%2C%20%5B-84.55372921799994%2C%2042.16006943200006%5D%2C%20%5B-84.54903506399995%2C%2042.16011253200003%5D%2C%20%5B-84.54877275099994%2C%2042.16011494000003%5D%2C%20%5B-84.54411399199995%2C%2042.16015752800007%5D%2C%20%5B-84.54381628899995%2C%2042.160160243000064%5D%2C%20%5B-84.53919289999999%2C%2042.16020230300006%5D%2C%20%5B-84.53886008399996%2C%2042.16021337800004%5D%2C%20%5B-84.53427710099999%2C%2042.160235122000074%5D%2C%20%5B-84.53387939299995%2C%2042.16023699400006%5D%2C%20%5B-84.52936090499998%2C%2042.16025822300003%5D%2C%20%5B-84.52889869699999%2C%2042.160260383000036%5D%2C%20%5B-84.52444486499996%2C%2042.16028112500004%5D%2C%20%5B-84.52391799499998%2C%2042.16028356500004%5D%2C%20%5B-84.51952880799996%2C%2042.16030380700005%5D%2C%20%5B-84.51893735699997%2C%2042.16031606900003%5D%2C%20%5B-84.51462748999995%2C%2042.160299578000036%5D%2C%20%5B-84.51409913999998%2C%2042.16029754400006%5D%2C%20%5B-84.50972568099996%2C%2042.16028063200008%5D%2C%20%5B-84.50926089999996%2C%2042.160278832000074%5D%2C%20%5B-84.50482387399995%2C%2042.16026147700006%5D%2C%20%5B-84.50442263799994%2C%2042.16025989700006%5D%2C%20%5B-84.49992206899998%2C%2042.16024210300003%5D%2C%20%5B-84.49958514399998%2C%2042.16026163300006%5D%2C%20%5B-84.49506511399994%2C%2042.16023242700004%5D%2C%20%5B-84.49481185799993%2C%2042.16023077600005%5D%2C%20%5B-84.49020741699997%2C%2042.160200830000065%5D%2C%20%5B-84.49003858699996%2C%2042.160199738000074%5D%2C%20%5B-84.48534972399995%2C%2042.16016903700006%5D%2C%20%5B-84.48526532099999%2C%2042.160168492000025%5D%2C%20%5B-84.48049205899997%2C%2042.16013703700003%5D%5D%5D%5D%2C%20%22type%22%3A%20%22MultiPolygon%22%7D%2C%20%22properties%22%3A%20%7B%22CNTY_NAME%22%3A%20%22JACKSON%22%2C%20%22CNTY_NUM%22%3A%20%2238%22%2C%20%22FID%22%3A%20825%2C%20%22Pos2015%22%3A%20null%2C%20%22Pos2016%22%3A%20null%2C%20%22Pos2017%22%3A%20null%2C%20%22Pos2018%22%3A%20null%2C%20%22Pos2019%22%3A%201%2C%20%22PosTotal%22%3A%201%2C%20%22RANGE%22%3A%20%2202W%22%2C%20%22SHAPE_Area%22%3A%200.010100672948999858%2C%20%22SHAPE_Length%22%3A%200.4052005353237974%2C%20%22TIER%22%3A%20%2204S%22%2C%20%22TR%22%3A%20%22T04S%2CR02W%22%2C%20%22Test2016%22%3A%20null%2C%20%22Test2017%22%3A%202%2C%20%22Test2018%22%3A%20118%2C%20%22Test2019%22%3A%20113%2C%20%22TestTotal%22%3A%20233%2C%20%22Tests2015%22%3A%20null%7D%2C%20%22type%22%3A%20%22Feature%22%7D%2C%20%7B%22geometry%22%3A%20%7B%22coordinates%22%3A%20%5B%5B%5B%5B-84.96067354599995%2C%2043.119651290000036%5D%2C%20%5B-84.95571587899997%2C%2043.11961666000008%5D%2C%20%5B-84.95573126299996%2C%2043.11653180700006%5D%2C%20%5B-84.95573358899998%2C%2043.116064452000046%5D%2C%20%5B-84.95574928899998%2C%2043.112910068000076%5D%2C%20%5B-84.95575162699998%2C%2043.112442704000046%5D%2C%20%5B-84.95576732699999%2C%2043.10928832700006%5D%2C%20%5B-84.95576965199996%2C%2043.108820954000066%5D%2C%20%5B-84.95578536299996%2C%2043.10566658500005%5D%2C%20%5B-84.95578367399997%2C%2043.10519920100006%5D%2C%20%5B-84.95580753199994%2C%2043.101985186000036%5D%2C%20%5B-84.95581070899999%2C%2043.10155633000005%5D%2C%20%5B-84.95583484599996%2C%2043.09830382400003%5D%2C%20%5B-84.95583775599994%2C%2043.09791344800004%5D%2C%20%5B-84.95586218299997%2C%2043.09462245100008%5D%2C%20%5B-84.95586478699994%2C%2043.094270563000066%5D%2C%20%5B-84.95588950399997%2C%2043.090941076000036%5D%2C%20%5B-84.95588835499996%2C%2043.09062765400006%5D%2C%20%5B-84.95589913599997%2C%2043.08732020300005%5D%2C%20%5B-84.95590018999997%2C%2043.08699302400004%5D%2C%20%5B-84.95591091999995%2C%2043.08369933000006%5D%2C%20%5B-84.95591203699996%2C%2043.083358402000044%5D%2C%20%5B-84.95592270199995%2C%2043.080078455000034%5D%2C%20%5B-84.95592385699996%2C%2043.079723768000065%5D%2C%20%5B-84.95593449699999%2C%2043.07645757800003%5D%2C%20%5B-84.95594814399999%2C%2043.07608913800004%5D%2C%20%5B-84.95596727999998%2C%2043.07277484200006%5D%2C%20%5B-84.95596902099999%2C%2043.07246962500005%5D%2C%20%5B-84.95598851399996%2C%2043.06909206000006%5D%2C%20%5B-84.95598992099997%2C%2043.068850111000074%5D%2C%20%5B-84.95600977199996%2C%2043.065409276000025%5D%2C%20%5B-84.95601080699998%2C%2043.06523058500005%5D%2C%20%5B-84.95603101499995%2C%2043.06172649000007%5D%2C%20%5B-84.95602311399995%2C%2043.06161103200003%5D%2C%20%5B-84.95606164499998%2C%2043.05812066300007%5D%2C%20%5B-84.95606307499997%2C%2043.05799148700004%5D%2C%20%5B-84.95610145199998%2C%2043.05451482700005%5D%2C%20%5B-84.95610303299998%2C%2043.05437192200003%5D%2C%20%5B-84.95614125399999%2C%2043.05090899900006%5D%2C%20%5B-84.95614298699996%2C%2043.050752327000055%5D%2C%20%5B-84.95618106599994%2C%2043.04730315900008%5D%2C%20%5B-84.95615048399998%2C%2043.04713276700005%5D%2C%20%5B-84.95615588099997%2C%2043.04363964500004%5D%2C%20%5B-84.95615607999997%2C%2043.04351186800005%5D%2C%20%5B-84.95616155299996%2C%2043.03997615800006%5D%2C%20%5B-84.95616168899994%2C%2043.03989097700003%5D%2C%20%5B-84.95616723599994%2C%2043.03631267000003%5D%2C%20%5B-84.95616729799997%2C%2043.03627007500006%5D%2C%20%5B-84.95617290799999%2C%2043.03264917100006%5D%2C%20%5B-84.96106164199995%2C%2043.03263854800008%5D%2C%20%5B-84.96115150099996%2C%2043.03263835300004%5D%2C%20%5B-84.96595033699998%2C%2043.032627716000036%5D%2C%20%5B-84.96613007999997%2C%2043.03262730800003%5D%2C%20%5B-84.97083905299996%2C%2043.03261667500004%5D%2C%20%5B-84.97110867999999%2C%2043.03261605700004%5D%2C%20%5B-84.97572776699997%2C%2043.03260543500005%5D%2C%20%5B-84.97608726599998%2C%2043.03260458800003%5D%2C%20%5B-84.98063147199997%2C%2043.03259782900005%5D%2C%20%5B-84.98101156899997%2C%2043.03259725700008%5D%2C%20%5B-84.98553518299997%2C%2043.03259032700004%5D%2C%20%5B-84.98593585799995%2C%2043.03258971300005%5D%2C%20%5B-84.99043887899995%2C%2043.03258262300005%5D%2C%20%5B-84.99086015799998%2C%2043.032581949000075%5D%2C%20%5B-84.99534258499995%2C%2043.032574700000055%5D%2C%20%5B-84.99578447399995%2C%2043.03257360300006%5D%2C%20%5B-85.00033224699996%2C%2043.032552999000075%5D%2C%20%5B-85.00073299599995%2C%2043.03255313600005%5D%2C%20%5B-85.00532185199995%2C%2043.032554649000076%5D%2C%20%5B-85.00568152099999%2C%2043.032554762000075%5D%2C%20%5B-85.01031151999996%2C%2043.03255608300003%5D%2C%20%5B-85.01063005799995%2C%2043.032556165000074%5D%2C%20%5B-85.01530123699996%2C%2043.03255730800004%5D%2C%20%5B-85.01557858599995%2C%2043.03256320000003%5D%2C%20%5B-85.02021733099997%2C%2043.03254733000006%5D%2C%20%5B-85.02052836899998%2C%2043.032546258000025%5D%2C%20%5B-85.02513338199998%2C%2043.03253031600008%5D%2C%20%5B-85.02547816199996%2C%2043.03252911100003%5D%2C%20%5B-85.03004942899997%2C%2043.032513091000055%5D%2C%20%5B-85.03042794999999%2C%2043.032511750000026%5D%2C%20%5B-85.03496547299994%2C%2043.03249564400005%5D%2C%20%5B-85.03537777799994%2C%2043.03250166300006%5D%2C%20%5B-85.03992096899998%2C%2043.03247892700006%5D%2C%20%5B-85.04030504199994%2C%2043.032477002000064%5D%2C%20%5B-85.04487637599999%2C%2043.032453933000056%5D%2C%20%5B-85.04523231299999%2C%2043.03245213800005%5D%2C%20%5B-85.04983179099997%2C%2043.032428725000045%5D%2C%20%5B-85.05015956699998%2C%2043.03242705200006%5D%2C%20%5B-85.05478718699999%2C%2043.032403302000034%5D%2C%20%5B-85.05508701699995%2C%2043.032420116000026%5D%2C%20%5B-85.05972432099998%2C%2043.03240600500004%5D%2C%20%5B-85.06002405299995%2C%2043.032405081000036%5D%2C%20%5B-85.06466136699999%2C%2043.032390761000045%5D%2C%20%5B-85.06496108599998%2C%2043.032389832000035%5D%2C%20%5B-85.06959839599995%2C%2043.032375312000056%5D%2C%20%5B-85.06989812699999%2C%2043.03237437100006%5D%2C%20%5B-85.07519346399994%2C%2043.03235755500003%5D%2C%20%5B-85.07518696299996%2C%2043.03599505900007%5D%2C%20%5B-85.07518046199993%2C%2043.03963255200006%5D%2C%20%5B-85.07517396099996%2C%2043.043270043000064%5D%2C%20%5B-85.07516746099998%2C%2043.046907532000034%5D%2C%20%5B-85.07516296999995%2C%2043.05048179400006%5D%2C%20%5B-85.07516289799997%2C%2043.05054090400006%5D%2C%20%5B-85.07515849299995%2C%2043.05405603600008%5D%2C%20%5B-85.07515834899993%2C%2043.05417426500003%5D%2C%20%5B-85.07515400299997%2C%2043.05763028500007%5D%2C%20%5B-85.07515378899996%2C%2043.05780762400008%5D%2C%20%5B-85.07514952699995%2C%2043.06120453200003%5D%2C%20%5B-85.07514897699997%2C%2043.061440979000054%5D%2C%20%5B-85.07514470499996%2C%2043.06484752100005%5D%2C%20%5B-85.07514440799997%2C%2043.06507983900008%5D%2C%20%5B-85.07514011099994%2C%2043.06849048300006%5D%2C%20%5B-85.07513982699999%2C%2043.06871867900003%5D%2C%20%5B-85.07513552999995%2C%2043.07213345200006%5D%2C%20%5B-85.07513524699993%2C%2043.072357526000076%5D%2C%20%5B-85.07513094899997%2C%2043.07577641900008%5D%2C%20%5B-85.07513044099994%2C%2043.07599636000003%5D%2C%20%5B-85.07511540399997%2C%2043.07941662800005%5D%2C%20%5B-85.07511433299999%2C%2043.079659950000064%5D%2C%20%5B-85.07509939399995%2C%2043.08305682200006%5D%2C%20%5B-85.07509821199994%2C%2043.08332352000008%5D%2C%20%5B-85.07508338199995%2C%2043.086697024000046%5D%2C%20%5B-85.07508210399999%2C%2043.08698706900003%5D%2C%20%5B-85.07506735699997%2C%2043.090337214000044%5D%2C%20%5B-85.07508165899998%2C%2043.09065065400006%5D%2C%20%5B-85.07508453299994%2C%2043.09395823800003%5D%2C%20%5B-85.07508478999995%2C%2043.09424825000008%5D%2C%20%5B-85.07508769499998%2C%2043.09757918200006%5D%2C%20%5B-85.07508791099997%2C%2043.09784585300008%5D%2C%20%5B-85.07509084499998%2C%2043.10120013200003%5D%2C%20%5B-85.07509104499997%2C%2043.10144346300007%5D%2C%20%5B-85.07509399799994%2C%2043.10482106200004%5D%2C%20%5B-85.07510850299997%2C%2043.10504103400007%5D%2C%20%5B-85.07507206699995%2C%2043.10844281400006%5D%2C%20%5B-85.07506971%2C%2043.108662683000034%5D%2C%20%5B-85.07503325799996%2C%2043.11206447100005%5D%2C%20%5B-85.07503091299998%2C%2043.11228433900004%5D%2C%20%5B-85.07499445899998%2C%2043.11568611600006%5D%2C%20%5B-85.07499211299995%2C%2043.11590599400006%5D%2C%20%5B-85.07494585899997%2C%2043.120223%5D%2C%20%5B-85.06959072299998%2C%2043.12020491100003%5D%2C%20%5B-85.06464667999995%2C%2043.12018798400004%5D%2C%20%5B-85.05970263899997%2C%2043.12017084400003%5D%2C%20%5B-85.05475858699998%2C%2043.120153490000064%5D%2C%20%5B-85.04990741999995%2C%2043.12011974600006%5D%2C%20%5B-85.04495311899996%2C%2043.120085061000054%5D%2C%20%5B-85.03999882199997%2C%2043.12005016900008%5D%2C%20%5B-85.03504454299997%2C%2043.12001505400008%5D%2C%20%5B-85.03004844299994%2C%2043.11998945700003%5D%2C%20%5B-85.02505235799998%2C%2043.11996364200007%5D%2C%20%5B-85.02005626499994%2C%2043.11993760900003%5D%2C%20%5B-85.01506018699996%2C%2043.11991134800007%5D%2C%20%5B-85.01015441099997%2C%2043.11990158700007%5D%2C%20%5B-85.00524864799996%2C%2043.11989160600007%5D%2C%20%5B-85.00034289799999%2C%2043.11988143200006%5D%2C%20%5B-84.99543714899994%2C%2043.11987103000007%5D%2C%20%5B-84.99046448799999%2C%2043.11984207000006%5D%2C%20%5B-84.98549181799996%2C%2043.119812884000055%5D%2C%20%5B-84.98051916399999%2C%2043.11978349000003%5D%2C%20%5B-84.97554651499996%2C%2043.119753881000065%5D%2C%20%5B-84.97058884499995%2C%2043.11971989600005%5D%2C%20%5B-84.96563119299998%2C%2043.11968569600003%5D%2C%20%5B-84.96067354599995%2C%2043.119651290000036%5D%5D%5D%5D%2C%20%22type%22%3A%20%22MultiPolygon%22%7D%2C%20%22properties%22%3A%20%7B%22CNTY_NAME%22%3A%20%22IONIA%22%2C%20%22CNTY_NUM%22%3A%20%2234%22%2C%20%22FID%22%3A%20901%2C%20%22Pos2015%22%3A%20null%2C%20%22Pos2016%22%3A%20null%2C%20%22Pos2017%22%3A%20null%2C%20%22Pos2018%22%3A%20null%2C%20%22Pos2019%22%3A%201%2C%20%22PosTotal%22%3A%201%2C%20%22RANGE%22%3A%20%2206W%22%2C%20%22SHAPE_Area%22%3A%200.01041600925971893%2C%20%22SHAPE_Length%22%3A%200.41309325572989186%2C%20%22TIER%22%3A%20%2208N%22%2C%20%22TR%22%3A%20%22T08N%2CR06W%22%2C%20%22Test2016%22%3A%2019%2C%20%22Test2017%22%3A%2043%2C%20%22Test2018%22%3A%20207%2C%20%22Test2019%22%3A%2068%2C%20%22TestTotal%22%3A%20341%2C%20%22Tests2015%22%3A%204%7D%2C%20%22type%22%3A%20%22Feature%22%7D%2C%20%7B%22geometry%22%3A%20%7B%22coordinates%22%3A%20%5B%5B%5B%5B-85.07999838699999%2C%2043.12020545400003%5D%2C%20%5B-85.07494585899997%2C%2043.120223%5D%2C%20%5B-85.07499211299995%2C%2043.11590599400006%5D%2C%20%5B-85.07499445899998%2C%2043.11568611600006%5D%2C%20%5B-85.07503091299998%2C%2043.11228433900004%5D%2C%20%5B-85.07503325799996%2C%2043.11206447100005%5D%2C%20%5B-85.07506971%2C%2043.108662683000034%5D%2C%20%5B-85.07507206699995%2C%2043.10844281400006%5D%2C%20%5B-85.07510850299997%2C%2043.10504103400007%5D%2C%20%5B-85.07509399799994%2C%2043.10482106200004%5D%2C%20%5B-85.07509104499997%2C%2043.10144346300007%5D%2C%20%5B-85.07509084499998%2C%2043.10120013200003%5D%2C%20%5B-85.07508791099997%2C%2043.09784585300008%5D%2C%20%5B-85.07508769499998%2C%2043.09757918200006%5D%2C%20%5B-85.07508478999995%2C%2043.09424825000008%5D%2C%20%5B-85.07508453299994%2C%2043.09395823800003%5D%2C%20%5B-85.07508165899998%2C%2043.09065065400006%5D%2C%20%5B-85.07506735699997%2C%2043.090337214000044%5D%2C%20%5B-85.07508210399999%2C%2043.08698706900003%5D%2C%20%5B-85.07508338199995%2C%2043.086697024000046%5D%2C%20%5B-85.07509821199994%2C%2043.08332352000008%5D%2C%20%5B-85.07509939399995%2C%2043.08305682200006%5D%2C%20%5B-85.07511433299999%2C%2043.079659950000064%5D%2C%20%5B-85.07511540399997%2C%2043.07941662800005%5D%2C%20%5B-85.07513044099994%2C%2043.07599636000003%5D%2C%20%5B-85.07513094899997%2C%2043.07577641900008%5D%2C%20%5B-85.07513524699993%2C%2043.072357526000076%5D%2C%20%5B-85.07513552999995%2C%2043.07213345200006%5D%2C%20%5B-85.07513982699999%2C%2043.06871867900003%5D%2C%20%5B-85.07514011099994%2C%2043.06849048300006%5D%2C%20%5B-85.07514440799997%2C%2043.06507983900008%5D%2C%20%5B-85.07514470499996%2C%2043.06484752100005%5D%2C%20%5B-85.07514897699997%2C%2043.061440979000054%5D%2C%20%5B-85.07514952699995%2C%2043.06120453200003%5D%2C%20%5B-85.07515378899996%2C%2043.05780762400008%5D%2C%20%5B-85.07515400299997%2C%2043.05763028500007%5D%2C%20%5B-85.07515834899993%2C%2043.05417426500003%5D%2C%20%5B-85.07515849299995%2C%2043.05405603600008%5D%2C%20%5B-85.07516289799997%2C%2043.05054090400006%5D%2C%20%5B-85.07516296999995%2C%2043.05048179400006%5D%2C%20%5B-85.07516746099998%2C%2043.046907532000034%5D%2C%20%5B-85.07517396099996%2C%2043.043270043000064%5D%2C%20%5B-85.07518046199993%2C%2043.03963255200006%5D%2C%20%5B-85.07518696299996%2C%2043.03599505900007%5D%2C%20%5B-85.07519346399994%2C%2043.03235755500003%5D%2C%20%5B-85.08009633499995%2C%2043.03236187700003%5D%2C%20%5B-85.08015629499994%2C%2043.032361931000025%5D%2C%20%5B-85.08499920499997%2C%2043.032365980000066%5D%2C%20%5B-85.08511914999997%2C%2043.03236609100003%5D%2C%20%5B-85.08990206199996%2C%2043.03236989100003%5D%2C%20%5B-85.09008197899999%2C%2043.03237002700007%5D%2C%20%5B-85.09480492999995%2C%2043.032373591000066%5D%2C%20%5B-85.09504481999994%2C%2043.03237375600003%5D%2C%20%5B-85.09973779499995%2C%2043.03237179100006%5D%2C%20%5B-85.09991770299996%2C%2043.032371718000036%5D%2C%20%5B-85.10467066199999%2C%2043.03236951100007%5D%2C%20%5B-85.10479060899996%2C%2043.03236945400005%5D%2C%20%5B-85.10960352699999%2C%2043.03236703600004%5D%2C%20%5B-85.10966348799997%2C%2043.032367%5D%2C%20%5B-85.11453639099994%2C%2043.032364338000036%5D%2C%20%5B-85.11949769999995%2C%2043.03234343200006%5D%2C%20%5B-85.12445902999997%2C%2043.03232231000004%5D%2C%20%5B-85.12941996799998%2C%2043.032286086000056%5D%2C%20%5B-85.13438084899997%2C%2043.032247950000055%5D%2C%20%5B-85.13459060899999%2C%2043.03223750600006%5D%2C%20%5B-85.13928659099997%2C%2043.032233838000025%5D%2C%20%5B-85.13934834899999%2C%2043.03223379100007%5D%2C%20%5B-85.14419235799994%2C%2043.03222980700008%5D%2C%20%5B-85.14431587399997%2C%2043.032229708000045%5D%2C%20%5B-85.14909813499997%2C%2043.03222557400005%5D%2C%20%5B-85.14928338499999%2C%2043.03222540000007%5D%2C%20%5B-85.15400388499995%2C%2043.03222111200006%5D%2C%20%5B-85.15425094599999%2C%2043.03224370800007%5D%2C%20%5B-85.15899416599996%2C%2043.03221563300008%5D%2C%20%5B-85.15917926499998%2C%2043.032214528000054%5D%2C%20%5B-85.16398417899995%2C%2043.03218588400006%5D%2C%20%5B-85.16410757799997%2C%2043.03218514500003%5D%2C%20%5B-85.16897418499997%2C%2043.03215590800005%5D%2C%20%5B-85.16903587099995%2C%2043.032155540000076%5D%2C%20%5B-85.17396417099997%2C%2043.032125732000054%5D%2C%20%5B-85.17890118299994%2C%2043.03210796600007%5D%2C%20%5B-85.18383817799997%2C%2043.032089977000055%5D%2C%20%5B-85.18877516799995%2C%2043.032071794000046%5D%2C%20%5B-85.19362473699994%2C%2043.03205371900003%5D%2C%20%5B-85.19362564799997%2C%2043.035695704000034%5D%2C%20%5B-85.19362656199996%2C%2043.03933766800003%5D%2C%20%5B-85.19362746399997%2C%2043.042979639000066%5D%2C%20%5B-85.19362838099994%2C%2043.046621609000056%5D%2C%20%5B-85.19361245699997%2C%2043.05025666700004%5D%2C%20%5B-85.19359653199996%2C%2043.05389171500008%5D%2C%20%5B-85.19358061999998%2C%2043.05752676900005%5D%2C%20%5B-85.19356468199999%2C%2043.06116181300007%5D%2C%20%5B-85.19357877399995%2C%2043.06478592500008%5D%2C%20%5B-85.19359284499996%2C%2043.06841003400007%5D%2C%20%5B-85.19360694399995%2C%2043.072034133000045%5D%2C%20%5B-85.19362102099996%2C%2043.07565823900006%5D%2C%20%5B-85.19364070699999%2C%2043.07929197400006%5D%2C%20%5B-85.19366038499999%2C%2043.082925698000054%5D%2C%20%5B-85.19368006699995%2C%2043.08655942900003%5D%2C%20%5B-85.19369975199999%2C%2043.09019314900007%5D%2C%20%5B-85.19368572599996%2C%2043.093819919000055%5D%2C%20%5B-85.19367169999998%2C%2043.09744669500003%5D%2C%20%5B-85.19365766099997%2C%2043.101073470000074%5D%2C%20%5B-85.19364363399995%2C%2043.10470023400006%5D%2C%20%5B-85.19365162499997%2C%2043.10832200100003%5D%2C%20%5B-85.19365961799997%2C%2043.11194375700006%5D%2C%20%5B-85.19366760099996%2C%2043.115565512000046%5D%2C%20%5B-85.19367637399995%2C%2043.119542790000025%5D%2C%20%5B-85.18941280499996%2C%2043.11954717000003%5D%2C%20%5B-85.18446876699994%2C%2043.11955205600003%5D%2C%20%5B-85.17952472699994%2C%2043.11955672800008%5D%2C%20%5B-85.17458068399998%2C%2043.119561195000074%5D%2C%20%5B-85.16956656799994%2C%2043.11960017700005%5D%2C%20%5B-85.16469504599996%2C%2043.11963783600004%5D%2C%20%5B-85.15982350299998%2C%2043.119675296000025%5D%2C%20%5B-85.15495192799995%2C%2043.119712539000034%5D%2C%20%5B-85.14996603299994%2C%2043.11973453500008%5D%2C%20%5B-85.14498013299999%2C%2043.11975632300005%5D%2C%20%5B-85.13999422799998%2C%2043.11977789400004%5D%2C%20%5B-85.13500831799996%2C%2043.11979924600007%5D%2C%20%5B-85.12991758999993%2C%2043.11986465500007%5D%2C%20%5B-85.12482685099997%2C%2043.11992984500006%5D%2C%20%5B-85.11973608599999%2C%2043.11999480800006%5D%2C%20%5B-85.11464532199994%2C%2043.12005954500006%5D%2C%20%5B-85.10977297599999%2C%2043.120082840000066%5D%2C%20%5B-85.10490063699996%2C%2043.120105927000054%5D%2C%20%5B-85.10002830699995%2C%2043.12012882500005%5D%2C%20%5B-85.09515594599998%2C%2043.12015149600006%5D%2C%20%5B-85.09010343099999%2C%2043.120169702000055%5D%2C%20%5B-85.08505091099994%2C%2043.12018769500003%5D%2C%20%5B-85.07999838699999%2C%2043.12020545400003%5D%5D%5D%5D%2C%20%22type%22%3A%20%22MultiPolygon%22%7D%2C%20%22properties%22%3A%20%7B%22CNTY_NAME%22%3A%20%22IONIA%22%2C%20%22CNTY_NUM%22%3A%20%2234%22%2C%20%22FID%22%3A%20902%2C%20%22Pos2015%22%3A%20null%2C%20%22Pos2016%22%3A%20null%2C%20%22Pos2017%22%3A%20null%2C%20%22Pos2018%22%3A%201%2C%20%22Pos2019%22%3A%20null%2C%20%22PosTotal%22%3A%201%2C%20%22RANGE%22%3A%20%2207W%22%2C%20%22SHAPE_Area%22%3A%200.010382912064741793%2C%20%22SHAPE_Length%22%3A%200.41252372514724206%2C%20%22TIER%22%3A%20%2208N%22%2C%20%22TR%22%3A%20%22T08N%2CR07W%22%2C%20%22Test2016%22%3A%209%2C%20%22Test2017%22%3A%2059%2C%20%22Test2018%22%3A%20143%2C%20%22Test2019%22%3A%2057%2C%20%22TestTotal%22%3A%20268%2C%20%22Tests2015%22%3A%20null%7D%2C%20%22type%22%3A%20%22Feature%22%7D%2C%20%7B%22geometry%22%3A%20%7B%22coordinates%22%3A%20%5B%5B%5B%5B-85.19858531099999%2C%2043.031879985000046%5D%2C%20%5B-85.19362473699994%2C%2043.03205371900003%5D%2C%20%5B-85.19365854399996%2C%2043.02735637700005%5D%2C%20%5B-85.19368460899994%2C%2043.023734595000064%5D%2C%20%5B-85.19371067299994%2C%2043.020112812000036%5D%2C%20%5B-85.19373673599995%2C%2043.01649101800007%5D%2C%20%5B-85.19372077099996%2C%2043.012869616000046%5D%2C%20%5B-85.19370480899994%2C%2043.00924820400007%5D%2C%20%5B-85.19368885099999%2C%2043.005626790000065%5D%2C%20%5B-85.19367289699994%2C%2043.00200538300004%5D%2C%20%5B-85.19365702099998%2C%2042.998375648000035%5D%2C%20%5B-85.19365398699995%2C%2042.99474595800007%5D%2C%20%5B-85.19365093%2C%2042.99111624900007%5D%2C%20%5B-85.19364787499995%2C%2042.98748654600007%5D%2C%20%5B-85.19365204899998%2C%2042.98387044100008%5D%2C%20%5B-85.19365619899997%2C%2042.98025435300008%5D%2C%20%5B-85.19366037499998%2C%2042.97663825300003%5D%2C%20%5B-85.19366452799994%2C%2042.97302214300004%5D%2C%20%5B-85.19362757999994%2C%2042.96938946400007%5D%2C%20%5B-85.19359061299997%2C%2042.965756774000056%5D%2C%20%5B-85.19355367699995%2C%2042.96212409200007%5D%2C%20%5B-85.19351672299996%2C%2042.95849138900007%5D%2C%20%5B-85.19353027999995%2C%2042.954864290000046%5D%2C%20%5B-85.19354383799998%2C%2042.95123719000003%5D%2C%20%5B-85.19355739599996%2C%2042.94761008000006%5D%2C%20%5B-85.19357095399994%2C%2042.94398295800005%5D%2C%20%5B-85.19845696099998%2C%2042.94398725800005%5D%2C%20%5B-85.19850197199997%2C%2042.94398730800003%5D%2C%20%5B-85.20334297899996%2C%2042.94399136800007%5D%2C%20%5B-85.20343298899996%2C%2042.94399143700008%5D%2C%20%5B-85.20822899599995%2C%2042.94399525100005%5D%2C%20%5B-85.20836400399998%2C%2042.94399535200006%5D%2C%20%5B-85.21311499899997%2C%2042.94399892400003%5D%2C%20%5B-85.21329502199995%2C%2042.94399499700006%5D%2C%20%5B-85.21809644199999%2C%2042.943987425000046%5D%2C%20%5B-85.21823147999999%2C%2042.943987220000054%5D%2C%20%5B-85.22307789699994%2C%2042.94397937000008%5D%2C%20%5B-85.22316790899998%2C%2042.94397921900003%5D%2C%20%5B-85.22805934799999%2C%2042.94397108700008%5D%2C%20%5B-85.22810435999997%2C%2042.943971015000045%5D%2C%20%5B-85.23304079599995%2C%2042.94396258800003%5D%2C%20%5B-85.23794489999995%2C%2042.94396621000004%5D%2C%20%5B-85.24284901499999%2C%2042.943969630000026%5D%2C%20%5B-85.24775311699995%2C%2042.94397283100005%5D%2C%20%5B-85.25265721799997%2C%2042.94397972100006%5D%2C%20%5B-85.25760869599998%2C%2042.94398984600008%5D%2C%20%5B-85.26256016099995%2C%2042.94399975700003%5D%2C%20%5B-85.26751163899996%2C%2042.944009452000046%5D%2C%20%5B-85.27246311599998%2C%2042.944018924000034%5D%2C%20%5B-85.27741834499994%2C%2042.94401994200007%5D%2C%20%5B-85.28237354699996%2C%2042.944020746000035%5D%2C%20%5B-85.28732875899999%2C%2042.94402133400007%5D%2C%20%5B-85.29228398199996%2C%2042.944021699000075%5D%2C%20%5B-85.29721396399998%2C%2042.94400890600008%5D%2C%20%5B-85.30214396699995%2C%2042.94399590000006%5D%2C%20%5B-85.30707395299999%2C%2042.94398267100007%5D%2C%20%5B-85.31182387299998%2C%2042.94396973500005%5D%2C%20%5B-85.31183439799997%2C%2042.94758505200008%5D%2C%20%5B-85.31184492599994%2C%2042.95120037700008%5D%2C%20%5B-85.31185545799997%2C%2042.95481569100008%5D%2C%20%5B-85.31186599299997%2C%2042.95843101300005%5D%2C%20%5B-85.31186249699994%2C%2042.96210559300005%5D%2C%20%5B-85.31185899099995%2C%2042.96578017200005%5D%2C%20%5B-85.31185548699995%2C%2042.96945475000007%5D%2C%20%5B-85.31185199699996%2C%2042.97312933400008%5D%2C%20%5B-85.31186501299999%2C%2042.97678313500006%5D%2C%20%5B-85.31187803299997%2C%2042.98043693300008%5D%2C%20%5B-85.31189104399994%2C%2042.98409072000004%5D%2C%20%5B-85.31190407099996%2C%2042.98774451600008%5D%2C%20%5B-85.31194571799995%2C%2042.99136908100007%5D%2C%20%5B-85.31198735899994%2C%2042.99499363600006%5D%2C%20%5B-85.31202900599999%2C%2042.99861818900007%5D%2C%20%5B-85.31207067399998%2C%2043.00224277700005%5D%2C%20%5B-85.31210132999996%2C%2043.00582716300005%5D%2C%20%5B-85.31213199199999%2C%2043.00941155800007%5D%2C%20%5B-85.31216265999996%2C%2043.01299595000006%5D%2C%20%5B-85.31219333399997%2C%2043.016580341000065%5D%2C%20%5B-85.31224884799997%2C%2043.020205754000074%5D%2C%20%5B-85.31230431399996%2C%2043.023827366000035%5D%2C%20%5B-85.31235978899997%2C%2043.027448966000065%5D%2C%20%5B-85.31239538099999%2C%2043.02977273400006%5D%2C%20%5B-85.30776888299994%2C%2043.02982902000008%5D%2C%20%5B-85.30751417899995%2C%2043.02983212300006%5D%2C%20%5B-85.30283268399995%2C%2043.02988888700003%5D%2C%20%5B-85.30257799199995%2C%2043.02989196000004%5D%2C%20%5B-85.29789647299998%2C%2043.02994852200004%5D%2C%20%5B-85.29764179299997%2C%2043.02995160300003%5D%2C%20%5B-85.29296023799998%2C%2043.03000795300005%5D%2C%20%5B-85.29270557499996%2C%2043.03001273800004%5D%2C%20%5B-85.28799997599998%2C%2043.03006154700006%5D%2C%20%5B-85.28778653299997%2C%2043.03006375600006%5D%2C%20%5B-85.28303974199997%2C%2043.030112786000075%5D%2C%20%5B-85.28286748099998%2C%2043.03011457100007%5D%2C%20%5B-85.27807948399999%2C%2043.03016381900005%5D%2C%20%5B-85.27794840599995%2C%2043.03016516500003%5D%2C%20%5B-85.27311921699999%2C%2043.03021462700008%5D%2C%20%5B-85.27302931899999%2C%2043.03021986300007%5D%2C%20%5B-85.26813626999996%2C%2043.030305551000026%5D%2C%20%5B-85.26801455799995%2C%2043.030307676000064%5D%2C%20%5B-85.26315333899998%2C%2043.03039259700006%5D%2C%20%5B-85.26299978099996%2C%2043.03039527900006%5D%2C%20%5B-85.25817039199995%2C%2043.03047942500007%5D%2C%20%5B-85.25798498799998%2C%2043.030482661000065%5D%2C%20%5B-85.25318741599995%2C%2043.03056604500006%5D%2C%20%5B-85.25297017799994%2C%2043.030570856000054%5D%2C%20%5B-85.24817781099995%2C%2043.03064681700005%5D%2C%20%5B-85.24801537099995%2C%2043.03064991600007%5D%2C%20%5B-85.24316874199997%2C%2043.030742246000045%5D%2C%20%5B-85.24306041499995%2C%2043.03074430800007%5D%2C%20%5B-85.23815965599994%2C%2043.03083744700007%5D%2C%20%5B-85.23810547999994%2C%2043.03083848400007%5D%2C%20%5B-85.2331505399999%2C%2043.030932446000065%5D%2C%20%5B-85.22822964399995%2C%2043.03103901800006%5D%2C%20%5B-85.22330874199997%2C%2043.031145397000046%5D%2C%20%5B-85.21838782099996%2C%2043.03125155400005%5D%2C%20%5B-85.21346688199998%2C%2043.03135750800004%5D%2C%20%5B-85.20850638399997%2C%2043.031531879000056%5D%2C%20%5B-85.20354585599995%2C%2043.03170604400003%5D%2C%20%5B-85.19858531099999%2C%2043.031879985000046%5D%5D%5D%5D%2C%20%22type%22%3A%20%22MultiPolygon%22%7D%2C%20%22properties%22%3A%20%7B%22CNTY_NAME%22%3A%20%22IONIA%22%2C%20%22CNTY_NUM%22%3A%20%2234%22%2C%20%22FID%22%3A%20907%2C%20%22Pos2015%22%3A%20null%2C%20%22Pos2016%22%3A%20null%2C%20%22Pos2017%22%3A%20null%2C%20%22Pos2018%22%3A%20null%2C%20%22Pos2019%22%3A%201%2C%20%22PosTotal%22%3A%201%2C%20%22RANGE%22%3A%20%2208W%22%2C%20%22SHAPE_Area%22%3A%200.010258680877224362%2C%20%22SHAPE_Length%22%3A%200.4109280000801118%2C%20%22TIER%22%3A%20%2207N%22%2C%20%22TR%22%3A%20%22T07N%2CR08W%22%2C%20%22Test2016%22%3A%2034%2C%20%22Test2017%22%3A%2048%2C%20%22Test2018%22%3A%20159%2C%20%22Test2019%22%3A%2077%2C%20%22TestTotal%22%3A%20320%2C%20%22Tests2015%22%3A%202%7D%2C%20%22type%22%3A%20%22Feature%22%7D%2C%20%7B%22geometry%22%3A%20%7B%22coordinates%22%3A%20%5B%5B%5B%5B-85.07471338799996%2C%2042.943819517000065%5D%2C%20%5B-85.07472679799997%2C%2042.940459634000035%5D%2C%20%5B-85.07472784599997%2C%2042.94019766100007%5D%2C%20%5B-85.07474147799996%2C%2042.936780345000045%5D%2C%20%5B-85.07474227899996%2C%2042.93657580400003%5D%2C%20%5B-85.07475591599996%2C%2042.93315813500004%5D%2C%20%5B-85.07475672399994%2C%2042.93295393500006%5D%2C%20%5B-85.07477029199998%2C%2042.929552098000045%5D%2C%20%5B-85.07476325599998%2C%2042.92946408200004%5D%2C%20%5B-85.07478481199996%2C%2042.925912364000055%5D%2C%20%5B-85.07478536899998%2C%2042.92582024300003%5D%2C%20%5B-85.07480688499999%2C%2042.92227264400003%5D%2C%20%5B-85.07480748099994%2C%2042.92217640100006%5D%2C%20%5B-85.07482896899995%2C%2042.918632923000075%5D%2C%20%5B-85.07482957899998%2C%2042.91853256700006%5D%2C%20%5B-85.07485105299997%2C%2042.914993191000065%5D%2C%20%5B-85.07481420099998%2C%2042.91488859400005%5D%2C%20%5B-85.07484658899995%2C%2042.91136158100005%5D%2C%20%5B-85.07484730899995%2C%2042.911283266000055%5D%2C%20%5B-85.07487990899995%2C%2042.90773014600006%5D%2C%20%5B-85.07488038999998%2C%2042.90767793600003%5D%2C%20%5B-85.07491323999994%2C%2042.90409871000003%5D%2C%20%5B-85.07491347999996%2C%2042.90407260500007%5D%2C%20%5B-85.07494655599999%2C%2042.90046728100003%5D%2C%20%5B-85.07497960699999%2C%2042.89686744200003%5D%2C%20%5B-85.07501265599996%2C%2042.89326760000006%5D%2C%20%5B-85.07504570199995%2C%2042.88966776700005%5D%2C%20%5B-85.07507873399999%2C%2042.88606792200005%5D%2C%20%5B-85.07511203899998%2C%2042.88243803300003%5D%2C%20%5B-85.07514535399997%2C%2042.878808105000076%5D%2C%20%5B-85.07517865599993%2C%2042.87517815700005%5D%2C%20%5B-85.07517977099997%2C%2042.87505717600004%5D%2C%20%5B-85.07499433299995%2C%2042.87478398800005%5D%2C%20%5B-85.07496631299995%2C%2042.87154759400005%5D%2C%20%5B-85.07495436499994%2C%2042.867916896000054%5D%2C%20%5B-85.07494241999996%2C%2042.86428618600007%5D%2C%20%5B-85.07493047699995%2C%2042.860655474000055%5D%2C%20%5B-85.07491853799996%2C%2042.857024770000066%5D%2C%20%5B-85.07986617699999%2C%2042.85704036000004%5D%2C%20%5B-85.08481384199996%2C%2042.857055744000036%5D%2C%20%5B-85.08976148299996%2C%2042.857070914000076%5D%2C%20%5B-85.09470913699994%2C%2042.85708586900006%5D%2C%20%5B-85.09961192099996%2C%2042.85707450700005%5D%2C%20%5B-85.09965677199995%2C%2042.85707440200008%5D%2C%20%5B-85.10451470199996%2C%2042.857062935000044%5D%2C%20%5B-85.10460441599997%2C%2042.857062711000026%5D%2C%20%5B-85.10941748%2C%2042.85705116100007%5D%2C%20%5B-85.10955205699997%2C%2042.857050825000044%5D%2C%20%5B-85.11432025399995%2C%2042.85703915900007%5D%2C%20%5B-85.11449970099994%2C%2042.85703901900007%5D%2C%20%5B-85.11929300599996%2C%2042.857043918000045%5D%2C%20%5B-85.11942781299996%2C%2042.85704406100007%5D%2C%20%5B-85.12435583899997%2C%2042.85704958100007%5D%2C%20%5B-85.12923870999998%2C%2042.857092185000056%5D%2C%20%5B-85.12928439199999%2C%2042.85709265500003%5D%2C%20%5B-85.13421202999996%2C%2042.857142804000034%5D%2C%20%5B-85.13913224599997%2C%2042.857143595000025%5D%2C%20%5B-85.14405244899996%2C%2042.85714416500008%5D%2C%20%5B-85.14897264899997%2C%2042.85714453200006%5D%2C%20%5B-85.15389285999998%2C%2042.85714468700007%5D%2C%20%5B-85.15885982699996%2C%2042.85713907600007%5D%2C%20%5B-85.16382677699994%2C%2042.85713326600006%5D%2C%20%5B-85.16879374999996%2C%2042.85712722300008%5D%2C%20%5B-85.17358128599994%2C%2042.85712119600004%5D%2C%20%5B-85.17376079899998%2C%2042.857110764000026%5D%2C%20%5B-85.17868392199995%2C%2042.85711414300005%5D%2C%20%5B-85.18360703099995%2C%2042.85711730000003%5D%2C%20%5B-85.18853016399999%2C%2042.85712025400005%5D%2C%20%5B-85.19368827599999%2C%2042.85712311000003%5D%2C%20%5B-85.19366154999994%2C%2042.86076595500003%5D%2C%20%5B-85.19363483499995%2C%2042.86440879000003%5D%2C%20%5B-85.19360811799999%2C%2042.86805163200006%5D%2C%20%5B-85.19358140099996%2C%2042.87169447200006%5D%2C%20%5B-85.19348808099994%2C%2042.875293620000036%5D%2C%20%5B-85.19347812199999%2C%2042.87889285000006%5D%2C%20%5B-85.19346816399997%2C%2042.88249207000007%5D%2C%20%5B-85.19345820599995%2C%2042.886091306000026%5D%2C%20%5B-85.19343902599996%2C%2042.88973082700005%5D%2C%20%5B-85.19341982099996%2C%2042.89337035500006%5D%2C%20%5B-85.19341958999996%2C%2042.89341435000006%5D%2C%20%5B-85.19340062799995%2C%2042.89700986400004%5D%2C%20%5B-85.19340027499999%2C%2042.89707587000004%5D%2C%20%5B-85.19338142199996%2C%2042.90064937900007%5D%2C%20%5B-85.19340357399994%2C%2042.900737442000036%5D%2C%20%5B-85.19341421899998%2C%2042.904266920000055%5D%2C%20%5B-85.19341454799996%2C%2042.90437707500007%5D%2C%20%5B-85.19342513099997%2C%2042.90788449300004%5D%2C%20%5B-85.19342553899997%2C%2042.90801670600007%5D%2C%20%5B-85.19343605899996%2C%2042.91150205500003%5D%2C%20%5B-85.19343652299995%2C%2042.91165699000004%5D%2C%20%5B-85.19344697799994%2C%2042.915119624000056%5D%2C%20%5B-85.19352120199994%2C%2042.91529581900005%5D%2C%20%5B-85.19354429299995%2C%2042.91874961700006%5D%2C%20%5B-85.19354558299995%2C%2042.91894089200008%5D%2C%20%5B-85.19356856999997%2C%2042.922379453000076%5D%2C%20%5B-85.19356995599998%2C%2042.922585953000066%5D%2C%20%5B-85.19359286299994%2C%2042.92600949000007%5D%2C%20%5B-85.19359433399995%2C%2042.926231022000024%5D%2C%20%5B-85.19361713399996%2C%2042.929639534000046%5D%2C%20%5B-85.19361638199996%2C%2042.92987610800003%5D%2C%20%5B-85.19360547599996%2C%2042.93326153100003%5D%2C%20%5B-85.19360471299996%2C%2042.93349798500003%5D%2C%20%5B-85.19359382%2C%2042.93688340600005%5D%2C%20%5B-85.19359305799998%2C%2042.93711984200007%5D%2C%20%5B-85.19358215299997%2C%2042.940505262000045%5D%2C%20%5B-85.19358140199995%2C%2042.94074171600005%5D%2C%20%5B-85.19357095399994%2C%2042.94398295800005%5D%2C%20%5B-85.18853257199999%2C%2042.943985232000045%5D%2C%20%5B-85.18360254999999%2C%2042.943987236000055%5D%2C%20%5B-85.17867251399997%2C%2042.94398903600006%5D%2C%20%5B-85.17374247499998%2C%2042.94399062400004%5D%2C%20%5B-85.16872929399995%2C%2042.94397814000007%5D%2C%20%5B-85.16371610099998%2C%2042.94396542700008%5D%2C%20%5B-85.15870293299997%2C%2042.94395250400004%5D%2C%20%5B-85.15368975199993%2C%2042.94393936000006%5D%2C%20%5B-85.14878877399997%2C%2042.94393586900003%5D%2C%20%5B-85.14388778199998%2C%2042.94393216800006%5D%2C%20%5B-85.13898680099999%2C%2042.94392824700003%5D%2C%20%5B-85.13408581999994%2C%2042.94392412500008%5D%2C%20%5B-85.12914245299999%2C%2042.94390910300007%5D%2C%20%5B-85.12419909699997%2C%2042.943894070000056%5D%2C%20%5B-85.11925573899998%2C%2042.94387988400007%5D%2C%20%5B-85.11431238099999%2C%2042.94386548400007%5D%2C%20%5B-85.10937283999993%2C%2042.94385088200005%5D%2C%20%5B-85.10443327499996%2C%2042.94383606700006%5D%2C%20%5B-85.09949373599994%2C%2042.94382103800007%5D%2C%20%5B-85.09455419699998%2C%2042.94380580400008%5D%2C%20%5B-85.08959399499997%2C%2042.94380955300005%5D%2C%20%5B-85.08463380299997%2C%2042.94381308700008%5D%2C%20%5B-85.07967360899994%2C%2042.943816414000025%5D%2C%20%5B-85.07471338799996%2C%2042.943819517000065%5D%5D%5D%5D%2C%20%22type%22%3A%20%22MultiPolygon%22%7D%2C%20%22properties%22%3A%20%7B%22CNTY_NAME%22%3A%20%22IONIA%22%2C%20%22CNTY_NUM%22%3A%20%2234%22%2C%20%22FID%22%3A%20910%2C%20%22Pos2015%22%3A%20null%2C%20%22Pos2016%22%3A%20null%2C%20%22Pos2017%22%3A%20null%2C%20%22Pos2018%22%3A%201%2C%20%22Pos2019%22%3A%20null%2C%20%22PosTotal%22%3A%201%2C%20%22RANGE%22%3A%20%2207W%22%2C%20%22SHAPE_Area%22%3A%200.010296128077250312%2C%20%22SHAPE_Length%22%3A%200.4113689512975787%2C%20%22TIER%22%3A%20%2206N%22%2C%20%22TR%22%3A%20%22T06N%2CR07W%22%2C%20%22Test2016%22%3A%206%2C%20%22Test2017%22%3A%2014%2C%20%22Test2018%22%3A%2079%2C%20%22Test2019%22%3A%2078%2C%20%22TestTotal%22%3A%20177%2C%20%22Tests2015%22%3A%20null%7D%2C%20%22type%22%3A%20%22Feature%22%7D%2C%20%7B%22geometry%22%3A%20%7B%22coordinates%22%3A%20%5B%5B%5B%5B-84.36363769899998%2C%2042.77004630700003%5D%2C%20%5B-84.36363966199997%2C%2042.769561131000046%5D%2C%20%5B-84.36365307699998%2C%2042.76623512100008%5D%2C%20%5B-84.36365426999998%2C%2042.76593922500007%5D%2C%20%5B-84.36366768299996%2C%2042.762613213000066%5D%2C%20%5B-84.36366887699995%2C%2042.762317307000046%5D%2C%20%5B-84.36368229999994%2C%2042.758991311000045%5D%2C%20%5B-84.36368349699995%2C%2042.75869477800006%5D%2C%20%5B-84.36374300699998%2C%2042.75536951700008%5D%2C%20%5B-84.36373674199996%2C%2042.755139228000075%5D%2C%20%5B-84.36364496399995%2C%2042.751764422000065%5D%2C%20%5B-84.36363995899995%2C%2042.75158043500005%5D%2C%20%5B-84.36354690999997%2C%2042.74815923300008%5D%2C%20%5B-84.36354334199996%2C%2042.74802748900004%5D%2C%20%5B-84.36348638199996%2C%2042.744554090000065%5D%2C%20%5B-84.36348502699997%2C%2042.74447177900004%5D%2C%20%5B-84.36350773499998%2C%2042.740949328000056%5D%2C%20%5B-84.36350869199998%2C%2042.74083268500004%5D%2C%20%5B-84.36353735199998%2C%2042.73736566800005%5D%2C%20%5B-84.36353877099998%2C%2042.73719364500005%5D%2C%20%5B-84.36356696599995%2C%2042.733781978000025%5D%2C%20%5B-84.36356883299999%2C%2042.733554593000065%5D%2C%20%5B-84.36359657699995%2C%2042.73019824900007%5D%2C%20%5B-84.36359890399996%2C%2042.72991552900004%5D%2C%20%5B-84.36360471199998%2C%2042.726614692000055%5D%2C%20%5B-84.36360690799995%2C%2042.72625161600007%5D%2C%20%5B-84.36362670499994%2C%2042.72298782000007%5D%2C%20%5B-84.36362913299996%2C%2042.722587686000054%5D%2C%20%5B-84.36364870799997%2C%2042.719360935000054%5D%2C%20%5B-84.36365135599993%2C%2042.71892373600008%5D%2C%20%5B-84.36367069199997%2C%2042.71573465700004%5D%2C%20%5B-84.36367357599994%2C%2042.71525974600007%5D%2C%20%5B-84.36376145199995%2C%2042.71210739800006%5D%2C%20%5B-84.36376074499998%2C%2042.71165206200004%5D%2C%20%5B-84.36375588799996%2C%2042.70848334100003%5D%2C%20%5B-84.36375522699996%2C%2042.70804542800005%5D%2C%20%5B-84.36375034999998%2C%2042.70485927300007%5D%2C%20%5B-84.36374969899998%2C%2042.704438682000045%5D%2C%20%5B-84.36374481199994%2C%2042.70123521200003%5D%2C%20%5B-84.36371930199994%2C%2042.70083182800005%5D%2C%20%5B-84.36373926099998%2C%2042.69761114800008%5D%2C%20%5B-84.36374092499995%2C%2042.69723010300004%5D%2C%20%5B-84.36375503599999%2C%2042.69399943900004%5D%2C%20%5B-84.36375665699995%2C%2042.693628337000064%5D%2C%20%5B-84.36377080699998%2C%2042.690387746000056%5D%2C%20%5B-84.36377237599999%2C%2042.69002652100005%5D%2C%20%5B-84.36378657699998%2C%2042.68677603200007%5D%2C%20%5B-84.36378800799997%2C%2042.686448323000036%5D%2C%20%5B-84.36380008199995%2C%2042.68368507000008%5D%2C%20%5B-84.36380234299997%2C%2042.683164325000064%5D%2C%20%5B-84.36870931499999%2C%2042.68311203900004%5D%2C%20%5B-84.37361625499994%2C%2042.68305953300006%5D%2C%20%5B-84.37852319799998%2C%2042.683006817000035%5D%2C%20%5B-84.38343012199994%2C%2042.68295389100007%5D%2C%20%5B-84.38830119899995%2C%2042.68293139600007%5D%2C%20%5B-84.38833843199995%2C%2042.682931222000036%5D%2C%20%5B-84.39317225999997%2C%2042.68290868500003%5D%2C%20%5B-84.39324676499996%2C%2042.682908343000065%5D%2C%20%5B-84.39804330499999%2C%2042.68288576600003%5D%2C%20%5B-84.39815506899998%2C%2042.68288524400003%5D%2C%20%5B-84.40291466599996%2C%2042.68289487200008%5D%2C%20%5B-84.40306336999998%2C%2042.68286193500006%5D%2C%20%5B-84.40784257899998%2C%2042.682872375000045%5D%2C%20%5B-84.40802166299994%2C%2042.68287276400008%5D%2C%20%5B-84.41277034799998%2C%2042.68288292500006%5D%2C%20%5B-84.41297994599995%2C%2042.68288336100005%5D%2C%20%5B-84.41769811899997%2C%2042.68289325400008%5D%2C%20%5B-84.41793824399997%2C%2042.68289376100006%5D%2C%20%5B-84.42262589899997%2C%2042.68290504000004%5D%2C%20%5B-84.42289655599996%2C%2042.68290393800004%5D%2C%20%5B-84.42752765799997%2C%2042.68290914600004%5D%2C%20%5B-84.42786669599997%2C%2042.68290952000007%5D%2C%20%5B-84.43242944499997%2C%2042.68291445500006%5D%2C%20%5B-84.43283685099999%2C%2042.68291487700003%5D%2C%20%5B-84.43733121999998%2C%2042.68291954400007%5D%2C%20%5B-84.43780699399997%2C%2042.68292002700008%5D%2C%20%5B-84.44223300899995%2C%2042.68292443300004%5D%2C%20%5B-84.44277715099997%2C%2042.68292496200007%5D%2C%20%5B-84.44713755899994%2C%2042.68289194400006%5D%2C%20%5B-84.44768691999997%2C%2042.682887781000034%5D%2C%20%5B-84.45204200999996%2C%2042.682854614000064%5D%2C%20%5B-84.45259669699999%2C%2042.68285037100003%5D%2C%20%5B-84.45694647999994%2C%2042.68281706400006%5D%2C%20%5B-84.45750646799996%2C%2042.68281276100004%5D%2C%20%5B-84.46185125999995%2C%2042.682802441000035%5D%2C%20%5B-84.46241623299994%2C%2042.68277493900007%5D%2C%20%5B-84.46676056599995%2C%2042.68278052200003%5D%2C%20%5B-84.46732548899996%2C%2042.682781238000075%5D%2C%20%5B-84.47166982299996%2C%2042.68278663400008%5D%2C%20%5B-84.47223473299994%2C%2042.68278732500005%5D%2C%20%5B-84.47657906899997%2C%2042.68279252600007%5D%2C%20%5B-84.47714399199998%2C%2042.682793193000066%5D%2C%20%5B-84.48411599399998%2C%2042.682801177000044%5D%2C%20%5B-84.48411043899995%2C%2042.68642514900006%5D%2C%20%5B-84.48410488299999%2C%2042.690049128000055%5D%2C%20%5B-84.48409932699997%2C%2042.693673096000055%5D%2C%20%5B-84.48409376999996%2C%2042.69729707000005%5D%2C%20%5B-84.48406917699998%2C%2042.700900069000056%5D%2C%20%5B-84.48404459299996%2C%2042.70450306500004%5D%2C%20%5B-84.48401999399994%2C%2042.70810606900005%5D%2C%20%5B-84.48399540499997%2C%2042.71170905100007%5D%2C%20%5B-84.48399355599997%2C%2042.71531940500006%5D%2C%20%5B-84.48399170599998%2C%2042.71892974700006%5D%2C%20%5B-84.48398985599994%2C%2042.72254008700003%5D%2C%20%5B-84.48398800599995%2C%2042.72615043300004%5D%2C%20%5B-84.48395868799997%2C%2042.72978009700006%5D%2C%20%5B-84.48392936699997%2C%2042.73340974900003%5D%2C%20%5B-84.48390002999997%2C%2042.737039407000054%5D%2C%20%5B-84.48387071299999%2C%2042.74066906400003%5D%2C%20%5B-84.48381081799994%2C%2042.74430696500008%5D%2C%20%5B-84.48375091499997%2C%2042.74794486300004%5D%2C%20%5B-84.48370833899997%2C%2042.751582735000056%5D%2C%20%5B-84.48368841099995%2C%2042.75522058000007%5D%2C%20%5B-84.48368285799995%2C%2042.758842541000035%5D%2C%20%5B-84.48367731699994%2C%2042.76246449100006%5D%2C%20%5B-84.48367177399996%2C%2042.76608645700003%5D%2C%20%5B-84.48366655299998%2C%2042.769486811000036%5D%2C%20%5B-84.47725552699995%2C%2042.76953511800008%5D%2C%20%5B-84.47233965599997%2C%2042.76957191100007%5D%2C%20%5B-84.46742376599997%2C%2042.76960849300008%5D%2C%20%5B-84.46250788399999%2C%2042.76964486400004%5D%2C%20%5B-84.45757062099995%2C%2042.76962403500005%5D%2C%20%5B-84.45263336199997%2C%2042.769602993000035%5D%2C%20%5B-84.44769609399998%2C%2042.76958172900004%5D%2C%20%5B-84.44285566299999%2C%2042.769560685000044%5D%2C%20%5B-84.43780173%2C%2042.76958913400006%5D%2C%20%5B-84.43284458899996%2C%2042.769616814000074%5D%2C%20%5B-84.42788745599995%2C%2042.76964428900004%5D%2C%20%5B-84.42293030799993%2C%2042.76967102300006%5D%2C%20%5B-84.41800146399999%2C%2042.76971476600005%5D%2C%20%5B-84.41307261499998%2C%2042.76975827800004%5D%2C%20%5B-84.40814377099997%2C%2042.769801588000064%5D%2C%20%5B-84.40321503299998%2C%2042.769844688000035%5D%2C%20%5B-84.39826472799996%2C%2042.769857254000044%5D%2C%20%5B-84.39331455999996%2C%2042.76986960000005%5D%2C%20%5B-84.38836437799995%2C%2042.769881750000025%5D%2C%20%5B-84.38341420699999%2C%2042.769893668000066%5D%2C%20%5B-84.37847008199998%2C%2042.76993214300006%5D%2C%20%5B-84.37352597699999%2C%2042.769970414000056%5D%2C%20%5B-84.36858184099998%2C%2042.77000847200003%5D%2C%20%5B-84.36363769899998%2C%2042.77004630700003%5D%5D%5D%5D%2C%20%22type%22%3A%20%22MultiPolygon%22%7D%2C%20%22properties%22%3A%20%7B%22CNTY_NAME%22%3A%20%22INGHAM%22%2C%20%22CNTY_NUM%22%3A%20%2233%22%2C%20%22FID%22%3A%20918%2C%20%22Pos2015%22%3A%203%2C%20%22Pos2016%22%3A%202%2C%20%22Pos2017%22%3A%20null%2C%20%22Pos2018%22%3A%20null%2C%20%22Pos2019%22%3A%20null%2C%20%22PosTotal%22%3A%205%2C%20%22RANGE%22%3A%20%2201W%22%2C%20%22SHAPE_Area%22%3A%200.01044138902518241%2C%20%22SHAPE_Length%22%3A%200.41392755803648934%2C%20%22TIER%22%3A%20%2204N%22%2C%20%22TR%22%3A%20%22T04N%2CR01W%22%2C%20%22Test2016%22%3A%20648%2C%20%22Test2017%22%3A%20580%2C%20%22Test2018%22%3A%20382%2C%20%22Test2019%22%3A%20131%2C%20%22TestTotal%22%3A%202465%2C%20%22Tests2015%22%3A%20724%7D%2C%20%22type%22%3A%20%22Feature%22%7D%2C%20%7B%22geometry%22%3A%20%7B%22coordinates%22%3A%20%5B%5B%5B%5B-84.61247862199997%2C%2043.466029770000034%5D%2C%20%5B-84.60756845499998%2C%2043.46601517800008%5D%2C%20%5B-84.60753962599995%2C%2043.46219421100005%5D%2C%20%5B-84.60751232499996%2C%2043.458572883000045%5D%2C%20%5B-84.60748501299997%2C%2043.45495154300005%5D%2C%20%5B-84.60745770199998%2C%2043.45133020900005%5D%2C%20%5B-84.60742634399998%2C%2043.44770996600005%5D%2C%20%5B-84.60739497599997%2C%2043.44408972100007%5D%2C%20%5B-84.60736362199998%2C%2043.440469482000026%5D%2C%20%5B-84.60733227199995%2C%2043.436849222000035%5D%2C%20%5B-84.60728576399998%2C%2043.43323715500003%5D%2C%20%5B-84.60723926099996%2C%2043.429625086000044%5D%2C%20%5B-84.60719277399994%2C%2043.426013004000026%5D%2C%20%5B-84.60714626699996%2C%2043.42240092900005%5D%2C%20%5B-84.60716018099998%2C%2043.41878361300007%5D%2C%20%5B-84.60717407999994%2C%2043.415166303000035%5D%2C%20%5B-84.60718798899995%2C%2043.41154898100007%5D%2C%20%5B-84.60720188199997%2C%2043.40793165600007%5D%2C%20%5B-84.60718792499995%2C%2043.40426462100004%5D%2C%20%5B-84.60717396899997%2C%2043.400597592000054%5D%2C%20%5B-84.60716001299994%2C%2043.396930560000044%5D%2C%20%5B-84.60714606999994%2C%2043.39326351700004%5D%2C%20%5B-84.60715240099995%2C%2043.38965026300008%5D%2C%20%5B-84.60715871799994%2C%2043.386036998000066%5D%2C%20%5B-84.60716504599998%2C%2043.382423748000065%5D%2C%20%5B-84.60717135899995%2C%2043.37881048700007%5D%2C%20%5B-84.61204952099996%2C%2043.378833375000056%5D%2C%20%5B-84.61213974299994%2C%2043.37883379400006%5D%2C%20%5B-84.61692767599999%2C%2043.37885606400005%5D%2C%20%5B-84.61710811999995%2C%2043.37885689400008%5D%2C%20%5B-84.62180583399999%2C%2043.37887853700005%5D%2C%20%5B-84.62207650099998%2C%2043.378879779000044%5D%2C%20%5B-84.62668398499994%2C%2043.37890080100004%5D%2C%20%5B-84.62704488599996%2C%2043.378902448000076%5D%2C%20%5B-84.63160514399993%2C%2043.37891763500005%5D%2C%20%5B-84.63199415799994%2C%2043.37891891600003%5D%2C%20%5B-84.63652627799996%2C%2043.37893382300007%5D%2C%20%5B-84.63694343299994%2C%2043.37893518800007%5D%2C%20%5B-84.64144744099997%2C%2043.37894980900006%5D%2C%20%5B-84.64189269899998%2C%2043.37895124500005%5D%2C%20%5B-84.64636858199998%2C%2043.37896557400006%5D%2C%20%5B-84.64684199399994%2C%2043.37896703400003%5D%2C%20%5B-84.65142883699997%2C%2043.37898097500005%5D%2C%20%5B-84.65182909199996%2C%2043.37898219500005%5D%2C%20%5B-84.65648910899995%2C%2043.37899615300006%5D%2C%20%5B-84.65681621799996%2C%2043.378997138000045%5D%2C%20%5B-84.66154937199997%2C%2043.37901111700006%5D%2C%20%5B-84.66180333499995%2C%2043.37901186400006%5D%2C%20%5B-84.66660963799995%2C%2043.379025856000055%5D%2C%20%5B-84.66679045299998%2C%2043.379005420000055%5D%2C%20%5B-84.67145369299999%2C%2043.37901574600005%5D%2C%20%5B-84.67176243799997%2C%2043.37901641600007%5D%2C%20%5B-84.67629789399996%2C%2043.37902627500006%5D%2C%20%5B-84.67673441299996%2C%2043.379027215000065%5D%2C%20%5B-84.68114209699996%2C%2043.37903659800003%5D%2C%20%5B-84.68170639099998%2C%2043.37903778800006%5D%2C%20%5B-84.68598627799997%2C%2043.37904672500008%5D%2C%20%5B-84.68667837099997%2C%2043.37904814600006%5D%2C%20%5B-84.69100550099995%2C%2043.37905016000008%5D%2C%20%5B-84.69167487399994%2C%2043.37905045700006%5D%2C%20%5B-84.69602470999996%2C%2043.379052296000054%5D%2C%20%5B-84.69667137799996%2C%2043.37905254900005%5D%2C%20%5B-84.70104393399998%2C%2043.37905421200003%5D%2C%20%5B-84.70166786999994%2C%2043.37905443300008%5D%2C%20%5B-84.70606312099994%2C%2043.379055890000075%5D%2C%20%5B-84.70666437599994%2C%2043.37905609000006%5D%2C%20%5B-84.71102765699999%2C%2043.379097804000025%5D%2C%20%5B-84.71162914699994%2C%2043.379103533000034%5D%2C%20%5B-84.71599219499996%2C%2043.37914505400005%5D%2C%20%5B-84.71659367299998%2C%2043.379150766000066%5D%2C%20%5B-84.72095674099995%2C%2043.37919209900008%5D%2C%20%5B-84.72155821999996%2C%2043.37919778400004%5D%2C%20%5B-84.72592128299993%2C%2043.379238918000055%5D%2C%20%5B-84.72666289199998%2C%2043.379245895000054%5D%2C%20%5B-84.72666740099999%2C%2043.38288102400003%5D%2C%20%5B-84.72667189599997%2C%2043.38651615100008%5D%2C%20%5B-84.72667639199994%2C%2043.39015127500005%5D%2C%20%5B-84.72668090099995%2C%2043.39378639600005%5D%2C%20%5B-84.72668377499997%2C%2043.397405%5D%2C%20%5B-84.72668665999998%2C%2043.40102361900006%5D%2C%20%5B-84.72668953399995%2C%2043.40464221700006%5D%2C%20%5B-84.72669241899996%2C%2043.40826083200005%5D%2C%20%5B-84.72671205599994%2C%2043.411890551000056%5D%2C%20%5B-84.72673168299997%2C%2043.41552025900006%5D%2C%20%5B-84.72675132299997%2C%2043.41914997400005%5D%2C%20%5B-84.72677096499996%2C%2043.42277968600007%5D%2C%20%5B-84.72676980499995%2C%2043.426416086000074%5D%2C%20%5B-84.72676865699998%2C%2043.43005249300006%5D%2C%20%5B-84.72676749599998%2C%2043.43368888800006%5D%2C%20%5B-84.72676633299994%2C%2043.43732528000004%5D%2C%20%5B-84.72673873099995%2C%2043.440953422000064%5D%2C%20%5B-84.72671112499995%2C%2043.44458154400007%5D%2C%20%5B-84.72668351599998%2C%2043.448209672000075%5D%2C%20%5B-84.72665588899997%2C%2043.45183780600007%5D%2C%20%5B-84.72670493899994%2C%2043.455459003000044%5D%2C%20%5B-84.72675399399998%2C%2043.45908019700005%5D%2C%20%5B-84.72680305499995%2C%2043.462701379000066%5D%2C%20%5B-84.72685063899996%2C%2043.466213682000046%5D%2C%20%5B-84.72181349799996%2C%2043.46619351000004%5D%2C%20%5B-84.71684156999999%2C%2043.46617338800007%5D%2C%20%5B-84.71186963399998%2C%2043.46615304900007%5D%2C%20%5B-84.70689771499997%2C%2043.46613249500007%5D%2C%20%5B-84.70188112799997%2C%2043.46613992700003%5D%2C%20%5B-84.69686454099997%2C%2043.46614713900004%5D%2C%20%5B-84.69184794099993%2C%2043.466154130000064%5D%2C%20%5B-84.68683144299996%2C%2043.46616090400005%5D%2C%20%5B-84.68186300499997%2C%2043.46613580800005%5D%2C%20%5B-84.67689530599995%2C%2043.46611050400003%5D%2C%20%5B-84.67192761299998%2C%2043.46608497700004%5D%2C%20%5B-84.66695992399997%2C%2043.46605924200003%5D%2C%20%5B-84.66197280299997%2C%2043.46606290300008%5D%2C%20%5B-84.65698603699997%2C%2043.46606634200003%5D%2C%20%5B-84.65199927099997%2C%2043.466069564000065%5D%2C%20%5B-84.64701251799994%2C%2043.466072550000035%5D%2C%20%5B-84.64206036199994%2C%2043.46607282100007%5D%2C%20%5B-84.63711100599994%2C%2043.46607285700003%5D%2C%20%5B-84.63216164999994%2C%2043.466072678000046%5D%2C%20%5B-84.62721232099994%2C%2043.46607226800006%5D%2C%20%5B-84.62229895299998%2C%2043.46605832300003%5D%2C%20%5B-84.61738879199999%2C%2043.46604415200005%5D%2C%20%5B-84.61247862199997%2C%2043.466029770000034%5D%5D%5D%5D%2C%20%22type%22%3A%20%22MultiPolygon%22%7D%2C%20%22properties%22%3A%20%7B%22CNTY_NAME%22%3A%20%22GRATIOT%22%2C%20%22CNTY_NUM%22%3A%20%2229%22%2C%20%22FID%22%3A%201000%2C%20%22Pos2015%22%3A%20null%2C%20%22Pos2016%22%3A%20null%2C%20%22Pos2017%22%3A%20null%2C%20%22Pos2018%22%3A%201%2C%20%22Pos2019%22%3A%20null%2C%20%22PosTotal%22%3A%201%2C%20%22RANGE%22%3A%20%2203W%22%2C%20%22SHAPE_Area%22%3A%200.010403417389211673%2C%20%22SHAPE_Length%22%3A%200.41295359456382097%2C%20%22TIER%22%3A%20%2212N%22%2C%20%22TR%22%3A%20%22T12N%2CR03W%22%2C%20%22Test2016%22%3A%20null%2C%20%22Test2017%22%3A%204%2C%20%22Test2018%22%3A%2048%2C%20%22Test2019%22%3A%2054%2C%20%22TestTotal%22%3A%20107%2C%20%22Tests2015%22%3A%201%7D%2C%20%22type%22%3A%20%22Feature%22%7D%2C%20%7B%22geometry%22%3A%20%7B%22coordinates%22%3A%20%5B%5B%5B%5B-84.37429987399997%2C%2043.29206966000004%5D%2C%20%5B-84.36934163699993%2C%2043.29207006900003%5D%2C%20%5B-84.36930024499998%2C%2043.28842344100008%5D%2C%20%5B-84.36928253399998%2C%2043.284801740000034%5D%2C%20%5B-84.36927090499995%2C%2043.28118012300007%5D%2C%20%5B-84.36925927599998%2C%2043.27755850400007%5D%2C%20%5B-84.36921862%2C%2043.27394565800006%5D%2C%20%5B-84.36916370799997%2C%2043.27033268500003%5D%2C%20%5B-84.36910222699998%2C%2043.26671967100003%5D%2C%20%5B-84.36904075099994%2C%2043.26310668100007%5D%2C%20%5B-84.36898344299999%2C%2043.259474649000026%5D%2C%20%5B-84.36898579399997%2C%2043.25584273800007%5D%2C%20%5B-84.36901612999998%2C%2043.25221073200004%5D%2C%20%5B-84.36904644299995%2C%2043.24857894300004%5D%2C%20%5B-84.36896837999996%2C%2043.244950492000044%5D%2C%20%5B-84.36891432899995%2C%2043.24132164700006%5D%2C%20%5B-84.36887128099994%2C%2043.23769284700006%5D%2C%20%5B-84.36882824899999%2C%2043.23406404600007%5D%2C%20%5B-84.36877444799995%2C%2043.230449269000076%5D%2C%20%5B-84.36875111099994%2C%2043.22683400900007%5D%2C%20%5B-84.36874447899999%2C%2043.223218950000046%5D%2C%20%5B-84.36873784599999%2C%2043.21960388800005%5D%2C%20%5B-84.36865759599993%2C%2043.21596601300007%5D%2C%20%5B-84.36863905199993%2C%2043.21232757900003%5D%2C%20%5B-84.36865815999994%2C%2043.20868856100003%5D%2C%20%5B-84.36867724499996%2C%2043.205050232000076%5D%2C%20%5B-84.37363657299994%2C%2043.20501949900006%5D%2C%20%5B-84.37859587199995%2C%2043.20498855000005%5D%2C%20%5B-84.38355516699994%2C%2043.204957387000036%5D%2C%20%5B-84.38851447099995%2C%2043.20492601800004%5D%2C%20%5B-84.39348449399995%2C%2043.20491598400008%5D%2C%20%5B-84.39845451599996%2C%2043.20490572500006%5D%2C%20%5B-84.40342453799997%2C%2043.204895270000065%5D%2C%20%5B-84.40839454799999%2C%2043.20488458900007%5D%2C%20%5B-84.41335896499999%2C%2043.204879203000075%5D%2C%20%5B-84.41832337099999%2C%2043.20487359200007%5D%2C%20%5B-84.42328777699998%2C%2043.20486777600007%5D%2C%20%5B-84.42825217099994%2C%2043.204861735000065%5D%2C%20%5B-84.43321089299997%2C%2043.204832123000074%5D%2C%20%5B-84.43816959899993%2C%2043.204802287000064%5D%2C%20%5B-84.44312830199993%2C%2043.20477224500007%5D%2C%20%5B-84.44808701399995%2C%2043.20474198900007%5D%2C%20%5B-84.45306828399998%2C%2043.204736249000064%5D%2C%20%5B-84.45804955499995%2C%2043.20473029300007%5D%2C%20%5B-84.46303082599997%2C%2043.20472412000004%5D%2C%20%5B-84.46801208499994%2C%2043.20471773000003%5D%2C%20%5B-84.47296293899996%2C%2043.20469853900005%5D%2C%20%5B-84.47791376499998%2C%2043.20467914200003%5D%2C%20%5B-84.48286458999996%2C%2043.20465952200004%5D%2C%20%5B-84.48396102499999%2C%2043.20465515400008%5D%2C%20%5B-84.48395949799999%2C%2043.208286979000036%5D%2C%20%5B-84.48395947799997%2C%2043.208315844000026%5D%2C%20%5B-84.48395796799997%2C%2043.21191881000004%5D%2C%20%5B-84.48395794099997%2C%2043.21197654100007%5D%2C%20%5B-84.48395645099998%2C%2043.215550620000045%5D%2C%20%5B-84.48395640299998%2C%2043.21563722700006%5D%2C%20%5B-84.48395491899998%2C%2043.21918243700003%5D%2C%20%5B-84.48395486399994%2C%2043.21929790900003%5D%2C%20%5B-84.48395518499996%2C%2043.222801881000066%5D%2C%20%5B-84.48395519799999%2C%2043.22293522700005%5D%2C%20%5B-84.48395550099997%2C%2043.22642130400004%5D%2C%20%5B-84.48395551799996%2C%2043.226572532000034%5D%2C%20%5B-84.48395582899997%2C%2043.23004072400005%5D%2C%20%5B-84.48395583699994%2C%2043.23020984400006%5D%2C%20%5B-84.48398535399997%2C%2043.23366014800007%5D%2C%20%5B-84.48396343299999%2C%2043.233847112000035%5D%2C%20%5B-84.48394074599997%2C%2043.23728227000004%5D%2C%20%5B-84.48393963799998%2C%2043.23752981000007%5D%2C%20%5B-84.48392447499998%2C%2043.240904457000056%5D%2C%20%5B-84.48392309399998%2C%2043.24121246300007%5D%2C%20%5B-84.48390819999997%2C%2043.24452663200003%5D%2C%20%5B-84.48390654599996%2C%2043.24489512400004%5D%2C%20%5B-84.48389192099995%2C%2043.24814888700007%5D%2C%20%5B-84.48388998199994%2C%2043.24857779000007%5D%2C%20%5B-84.48388057199998%2C%2043.251785648000066%5D%2C%20%5B-84.48387935499994%2C%2043.25220090200003%5D%2C%20%5B-84.48386988799996%2C%2043.25542248000005%5D%2C%20%5B-84.4838687%2C%2043.25582402100008%5D%2C%20%5B-84.48385917599995%2C%2043.25905929100003%5D%2C%20%5B-84.48385802999996%2C%2043.25944713700005%5D%2C%20%5B-84.48384847099999%2C%2043.26269623700006%5D%2C%20%5B-84.48384736999998%2C%2043.263070250000055%5D%2C%20%5B-84.48386052499995%2C%2043.266353923000054%5D%2C%20%5B-84.48386190299999%2C%2043.26669917700008%5D%2C%20%5B-84.48387516499997%2C%2043.27001166900004%5D%2C%20%5B-84.48387642199998%2C%2043.270328102000065%5D%2C%20%5B-84.48388980499999%2C%2043.27366940300004%5D%2C%20%5B-84.48389095599998%2C%2043.273957006000046%5D%2C%20%5B-84.48390444599994%2C%2043.277327135000064%5D%2C%20%5B-84.48386737399994%2C%2043.27758628000004%5D%2C%20%5B-84.48391821599995%2C%2043.27758580100004%5D%2C%20%5B-84.48393365699997%2C%2043.28094869600005%5D%2C%20%5B-84.48393484099995%2C%2043.28120738700005%5D%2C%20%5B-84.48395029499994%2C%2043.284570289000044%5D%2C%20%5B-84.48395147999997%2C%2043.28482897900005%5D%2C%20%5B-84.48396692199998%2C%2043.28819187800008%5D%2C%20%5B-84.48396810699995%2C%2043.28845056800003%5D%2C%20%5B-84.48398332099998%2C%2043.29176341300007%5D%2C%20%5B-84.48350506699995%2C%2043.29176408500007%5D%2C%20%5B-84.47894621499995%2C%2043.29177045500006%5D%2C%20%5B-84.47854713599997%2C%2043.291771003000065%5D%2C%20%5B-84.47398828499996%2C%2043.29177716600003%5D%2C%20%5B-84.47358921799997%2C%2043.29177770600006%5D%2C%20%5B-84.46903037999994%2C%2043.29178368200007%5D%2C%20%5B-84.46863131299995%2C%2043.29178418600003%5D%2C%20%5B-84.46402151199999%2C%2043.291797709000036%5D%2C%20%5B-84.46367895499998%2C%2043.291798707000055%5D%2C%20%5B-84.45901262599995%2C%2043.29181219000003%5D%2C%20%5B-84.45872660799995%2C%2043.29181301400007%5D%2C%20%5B-84.45400371399995%2C%2043.29182646100003%5D%2C%20%5B-84.45377424799995%2C%2043.29182710600003%5D%2C%20%5B-84.44899477499996%2C%2043.29184052100004%5D%2C%20%5B-84.44882189899994%2C%2043.29184099400004%5D%2C%20%5B-84.44397295199997%2C%2043.29187702000007%5D%2C%20%5B-84.44384340599998%2C%2043.29187751100005%5D%2C%20%5B-84.43895091199994%2C%2043.29189573600007%5D%2C%20%5B-84.43886452199996%2C%2043.29189605400006%5D%2C%20%5B-84.43392886899994%2C%2043.29191425100004%5D%2C%20%5B-84.43388567399995%2C%2043.291914408000025%5D%2C%20%5B-84.42890682499996%2C%2043.29193253600005%5D%2C%20%5B-84.42399583499997%2C%2043.29195237400006%5D%2C%20%5B-84.42394116199995%2C%2043.29195258800007%5D%2C%20%5B-84.41908484299995%2C%2043.29197200100003%5D%2C%20%5B-84.41897547199994%2C%2043.29197244200003%5D%2C%20%5B-84.41417382499998%2C%2043.29199141700008%5D%2C%20%5B-84.41400980599997%2C%2043.291992073000074%5D%2C%20%5B-84.40926281699996%2C%2043.29201063200003%5D%2C%20%5B-84.40904431299998%2C%2043.292037341000025%5D%2C%20%5B-84.40424084399996%2C%2043.292044872000076%5D%2C%20%5B-84.40407689799997%2C%2043.29204511800003%5D%2C%20%5B-84.39921877299997%2C%2043.29205252300005%5D%2C%20%5B-84.39910948399995%2C%2043.29205268800007%5D%2C%20%5B-84.39419671399997%2C%2043.29205995400008%5D%2C%20%5B-84.39414206999999%2C%2043.29206003500008%5D%2C%20%5B-84.38917465599997%2C%2043.29206716600004%5D%2C%20%5B-84.38428983199998%2C%2043.29206819900003%5D%2C%20%5B-84.37930711099995%2C%2043.29206903900007%5D%2C%20%5B-84.37429987399997%2C%2043.29206966000004%5D%5D%5D%5D%2C%20%22type%22%3A%20%22MultiPolygon%22%7D%2C%20%22properties%22%3A%20%7B%22CNTY_NAME%22%3A%20%22GRATIOT%22%2C%20%22CNTY_NUM%22%3A%20%2229%22%2C%20%22FID%22%3A%201006%2C%20%22Pos2015%22%3A%20null%2C%20%22Pos2016%22%3A%20null%2C%20%22Pos2017%22%3A%20null%2C%20%22Pos2018%22%3A%20null%2C%20%22Pos2019%22%3A%201%2C%20%22PosTotal%22%3A%201%2C%20%22RANGE%22%3A%20%2201W%22%2C%20%22SHAPE_Area%22%3A%200.010012634366727455%2C%20%22SHAPE_Length%22%3A%200.4041185120073625%2C%20%22TIER%22%3A%20%2210N%22%2C%20%22TR%22%3A%20%22T10N%2CR01W%22%2C%20%22Test2016%22%3A%204%2C%20%22Test2017%22%3A%208%2C%20%22Test2018%22%3A%20143%2C%20%22Test2019%22%3A%20119%2C%20%22TestTotal%22%3A%20275%2C%20%22Tests2015%22%3A%201%7D%2C%20%22type%22%3A%20%22Feature%22%7D%2C%20%7B%22geometry%22%3A%20%7B%22coordinates%22%3A%20%5B%5B%5B%5B-84.48844049899998%2C%2043.291756993000035%5D%2C%20%5B-84.48398332099998%2C%2043.29176341300007%5D%2C%20%5B-84.48396810699995%2C%2043.28845056800003%5D%2C%20%5B-84.48396692199998%2C%2043.28819187800008%5D%2C%20%5B-84.48395147999997%2C%2043.28482897900005%5D%2C%20%5B-84.48395029499994%2C%2043.284570289000044%5D%2C%20%5B-84.48393484099995%2C%2043.28120738700005%5D%2C%20%5B-84.48393365699997%2C%2043.28094869600005%5D%2C%20%5B-84.48391821599995%2C%2043.27758580100004%5D%2C%20%5B-84.48386737399994%2C%2043.27758628000004%5D%2C%20%5B-84.48390444599994%2C%2043.277327135000064%5D%2C%20%5B-84.48389095599998%2C%2043.273957006000046%5D%2C%20%5B-84.48388980499999%2C%2043.27366940300004%5D%2C%20%5B-84.48387642199998%2C%2043.270328102000065%5D%2C%20%5B-84.48387516499997%2C%2043.27001166900004%5D%2C%20%5B-84.48386190299999%2C%2043.26669917700008%5D%2C%20%5B-84.48386052499995%2C%2043.266353923000054%5D%2C%20%5B-84.48384736999998%2C%2043.263070250000055%5D%2C%20%5B-84.48384847099999%2C%2043.26269623700006%5D%2C%20%5B-84.48385802999996%2C%2043.25944713700005%5D%2C%20%5B-84.48385917599995%2C%2043.25905929100003%5D%2C%20%5B-84.4838687%2C%2043.25582402100008%5D%2C%20%5B-84.48386988799996%2C%2043.25542248000005%5D%2C%20%5B-84.48387935499994%2C%2043.25220090200003%5D%2C%20%5B-84.48388057199998%2C%2043.251785648000066%5D%2C%20%5B-84.48388998199994%2C%2043.24857779000007%5D%2C%20%5B-84.48389192099995%2C%2043.24814888700007%5D%2C%20%5B-84.48390654599996%2C%2043.24489512400004%5D%2C%20%5B-84.48390819999997%2C%2043.24452663200003%5D%2C%20%5B-84.48392309399998%2C%2043.24121246300007%5D%2C%20%5B-84.48392447499998%2C%2043.240904457000056%5D%2C%20%5B-84.48393963799998%2C%2043.23752981000007%5D%2C%20%5B-84.48394074599997%2C%2043.23728227000004%5D%2C%20%5B-84.48396343299999%2C%2043.233847112000035%5D%2C%20%5B-84.48398535399997%2C%2043.23366014800007%5D%2C%20%5B-84.48395583699994%2C%2043.23020984400006%5D%2C%20%5B-84.48395582899997%2C%2043.23004072400005%5D%2C%20%5B-84.48395551799996%2C%2043.226572532000034%5D%2C%20%5B-84.48395550099997%2C%2043.22642130400004%5D%2C%20%5B-84.48395519799999%2C%2043.22293522700005%5D%2C%20%5B-84.48395518499996%2C%2043.222801881000066%5D%2C%20%5B-84.48395486399994%2C%2043.21929790900003%5D%2C%20%5B-84.48395491899998%2C%2043.21918243700003%5D%2C%20%5B-84.48395640299998%2C%2043.21563722700006%5D%2C%20%5B-84.48395645099998%2C%2043.215550620000045%5D%2C%20%5B-84.48395794099997%2C%2043.21197654100007%5D%2C%20%5B-84.48395796799997%2C%2043.21191881000004%5D%2C%20%5B-84.48395947799997%2C%2043.208315844000026%5D%2C%20%5B-84.48395949799999%2C%2043.208286979000036%5D%2C%20%5B-84.48396102499999%2C%2043.20465515400008%5D%2C%20%5B-84.48888781199997%2C%2043.20464057600003%5D%2C%20%5B-84.49381460899997%2C%2043.20462579500003%5D%2C%20%5B-84.49874140499998%2C%2043.204610794000075%5D%2C%20%5B-84.50366832299994%2C%2043.20462970400007%5D%2C%20%5B-84.50862311299994%2C%2043.204633906000026%5D%2C%20%5B-84.51353660399997%2C%2043.20463786400006%5D%2C%20%5B-84.51357787799998%2C%2043.20463790200006%5D%2C%20%5B-84.51847073399995%2C%2043.20464163500003%5D%2C%20%5B-84.51853265799997%2C%2043.20464168400008%5D%2C%20%5B-84.52340486599996%2C%2043.204645183000025%5D%2C%20%5B-84.52352500099994%2C%2043.20463427100003%5D%2C%20%5B-84.52838405599994%2C%2043.20465680900003%5D%2C%20%5B-84.52844599099996%2C%2043.20465694500007%5D%2C%20%5B-84.53336322399997%2C%2043.204668208000044%5D%2C%20%5B-84.53340452199996%2C%2043.20466830400005%5D%2C%20%5B-84.53836305599998%2C%2043.204679447000046%5D%2C%20%5B-84.54332159199998%2C%2043.20469037700008%5D%2C%20%5B-84.54829703199994%2C%2043.20467776500004%5D%2C%20%5B-84.55327247099996%2C%2043.204664937000075%5D%2C%20%5B-84.55824789499997%2C%2043.20465190200008%5D%2C%20%5B-84.56322331899997%2C%2043.20463864100003%5D%2C%20%5B-84.56814661699997%2C%2043.204645593000066%5D%2C%20%5B-84.5730704599999%2C%2043.20465234000005%5D%2C%20%5B-84.57799397599996%2C%2043.20465887100005%5D%2C%20%5B-84.58291651099995%2C%2043.204665196000064%5D%2C%20%5B-84.58786738199996%2C%2043.20465113700004%5D%2C%20%5B-84.59281823899994%2C%2043.204636864000065%5D%2C%20%5B-84.59776909399994%2C%2043.20462236700007%5D%2C%20%5B-84.60080497699994%2C%2043.20461338700005%5D%2C%20%5B-84.60077709099994%2C%2043.208252207000044%5D%2C%20%5B-84.60074919999994%2C%2043.211891034000075%5D%2C%20%5B-84.60072131799996%2C%2043.215529840000045%5D%2C%20%5B-84.60069343299995%2C%2043.219168653000054%5D%2C%20%5B-84.60069747299997%2C%2043.22278953600005%5D%2C%20%5B-84.60070151399998%2C%2043.22641042600003%5D%2C%20%5B-84.60070556699998%2C%2043.23003129400007%5D%2C%20%5B-84.60070960699994%2C%2043.23365217000003%5D%2C%20%5B-84.60071742699995%2C%2043.23730466600006%5D%2C%20%5B-84.60072523499997%2C%2043.24095715100003%5D%2C%20%5B-84.60073304299993%2C%2043.24460963300004%5D%2C%20%5B-84.60074085099996%2C%2043.24826212100004%5D%2C%20%5B-84.60075667599995%2C%2043.25186228800004%5D%2C%20%5B-84.60077246399999%2C%2043.255462462000025%5D%2C%20%5B-84.60078825399995%2C%2043.25906262400008%5D%2C%20%5B-84.60080404499996%2C%2043.26266278300005%5D%2C%20%5B-84.60082331399997%2C%2043.26628815000004%5D%2C%20%5B-84.60084258499995%2C%2043.269913505000034%5D%2C%20%5B-84.60086185699998%2C%2043.27353885800005%5D%2C%20%5B-84.60088112999995%2C%2043.277164208000045%5D%2C%20%5B-84.60089278899994%2C%2043.28077347900006%5D%2C%20%5B-84.60090449099994%2C%2043.284395060000065%5D%2C%20%5B-84.60091620499998%2C%2043.28801664800005%5D%2C%20%5B-84.60092790799996%2C%2043.291638214000045%5D%2C%20%5B-84.59788174499994%2C%2043.291641784000035%5D%2C%20%5B-84.59292388699998%2C%2043.29164741900007%5D%2C%20%5B-84.58796599199997%2C%2043.29165284800007%5D%2C%20%5B-84.58776823199997%2C%2043.29165305300006%5D%2C%20%5B-84.58300809599996%2C%2043.29165806300006%5D%2C%20%5B-84.58279572399994%2C%2043.29165849900005%5D%2C%20%5B-84.57804124899997%2C%2043.291668437000055%5D%2C%20%5B-84.57782324499999%2C%2043.291668885000036%5D%2C%20%5B-84.57307439999994%2C%2043.291678604000026%5D%2C%20%5B-84.57285077799997%2C%2043.29167905500003%5D%2C%20%5B-84.56810753799994%2C%2043.291688556000054%5D%2C%20%5B-84.56787831099996%2C%2043.29168901000003%5D%2C%20%5B-84.56314056499997%2C%2043.29166807100006%5D%2C%20%5B-84.56293954399996%2C%2043.29166786900004%5D%2C%20%5B-84.55821118499995%2C%2043.29166296600005%5D%2C%20%5B-84.55800074599995%2C%2043.29166274500005%5D%2C%20%5B-84.55328179299994%2C%2043.29165765800008%5D%2C%20%5B-84.55306196199996%2C%2043.29165741800006%5D%2C%20%5B-84.54835241699999%2C%2043.291652129000056%5D%2C%20%5B-84.54812316799996%2C%2043.29165186900008%5D%2C%20%5B-84.54342304899995%2C%2043.29162993500006%5D%2C%20%5B-84.54313552999997%2C%2043.29162942000005%5D%2C%20%5B-84.53847121899997%2C%2043.291620832000035%5D%2C%20%5B-84.53814784699995%2C%2043.29162023500004%5D%2C%20%5B-84.53351936599995%2C%2043.29161152300003%5D%2C%20%5B-84.53316015399997%2C%2043.29161084300006%5D%2C%20%5B-84.52856743999996%2C%2043.29160199900008%5D%2C%20%5B-84.52817246299998%2C%2043.29160123300005%5D%2C%20%5B-84.52361575199996%2C%2043.29164386300005%5D%2C%20%5B-84.52321527399994%2C%2043.29164653000004%5D%2C%20%5B-84.51869243299996%2C%2043.29167657000005%5D%2C%20%5B-84.51825808899997%2C%2043.29167944900007%5D%2C%20%5B-84.51376910899995%2C%2043.291709076000075%5D%2C%20%5B-84.51330088599997%2C%2043.29171216200007%5D%2C%20%5B-84.50884551599995%2C%2043.29174137500007%5D%2C%20%5B-84.50834367999994%2C%2043.291744651000045%5D%2C%20%5B-84.50392185199996%2C%2043.29174771300006%5D%2C%20%5B-84.50336790799997%2C%2043.291748082000026%5D%2C%20%5B-84.49893730699995%2C%2043.291750946000036%5D%2C%20%5B-84.4983921%2C%2043.29175127700006%5D%2C%20%5B-84.49395256099996%2C%2043.291753940000035%5D%2C%20%5B-84.49341630499998%2C%2043.291754248000075%5D%2C%20%5B-84.48896799299996%2C%2043.29175671100006%5D%2C%20%5B-84.48844049899998%2C%2043.291756993000035%5D%5D%5D%5D%2C%20%22type%22%3A%20%22MultiPolygon%22%7D%2C%20%22properties%22%3A%20%7B%22CNTY_NAME%22%3A%20%22GRATIOT%22%2C%20%22CNTY_NUM%22%3A%20%2229%22%2C%20%22FID%22%3A%201007%2C%20%22Pos2015%22%3A%20null%2C%20%22Pos2016%22%3A%20null%2C%20%22Pos2017%22%3A%20null%2C%20%22Pos2018%22%3A%20null%2C%20%22Pos2019%22%3A%202%2C%20%22PosTotal%22%3A%202%2C%20%22RANGE%22%3A%20%2202W%22%2C%20%22SHAPE_Area%22%3A%200.010170069897414808%2C%20%22SHAPE_Length%22%3A%200.4079799692256761%2C%20%22TIER%22%3A%20%2210N%22%2C%20%22TR%22%3A%20%22T10N%2CR02W%22%2C%20%22Test2016%22%3A%20null%2C%20%22Test2017%22%3A%205%2C%20%22Test2018%22%3A%2067%2C%20%22Test2019%22%3A%20115%2C%20%22TestTotal%22%3A%20188%2C%20%22Tests2015%22%3A%201%7D%2C%20%22type%22%3A%20%22Feature%22%7D%2C%20%7B%22geometry%22%3A%20%7B%22coordinates%22%3A%20%5B%5B%5B%5B-84.83627764299996%2C%2042.59700815900004%5D%2C%20%5B-84.83622970799996%2C%2042.59355703500006%5D%2C%20%5B-84.83622359499998%2C%2042.59311690900006%5D%2C%20%5B-84.83617942199999%2C%2042.589935163000064%5D%2C%20%5B-84.83617330899995%2C%2042.58949503700006%5D%2C%20%5B-84.83612912999996%2C%2042.58631330700007%5D%2C%20%5B-84.83612301899996%2C%2042.58587315300008%5D%2C%20%5B-84.83607883299999%2C%2042.58269144900004%5D%2C%20%5B-84.83607569299994%2C%2042.582251307000035%5D%2C%20%5B-84.83606650199994%2C%2042.57905227100008%5D%2C%20%5B-84.83606525199997%2C%2042.57862026500004%5D%2C%20%5B-84.83605603299998%2C%2042.57541308300006%5D%2C%20%5B-84.83605481399997%2C%2042.57498922100007%5D%2C%20%5B-84.83604557799998%2C%2042.571773902000075%5D%2C%20%5B-84.83604438999998%2C%2042.57135817500006%5D%2C%20%5B-84.83603513899999%2C%2042.56813471000004%5D%2C%20%5B-84.83600139099997%2C%2042.56772717200005%5D%2C%20%5B-84.83597223099997%2C%2042.56448423900008%5D%2C%20%5B-84.83596878899993%2C%2042.56410144100005%5D%2C%20%5B-84.83593941299995%2C%2042.56083363100004%5D%2C%20%5B-84.83593619199996%2C%2042.56047569800006%5D%2C%20%5B-84.83590658899999%2C%2042.557183010000074%5D%2C%20%5B-84.83590359999994%2C%2042.55684995400003%5D%2C%20%5B-84.83587378199996%2C%2042.553532389000054%5D%2C%20%5B-84.83586712199997%2C%2042.55322422300003%5D%2C%20%5B-84.83586409699996%2C%2042.549846555000045%5D%2C%20%5B-84.83586385699994%2C%2042.549576898000055%5D%2C%20%5B-84.83586080099997%2C%2042.54616071400005%5D%2C%20%5B-84.83586059399994%2C%2042.545929552000075%5D%2C%20%5B-84.83585750599997%2C%2042.54247488800007%5D%2C%20%5B-84.83585731999995%2C%2042.54228220400006%5D%2C%20%5B-84.83586482699997%2C%2042.53878903400005%5D%2C%20%5B-84.83585407299995%2C%2042.538634855000055%5D%2C%20%5B-84.83587479499994%2C%2042.53515296300003%5D%2C%20%5B-84.83587560899997%2C%2042.53501532200005%5D%2C%20%5B-84.83589642299995%2C%2042.53151692100005%5D%2C%20%5B-84.83589714299995%2C%2042.53139577800005%5D%2C%20%5B-84.83591804899999%2C%2042.52788087600004%5D%2C%20%5B-84.83591867599995%2C%2042.527776241000026%5D%2C%20%5B-84.83593968599996%2C%2042.52424483000004%5D%2C%20%5B-84.83595505499994%2C%2042.52059497400006%5D%2C%20%5B-84.83595532899994%2C%2042.520528858000034%5D%2C%20%5B-84.83597041099995%2C%2042.516945134000025%5D%2C%20%5B-84.83597060999995%2C%2042.51690105100005%5D%2C%20%5B-84.83598577799995%2C%2042.51329528400004%5D%2C%20%5B-84.83600113399996%2C%2042.509645412000054%5D%2C%20%5B-84.84093058699995%2C%2042.509663997000075%5D%2C%20%5B-84.84586004099998%2C%2042.509682369000075%5D%2C%20%5B-84.85078948499995%2C%2042.509700519000035%5D%2C%20%5B-84.85571894199995%2C%2042.509718457000076%5D%2C%20%5B-84.86061566199999%2C%2042.50972316300005%5D%2C%20%5B-84.86551238099997%2C%2042.50972765100005%5D%2C%20%5B-84.87040908699998%2C%2042.509731929000054%5D%2C%20%5B-84.87530580499998%2C%2042.509736006000026%5D%2C%20%5B-84.88023016399995%2C%2042.50973746100004%5D%2C%20%5B-84.88515452199994%2C%2042.509738722000066%5D%2C%20%5B-84.89007887899999%2C%2042.509739753000076%5D%2C%20%5B-84.89500323499999%2C%2042.509740572000055%5D%2C%20%5B-84.89996475999999%2C%2042.509735748000026%5D%2C%20%5B-84.90492628199996%2C%2042.50973070800006%5D%2C%20%5B-84.90988778899998%2C%2042.509725453000044%5D%2C%20%5B-84.91484930699994%2C%2042.50971997400006%5D%2C%20%5B-84.91501269799994%2C%2042.50972024300006%5D%2C%20%5B-84.91977743699994%2C%2042.509701161000066%5D%2C%20%5B-84.91989634%2C%2042.50970068300006%5D%2C%20%5B-84.92470556699999%2C%2042.50968121300008%5D%2C%20%5B-84.92494337299996%2C%2042.50968025600008%5D%2C%20%5B-84.92963370399997%2C%2042.50966106200008%5D%2C%20%5B-84.92999038699998%2C%2042.50965959700005%5D%2C%20%5B-84.93456183599994%2C%2042.509640690000026%5D%2C%20%5B-84.93503726399996%2C%2042.50961939300004%5D%2C%20%5B-84.93945747299995%2C%2042.50962328700007%5D%2C%20%5B-84.93993286599994%2C%2042.50962369900003%5D%2C%20%5B-84.94435307399993%2C%2042.50962740400007%5D%2C%20%5B-84.94482846699998%2C%2042.50962779500003%5D%2C%20%5B-84.94924866099996%2C%2042.50963131000003%5D%2C%20%5B-84.94972406699998%2C%2042.50963168100003%5D%2C%20%5B-84.95440779699999%2C%2042.50963520200003%5D%2C%20%5B-84.95444919499994%2C%2042.513274480000064%5D%2C%20%5B-84.95449059899994%2C%2042.516913757000054%5D%2C%20%5B-84.95453199799994%2C%2042.52055303100008%5D%2C%20%5B-84.95457341599996%2C%2042.52419231400006%5D%2C%20%5B-84.95462221999998%2C%2042.527845359000025%5D%2C%20%5B-84.95467101999998%2C%2042.53149840300006%5D%2C%20%5B-84.95471983899995%2C%2042.53515142700007%5D%2C%20%5B-84.95476865399996%2C%2042.538804467000034%5D%2C%20%5B-84.95482122499999%2C%2042.542452007000065%5D%2C%20%5B-84.95487377899997%2C%2042.54609954500006%5D%2C%20%5B-84.95492635399995%2C%2042.54974708200007%5D%2C%20%5B-84.95497892399999%2C%2042.55339461700004%5D%2C%20%5B-84.95505385599995%2C%2042.55702568700008%5D%2C%20%5B-84.95512880999996%2C%2042.560656736000055%5D%2C%20%5B-84.95520374999995%2C%2042.56428779300006%5D%2C%20%5B-84.95527871199994%2C%2042.56791885800004%5D%2C%20%5B-84.95534613099994%2C%2042.571588417000044%5D%2C%20%5B-84.95541355899996%2C%2042.57525796600004%5D%2C%20%5B-84.95548099699994%2C%2042.578927512000064%5D%2C%20%5B-84.95554843199994%2C%2042.58259707500008%5D%2C%20%5B-84.95562988699999%2C%2042.58621861800003%5D%2C%20%5B-84.95571134099998%2C%2042.58984017800003%5D%2C%20%5B-84.95579281899995%2C%2042.593461726000044%5D%2C%20%5B-84.95587788199998%2C%2042.59724233800006%5D%2C%20%5B-84.94962541799998%2C%2042.59725382600004%5D%2C%20%5B-84.94904527699998%2C%2042.59725487500003%5D%2C%20%5B-84.94472292699999%2C%2042.59726259200005%5D%2C%20%5B-84.94414277299995%2C%2042.59726361600008%5D%2C%20%5B-84.93982043299997%2C%2042.59727115600003%5D%2C%20%5B-84.93924029099998%2C%2042.59727215600003%5D%2C%20%5B-84.93491792399999%2C%2042.59727950100006%5D%2C%20%5B-84.93433777599995%2C%2042.59727865000008%5D%2C%20%5B-84.92992343899994%2C%2042.59727206300005%5D%2C%20%5B-84.92940278299994%2C%2042.597271274000036%5D%2C%20%5B-84.92492895499998%2C%2042.59726439800005%5D%2C%20%5B-84.92446778999994%2C%2042.59726368500003%5D%2C%20%5B-84.91993446999999%2C%2042.597256524000045%5D%2C%20%5B-84.91953280899997%2C%2042.59725587400004%5D%2C%20%5B-84.91493998499999%2C%2042.597248422000064%5D%2C%20%5B-84.91459779199994%2C%2042.59725886100006%5D%2C%20%5B-84.90999751899994%2C%2042.597243382000045%5D%2C%20%5B-84.90971492399996%2C%2042.59724242300007%5D%2C%20%5B-84.90505514999995%2C%2042.59722653600005%5D%2C%20%5B-84.90483203199994%2C%2042.59722577500003%5D%2C%20%5B-84.90011276899997%2C%2042.597209476000046%5D%2C%20%5B-84.89994916699999%2C%2042.59720891000006%5D%2C%20%5B-84.89517038999998%2C%2042.59719221200004%5D%2C%20%5B-84.89506620999998%2C%2042.59720302300008%5D%2C%20%5B-84.89029115399995%2C%2042.59719965900007%5D%2C%20%5B-84.89021303699997%2C%2042.59719960500007%5D%2C%20%5B-84.88541194199996%2C%2042.597196007000036%5D%2C%20%5B-84.88535985199997%2C%2042.59719596200006%5D%2C%20%5B-84.88050666499998%2C%2042.59719213200003%5D%2C%20%5B-84.87565349099998%2C%2042.59718808700006%5D%2C%20%5B-84.87072389699995%2C%2042.59716233300003%5D%2C%20%5B-84.86579432999997%2C%2042.597120431000064%5D%2C%20%5B-84.86086473099994%2C%2042.59707831500003%5D%2C%20%5B-84.85593514999994%2C%2042.597035997000035%5D%2C%20%5B-84.85102077099998%2C%2042.59702935200005%5D%2C%20%5B-84.84610639099998%2C%2042.59702249500003%5D%2C%20%5B-84.84119202299996%2C%2042.59701542800008%5D%2C%20%5B-84.83627764299996%2C%2042.59700815900004%5D%5D%5D%5D%2C%20%22type%22%3A%20%22MultiPolygon%22%7D%2C%20%22properties%22%3A%20%7B%22CNTY_NAME%22%3A%20%22EATON%22%2C%20%22CNTY_NUM%22%3A%20%2223%22%2C%20%22FID%22%3A%201120%2C%20%22Pos2015%22%3A%20null%2C%20%22Pos2016%22%3A%20null%2C%20%22Pos2017%22%3A%20null%2C%20%22Pos2018%22%3A%201%2C%20%22Pos2019%22%3A%20null%2C%20%22PosTotal%22%3A%201%2C%20%22RANGE%22%3A%20%2205W%22%2C%20%22SHAPE_Area%22%3A%200.01041640799455843%2C%20%22SHAPE_Length%22%3A%200.4129964066936702%2C%20%22TIER%22%3A%20%2202N%22%2C%20%22TR%22%3A%20%22T02N%2CR05W%22%2C%20%22Test2016%22%3A%2010%2C%20%22Test2017%22%3A%208%2C%20%22Test2018%22%3A%2041%2C%20%22Test2019%22%3A%2050%2C%20%22TestTotal%22%3A%20116%2C%20%22Tests2015%22%3A%207%7D%2C%20%22type%22%3A%20%22Feature%22%7D%2C%20%7B%22geometry%22%3A%20%7B%22coordinates%22%3A%20%5B%5B%5B%5B-87.82039190199998%2C%2045.80939931300003%5D%2C%20%5B-87.81514491499996%2C%2045.80946777300005%5D%2C%20%5B-87.80996968799997%2C%2045.80953505300005%5D%2C%20%5B-87.80479443099995%2C%2045.809602108000036%5D%2C%20%5B-87.79961916899998%2C%2045.80966890700006%5D%2C%20%5B-87.79468004099994%2C%2045.809691335000025%5D%2C%20%5B-87.78974089099995%2C%2045.80971354700006%5D%2C%20%5B-87.78480175899995%2C%2045.80973554500008%5D%2C%20%5B-87.77986259199997%2C%2045.80975731900003%5D%2C%20%5B-87.77446705899996%2C%2045.80973256400006%5D%2C%20%5B-87.76907152499996%2C%2045.80970754400005%5D%2C%20%5B-87.76367600399999%2C%2045.809682276000046%5D%2C%20%5B-87.75828049599994%2C%2045.80965674200007%5D%2C%20%5B-87.75342349799996%2C%2045.80981825300006%5D%2C%20%5B-87.74856619699995%2C%2045.80996124500007%5D%2C%20%5B-87.74370826399996%2C%2045.81006619100003%5D%2C%20%5B-87.73885026799996%2C%2045.810170912000046%5D%2C%20%5B-87.73361095599995%2C%2045.81024332800007%5D%2C%20%5B-87.72837163899999%2C%2045.81031550300003%5D%2C%20%5B-87.72313230299994%2C%2045.81038743600004%5D%2C%20%5B-87.71789294899997%2C%2045.81045913600008%5D%2C%20%5B-87.71275443799999%2C%2045.81044520000006%5D%2C%20%5B-87.70761593799995%2C%2045.810431040000026%5D%2C%20%5B-87.70247742299995%2C%2045.81041664800006%5D%2C%20%5B-87.69733893299997%2C%2045.81040202200006%5D%2C%20%5B-87.69747940099995%2C%2045.80598189600005%5D%2C%20%5B-87.69759439199998%2C%2045.80236294700006%5D%2C%20%5B-87.69770937199996%2C%2045.79874399700003%5D%2C%20%5B-87.69782432899996%2C%2045.795125056000074%5D%2C%20%5B-87.69786113299995%2C%2045.79150199700007%5D%2C%20%5B-87.69789796299995%2C%2045.78787893500004%5D%2C%20%5B-87.69793476599995%2C%2045.78425588300007%5D%2C%20%5B-87.69797156999994%2C%2045.78063282100004%5D%2C%20%5B-87.69788130499995%2C%2045.777016194000055%5D%2C%20%5B-87.69779106999994%2C%2045.77339957500004%5D%2C%20%5B-87.69770083799995%2C%2045.76978294700007%5D%2C%20%5B-87.69761061%2C%2045.76616631700006%5D%2C%20%5B-87.69749162399995%2C%2045.76256013400007%5D%2C%20%5B-87.69737264499997%2C%2045.75895396000004%5D%2C%20%5B-87.69725368599995%2C%2045.755347785000026%5D%2C%20%5B-87.69713474699995%2C%2045.75174160900008%5D%2C%20%5B-87.69715941899995%2C%2045.74814888100008%5D%2C%20%5B-87.69718409299998%2C%2045.74455616100005%5D%2C%20%5B-87.69720876699995%2C%2045.74096343100007%5D%2C%20%5B-87.69723343099997%2C%2045.73737070100003%5D%2C%20%5B-87.69721496699998%2C%2045.733768206000036%5D%2C%20%5B-87.69719651199995%2C%2045.73016572800003%5D%2C%20%5B-87.69717803699996%2C%2045.72656323100006%5D%2C%20%5B-87.69715958199998%2C%2045.722960733000036%5D%2C%20%5B-87.70226574099996%2C%2045.72293684600004%5D%2C%20%5B-87.70737189099998%2C%2045.72291272900003%5D%2C%20%5B-87.71247805799999%2C%2045.722888382000065%5D%2C%20%5B-87.71758421599998%2C%2045.72286380500003%5D%2C%20%5B-87.72267861499995%2C%2045.72285273600005%5D%2C%20%5B-87.72777303299995%2C%2045.722841437000056%5D%2C%20%5B-87.73286744399996%2C%2045.72282990100007%5D%2C%20%5B-87.73796186099997%2C%2045.722818145000076%5D%2C%20%5B-87.74309105799995%2C%2045.72284005600005%5D%2C%20%5B-87.74822025399999%2C%2045.722861745000046%5D%2C%20%5B-87.75334948899996%2C%2045.72288319200004%5D%2C%20%5B-87.75847876199998%2C%2045.722904407000044%5D%2C%20%5B-87.76359843799997%2C%2045.72289322100005%5D%2C%20%5B-87.76871810799997%2C%2045.72288180400005%5D%2C%20%5B-87.77383775699997%2C%2045.722870156000056%5D%2C%20%5B-87.77895743799996%2C%2045.72285827700006%5D%2C%20%5B-87.78407121799995%2C%2045.72284618500004%5D%2C%20%5B-87.78918500199995%2C%2045.722833853000054%5D%2C%20%5B-87.79429877999996%2C%2045.72282130100007%5D%2C%20%5B-87.79941261599998%2C%2045.722808507000025%5D%2C%20%5B-87.80458061499996%2C%2045.72280170500005%5D%2C%20%5B-87.80974864699994%2C%2045.722794657000065%5D%2C%20%5B-87.81491667299997%2C%2045.72278737400006%5D%2C%20%5B-87.81938987599995%2C%2045.72278087700005%5D%2C%20%5B-87.81937964799994%2C%2045.72640461000003%5D%2C%20%5B-87.81936939299999%2C%2045.73002414000007%5D%2C%20%5B-87.81935915499997%2C%2045.73364366000004%5D%2C%20%5B-87.81934889399997%2C%2045.73726317900008%5D%2C%20%5B-87.81947195199996%2C%2045.74084057400006%5D%2C%20%5B-87.81959501799997%2C%2045.74441796800005%5D%2C%20%5B-87.81971809099997%2C%2045.74799535100004%5D%2C%20%5B-87.81984119899994%2C%2045.751572743000054%5D%2C%20%5B-87.81989771499997%2C%2045.75157283600004%5D%2C%20%5B-87.82003529899998%2C%2045.75521992200004%5D%2C%20%5B-87.82017289199996%2C%2045.75886698900007%5D%2C%20%5B-87.82031050899997%2C%2045.762514073000034%5D%2C%20%5B-87.82044814899996%2C%2045.76616113800003%5D%2C%20%5B-87.82054210399997%2C%2045.76972605000003%5D%2C%20%5B-87.82063606299994%2C%2045.77329096200003%5D%2C%20%5B-87.82073003899995%2C%2045.776855873000045%5D%2C%20%5B-87.82082403199996%2C%2045.78042078300007%5D%2C%20%5B-87.82075172099997%2C%2045.78399651600006%5D%2C%20%5B-87.82067940599995%2C%2045.78757224800006%5D%2C%20%5B-87.82060708599994%2C%2045.79114798000006%5D%2C%20%5B-87.82053474899999%2C%2045.794723720000036%5D%2C%20%5B-87.82049951899995%2C%2045.798343490000036%5D%2C%20%5B-87.82046428799998%2C%2045.801963251000075%5D%2C%20%5B-87.82042905899993%2C%2045.80558301900004%5D%2C%20%5B-87.82039190199998%2C%2045.80939931300003%5D%5D%5D%5D%2C%20%22type%22%3A%20%22MultiPolygon%22%7D%2C%20%22properties%22%3A%20%7B%22CNTY_NAME%22%3A%20%22DICKINSON%22%2C%20%22CNTY_NUM%22%3A%20%2222%22%2C%20%22FID%22%3A%201149%2C%20%22Pos2015%22%3A%20null%2C%20%22Pos2016%22%3A%20null%2C%20%22Pos2017%22%3A%20null%2C%20%22Pos2018%22%3A%201%2C%20%22Pos2019%22%3A%20null%2C%20%22PosTotal%22%3A%201%2C%20%22RANGE%22%3A%20%2228W%22%2C%20%22SHAPE_Area%22%3A%200.010680927105792196%2C%20%22SHAPE_Length%22%3A%200.41946011237570946%2C%20%22TIER%22%3A%20%2239N%22%2C%20%22TR%22%3A%20%22T39N%2CR28W%22%2C%20%22Test2016%22%3A%2033%2C%20%22Test2017%22%3A%2084%2C%20%22Test2018%22%3A%20156%2C%20%22Test2019%22%3A%20162%2C%20%22TestTotal%22%3A%20435%2C%20%22Tests2015%22%3A%20null%7D%2C%20%22type%22%3A%20%22Feature%22%7D%2C%20%7B%22geometry%22%3A%20%7B%22coordinates%22%3A%20%5B%5B%5B%5B-84.49861233399997%2C%2042.85674954400008%5D%2C%20%5B-84.49369383499999%2C%2042.85660364700004%5D%2C%20%5B-84.48877530899995%2C%2042.85645754900003%5D%2C%20%5B-84.48385675699996%2C%2042.85631122900003%5D%2C%20%5B-84.48386444799996%2C%2042.85289508000005%5D%2C%20%5B-84.48387261499994%2C%2042.84927317900008%5D%2C%20%5B-84.48388077999994%2C%2042.84565125700004%5D%2C%20%5B-84.48388894399994%2C%2042.842029343000036%5D%2C%20%5B-84.48386890499995%2C%2042.83842315600003%5D%2C%20%5B-84.48384886699995%2C%2042.83481696800004%5D%2C%20%5B-84.48382883099998%2C%2042.83121078600004%5D%2C%20%5B-84.48380879699994%2C%2042.827604593000046%5D%2C%20%5B-84.48378122899999%2C%2042.82396404100007%5D%2C%20%5B-84.48375364999998%2C%2042.82032349600007%5D%2C%20%5B-84.48372607499994%2C%2042.81668292900008%5D%2C%20%5B-84.48369850199998%2C%2042.81304237000006%5D%2C%20%5B-84.48370642899994%2C%2042.80942101100004%5D%2C%20%5B-84.48371435499996%2C%2042.80579965000004%5D%2C%20%5B-84.48372229299997%2C%2042.80217828700006%5D%2C%20%5B-84.48373021599997%2C%2042.79855691200004%5D%2C%20%5B-84.48372132399999%2C%2042.794927320000056%5D%2C%20%5B-84.48371244499998%2C%2042.79129771600003%5D%2C%20%5B-84.48370356699996%2C%2042.78766812900005%5D%2C%20%5B-84.48369468999994%2C%2042.78403852000008%5D%2C%20%5B-84.48368765899994%2C%2042.780400661000044%5D%2C%20%5B-84.48368061699995%2C%2042.77676280000003%5D%2C%20%5B-84.48367358699994%2C%2042.773124954000025%5D%2C%20%5B-84.48366655299998%2C%2042.769486811000036%5D%2C%20%5B-84.48858915699998%2C%2042.76952306700008%5D%2C%20%5B-84.49351176699997%2C%2042.76955913900008%5D%2C%20%5B-84.49843436999998%2C%2042.76959499900005%5D%2C%20%5B-84.50335701699998%2C%2042.76963063900007%5D%2C%20%5B-84.50829676499995%2C%2042.769653521000066%5D%2C%20%5B-84.51323652999997%2C%2042.76967619100003%5D%2C%20%5B-84.51817629799996%2C%2042.76969865600006%5D%2C%20%5B-84.52311606899997%2C%2042.76972090000004%5D%2C%20%5B-84.52804079999999%2C%2042.76970566500006%5D%2C%20%5B-84.53296553999996%2C%2042.76969021800005%5D%2C%20%5B-84.53789026599998%2C%2042.76967455000005%5D%2C%20%5B-84.54281500099995%2C%2042.76965868000008%5D%2C%20%5B-84.54773614499999%2C%2042.769685356000025%5D%2C%20%5B-84.55265729299998%2C%2042.769711820000055%5D%2C%20%5B-84.55757844599998%2C%2042.76973807300004%5D%2C%20%5B-84.56249961499998%2C%2042.769764114000054%5D%2C%20%5B-84.567396%2C%2042.76975553800003%5D%2C%20%5B-84.57229239699996%2C%2042.76974674400003%5D%2C%20%5B-84.57718880399995%2C%2042.76973775000005%5D%2C%20%5B-84.58218210699994%2C%2042.76972833600007%5D%2C%20%5B-84.58709799899998%2C%2042.76976692200003%5D%2C%20%5B-84.59201388399998%2C%2042.76980529600007%5D%2C%20%5B-84.59692978799995%2C%2042.76984346000006%5D%2C%20%5B-84.60184568499994%2C%2042.769881403000056%5D%2C%20%5B-84.60279735999995%2C%2042.769888722000076%5D%2C%20%5B-84.60279545299994%2C%2042.773508450000065%5D%2C%20%5B-84.60279354599999%2C%2042.77712818400005%5D%2C%20%5B-84.60279165199995%2C%2042.78074789900006%5D%2C%20%5B-84.60278974499994%2C%2042.78436762000007%5D%2C%20%5B-84.60279066099997%2C%2042.78799091600007%5D%2C%20%5B-84.60279157599996%2C%2042.791614209000045%5D%2C%20%5B-84.60279247999995%2C%2042.79523750000004%5D%2C%20%5B-84.60279340899996%2C%2042.79886078900006%5D%2C%20%5B-84.60278690599995%2C%2042.802495115000056%5D%2C%20%5B-84.60278040399999%2C%2042.80612942100004%5D%2C%20%5B-84.60277390099998%2C%2042.80976373300007%5D%2C%20%5B-84.60276739699998%2C%2042.81339804300006%5D%2C%20%5B-84.60277197399995%2C%2042.81700755900005%5D%2C%20%5B-84.60277656499994%2C%2042.82061706500008%5D%2C%20%5B-84.60278115599993%2C%2042.82422656800003%5D%2C%20%5B-84.60278573599999%2C%2042.827836078000075%5D%2C%20%5B-84.60274370299999%2C%2042.83145256600005%5D%2C%20%5B-84.60270164099995%2C%2042.83506906100007%5D%2C%20%5B-84.60265958599996%2C%2042.83868555300006%5D%2C%20%5B-84.60261751299998%2C%2042.842302034000056%5D%2C%20%5B-84.60260895099998%2C%2042.84592396700003%5D%2C%20%5B-84.60260038799998%2C%2042.84954587900006%5D%2C%20%5B-84.60259181099997%2C%2042.853167807000034%5D%2C%20%5B-84.60258343199996%2C%2042.85671260600003%5D%2C%20%5B-84.59704567599994%2C%2042.85668789600004%5D%2C%20%5B-84.59212269299996%2C%2042.85666571000007%5D%2C%20%5B-84.58719971399995%2C%2042.856643322000025%5D%2C%20%5B-84.58232899499995%2C%2042.856620950000035%5D%2C%20%5B-84.58227677699995%2C%2042.85661530900006%5D%2C%20%5B-84.57736064299996%2C%2042.85660667600007%5D%2C%20%5B-84.57244450999997%2C%2042.85659783300008%5D%2C%20%5B-84.57238108099995%2C%2042.85659771600007%5D%2C%20%5B-84.56752837999994%2C%2042.85658876900004%5D%2C%20%5B-84.56743322299997%2C%2042.856588603000034%5D%2C%20%5B-84.56261223799999%2C%2042.85657951200005%5D%2C%20%5B-84.56248537%2C%2042.856579157000056%5D%2C%20%5B-84.55767900199999%2C%2042.85656987100003%5D%2C%20%5B-84.55758384599994%2C%2042.85656968700005%5D%2C%20%5B-84.55274577899996%2C%2042.85656012700008%5D%2C%20%5B-84.55268234899995%2C%2042.85656000900008%5D%2C%20%5B-84.54781255699999%2C%2042.85655017200003%5D%2C%20%5B-84.54287932399995%2C%2042.85654001200004%5D%2C%20%5B-84.53796065499995%2C%2042.85652824400006%5D%2C%20%5B-84.53304198899997%2C%2042.85651627500005%5D%2C%20%5B-84.52812331299998%2C%2042.85650408400005%5D%2C%20%5B-84.52320465099996%2C%2042.85649169100003%5D%2C%20%5B-84.51828631499995%2C%2042.85658641900005%5D%2C%20%5B-84.51336796499999%2C%2042.85668092700007%5D%2C%20%5B-84.50844958699997%2C%2042.85677524100004%5D%2C%20%5B-84.50353120799997%2C%2042.85686932600004%5D%2C%20%5B-84.49861233399997%2C%2042.85674954400008%5D%5D%5D%5D%2C%20%22type%22%3A%20%22MultiPolygon%22%7D%2C%20%22properties%22%3A%20%7B%22CNTY_NAME%22%3A%20%22CLINTON%22%2C%20%22CNTY_NUM%22%3A%20%2219%22%2C%20%22FID%22%3A%201219%2C%20%22Pos2015%22%3A%201%2C%20%22Pos2016%22%3A%20null%2C%20%22Pos2017%22%3A%20null%2C%20%22Pos2018%22%3A%20null%2C%20%22Pos2019%22%3A%20null%2C%20%22PosTotal%22%3A%201%2C%20%22RANGE%22%3A%20%2202W%22%2C%20%22SHAPE_Area%22%3A%200.010339645752426416%2C%20%22SHAPE_Length%22%3A%200.4115216241093902%2C%20%22TIER%22%3A%20%2205N%22%2C%20%22TR%22%3A%20%22T05N%2CR02W%22%2C%20%22Test2016%22%3A%20275%2C%20%22Test2017%22%3A%20247%2C%20%22Test2018%22%3A%20119%2C%20%22Test2019%22%3A%2093%2C%20%22TestTotal%22%3A%20914%2C%20%22Tests2015%22%3A%20180%7D%2C%20%22type%22%3A%20%22Feature%22%7D%2C%20%7B%22geometry%22%3A%20%7B%22coordinates%22%3A%20%5B%5B%5B%5B-84.60749002499995%2C%2042.856741433000025%5D%2C%20%5B-84.60258343199996%2C%2042.85671260600003%5D%2C%20%5B-84.60259181099997%2C%2042.853167807000034%5D%2C%20%5B-84.60260038799998%2C%2042.84954587900006%5D%2C%20%5B-84.60260895099998%2C%2042.84592396700003%5D%2C%20%5B-84.60261751299998%2C%2042.842302034000056%5D%2C%20%5B-84.60265958599996%2C%2042.83868555300006%5D%2C%20%5B-84.60270164099995%2C%2042.83506906100007%5D%2C%20%5B-84.60274370299999%2C%2042.83145256600005%5D%2C%20%5B-84.60278573599999%2C%2042.827836078000075%5D%2C%20%5B-84.60278115599993%2C%2042.82422656800003%5D%2C%20%5B-84.60277656499994%2C%2042.82061706500008%5D%2C%20%5B-84.60277197399995%2C%2042.81700755900005%5D%2C%20%5B-84.60276739699998%2C%2042.81339804300006%5D%2C%20%5B-84.60277390099998%2C%2042.80976373300007%5D%2C%20%5B-84.60278040399999%2C%2042.80612942100004%5D%2C%20%5B-84.60278690599995%2C%2042.802495115000056%5D%2C%20%5B-84.60279340899996%2C%2042.79886078900006%5D%2C%20%5B-84.60279247999995%2C%2042.79523750000004%5D%2C%20%5B-84.60279157599996%2C%2042.791614209000045%5D%2C%20%5B-84.60279066099997%2C%2042.78799091600007%5D%2C%20%5B-84.60278974499994%2C%2042.78436762000007%5D%2C%20%5B-84.60279165199995%2C%2042.78074789900006%5D%2C%20%5B-84.60279354599999%2C%2042.77712818400005%5D%2C%20%5B-84.60279545299994%2C%2042.773508450000065%5D%2C%20%5B-84.60279735999995%2C%2042.769888722000076%5D%2C%20%5B-84.60773059899998%2C%2042.769898185000045%5D%2C%20%5B-84.61266383999998%2C%2042.76990742700008%5D%2C%20%5B-84.61759708199997%2C%2042.76991644800006%5D%2C%20%5B-84.62253033699994%2C%2042.76992527400006%5D%2C%20%5B-84.62740803899999%2C%2042.76993328800006%5D%2C%20%5B-84.63228574099998%2C%2042.769941103000065%5D%2C%20%5B-84.63716345699999%2C%2042.76994870200008%5D%2C%20%5B-84.64204116199994%2C%2042.76995609200003%5D%2C%20%5B-84.64696068199999%2C%2042.769956929000045%5D%2C%20%5B-84.65188018999999%2C%2042.76995754500007%5D%2C%20%5B-84.65679969699994%2C%2042.76995795900007%5D%2C%20%5B-84.66171921699998%2C%2042.76995815200007%5D%2C%20%5B-84.66663871699996%2C%2042.769966397000076%5D%2C%20%5B-84.67155823099995%2C%2042.769974422000075%5D%2C%20%5B-84.67647774599999%2C%2042.76998223500004%5D%2C%20%5B-84.68139727299996%2C%2042.76998984700003%5D%2C%20%5B-84.68631218099995%2C%2042.769984640000075%5D%2C%20%5B-84.69122709999994%2C%2042.769979231000036%5D%2C%20%5B-84.69614201699994%2C%2042.76997360300004%5D%2C%20%5B-84.70105702799998%2C%2042.769967404000056%5D%2C%20%5B-84.70597115699996%2C%2042.77006956400004%5D%2C%20%5B-84.71088540199997%2C%2042.770171504000075%5D%2C%20%5B-84.71579967499997%2C%2042.77027324200003%5D%2C%20%5B-84.71983571299995%2C%2042.770356649000064%5D%2C%20%5B-84.71980014899998%2C%2042.773882377000064%5D%2C%20%5B-84.71979938799996%2C%2042.77395805000003%5D%2C%20%5B-84.71976458199998%2C%2042.777408112000046%5D%2C%20%5B-84.71976303399998%2C%2042.777559448000034%5D%2C%20%5B-84.71972899899998%2C%2042.78093384600004%5D%2C%20%5B-84.71972670099996%2C%2042.781160845000045%5D%2C%20%5B-84.71969341199997%2C%2042.784459577000064%5D%2C%20%5B-84.71968609499999%2C%2042.784762218000026%5D%2C%20%5B-84.71966850399997%2C%2042.788044454000044%5D%2C%20%5B-84.71966670699999%2C%2042.78838146600003%5D%2C%20%5B-84.71964930199994%2C%2042.79162933900005%5D%2C%20%5B-84.71964731699995%2C%2042.79200072100008%5D%2C%20%5B-84.71963008699998%2C%2042.795214212000076%5D%2C%20%5B-84.71962791299995%2C%2042.79561996500007%5D%2C%20%5B-84.71961088299997%2C%2042.79879909300007%5D%2C%20%5B-84.71963349099997%2C%2042.79923929100005%5D%2C%20%5B-84.71965367999996%2C%2042.802454074000025%5D%2C%20%5B-84.71965633899998%2C%2042.80287649200005%5D%2C%20%5B-84.71967665399995%2C%2042.80610912100008%5D%2C%20%5B-84.71967920199995%2C%2042.80651369100008%5D%2C%20%5B-84.71969963099997%2C%2042.80976416500005%5D%2C%20%5B-84.71970206699996%2C%2042.81015036300005%5D%2C%20%5B-84.71972261099995%2C%2042.813419217000046%5D%2C%20%5B-84.71978252899999%2C%2042.813787887000046%5D%2C%20%5B-84.71981511699994%2C%2042.817049637000025%5D%2C%20%5B-84.71981887199996%2C%2042.817425068000034%5D%2C%20%5B-84.71985140499999%2C%2042.82067958500005%5D%2C%20%5B-84.71985522099999%2C%2042.82106224700004%5D%2C%20%5B-84.71988767699997%2C%2042.82430992700006%5D%2C%20%5B-84.71989157399997%2C%2042.824699414000065%5D%2C%20%5B-84.71992396599995%2C%2042.82794026700003%5D%2C%20%5B-84.71995404699999%2C%2042.82833644600004%5D%2C%20%5B-84.71994880199998%2C%2042.831543027000066%5D%2C%20%5B-84.71994816599994%2C%2042.83192408800005%5D%2C%20%5B-84.71994290199996%2C%2042.83514576400006%5D%2C%20%5B-84.71994230999996%2C%2042.83551173800004%5D%2C%20%5B-84.71993701499997%2C%2042.83874849100005%5D%2C%20%5B-84.71993644099996%2C%2042.839099403000034%5D%2C%20%5B-84.71993111499995%2C%2042.842351224000026%5D%2C%20%5B-84.71991633899995%2C%2042.84268687600007%5D%2C%20%5B-84.71992987899995%2C%2042.84597574600008%5D%2C%20%5B-84.71993126199999%2C%2042.84630880800006%5D%2C%20%5B-84.71994479199998%2C%2042.84959769400007%5D%2C%20%5B-84.71994616399996%2C%2042.84993072700007%5D%2C%20%5B-84.71995971999996%2C%2042.85321963000007%5D%2C%20%5B-84.71996107899997%2C%2042.853552645000036%5D%2C%20%5B-84.71997580799996%2C%2042.85713081500006%5D%2C%20%5B-84.71560687299996%2C%2042.85710781100005%5D%2C%20%5B-84.71068388999998%2C%2042.85708169600008%5D%2C%20%5B-84.70576091099997%2C%2042.85705536000006%5D%2C%20%5B-84.70083793599997%2C%2042.85702882100003%5D%2C%20%5B-84.69595259499994%2C%2042.85702481000004%5D%2C%20%5B-84.69589653699995%2C%2042.857024755000054%5D%2C%20%5B-84.69106726699994%2C%2042.85702058100003%5D%2C%20%5B-84.690955%2C%2042.85702048300004%5D%2C%20%5B-84.68618191499996%2C%2042.85701614300007%5D%2C%20%5B-84.68601345099995%2C%2042.857015998000065%5D%2C%20%5B-84.68129657599997%2C%2042.85701150700004%5D%2C%20%5B-84.68107240499995%2C%2042.85695088800003%5D%2C%20%5B-84.67636859999999%2C%2042.856940888000054%5D%2C%20%5B-84.67616653399995%2C%2042.85694045900004%5D%2C%20%5B-84.67144018%2C%2042.856930211000076%5D%2C%20%5B-84.67126067699996%2C%2042.85692982000006%5D%2C%20%5B-84.66651174799995%2C%2042.85691932100008%5D%2C%20%5B-84.66635480899998%2C%2042.856918962000066%5D%2C%20%5B-84.66158339399999%2C%2042.856908212000064%5D%2C%20%5B-84.66144887799999%2C%2042.85691363800004%5D%2C%20%5B-84.65666815199995%2C%2042.85689189200008%5D%2C%20%5B-84.65656729899996%2C%2042.85689143600007%5D%2C%20%5B-84.65175294499994%2C%2042.85686933800008%5D%2C%20%5B-84.65168572299996%2C%2042.856869017000065%5D%2C%20%5B-84.64683775599997%2C%2042.85684655600005%5D%2C%20%5B-84.64680415099997%2C%2042.85684640800008%5D%2C%20%5B-84.64192256899997%2C%2042.85682357200005%5D%2C%20%5B-84.63703729299993%2C%2042.85682338300006%5D%2C%20%5B-84.63699438299994%2C%2042.85682338500004%5D%2C%20%5B-84.63215202899994%2C%2042.85682299400003%5D%2C%20%5B-84.63206618399994%2C%2042.856822978000025%5D%2C%20%5B-84.62726676499994%2C%2042.85682237900005%5D%2C%20%5B-84.62713799799997%2C%2042.856822358000045%5D%2C%20%5B-84.62238147599999%2C%2042.856821565000075%5D%2C%20%5B-84.62220980699999%2C%2042.85682668100003%5D%2C%20%5B-84.61743191299996%2C%2042.85679922700007%5D%2C%20%5B-84.61730319999998%2C%2042.85679848500007%5D%2C%20%5B-84.61248241899995%2C%2042.856770561000076%5D%2C%20%5B-84.61239660999996%2C%2042.85677006900005%5D%2C%20%5B-84.60753293%2C%2042.856741690000035%5D%2C%20%5B-84.60749002499995%2C%2042.856741433000025%5D%5D%5D%5D%2C%20%22type%22%3A%20%22MultiPolygon%22%7D%2C%20%22properties%22%3A%20%7B%22CNTY_NAME%22%3A%20%22CLINTON%22%2C%20%22CNTY_NUM%22%3A%20%2219%22%2C%20%22FID%22%3A%201220%2C%20%22Pos2015%22%3A%201%2C%20%22Pos2016%22%3A%201%2C%20%22Pos2017%22%3A%20null%2C%20%22Pos2018%22%3A%201%2C%20%22Pos2019%22%3A%20null%2C%20%22PosTotal%22%3A%203%2C%20%22RANGE%22%3A%20%2203W%22%2C%20%22SHAPE_Area%22%3A%200.010176333083303459%2C%20%22SHAPE_Length%22%3A%200.4080520868274553%2C%20%22TIER%22%3A%20%2205N%22%2C%20%22TR%22%3A%20%22T05N%2CR03W%22%2C%20%22Test2016%22%3A%20388%2C%20%22Test2017%22%3A%20329%2C%20%22Test2018%22%3A%20150%2C%20%22Test2019%22%3A%2093%2C%20%22TestTotal%22%3A%201030%2C%20%22Tests2015%22%3A%2070%7D%2C%20%22type%22%3A%20%22Feature%22%7D%2C%20%7B%22geometry%22%3A%20%7B%22coordinates%22%3A%20%5B%5B%5B%5B-84.71997580799996%2C%2042.85713081500006%5D%2C%20%5B-84.71996107899997%2C%2042.853552645000036%5D%2C%20%5B-84.71995971999996%2C%2042.85321963000007%5D%2C%20%5B-84.71994616399996%2C%2042.84993072700007%5D%2C%20%5B-84.71994479199998%2C%2042.84959769400007%5D%2C%20%5B-84.71993126199999%2C%2042.84630880800006%5D%2C%20%5B-84.71992987899995%2C%2042.84597574600008%5D%2C%20%5B-84.71991633899995%2C%2042.84268687600007%5D%2C%20%5B-84.71993111499995%2C%2042.842351224000026%5D%2C%20%5B-84.71993644099996%2C%2042.839099403000034%5D%2C%20%5B-84.71993701499997%2C%2042.83874849100005%5D%2C%20%5B-84.71994230999996%2C%2042.83551173800004%5D%2C%20%5B-84.71994290199996%2C%2042.83514576400006%5D%2C%20%5B-84.71994816599994%2C%2042.83192408800005%5D%2C%20%5B-84.71994880199998%2C%2042.831543027000066%5D%2C%20%5B-84.71995404699999%2C%2042.82833644600004%5D%2C%20%5B-84.71992396599995%2C%2042.82794026700003%5D%2C%20%5B-84.71989157399997%2C%2042.824699414000065%5D%2C%20%5B-84.71988767699997%2C%2042.82430992700006%5D%2C%20%5B-84.71985522099999%2C%2042.82106224700004%5D%2C%20%5B-84.71985140499999%2C%2042.82067958500005%5D%2C%20%5B-84.71981887199996%2C%2042.817425068000034%5D%2C%20%5B-84.71981511699994%2C%2042.817049637000025%5D%2C%20%5B-84.71978252899999%2C%2042.813787887000046%5D%2C%20%5B-84.71972261099995%2C%2042.813419217000046%5D%2C%20%5B-84.71970206699996%2C%2042.81015036300005%5D%2C%20%5B-84.71969963099997%2C%2042.80976416500005%5D%2C%20%5B-84.71967920199995%2C%2042.80651369100008%5D%2C%20%5B-84.71967665399995%2C%2042.80610912100008%5D%2C%20%5B-84.71965633899998%2C%2042.80287649200005%5D%2C%20%5B-84.71965367999996%2C%2042.802454074000025%5D%2C%20%5B-84.71963349099997%2C%2042.79923929100005%5D%2C%20%5B-84.71961088299997%2C%2042.79879909300007%5D%2C%20%5B-84.71962791299995%2C%2042.79561996500007%5D%2C%20%5B-84.71963008699998%2C%2042.795214212000076%5D%2C%20%5B-84.71964731699995%2C%2042.79200072100008%5D%2C%20%5B-84.71964930199994%2C%2042.79162933900005%5D%2C%20%5B-84.71966670699999%2C%2042.78838146600003%5D%2C%20%5B-84.71966850399997%2C%2042.788044454000044%5D%2C%20%5B-84.71968609499999%2C%2042.784762218000026%5D%2C%20%5B-84.71969341199997%2C%2042.784459577000064%5D%2C%20%5B-84.71972670099996%2C%2042.781160845000045%5D%2C%20%5B-84.71972899899998%2C%2042.78093384600004%5D%2C%20%5B-84.71976303399998%2C%2042.777559448000034%5D%2C%20%5B-84.71976458199998%2C%2042.777408112000046%5D%2C%20%5B-84.71979938799996%2C%2042.77395805000003%5D%2C%20%5B-84.71980014899998%2C%2042.773882377000064%5D%2C%20%5B-84.71983571299995%2C%2042.770356649000064%5D%2C%20%5B-84.72477765399998%2C%2042.77036651600008%5D%2C%20%5B-84.72971959599994%2C%2042.77037616200005%5D%2C%20%5B-84.73466152699996%2C%2042.77038560200003%5D%2C%20%5B-84.73960347099995%2C%2042.77039483000004%5D%2C%20%5B-84.74448843099998%2C%2042.77037077500006%5D%2C%20%5B-84.74937337399996%2C%2042.77034651200006%5D%2C%20%5B-84.75425830099994%2C%2042.77032202100003%5D%2C%20%5B-84.75914432499997%2C%2042.77029730700008%5D%2C%20%5B-84.76406811199996%2C%2042.770314608000035%5D%2C%20%5B-84.76899298899997%2C%2042.770331757000065%5D%2C%20%5B-84.77391786799996%2C%2042.770348683000066%5D%2C%20%5B-84.77884274999997%2C%2042.77036538900006%5D%2C%20%5B-84.78373987599997%2C%2042.77037215400003%5D%2C%20%5B-84.78863700799997%2C%2042.770377815000074%5D%2C%20%5B-84.79353412699999%2C%2042.77038326600007%5D%2C%20%5B-84.79843127199996%2C%2042.77038850800005%5D%2C%20%5B-84.80339107899994%2C%2042.77038733400008%5D%2C%20%5B-84.80835091499995%2C%2042.770386968000025%5D%2C%20%5B-84.81331073699994%2C%2042.77038639700004%5D%2C%20%5B-84.81827057099997%2C%2042.77038560200003%5D%2C%20%5B-84.82318658899999%2C%2042.77041684000005%5D%2C%20%5B-84.82810262399994%2C%2042.77044786700003%5D%2C%20%5B-84.83301864999999%2C%2042.77047868200003%5D%2C%20%5B-84.83711162999998%2C%2042.770504180000046%5D%2C%20%5B-84.83711578099997%2C%2042.774119935000044%5D%2C%20%5B-84.83711993399999%2C%2042.777735679000045%5D%2C%20%5B-84.83712408799994%2C%2042.78135142900004%5D%2C%20%5B-84.83712824299994%2C%2042.784967178000045%5D%2C%20%5B-84.83711938%2C%2042.78858608100006%5D%2C%20%5B-84.83711051599994%2C%2042.792204982000044%5D%2C%20%5B-84.83710163899997%2C%2042.79582388100005%5D%2C%20%5B-84.83709276199994%2C%2042.79944278700003%5D%2C%20%5B-84.83709880399994%2C%2042.803075911000064%5D%2C%20%5B-84.83710483399994%2C%2042.80670902400004%5D%2C%20%5B-84.83711086599999%2C%2042.81034213500004%5D%2C%20%5B-84.83711691199994%2C%2042.81397525300008%5D%2C%20%5B-84.83711548499997%2C%2042.81760424200007%5D%2C%20%5B-84.83711405899999%2C%2042.82123322900003%5D%2C%20%5B-84.83711263299995%2C%2042.824862223000025%5D%2C%20%5B-84.83711122099999%2C%2042.82849120700007%5D%2C%20%5B-84.83712097999995%2C%2042.832089944000074%5D%2C%20%5B-84.83713074199994%2C%2042.83568867100007%5D%2C%20%5B-84.83714051799996%2C%2042.83928740500005%5D%2C%20%5B-84.83715028299997%2C%2042.84288614500008%5D%2C%20%5B-84.83715806099997%2C%2042.84650807600008%5D%2C%20%5B-84.83716582799997%2C%2042.85013002300008%5D%2C%20%5B-84.83717360999998%2C%2042.85375195000006%5D%2C%20%5B-84.83718107899995%2C%2042.85723155200003%5D%2C%20%5B-84.83296791099997%2C%2042.85720850400003%5D%2C%20%5B-84.82804495599999%2C%2042.85718139000005%5D%2C%20%5B-84.82312200499996%2C%2042.85715405500008%5D%2C%20%5B-84.81819905699996%2C%2042.85712650700003%5D%2C%20%5B-84.81326412599998%2C%2042.857121206000045%5D%2C%20%5B-84.80832918299996%2C%2042.857115692000036%5D%2C%20%5B-84.80339426499995%2C%2042.857109956000045%5D%2C%20%5B-84.79845932299997%2C%2042.85710401600005%5D%2C%20%5B-84.79355241799999%2C%2042.85708743200007%5D%2C%20%5B-84.78864550199995%2C%2042.85707062800003%5D%2C%20%5B-84.78373858899994%2C%2042.85705361300006%5D%2C%20%5B-84.77899570399995%2C%2042.85703697500003%5D%2C%20%5B-84.77883168299996%2C%2042.857036092000044%5D%2C%20%5B-84.77393130099995%2C%2042.857049707000044%5D%2C%20%5B-84.77389403099994%2C%2042.85704981400005%5D%2C%20%5B-84.76903091699995%2C%2042.85706310200004%5D%2C%20%5B-84.76895637699994%2C%2042.857063303000075%5D%2C%20%5B-84.76413051799994%2C%2042.85707627800008%5D%2C%20%5B-84.76401871999997%2C%2042.85707658000007%5D%2C%20%5B-84.75923012799996%2C%2042.85708925300003%5D%2C%20%5B-84.75908107199996%2C%2042.857082938000076%5D%2C%20%5B-84.75434165399997%2C%2042.85713984400007%5D%2C%20%5B-84.75422932099997%2C%2042.85714118200008%5D%2C%20%5B-84.74945216499998%2C%2042.857191681000074%5D%2C%20%5B-84.74937759899996%2C%2042.85719245900003%5D%2C%20%5B-84.74456324599998%2C%2042.857197314000075%5D%2C%20%5B-84.74452592599994%2C%2042.85719735500004%5D%2C%20%5B-84.73967420199995%2C%2042.857202044000076%5D%2C%20%5B-84.73474959099997%2C%2042.85718454600004%5D%2C%20%5B-84.72982500599994%2C%2042.85716685400007%5D%2C%20%5B-84.72490039999997%2C%2042.85714893100004%5D%2C%20%5B-84.71997580799996%2C%2042.85713081500006%5D%5D%5D%5D%2C%20%22type%22%3A%20%22MultiPolygon%22%7D%2C%20%22properties%22%3A%20%7B%22CNTY_NAME%22%3A%20%22CLINTON%22%2C%20%22CNTY_NUM%22%3A%20%2219%22%2C%20%22FID%22%3A%201221%2C%20%22Pos2015%22%3A%20null%2C%20%22Pos2016%22%3A%201%2C%20%22Pos2017%22%3A%20null%2C%20%22Pos2018%22%3A%20null%2C%20%22Pos2019%22%3A%20null%2C%20%22PosTotal%22%3A%201%2C%20%22RANGE%22%3A%20%2204W%22%2C%20%22SHAPE_Area%22%3A%200.010177396435039582%2C%20%22SHAPE_Length%22%3A%200.4079940714437028%2C%20%22TIER%22%3A%20%2205N%22%2C%20%22TR%22%3A%20%22T05N%2CR04W%22%2C%20%22Test2016%22%3A%20247%2C%20%22Test2017%22%3A%20290%2C%20%22Test2018%22%3A%20148%2C%20%22Test2019%22%3A%2075%2C%20%22TestTotal%22%3A%20776%2C%20%22Tests2015%22%3A%2016%7D%2C%20%22type%22%3A%20%22Feature%22%7D%5D%2C%20%22name%22%3A%20%22Number_of_CWD_positive_deer_identified_per_township__2015_2019_%22%2C%20%22type%22%3A%20%22FeatureCollection%22%7D%29%3B%0A%0A%20%20%20%20%20%20%20%20%0A%3C/script%3E onload=\"this.contentDocument.open();this.contentDocument.write(    decodeURIComponent(this.getAttribute('data-html')));this.contentDocument.close();\" allowfullscreen webkitallowfullscreen mozallowfullscreen></iframe></div></div>"
     },
     "execution_count": 141,
     "metadata": {},
     "output_type": "execute_result"
    }
   ],
   "source": [
    "m = folium.Map(location=[42.963795, -85.670006], zoom_start=8)\n",
    "\n",
    "\n",
    "folium.GeoJson(open('geojson.json').read()).add_to(m)\n",
    "m\n"
   ],
   "metadata": {
    "collapsed": false,
    "pycharm": {
     "name": "#%% Loading geojson file\n"
    }
   }
  }
 ],
 "metadata": {
  "kernelspec": {
   "display_name": "Python 3",
   "language": "python",
   "name": "python3"
  },
  "language_info": {
   "codemirror_mode": {
    "name": "ipython",
    "version": 3
   },
   "file_extension": ".py",
   "mimetype": "text/x-python",
   "name": "python",
   "nbconvert_exporter": "python",
   "pygments_lexer": "ipython3",
   "version": "3.8.8"
  }
 },
 "nbformat": 4,
 "nbformat_minor": 4
}